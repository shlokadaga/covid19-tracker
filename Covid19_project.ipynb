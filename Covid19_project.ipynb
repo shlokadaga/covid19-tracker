{
 "cells": [
  {
   "cell_type": "markdown",
   "metadata": {},
   "source": [
    "# COVID-19 in INDIA"
   ]
  },
  {
   "cell_type": "markdown",
   "metadata": {},
   "source": [
    "Coronavirus disease (COVID-19) is an infectious disease caused by a newly discovered coronavirus.\n",
    "\n",
    "Most people infected with the COVID-19 virus will experience mild to moderate respiratory illness and recover without requiring special treatment.  Older people, and those with underlying medical problems like cardiovascular disease, diabetes, chronic respiratory disease, and cancer are more likely to develop serious illness.\n",
    "\n",
    "The best way to prevent and slow down transmission is be well informed about the COVID-19 virus, the disease it causes and how it spreads. Protect yourself and others from infection by washing your hands or using an alcohol based rub frequently and not touching your face. \n",
    "\n",
    "The COVID-19 virus spreads primarily through droplets of saliva or discharge from the nose when an infected person coughs or sneezes, so it’s important that you also practice respiratory etiquette (for example, by coughing into a flexed elbow)."
   ]
  },
  {
   "cell_type": "markdown",
   "metadata": {},
   "source": [
    "Firstly, I  have using python language to do the coding and the analysis for COVID-19\n",
    "1. pandas and numpy is used for dataframes, calculations and all.\n",
    "2. Libraries such as matplotlib, plotly is used for the visualization purpose.\n"
   ]
  },
  {
   "cell_type": "markdown",
   "metadata": {},
   "source": [
    "**Only the plotly output are shown in the covid19_project.pdf in the same repository, as plotly output is not supported in github.\n",
    "While the rest output and analysis are there in this jupyter notebook**"
   ]
  },
  {
   "cell_type": "markdown",
   "metadata": {},
   "source": [
    "To start-off the project, we need to import some necessary libraries which will be needed in our project"
   ]
  },
  {
   "cell_type": "code",
   "execution_count": 22,
   "metadata": {},
   "outputs": [
    {
     "data": {
      "text/plain": [
       "'4.9.0'"
      ]
     },
     "execution_count": 22,
     "metadata": {},
     "output_type": "execute_result"
    }
   ],
   "source": [
    "import pandas as pd\n",
    "import matplotlib.pyplot as plt\n",
    "import numpy as np\n",
    "from covid import Covid\n",
    "import plotly\n",
    "import plotly.graph_objects as go\n",
    "from plotly.subplots import make_subplots\n",
    "import plotly.express as px\n",
    "import datetime\n",
    "import seaborn as sns\n",
    "\n",
    "pd.set_option('display.width', 400)\n",
    "pd.set_option('display.max_columns', 30)\n",
    "pd.set_option('display.max_rows', 150)\n",
    "pd.set_option('display.max_columns', None)\n",
    "pd.set_option('display.width', None)\n",
    "plotly.__version__"
   ]
  },
  {
   "cell_type": "markdown",
   "metadata": {},
   "source": [
    "## COVID-19 Cases Date-wise"
   ]
  },
  {
   "cell_type": "markdown",
   "metadata": {},
   "source": [
    "Here, you can view the number of Confirmed, Recovered, Deceased, Active cases on each Day."
   ]
  },
  {
   "cell_type": "code",
   "execution_count": 24,
   "metadata": {
    "scrolled": true
   },
   "outputs": [
    {
     "name": "stdout",
     "output_type": "stream",
     "text": [
      "\n",
      "\n"
     ]
    },
    {
     "data": {
      "text/html": [
       "<div>\n",
       "<style scoped>\n",
       "    .dataframe tbody tr th:only-of-type {\n",
       "        vertical-align: middle;\n",
       "    }\n",
       "\n",
       "    .dataframe tbody tr th {\n",
       "        vertical-align: top;\n",
       "    }\n",
       "\n",
       "    .dataframe thead th {\n",
       "        text-align: right;\n",
       "    }\n",
       "</style>\n",
       "<table border=\"1\" class=\"dataframe\">\n",
       "  <thead>\n",
       "    <tr style=\"text-align: right;\">\n",
       "      <th></th>\n",
       "      <th>Date</th>\n",
       "      <th>Confirmed_Cases</th>\n",
       "      <th>Recovered_Cases</th>\n",
       "      <th>Deceased_Cases</th>\n",
       "      <th>Active_Cases</th>\n",
       "    </tr>\n",
       "  </thead>\n",
       "  <tbody>\n",
       "    <tr>\n",
       "      <th>0</th>\n",
       "      <td>30 January</td>\n",
       "      <td>1</td>\n",
       "      <td>0</td>\n",
       "      <td>0</td>\n",
       "      <td>1</td>\n",
       "    </tr>\n",
       "    <tr>\n",
       "      <th>1</th>\n",
       "      <td>31 January</td>\n",
       "      <td>0</td>\n",
       "      <td>0</td>\n",
       "      <td>0</td>\n",
       "      <td>0</td>\n",
       "    </tr>\n",
       "    <tr>\n",
       "      <th>2</th>\n",
       "      <td>01 February</td>\n",
       "      <td>0</td>\n",
       "      <td>0</td>\n",
       "      <td>0</td>\n",
       "      <td>0</td>\n",
       "    </tr>\n",
       "    <tr>\n",
       "      <th>3</th>\n",
       "      <td>02 February</td>\n",
       "      <td>1</td>\n",
       "      <td>0</td>\n",
       "      <td>0</td>\n",
       "      <td>1</td>\n",
       "    </tr>\n",
       "    <tr>\n",
       "      <th>4</th>\n",
       "      <td>03 February</td>\n",
       "      <td>1</td>\n",
       "      <td>0</td>\n",
       "      <td>0</td>\n",
       "      <td>1</td>\n",
       "    </tr>\n",
       "    <tr>\n",
       "      <th>...</th>\n",
       "      <td>...</td>\n",
       "      <td>...</td>\n",
       "      <td>...</td>\n",
       "      <td>...</td>\n",
       "      <td>...</td>\n",
       "    </tr>\n",
       "    <tr>\n",
       "      <th>209</th>\n",
       "      <td>26 August</td>\n",
       "      <td>75995</td>\n",
       "      <td>56191</td>\n",
       "      <td>1017</td>\n",
       "      <td>18787</td>\n",
       "    </tr>\n",
       "    <tr>\n",
       "      <th>210</th>\n",
       "      <td>27 August</td>\n",
       "      <td>76827</td>\n",
       "      <td>59620</td>\n",
       "      <td>1066</td>\n",
       "      <td>16141</td>\n",
       "    </tr>\n",
       "    <tr>\n",
       "      <th>211</th>\n",
       "      <td>28 August</td>\n",
       "      <td>76657</td>\n",
       "      <td>64475</td>\n",
       "      <td>1019</td>\n",
       "      <td>11163</td>\n",
       "    </tr>\n",
       "    <tr>\n",
       "      <th>212</th>\n",
       "      <td>29 August</td>\n",
       "      <td>78479</td>\n",
       "      <td>64982</td>\n",
       "      <td>943</td>\n",
       "      <td>12554</td>\n",
       "    </tr>\n",
       "    <tr>\n",
       "      <th>213</th>\n",
       "      <td>30 August</td>\n",
       "      <td>79461</td>\n",
       "      <td>60422</td>\n",
       "      <td>960</td>\n",
       "      <td>18079</td>\n",
       "    </tr>\n",
       "  </tbody>\n",
       "</table>\n",
       "<p>214 rows × 5 columns</p>\n",
       "</div>"
      ],
      "text/plain": [
       "             Date  Confirmed_Cases  Recovered_Cases  Deceased_Cases  \\\n",
       "0     30 January                 1                0               0   \n",
       "1     31 January                 0                0               0   \n",
       "2    01 February                 0                0               0   \n",
       "3    02 February                 1                0               0   \n",
       "4    03 February                 1                0               0   \n",
       "..            ...              ...              ...             ...   \n",
       "209    26 August             75995            56191            1017   \n",
       "210    27 August             76827            59620            1066   \n",
       "211    28 August             76657            64475            1019   \n",
       "212    29 August             78479            64982             943   \n",
       "213    30 August             79461            60422             960   \n",
       "\n",
       "     Active_Cases  \n",
       "0               1  \n",
       "1               0  \n",
       "2               0  \n",
       "3               1  \n",
       "4               1  \n",
       "..            ...  \n",
       "209         18787  \n",
       "210         16141  \n",
       "211         11163  \n",
       "212         12554  \n",
       "213         18079  \n",
       "\n",
       "[214 rows x 5 columns]"
      ]
     },
     "execution_count": 24,
     "metadata": {},
     "output_type": "execute_result"
    }
   ],
   "source": [
    "pd.options.display.float_format = '{:,.1f}'.format\n",
    "df=pd.read_csv('https://api.covid19india.org/csv/latest/case_time_series.csv')\n",
    "df.rename(columns={'Daily Confirmed':'Confirmed_Cases','Daily Recovered':'Recovered_Cases','Daily Deceased':'Deceased_Cases'},inplace=True)\n",
    "df['Active_Cases']=df['Confirmed_Cases']-(df['Recovered_Cases']+df['Deceased_Cases'])\n",
    "print('\\n')\n",
    "abc=df.iloc[:,[0,1,3,5,7]]\n",
    "abc"
   ]
  },
  {
   "cell_type": "markdown",
   "metadata": {},
   "source": [
    "## Daily COVID-19 Tracker (Graph 1)"
   ]
  },
  {
   "cell_type": "code",
   "execution_count": 26,
   "metadata": {},
   "outputs": [
    {
     "data": {
      "image/png": "[encoded data removed]",
      "text/plain": [
       "<Figure size 1440x864 with 1 Axes>"
      ]
     },
     "metadata": {},
     "output_type": "display_data"
    }
   ],
   "source": [
    "plt.style.use('ggplot')\n",
    "plt.figure(figsize=(20,12))\n",
    "df=df.tail(105)\n",
    "xdate = ['21 April', '4 May', '18 May', '1 June', '1 July']\n",
    "color1 = ['#B6B10D', '#32A8A4', '#298315', '#CF0FCC', '#B20B4D']\n",
    "lockdown = ['Lockdown-2', 'Lockdown-3', 'Lockdown-4', 'Lockdown-5', 'Lockdown-6']\n",
    "\n",
    "\n",
    "plt.plot(df.Date,df.Confirmed_Cases,linewidth=3,linestyle='-',marker='o',color='red',label='Confirmed Cases')\n",
    "plt.plot(df.Date, df.Recovered_Cases, linewidth=3,linestyle='-', marker='o', color='green',label='Recovered Cases')\n",
    "plt.plot(df.Date, df.Deceased_Cases,linewidth=3, linestyle='-', marker='o', color='black',label='Deceased Cases')\n",
    "plt.title('COVID-19 Tracker')\n",
    "\n",
    "\n",
    "\n",
    "plt.legend()\n",
    "plt.xlabel('Date')\n",
    "plt.ylabel('Number of Cases')\n",
    "plt.xticks(df.Date[::6])\n",
    "plt.legend(loc='upper left')\n",
    "plt.grid(True)\n",
    "\n",
    "plt.show()"
   ]
  },
  {
   "cell_type": "markdown",
   "metadata": {},
   "source": [
    "Here, you can see the COVID-19 Tracker for the last 3 and a half month in India"
   ]
  },
  {
   "cell_type": "code",
   "execution_count": 27,
   "metadata": {},
   "outputs": [
    {
     "data": {
      "application/vnd.plotly.v1+json": {
       "config": {
        "plotlyServerURL": "https://plot.ly"
       },
       "data": [
        {
         "name": "Active Cases",
         "type": "bar",
         "x": [
          "18 May ",
          "19 May ",
          "20 May ",
          "21 May ",
          "22 May ",
          "23 May ",
          "24 May ",
          "25 May ",
          "26 May ",
          "27 May ",
          "28 May ",
          "29 May ",
          "30 May ",
          "31 May ",
          "01 June ",
          "02 June ",
          "03 June ",
          "04 June ",
          "05 June ",
          "06 June ",
          "07 June ",
          "08 June ",
          "09 June ",
          "10 June ",
          "11 June ",
          "12 June ",
          "13 June ",
          "14 June ",
          "15 June ",
          "16 June ",
          "17 June ",
          "18 June ",
          "19 June ",
          "20 June ",
          "21 June ",
          "22 June ",
          "23 June ",
          "24 June ",
          "25 June ",
          "26 June ",
          "27 June ",
          "28 June ",
          "29 June ",
          "30 June ",
          "01 July ",
          "02 July ",
          "03 July ",
          "04 July ",
          "05 July ",
          "06 July ",
          "07 July ",
          "08 July ",
          "09 July ",
          "10 July ",
          "11 July ",
          "12 July ",
          "13 July ",
          "14 July ",
          "15 July ",
          "16 July ",
          "17 July ",
          "18 July ",
          "19 July ",
          "20 July ",
          "21 July ",
          "22 July ",
          "23 July ",
          "24 July ",
          "25 July ",
          "26 July ",
          "27 July ",
          "28 July ",
          "29 July ",
          "30 July ",
          "31 July ",
          "01 August ",
          "02 August ",
          "03 August ",
          "04 August ",
          "05 August ",
          "06 August ",
          "07 August ",
          "08 August ",
          "09 August ",
          "10 August ",
          "11 August ",
          "12 August ",
          "13 August ",
          "14 August ",
          "15 August ",
          "16 August ",
          "17 August ",
          "18 August ",
          "19 August ",
          "20 August ",
          "21 August ",
          "22 August ",
          "23 August ",
          "24 August ",
          "25 August ",
          "26 August ",
          "27 August ",
          "28 August ",
          "29 August ",
          "30 August "
         ],
         "xaxis": "x",
         "y": [
          2015,
          2976,
          2473,
          2744,
          3114,
          3949,
          3670,
          3252,
          2149,
          3624,
          3907,
          -3866,
          3856,
          3639,
          3640,
          4059,
          5641,
          5183,
          4416,
          4678,
          5430,
          3094,
          4075,
          4523,
          4697,
          3655,
          3638,
          3723,
          -1003,
          1856,
          5877,
          2745,
          5347,
          1636,
          5650,
          2369,
          4726,
          3355,
          3821,
          7628,
          5499,
          7595,
          4425,
          5185,
          6927,
          1570,
          7857,
          8661,
          7692,
          6712,
          5832,
          5561,
          5903,
          6953,
          7233,
          10408,
          9954,
          8353,
          11347,
          11921,
          16668,
          13285,
          16830,
          11907,
          10910,
          12596,
          14362,
          15611,
          12244,
          16716,
          11488,
          13174,
          18818,
          16759,
          20168,
          2895,
          11557,
          6612,
          -787,
          10124,
          11130,
          10132,
          12146,
          6630,
          4767,
          3956,
          8357,
          8359,
          7701,
          9918,
          -260,
          -4754,
          3470,
          8852,
          5664,
          5218,
          10048,
          4007,
          -7463,
          1656,
          18787,
          16141,
          11163,
          12554,
          18079
         ],
         "yaxis": "y"
        },
        {
         "name": "Confirmed Cases",
         "type": "bar",
         "x": [
          "18 May ",
          "19 May ",
          "20 May ",
          "21 May ",
          "22 May ",
          "23 May ",
          "24 May ",
          "25 May ",
          "26 May ",
          "27 May ",
          "28 May ",
          "29 May ",
          "30 May ",
          "31 May ",
          "01 June ",
          "02 June ",
          "03 June ",
          "04 June ",
          "05 June ",
          "06 June ",
          "07 June ",
          "08 June ",
          "09 June ",
          "10 June ",
          "11 June ",
          "12 June ",
          "13 June ",
          "14 June ",
          "15 June ",
          "16 June ",
          "17 June ",
          "18 June ",
          "19 June ",
          "20 June ",
          "21 June ",
          "22 June ",
          "23 June ",
          "24 June ",
          "25 June ",
          "26 June ",
          "27 June ",
          "28 June ",
          "29 June ",
          "30 June ",
          "01 July ",
          "02 July ",
          "03 July ",
          "04 July ",
          "05 July ",
          "06 July ",
          "07 July ",
          "08 July ",
          "09 July ",
          "10 July ",
          "11 July ",
          "12 July ",
          "13 July ",
          "14 July ",
          "15 July ",
          "16 July ",
          "17 July ",
          "18 July ",
          "19 July ",
          "20 July ",
          "21 July ",
          "22 July ",
          "23 July ",
          "24 July ",
          "25 July ",
          "26 July ",
          "27 July ",
          "28 July ",
          "29 July ",
          "30 July ",
          "31 July ",
          "01 August ",
          "02 August ",
          "03 August ",
          "04 August ",
          "05 August ",
          "06 August ",
          "07 August ",
          "08 August ",
          "09 August ",
          "10 August ",
          "11 August ",
          "12 August ",
          "13 August ",
          "14 August ",
          "15 August ",
          "16 August ",
          "17 August ",
          "18 August ",
          "19 August ",
          "20 August ",
          "21 August ",
          "22 August ",
          "23 August ",
          "24 August ",
          "25 August ",
          "26 August ",
          "27 August ",
          "28 August ",
          "29 August ",
          "30 August "
         ],
         "xaxis": "x2",
         "y": [
          4628,
          6154,
          5720,
          6023,
          6536,
          6667,
          7111,
          6414,
          5907,
          7246,
          7254,
          8138,
          8364,
          8789,
          7723,
          8812,
          9689,
          9847,
          9472,
          10408,
          10882,
          8536,
          9981,
          11156,
          11135,
          11306,
          12039,
          11405,
          10032,
          11086,
          13108,
          13829,
          14740,
          15918,
          15151,
          13560,
          15656,
          16868,
          18205,
          18255,
          20142,
          19610,
          18339,
          18256,
          19429,
          21947,
          22718,
          24018,
          23942,
          22500,
          23147,
          25561,
          25790,
          27762,
          27757,
          29106,
          28178,
          29917,
          32607,
          35468,
          34820,
          37411,
          40235,
          36806,
          39170,
          45601,
          48443,
          48888,
          50072,
          48932,
          46484,
          49631,
          52479,
          54968,
          57486,
          55117,
          52672,
          50488,
          51282,
          56626,
          62170,
          61455,
          65156,
          62117,
          53016,
          61252,
          67066,
          64141,
          65610,
          63986,
          58096,
          54298,
          65024,
          69196,
          68518,
          69029,
          70067,
          61749,
          59696,
          66873,
          75995,
          76827,
          76657,
          78479,
          79461
         ],
         "yaxis": "y2"
        },
        {
         "name": "Recovered Cases",
         "type": "bar",
         "x": [
          "18 May ",
          "19 May ",
          "20 May ",
          "21 May ",
          "22 May ",
          "23 May ",
          "24 May ",
          "25 May ",
          "26 May ",
          "27 May ",
          "28 May ",
          "29 May ",
          "30 May ",
          "31 May ",
          "01 June ",
          "02 June ",
          "03 June ",
          "04 June ",
          "05 June ",
          "06 June ",
          "07 June ",
          "08 June ",
          "09 June ",
          "10 June ",
          "11 June ",
          "12 June ",
          "13 June ",
          "14 June ",
          "15 June ",
          "16 June ",
          "17 June ",
          "18 June ",
          "19 June ",
          "20 June ",
          "21 June ",
          "22 June ",
          "23 June ",
          "24 June ",
          "25 June ",
          "26 June ",
          "27 June ",
          "28 June ",
          "29 June ",
          "30 June ",
          "01 July ",
          "02 July ",
          "03 July ",
          "04 July ",
          "05 July ",
          "06 July ",
          "07 July ",
          "08 July ",
          "09 July ",
          "10 July ",
          "11 July ",
          "12 July ",
          "13 July ",
          "14 July ",
          "15 July ",
          "16 July ",
          "17 July ",
          "18 July ",
          "19 July ",
          "20 July ",
          "21 July ",
          "22 July ",
          "23 July ",
          "24 July ",
          "25 July ",
          "26 July ",
          "27 July ",
          "28 July ",
          "29 July ",
          "30 July ",
          "31 July ",
          "01 August ",
          "02 August ",
          "03 August ",
          "04 August ",
          "05 August ",
          "06 August ",
          "07 August ",
          "08 August ",
          "09 August ",
          "10 August ",
          "11 August ",
          "12 August ",
          "13 August ",
          "14 August ",
          "15 August ",
          "16 August ",
          "17 August ",
          "18 August ",
          "19 August ",
          "20 August ",
          "21 August ",
          "22 August ",
          "23 August ",
          "24 August ",
          "25 August ",
          "26 August ",
          "27 August ",
          "28 August ",
          "29 August ",
          "30 August "
         ],
         "xaxis": "x3",
         "y": [
          2482,
          3032,
          3113,
          3131,
          3280,
          2576,
          3285,
          3012,
          3585,
          3434,
          3171,
          11735,
          4303,
          4928,
          3882,
          4531,
          3789,
          4390,
          4770,
          5433,
          5191,
          5171,
          5634,
          6275,
          6044,
          7263,
          8092,
          7358,
          10639,
          7226,
          6890,
          10741,
          9029,
          13974,
          9075,
          10879,
          10462,
          13089,
          13983,
          10246,
          14229,
          11631,
          13497,
          12565,
          12064,
          19999,
          14417,
          14746,
          15829,
          15315,
          16836,
          19508,
          19408,
          20289,
          19981,
          18198,
          17683,
          20977,
          20646,
          22867,
          17476,
          23583,
          22730,
          24303,
          27589,
          31875,
          33326,
          32514,
          37125,
          31512,
          34354,
          35683,
          32886,
          37425,
          36554,
          51368,
          40355,
          43070,
          51220,
          45583,
          50141,
          50387,
          52135,
          54474,
          47362,
          56461,
          57759,
          54776,
          56920,
          53116,
          57404,
          58172,
          60455,
          59365,
          61873,
          62858,
          59101,
          56896,
          66305,
          64151,
          56191,
          59620,
          64475,
          64982,
          60422
         ],
         "yaxis": "y3"
        },
        {
         "name": "Deceased Cases",
         "type": "bar",
         "x": [
          "18 May ",
          "19 May ",
          "20 May ",
          "21 May ",
          "22 May ",
          "23 May ",
          "24 May ",
          "25 May ",
          "26 May ",
          "27 May ",
          "28 May ",
          "29 May ",
          "30 May ",
          "31 May ",
          "01 June ",
          "02 June ",
          "03 June ",
          "04 June ",
          "05 June ",
          "06 June ",
          "07 June ",
          "08 June ",
          "09 June ",
          "10 June ",
          "11 June ",
          "12 June ",
          "13 June ",
          "14 June ",
          "15 June ",
          "16 June ",
          "17 June ",
          "18 June ",
          "19 June ",
          "20 June ",
          "21 June ",
          "22 June ",
          "23 June ",
          "24 June ",
          "25 June ",
          "26 June ",
          "27 June ",
          "28 June ",
          "29 June ",
          "30 June ",
          "01 July ",
          "02 July ",
          "03 July ",
          "04 July ",
          "05 July ",
          "06 July ",
          "07 July ",
          "08 July ",
          "09 July ",
          "10 July ",
          "11 July ",
          "12 July ",
          "13 July ",
          "14 July ",
          "15 July ",
          "16 July ",
          "17 July ",
          "18 July ",
          "19 July ",
          "20 July ",
          "21 July ",
          "22 July ",
          "23 July ",
          "24 July ",
          "25 July ",
          "26 July ",
          "27 July ",
          "28 July ",
          "29 July ",
          "30 July ",
          "31 July ",
          "01 August ",
          "02 August ",
          "03 August ",
          "04 August ",
          "05 August ",
          "06 August ",
          "07 August ",
          "08 August ",
          "09 August ",
          "10 August ",
          "11 August ",
          "12 August ",
          "13 August ",
          "14 August ",
          "15 August ",
          "16 August ",
          "17 August ",
          "18 August ",
          "19 August ",
          "20 August ",
          "21 August ",
          "22 August ",
          "23 August ",
          "24 August ",
          "25 August ",
          "26 August ",
          "27 August ",
          "28 August ",
          "29 August ",
          "30 August "
         ],
         "xaxis": "x4",
         "y": [
          131,
          146,
          134,
          148,
          142,
          142,
          156,
          150,
          173,
          188,
          176,
          269,
          205,
          222,
          201,
          222,
          259,
          274,
          286,
          297,
          261,
          271,
          272,
          358,
          394,
          388,
          309,
          324,
          396,
          2004,
          341,
          343,
          364,
          308,
          426,
          312,
          468,
          424,
          401,
          381,
          414,
          384,
          417,
          506,
          438,
          378,
          444,
          611,
          421,
          473,
          479,
          492,
          479,
          520,
          543,
          500,
          541,
          587,
          614,
          680,
          676,
          543,
          675,
          596,
          671,
          1130,
          755,
          763,
          703,
          704,
          642,
          774,
          775,
          784,
          764,
          854,
          760,
          806,
          849,
          919,
          899,
          936,
          875,
          1013,
          887,
          835,
          950,
          1006,
          989,
          952,
          952,
          880,
          1099,
          979,
          981,
          953,
          918,
          846,
          854,
          1066,
          1017,
          1066,
          1019,
          943,
          960
         ],
         "yaxis": "y4"
        }
       ],
       "layout": {
        "template": {
         "data": {
          "bar": [
           {
            "error_x": {
             "color": "#2a3f5f"
            },
            "error_y": {
             "color": "#2a3f5f"
            },
            "marker": {
             "line": {
              "color": "#E5ECF6",
              "width": 0.5
             }
            },
            "type": "bar"
           }
          ],
          "barpolar": [
           {
            "marker": {
             "line": {
              "color": "#E5ECF6",
              "width": 0.5
             }
            },
            "type": "barpolar"
           }
          ],
          "carpet": [
           {
            "aaxis": {
             "endlinecolor": "#2a3f5f",
             "gridcolor": "white",
             "linecolor": "white",
             "minorgridcolor": "white",
             "startlinecolor": "#2a3f5f"
            },
            "baxis": {
             "endlinecolor": "#2a3f5f",
             "gridcolor": "white",
             "linecolor": "white",
             "minorgridcolor": "white",
             "startlinecolor": "#2a3f5f"
            },
            "type": "carpet"
           }
          ],
          "choropleth": [
           {
            "colorbar": {
             "outlinewidth": 0,
             "ticks": ""
            },
            "type": "choropleth"
           }
          ],
          "contour": [
           {
            "colorbar": {
             "outlinewidth": 0,
             "ticks": ""
            },
            "colorscale": [
             [
              0,
              "#0d0887"
             ],
             [
              0.1111111111111111,
              "#46039f"
             ],
             [
              0.2222222222222222,
              "#7201a8"
             ],
             [
              0.3333333333333333,
              "#9c179e"
             ],
             [
              0.4444444444444444,
              "#bd3786"
             ],
             [
              0.5555555555555556,
              "#d8576b"
             ],
             [
              0.6666666666666666,
              "#ed7953"
             ],
             [
              0.7777777777777778,
              "#fb9f3a"
             ],
             [
              0.8888888888888888,
              "#fdca26"
             ],
             [
              1,
              "#f0f921"
             ]
            ],
            "type": "contour"
           }
          ],
          "contourcarpet": [
           {
            "colorbar": {
             "outlinewidth": 0,
             "ticks": ""
            },
            "type": "contourcarpet"
           }
          ],
          "heatmap": [
           {
            "colorbar": {
             "outlinewidth": 0,
             "ticks": ""
            },
            "colorscale": [
             [
              0,
              "#0d0887"
             ],
             [
              0.1111111111111111,
              "#46039f"
             ],
             [
              0.2222222222222222,
              "#7201a8"
             ],
             [
              0.3333333333333333,
              "#9c179e"
             ],
             [
              0.4444444444444444,
              "#bd3786"
             ],
             [
              0.5555555555555556,
              "#d8576b"
             ],
             [
              0.6666666666666666,
              "#ed7953"
             ],
             [
              0.7777777777777778,
              "#fb9f3a"
             ],
             [
              0.8888888888888888,
              "#fdca26"
             ],
             [
              1,
              "#f0f921"
             ]
            ],
            "type": "heatmap"
           }
          ],
          "heatmapgl": [
           {
            "colorbar": {
             "outlinewidth": 0,
             "ticks": ""
            },
            "colorscale": [
             [
              0,
              "#0d0887"
             ],
             [
              0.1111111111111111,
              "#46039f"
             ],
             [
              0.2222222222222222,
              "#7201a8"
             ],
             [
              0.3333333333333333,
              "#9c179e"
             ],
             [
              0.4444444444444444,
              "#bd3786"
             ],
             [
              0.5555555555555556,
              "#d8576b"
             ],
             [
              0.6666666666666666,
              "#ed7953"
             ],
             [
              0.7777777777777778,
              "#fb9f3a"
             ],
             [
              0.8888888888888888,
              "#fdca26"
             ],
             [
              1,
              "#f0f921"
             ]
            ],
            "type": "heatmapgl"
           }
          ],
          "histogram": [
           {
            "marker": {
             "colorbar": {
              "outlinewidth": 0,
              "ticks": ""
             }
            },
            "type": "histogram"
           }
          ],
          "histogram2d": [
           {
            "colorbar": {
             "outlinewidth": 0,
             "ticks": ""
            },
            "colorscale": [
             [
              0,
              "#0d0887"
             ],
             [
              0.1111111111111111,
              "#46039f"
             ],
             [
              0.2222222222222222,
              "#7201a8"
             ],
             [
              0.3333333333333333,
              "#9c179e"
             ],
             [
              0.4444444444444444,
              "#bd3786"
             ],
             [
              0.5555555555555556,
              "#d8576b"
             ],
             [
              0.6666666666666666,
              "#ed7953"
             ],
             [
              0.7777777777777778,
              "#fb9f3a"
             ],
             [
              0.8888888888888888,
              "#fdca26"
             ],
             [
              1,
              "#f0f921"
             ]
            ],
            "type": "histogram2d"
           }
          ],
          "histogram2dcontour": [
           {
            "colorbar": {
             "outlinewidth": 0,
             "ticks": ""
            },
            "colorscale": [
             [
              0,
              "#0d0887"
             ],
             [
              0.1111111111111111,
              "#46039f"
             ],
             [
              0.2222222222222222,
              "#7201a8"
             ],
             [
              0.3333333333333333,
              "#9c179e"
             ],
             [
              0.4444444444444444,
              "#bd3786"
             ],
             [
              0.5555555555555556,
              "#d8576b"
             ],
             [
              0.6666666666666666,
              "#ed7953"
             ],
             [
              0.7777777777777778,
              "#fb9f3a"
             ],
             [
              0.8888888888888888,
              "#fdca26"
             ],
             [
              1,
              "#f0f921"
             ]
            ],
            "type": "histogram2dcontour"
           }
          ],
          "mesh3d": [
           {
            "colorbar": {
             "outlinewidth": 0,
             "ticks": ""
            },
            "type": "mesh3d"
           }
          ],
          "parcoords": [
           {
            "line": {
             "colorbar": {
              "outlinewidth": 0,
              "ticks": ""
             }
            },
            "type": "parcoords"
           }
          ],
          "pie": [
           {
            "automargin": true,
            "type": "pie"
           }
          ],
          "scatter": [
           {
            "marker": {
             "colorbar": {
              "outlinewidth": 0,
              "ticks": ""
             }
            },
            "type": "scatter"
           }
          ],
          "scatter3d": [
           {
            "line": {
             "colorbar": {
              "outlinewidth": 0,
              "ticks": ""
             }
            },
            "marker": {
             "colorbar": {
              "outlinewidth": 0,
              "ticks": ""
             }
            },
            "type": "scatter3d"
           }
          ],
          "scattercarpet": [
           {
            "marker": {
             "colorbar": {
              "outlinewidth": 0,
              "ticks": ""
             }
            },
            "type": "scattercarpet"
           }
          ],
          "scattergeo": [
           {
            "marker": {
             "colorbar": {
              "outlinewidth": 0,
              "ticks": ""
             }
            },
            "type": "scattergeo"
           }
          ],
          "scattergl": [
           {
            "marker": {
             "colorbar": {
              "outlinewidth": 0,
              "ticks": ""
             }
            },
            "type": "scattergl"
           }
          ],
          "scattermapbox": [
           {
            "marker": {
             "colorbar": {
              "outlinewidth": 0,
              "ticks": ""
             }
            },
            "type": "scattermapbox"
           }
          ],
          "scatterpolar": [
           {
            "marker": {
             "colorbar": {
              "outlinewidth": 0,
              "ticks": ""
             }
            },
            "type": "scatterpolar"
           }
          ],
          "scatterpolargl": [
           {
            "marker": {
             "colorbar": {
              "outlinewidth": 0,
              "ticks": ""
             }
            },
            "type": "scatterpolargl"
           }
          ],
          "scatterternary": [
           {
            "marker": {
             "colorbar": {
              "outlinewidth": 0,
              "ticks": ""
             }
            },
            "type": "scatterternary"
           }
          ],
          "surface": [
           {
            "colorbar": {
             "outlinewidth": 0,
             "ticks": ""
            },
            "colorscale": [
             [
              0,
              "#0d0887"
             ],
             [
              0.1111111111111111,
              "#46039f"
             ],
             [
              0.2222222222222222,
              "#7201a8"
             ],
             [
              0.3333333333333333,
              "#9c179e"
             ],
             [
              0.4444444444444444,
              "#bd3786"
             ],
             [
              0.5555555555555556,
              "#d8576b"
             ],
             [
              0.6666666666666666,
              "#ed7953"
             ],
             [
              0.7777777777777778,
              "#fb9f3a"
             ],
             [
              0.8888888888888888,
              "#fdca26"
             ],
             [
              1,
              "#f0f921"
             ]
            ],
            "type": "surface"
           }
          ],
          "table": [
           {
            "cells": {
             "fill": {
              "color": "#EBF0F8"
             },
             "line": {
              "color": "white"
             }
            },
            "header": {
             "fill": {
              "color": "#C8D4E3"
             },
             "line": {
              "color": "white"
             }
            },
            "type": "table"
           }
          ]
         },
         "layout": {
          "annotationdefaults": {
           "arrowcolor": "#2a3f5f",
           "arrowhead": 0,
           "arrowwidth": 1
          },
          "coloraxis": {
           "colorbar": {
            "outlinewidth": 0,
            "ticks": ""
           }
          },
          "colorscale": {
           "diverging": [
            [
             0,
             "#8e0152"
            ],
            [
             0.1,
             "#c51b7d"
            ],
            [
             0.2,
             "#de77ae"
            ],
            [
             0.3,
             "#f1b6da"
            ],
            [
             0.4,
             "#fde0ef"
            ],
            [
             0.5,
             "#f7f7f7"
            ],
            [
             0.6,
             "#e6f5d0"
            ],
            [
             0.7,
             "#b8e186"
            ],
            [
             0.8,
             "#7fbc41"
            ],
            [
             0.9,
             "#4d9221"
            ],
            [
             1,
             "#276419"
            ]
           ],
           "sequential": [
            [
             0,
             "#0d0887"
            ],
            [
             0.1111111111111111,
             "#46039f"
            ],
            [
             0.2222222222222222,
             "#7201a8"
            ],
            [
             0.3333333333333333,
             "#9c179e"
            ],
            [
             0.4444444444444444,
             "#bd3786"
            ],
            [
             0.5555555555555556,
             "#d8576b"
            ],
            [
             0.6666666666666666,
             "#ed7953"
            ],
            [
             0.7777777777777778,
             "#fb9f3a"
            ],
            [
             0.8888888888888888,
             "#fdca26"
            ],
            [
             1,
             "#f0f921"
            ]
           ],
           "sequentialminus": [
            [
             0,
             "#0d0887"
            ],
            [
             0.1111111111111111,
             "#46039f"
            ],
            [
             0.2222222222222222,
             "#7201a8"
            ],
            [
             0.3333333333333333,
             "#9c179e"
            ],
            [
             0.4444444444444444,
             "#bd3786"
            ],
            [
             0.5555555555555556,
             "#d8576b"
            ],
            [
             0.6666666666666666,
             "#ed7953"
            ],
            [
             0.7777777777777778,
             "#fb9f3a"
            ],
            [
             0.8888888888888888,
             "#fdca26"
            ],
            [
             1,
             "#f0f921"
            ]
           ]
          },
          "colorway": [
           "#636efa",
           "#EF553B",
           "#00cc96",
           "#ab63fa",
           "#FFA15A",
           "#19d3f3",
           "#FF6692",
           "#B6E880",
           "#FF97FF",
           "#FECB52"
          ],
          "font": {
           "color": "#2a3f5f"
          },
          "geo": {
           "bgcolor": "white",
           "lakecolor": "white",
           "landcolor": "#E5ECF6",
           "showlakes": true,
           "showland": true,
           "subunitcolor": "white"
          },
          "hoverlabel": {
           "align": "left"
          },
          "hovermode": "closest",
          "mapbox": {
           "style": "light"
          },
          "paper_bgcolor": "white",
          "plot_bgcolor": "#E5ECF6",
          "polar": {
           "angularaxis": {
            "gridcolor": "white",
            "linecolor": "white",
            "ticks": ""
           },
           "bgcolor": "#E5ECF6",
           "radialaxis": {
            "gridcolor": "white",
            "linecolor": "white",
            "ticks": ""
           }
          },
          "scene": {
           "xaxis": {
            "backgroundcolor": "#E5ECF6",
            "gridcolor": "white",
            "gridwidth": 2,
            "linecolor": "white",
            "showbackground": true,
            "ticks": "",
            "zerolinecolor": "white"
           },
           "yaxis": {
            "backgroundcolor": "#E5ECF6",
            "gridcolor": "white",
            "gridwidth": 2,
            "linecolor": "white",
            "showbackground": true,
            "ticks": "",
            "zerolinecolor": "white"
           },
           "zaxis": {
            "backgroundcolor": "#E5ECF6",
            "gridcolor": "white",
            "gridwidth": 2,
            "linecolor": "white",
            "showbackground": true,
            "ticks": "",
            "zerolinecolor": "white"
           }
          },
          "shapedefaults": {
           "line": {
            "color": "#2a3f5f"
           }
          },
          "ternary": {
           "aaxis": {
            "gridcolor": "white",
            "linecolor": "white",
            "ticks": ""
           },
           "baxis": {
            "gridcolor": "white",
            "linecolor": "white",
            "ticks": ""
           },
           "bgcolor": "#E5ECF6",
           "caxis": {
            "gridcolor": "white",
            "linecolor": "white",
            "ticks": ""
           }
          },
          "title": {
           "x": 0.05
          },
          "xaxis": {
           "automargin": true,
           "gridcolor": "white",
           "linecolor": "white",
           "ticks": "",
           "title": {
            "standoff": 15
           },
           "zerolinecolor": "white",
           "zerolinewidth": 2
          },
          "yaxis": {
           "automargin": true,
           "gridcolor": "white",
           "linecolor": "white",
           "ticks": "",
           "title": {
            "standoff": 15
           },
           "zerolinecolor": "white",
           "zerolinewidth": 2
          }
         }
        },
        "title": {
         "text": "Daily COVID-19 Tracker"
        },
        "xaxis": {
         "anchor": "y",
         "domain": [
          0,
          0.45
         ],
         "matches": "x3",
         "showticklabels": false
        },
        "xaxis2": {
         "anchor": "y2",
         "domain": [
          0.55,
          1
         ],
         "matches": "x4",
         "showticklabels": false
        },
        "xaxis3": {
         "anchor": "y3",
         "domain": [
          0,
          0.45
         ]
        },
        "xaxis4": {
         "anchor": "y4",
         "domain": [
          0.55,
          1
         ]
        },
        "yaxis": {
         "anchor": "x",
         "domain": [
          0.575,
          1
         ]
        },
        "yaxis2": {
         "anchor": "x2",
         "domain": [
          0.575,
          1
         ]
        },
        "yaxis3": {
         "anchor": "x3",
         "domain": [
          0,
          0.425
         ]
        },
        "yaxis4": {
         "anchor": "x4",
         "domain": [
          0,
          0.425
         ]
        }
       }
      },
      "text/html": [
       "<div>\n",
       "        \n",
       "        \n",
       "            <div id=\"13123dc6-57db-4893-90de-19fc34fbc104\" class=\"plotly-graph-div\" style=\"height:525px; width:100%;\"></div>\n",
       "            <script type=\"text/javascript\">\n",
       "                require([\"plotly\"], function(Plotly) {\n",
       "                    window.PLOTLYENV=window.PLOTLYENV || {};\n",
       "                    \n",
       "                if (document.getElementById(\"13123dc6-57db-4893-90de-19fc34fbc104\")) {\n",
       "                    Plotly.newPlot(\n",
       "                        '13123dc6-57db-4893-90de-19fc34fbc104',\n",
       "                        [{\"name\": \"Active Cases\", \"type\": \"bar\", \"x\": [\"18 May \", \"19 May \", \"20 May \", \"21 May \", \"22 May \", \"23 May \", \"24 May \", \"25 May \", \"26 May \", \"27 May \", \"28 May \", \"29 May \", \"30 May \", \"31 May \", \"01 June \", \"02 June \", \"03 June \", \"04 June \", \"05 June \", \"06 June \", \"07 June \", \"08 June \", \"09 June \", \"10 June \", \"11 June \", \"12 June \", \"13 June \", \"14 June \", \"15 June \", \"16 June \", \"17 June \", \"18 June \", \"19 June \", \"20 June \", \"21 June \", \"22 June \", \"23 June \", \"24 June \", \"25 June \", \"26 June \", \"27 June \", \"28 June \", \"29 June \", \"30 June \", \"01 July \", \"02 July \", \"03 July \", \"04 July \", \"05 July \", \"06 July \", \"07 July \", \"08 July \", \"09 July \", \"10 July \", \"11 July \", \"12 July \", \"13 July \", \"14 July \", \"15 July \", \"16 July \", \"17 July \", \"18 July \", \"19 July \", \"20 July \", \"21 July \", \"22 July \", \"23 July \", \"24 July \", \"25 July \", \"26 July \", \"27 July \", \"28 July \", \"29 July \", \"30 July \", \"31 July \", \"01 August \", \"02 August \", \"03 August \", \"04 August \", \"05 August \", \"06 August \", \"07 August \", \"08 August \", \"09 August \", \"10 August \", \"11 August \", \"12 August \", \"13 August \", \"14 August \", \"15 August \", \"16 August \", \"17 August \", \"18 August \", \"19 August \", \"20 August \", \"21 August \", \"22 August \", \"23 August \", \"24 August \", \"25 August \", \"26 August \", \"27 August \", \"28 August \", \"29 August \", \"30 August \"], \"xaxis\": \"x\", \"y\": [2015, 2976, 2473, 2744, 3114, 3949, 3670, 3252, 2149, 3624, 3907, -3866, 3856, 3639, 3640, 4059, 5641, 5183, 4416, 4678, 5430, 3094, 4075, 4523, 4697, 3655, 3638, 3723, -1003, 1856, 5877, 2745, 5347, 1636, 5650, 2369, 4726, 3355, 3821, 7628, 5499, 7595, 4425, 5185, 6927, 1570, 7857, 8661, 7692, 6712, 5832, 5561, 5903, 6953, 7233, 10408, 9954, 8353, 11347, 11921, 16668, 13285, 16830, 11907, 10910, 12596, 14362, 15611, 12244, 16716, 11488, 13174, 18818, 16759, 20168, 2895, 11557, 6612, -787, 10124, 11130, 10132, 12146, 6630, 4767, 3956, 8357, 8359, 7701, 9918, -260, -4754, 3470, 8852, 5664, 5218, 10048, 4007, -7463, 1656, 18787, 16141, 11163, 12554, 18079], \"yaxis\": \"y\"}, {\"name\": \"Confirmed Cases\", \"type\": \"bar\", \"x\": [\"18 May \", \"19 May \", \"20 May \", \"21 May \", \"22 May \", \"23 May \", \"24 May \", \"25 May \", \"26 May \", \"27 May \", \"28 May \", \"29 May \", \"30 May \", \"31 May \", \"01 June \", \"02 June \", \"03 June \", \"04 June \", \"05 June \", \"06 June \", \"07 June \", \"08 June \", \"09 June \", \"10 June \", \"11 June \", \"12 June \", \"13 June \", \"14 June \", \"15 June \", \"16 June \", \"17 June \", \"18 June \", \"19 June \", \"20 June \", \"21 June \", \"22 June \", \"23 June \", \"24 June \", \"25 June \", \"26 June \", \"27 June \", \"28 June \", \"29 June \", \"30 June \", \"01 July \", \"02 July \", \"03 July \", \"04 July \", \"05 July \", \"06 July \", \"07 July \", \"08 July \", \"09 July \", \"10 July \", \"11 July \", \"12 July \", \"13 July \", \"14 July \", \"15 July \", \"16 July \", \"17 July \", \"18 July \", \"19 July \", \"20 July \", \"21 July \", \"22 July \", \"23 July \", \"24 July \", \"25 July \", \"26 July \", \"27 July \", \"28 July \", \"29 July \", \"30 July \", \"31 July \", \"01 August \", \"02 August \", \"03 August \", \"04 August \", \"05 August \", \"06 August \", \"07 August \", \"08 August \", \"09 August \", \"10 August \", \"11 August \", \"12 August \", \"13 August \", \"14 August \", \"15 August \", \"16 August \", \"17 August \", \"18 August \", \"19 August \", \"20 August \", \"21 August \", \"22 August \", \"23 August \", \"24 August \", \"25 August \", \"26 August \", \"27 August \", \"28 August \", \"29 August \", \"30 August \"], \"xaxis\": \"x2\", \"y\": [4628, 6154, 5720, 6023, 6536, 6667, 7111, 6414, 5907, 7246, 7254, 8138, 8364, 8789, 7723, 8812, 9689, 9847, 9472, 10408, 10882, 8536, 9981, 11156, 11135, 11306, 12039, 11405, 10032, 11086, 13108, 13829, 14740, 15918, 15151, 13560, 15656, 16868, 18205, 18255, 20142, 19610, 18339, 18256, 19429, 21947, 22718, 24018, 23942, 22500, 23147, 25561, 25790, 27762, 27757, 29106, 28178, 29917, 32607, 35468, 34820, 37411, 40235, 36806, 39170, 45601, 48443, 48888, 50072, 48932, 46484, 49631, 52479, 54968, 57486, 55117, 52672, 50488, 51282, 56626, 62170, 61455, 65156, 62117, 53016, 61252, 67066, 64141, 65610, 63986, 58096, 54298, 65024, 69196, 68518, 69029, 70067, 61749, 59696, 66873, 75995, 76827, 76657, 78479, 79461], \"yaxis\": \"y2\"}, {\"name\": \"Recovered Cases\", \"type\": \"bar\", \"x\": [\"18 May \", \"19 May \", \"20 May \", \"21 May \", \"22 May \", \"23 May \", \"24 May \", \"25 May \", \"26 May \", \"27 May \", \"28 May \", \"29 May \", \"30 May \", \"31 May \", \"01 June \", \"02 June \", \"03 June \", \"04 June \", \"05 June \", \"06 June \", \"07 June \", \"08 June \", \"09 June \", \"10 June \", \"11 June \", \"12 June \", \"13 June \", \"14 June \", \"15 June \", \"16 June \", \"17 June \", \"18 June \", \"19 June \", \"20 June \", \"21 June \", \"22 June \", \"23 June \", \"24 June \", \"25 June \", \"26 June \", \"27 June \", \"28 June \", \"29 June \", \"30 June \", \"01 July \", \"02 July \", \"03 July \", \"04 July \", \"05 July \", \"06 July \", \"07 July \", \"08 July \", \"09 July \", \"10 July \", \"11 July \", \"12 July \", \"13 July \", \"14 July \", \"15 July \", \"16 July \", \"17 July \", \"18 July \", \"19 July \", \"20 July \", \"21 July \", \"22 July \", \"23 July \", \"24 July \", \"25 July \", \"26 July \", \"27 July \", \"28 July \", \"29 July \", \"30 July \", \"31 July \", \"01 August \", \"02 August \", \"03 August \", \"04 August \", \"05 August \", \"06 August \", \"07 August \", \"08 August \", \"09 August \", \"10 August \", \"11 August \", \"12 August \", \"13 August \", \"14 August \", \"15 August \", \"16 August \", \"17 August \", \"18 August \", \"19 August \", \"20 August \", \"21 August \", \"22 August \", \"23 August \", \"24 August \", \"25 August \", \"26 August \", \"27 August \", \"28 August \", \"29 August \", \"30 August \"], \"xaxis\": \"x3\", \"y\": [2482, 3032, 3113, 3131, 3280, 2576, 3285, 3012, 3585, 3434, 3171, 11735, 4303, 4928, 3882, 4531, 3789, 4390, 4770, 5433, 5191, 5171, 5634, 6275, 6044, 7263, 8092, 7358, 10639, 7226, 6890, 10741, 9029, 13974, 9075, 10879, 10462, 13089, 13983, 10246, 14229, 11631, 13497, 12565, 12064, 19999, 14417, 14746, 15829, 15315, 16836, 19508, 19408, 20289, 19981, 18198, 17683, 20977, 20646, 22867, 17476, 23583, 22730, 24303, 27589, 31875, 33326, 32514, 37125, 31512, 34354, 35683, 32886, 37425, 36554, 51368, 40355, 43070, 51220, 45583, 50141, 50387, 52135, 54474, 47362, 56461, 57759, 54776, 56920, 53116, 57404, 58172, 60455, 59365, 61873, 62858, 59101, 56896, 66305, 64151, 56191, 59620, 64475, 64982, 60422], \"yaxis\": \"y3\"}, {\"name\": \"Deceased Cases\", \"type\": \"bar\", \"x\": [\"18 May \", \"19 May \", \"20 May \", \"21 May \", \"22 May \", \"23 May \", \"24 May \", \"25 May \", \"26 May \", \"27 May \", \"28 May \", \"29 May \", \"30 May \", \"31 May \", \"01 June \", \"02 June \", \"03 June \", \"04 June \", \"05 June \", \"06 June \", \"07 June \", \"08 June \", \"09 June \", \"10 June \", \"11 June \", \"12 June \", \"13 June \", \"14 June \", \"15 June \", \"16 June \", \"17 June \", \"18 June \", \"19 June \", \"20 June \", \"21 June \", \"22 June \", \"23 June \", \"24 June \", \"25 June \", \"26 June \", \"27 June \", \"28 June \", \"29 June \", \"30 June \", \"01 July \", \"02 July \", \"03 July \", \"04 July \", \"05 July \", \"06 July \", \"07 July \", \"08 July \", \"09 July \", \"10 July \", \"11 July \", \"12 July \", \"13 July \", \"14 July \", \"15 July \", \"16 July \", \"17 July \", \"18 July \", \"19 July \", \"20 July \", \"21 July \", \"22 July \", \"23 July \", \"24 July \", \"25 July \", \"26 July \", \"27 July \", \"28 July \", \"29 July \", \"30 July \", \"31 July \", \"01 August \", \"02 August \", \"03 August \", \"04 August \", \"05 August \", \"06 August \", \"07 August \", \"08 August \", \"09 August \", \"10 August \", \"11 August \", \"12 August \", \"13 August \", \"14 August \", \"15 August \", \"16 August \", \"17 August \", \"18 August \", \"19 August \", \"20 August \", \"21 August \", \"22 August \", \"23 August \", \"24 August \", \"25 August \", \"26 August \", \"27 August \", \"28 August \", \"29 August \", \"30 August \"], \"xaxis\": \"x4\", \"y\": [131, 146, 134, 148, 142, 142, 156, 150, 173, 188, 176, 269, 205, 222, 201, 222, 259, 274, 286, 297, 261, 271, 272, 358, 394, 388, 309, 324, 396, 2004, 341, 343, 364, 308, 426, 312, 468, 424, 401, 381, 414, 384, 417, 506, 438, 378, 444, 611, 421, 473, 479, 492, 479, 520, 543, 500, 541, 587, 614, 680, 676, 543, 675, 596, 671, 1130, 755, 763, 703, 704, 642, 774, 775, 784, 764, 854, 760, 806, 849, 919, 899, 936, 875, 1013, 887, 835, 950, 1006, 989, 952, 952, 880, 1099, 979, 981, 953, 918, 846, 854, 1066, 1017, 1066, 1019, 943, 960], \"yaxis\": \"y4\"}],\n",
       "                        {\"template\": {\"data\": {\"bar\": [{\"error_x\": {\"color\": \"#2a3f5f\"}, \"error_y\": {\"color\": \"#2a3f5f\"}, \"marker\": {\"line\": {\"color\": \"#E5ECF6\", \"width\": 0.5}}, \"type\": \"bar\"}], \"barpolar\": [{\"marker\": {\"line\": {\"color\": \"#E5ECF6\", \"width\": 0.5}}, \"type\": \"barpolar\"}], \"carpet\": [{\"aaxis\": {\"endlinecolor\": \"#2a3f5f\", \"gridcolor\": \"white\", \"linecolor\": \"white\", \"minorgridcolor\": \"white\", \"startlinecolor\": \"#2a3f5f\"}, \"baxis\": {\"endlinecolor\": \"#2a3f5f\", \"gridcolor\": \"white\", \"linecolor\": \"white\", \"minorgridcolor\": \"white\", \"startlinecolor\": \"#2a3f5f\"}, \"type\": \"carpet\"}], \"choropleth\": [{\"colorbar\": {\"outlinewidth\": 0, \"ticks\": \"\"}, \"type\": \"choropleth\"}], \"contour\": [{\"colorbar\": {\"outlinewidth\": 0, \"ticks\": \"\"}, \"colorscale\": [[0.0, \"#0d0887\"], [0.1111111111111111, \"#46039f\"], [0.2222222222222222, \"#7201a8\"], [0.3333333333333333, \"#9c179e\"], [0.4444444444444444, \"#bd3786\"], [0.5555555555555556, \"#d8576b\"], [0.6666666666666666, \"#ed7953\"], [0.7777777777777778, \"#fb9f3a\"], [0.8888888888888888, \"#fdca26\"], [1.0, \"#f0f921\"]], \"type\": \"contour\"}], \"contourcarpet\": [{\"colorbar\": {\"outlinewidth\": 0, \"ticks\": \"\"}, \"type\": \"contourcarpet\"}], \"heatmap\": [{\"colorbar\": {\"outlinewidth\": 0, \"ticks\": \"\"}, \"colorscale\": [[0.0, \"#0d0887\"], [0.1111111111111111, \"#46039f\"], [0.2222222222222222, \"#7201a8\"], [0.3333333333333333, \"#9c179e\"], [0.4444444444444444, \"#bd3786\"], [0.5555555555555556, \"#d8576b\"], [0.6666666666666666, \"#ed7953\"], [0.7777777777777778, \"#fb9f3a\"], [0.8888888888888888, \"#fdca26\"], [1.0, \"#f0f921\"]], \"type\": \"heatmap\"}], \"heatmapgl\": [{\"colorbar\": {\"outlinewidth\": 0, \"ticks\": \"\"}, \"colorscale\": [[0.0, \"#0d0887\"], [0.1111111111111111, \"#46039f\"], [0.2222222222222222, \"#7201a8\"], [0.3333333333333333, \"#9c179e\"], [0.4444444444444444, \"#bd3786\"], [0.5555555555555556, \"#d8576b\"], [0.6666666666666666, \"#ed7953\"], [0.7777777777777778, \"#fb9f3a\"], [0.8888888888888888, \"#fdca26\"], [1.0, \"#f0f921\"]], \"type\": \"heatmapgl\"}], \"histogram\": [{\"marker\": {\"colorbar\": {\"outlinewidth\": 0, \"ticks\": \"\"}}, \"type\": \"histogram\"}], \"histogram2d\": [{\"colorbar\": {\"outlinewidth\": 0, \"ticks\": \"\"}, \"colorscale\": [[0.0, \"#0d0887\"], [0.1111111111111111, \"#46039f\"], [0.2222222222222222, \"#7201a8\"], [0.3333333333333333, \"#9c179e\"], [0.4444444444444444, \"#bd3786\"], [0.5555555555555556, \"#d8576b\"], [0.6666666666666666, \"#ed7953\"], [0.7777777777777778, \"#fb9f3a\"], [0.8888888888888888, \"#fdca26\"], [1.0, \"#f0f921\"]], \"type\": \"histogram2d\"}], \"histogram2dcontour\": [{\"colorbar\": {\"outlinewidth\": 0, \"ticks\": \"\"}, \"colorscale\": [[0.0, \"#0d0887\"], [0.1111111111111111, \"#46039f\"], [0.2222222222222222, \"#7201a8\"], [0.3333333333333333, \"#9c179e\"], [0.4444444444444444, \"#bd3786\"], [0.5555555555555556, \"#d8576b\"], [0.6666666666666666, \"#ed7953\"], [0.7777777777777778, \"#fb9f3a\"], [0.8888888888888888, \"#fdca26\"], [1.0, \"#f0f921\"]], \"type\": \"histogram2dcontour\"}], \"mesh3d\": [{\"colorbar\": {\"outlinewidth\": 0, \"ticks\": \"\"}, \"type\": \"mesh3d\"}], \"parcoords\": [{\"line\": {\"colorbar\": {\"outlinewidth\": 0, \"ticks\": \"\"}}, \"type\": \"parcoords\"}], \"pie\": [{\"automargin\": true, \"type\": \"pie\"}], \"scatter\": [{\"marker\": {\"colorbar\": {\"outlinewidth\": 0, \"ticks\": \"\"}}, \"type\": \"scatter\"}], \"scatter3d\": [{\"line\": {\"colorbar\": {\"outlinewidth\": 0, \"ticks\": \"\"}}, \"marker\": {\"colorbar\": {\"outlinewidth\": 0, \"ticks\": \"\"}}, \"type\": \"scatter3d\"}], \"scattercarpet\": [{\"marker\": {\"colorbar\": {\"outlinewidth\": 0, \"ticks\": \"\"}}, \"type\": \"scattercarpet\"}], \"scattergeo\": [{\"marker\": {\"colorbar\": {\"outlinewidth\": 0, \"ticks\": \"\"}}, \"type\": \"scattergeo\"}], \"scattergl\": [{\"marker\": {\"colorbar\": {\"outlinewidth\": 0, \"ticks\": \"\"}}, \"type\": \"scattergl\"}], \"scattermapbox\": [{\"marker\": {\"colorbar\": {\"outlinewidth\": 0, \"ticks\": \"\"}}, \"type\": \"scattermapbox\"}], \"scatterpolar\": [{\"marker\": {\"colorbar\": {\"outlinewidth\": 0, \"ticks\": \"\"}}, \"type\": \"scatterpolar\"}], \"scatterpolargl\": [{\"marker\": {\"colorbar\": {\"outlinewidth\": 0, \"ticks\": \"\"}}, \"type\": \"scatterpolargl\"}], \"scatterternary\": [{\"marker\": {\"colorbar\": {\"outlinewidth\": 0, \"ticks\": \"\"}}, \"type\": \"scatterternary\"}], \"surface\": [{\"colorbar\": {\"outlinewidth\": 0, \"ticks\": \"\"}, \"colorscale\": [[0.0, \"#0d0887\"], [0.1111111111111111, \"#46039f\"], [0.2222222222222222, \"#7201a8\"], [0.3333333333333333, \"#9c179e\"], [0.4444444444444444, \"#bd3786\"], [0.5555555555555556, \"#d8576b\"], [0.6666666666666666, \"#ed7953\"], [0.7777777777777778, \"#fb9f3a\"], [0.8888888888888888, \"#fdca26\"], [1.0, \"#f0f921\"]], \"type\": \"surface\"}], \"table\": [{\"cells\": {\"fill\": {\"color\": \"#EBF0F8\"}, \"line\": {\"color\": \"white\"}}, \"header\": {\"fill\": {\"color\": \"#C8D4E3\"}, \"line\": {\"color\": \"white\"}}, \"type\": \"table\"}]}, \"layout\": {\"annotationdefaults\": {\"arrowcolor\": \"#2a3f5f\", \"arrowhead\": 0, \"arrowwidth\": 1}, \"coloraxis\": {\"colorbar\": {\"outlinewidth\": 0, \"ticks\": \"\"}}, \"colorscale\": {\"diverging\": [[0, \"#8e0152\"], [0.1, \"#c51b7d\"], [0.2, \"#de77ae\"], [0.3, \"#f1b6da\"], [0.4, \"#fde0ef\"], [0.5, \"#f7f7f7\"], [0.6, \"#e6f5d0\"], [0.7, \"#b8e186\"], [0.8, \"#7fbc41\"], [0.9, \"#4d9221\"], [1, \"#276419\"]], \"sequential\": [[0.0, \"#0d0887\"], [0.1111111111111111, \"#46039f\"], [0.2222222222222222, \"#7201a8\"], [0.3333333333333333, \"#9c179e\"], [0.4444444444444444, \"#bd3786\"], [0.5555555555555556, \"#d8576b\"], [0.6666666666666666, \"#ed7953\"], [0.7777777777777778, \"#fb9f3a\"], [0.8888888888888888, \"#fdca26\"], [1.0, \"#f0f921\"]], \"sequentialminus\": [[0.0, \"#0d0887\"], [0.1111111111111111, \"#46039f\"], [0.2222222222222222, \"#7201a8\"], [0.3333333333333333, \"#9c179e\"], [0.4444444444444444, \"#bd3786\"], [0.5555555555555556, \"#d8576b\"], [0.6666666666666666, \"#ed7953\"], [0.7777777777777778, \"#fb9f3a\"], [0.8888888888888888, \"#fdca26\"], [1.0, \"#f0f921\"]]}, \"colorway\": [\"#636efa\", \"#EF553B\", \"#00cc96\", \"#ab63fa\", \"#FFA15A\", \"#19d3f3\", \"#FF6692\", \"#B6E880\", \"#FF97FF\", \"#FECB52\"], \"font\": {\"color\": \"#2a3f5f\"}, \"geo\": {\"bgcolor\": \"white\", \"lakecolor\": \"white\", \"landcolor\": \"#E5ECF6\", \"showlakes\": true, \"showland\": true, \"subunitcolor\": \"white\"}, \"hoverlabel\": {\"align\": \"left\"}, \"hovermode\": \"closest\", \"mapbox\": {\"style\": \"light\"}, \"paper_bgcolor\": \"white\", \"plot_bgcolor\": \"#E5ECF6\", \"polar\": {\"angularaxis\": {\"gridcolor\": \"white\", \"linecolor\": \"white\", \"ticks\": \"\"}, \"bgcolor\": \"#E5ECF6\", \"radialaxis\": {\"gridcolor\": \"white\", \"linecolor\": \"white\", \"ticks\": \"\"}}, \"scene\": {\"xaxis\": {\"backgroundcolor\": \"#E5ECF6\", \"gridcolor\": \"white\", \"gridwidth\": 2, \"linecolor\": \"white\", \"showbackground\": true, \"ticks\": \"\", \"zerolinecolor\": \"white\"}, \"yaxis\": {\"backgroundcolor\": \"#E5ECF6\", \"gridcolor\": \"white\", \"gridwidth\": 2, \"linecolor\": \"white\", \"showbackground\": true, \"ticks\": \"\", \"zerolinecolor\": \"white\"}, \"zaxis\": {\"backgroundcolor\": \"#E5ECF6\", \"gridcolor\": \"white\", \"gridwidth\": 2, \"linecolor\": \"white\", \"showbackground\": true, \"ticks\": \"\", \"zerolinecolor\": \"white\"}}, \"shapedefaults\": {\"line\": {\"color\": \"#2a3f5f\"}}, \"ternary\": {\"aaxis\": {\"gridcolor\": \"white\", \"linecolor\": \"white\", \"ticks\": \"\"}, \"baxis\": {\"gridcolor\": \"white\", \"linecolor\": \"white\", \"ticks\": \"\"}, \"bgcolor\": \"#E5ECF6\", \"caxis\": {\"gridcolor\": \"white\", \"linecolor\": \"white\", \"ticks\": \"\"}}, \"title\": {\"x\": 0.05}, \"xaxis\": {\"automargin\": true, \"gridcolor\": \"white\", \"linecolor\": \"white\", \"ticks\": \"\", \"title\": {\"standoff\": 15}, \"zerolinecolor\": \"white\", \"zerolinewidth\": 2}, \"yaxis\": {\"automargin\": true, \"gridcolor\": \"white\", \"linecolor\": \"white\", \"ticks\": \"\", \"title\": {\"standoff\": 15}, \"zerolinecolor\": \"white\", \"zerolinewidth\": 2}}}, \"title\": {\"text\": \"Daily COVID-19 Tracker\"}, \"xaxis\": {\"anchor\": \"y\", \"domain\": [0.0, 0.45], \"matches\": \"x3\", \"showticklabels\": false}, \"xaxis2\": {\"anchor\": \"y2\", \"domain\": [0.55, 1.0], \"matches\": \"x4\", \"showticklabels\": false}, \"xaxis3\": {\"anchor\": \"y3\", \"domain\": [0.0, 0.45]}, \"xaxis4\": {\"anchor\": \"y4\", \"domain\": [0.55, 1.0]}, \"yaxis\": {\"anchor\": \"x\", \"domain\": [0.575, 1.0]}, \"yaxis2\": {\"anchor\": \"x2\", \"domain\": [0.575, 1.0]}, \"yaxis3\": {\"anchor\": \"x3\", \"domain\": [0.0, 0.425]}, \"yaxis4\": {\"anchor\": \"x4\", \"domain\": [0.0, 0.425]}},\n",
       "                        {\"responsive\": true}\n",
       "                    ).then(function(){\n",
       "                            \n",
       "var gd = document.getElementById('13123dc6-57db-4893-90de-19fc34fbc104');\n",
       "var x = new MutationObserver(function (mutations, observer) {{\n",
       "        var display = window.getComputedStyle(gd).display;\n",
       "        if (!display || display === 'none') {{\n",
       "            console.log([gd, 'removed!']);\n",
       "            Plotly.purge(gd);\n",
       "            observer.disconnect();\n",
       "        }}\n",
       "}});\n",
       "\n",
       "// Listen for the removal of the full notebook cells\n",
       "var notebookContainer = gd.closest('#notebook-container');\n",
       "if (notebookContainer) {{\n",
       "    x.observe(notebookContainer, {childList: true});\n",
       "}}\n",
       "\n",
       "// Listen for the clearing of the current output cell\n",
       "var outputEl = gd.closest('.output');\n",
       "if (outputEl) {{\n",
       "    x.observe(outputEl, {childList: true});\n",
       "}}\n",
       "\n",
       "                        })\n",
       "                };\n",
       "                });\n",
       "            </script>\n",
       "        </div>"
      ]
     },
     "metadata": {},
     "output_type": "display_data"
    }
   ],
   "source": [
    "df=df.tail(105)\n",
    "fig=make_subplots(rows=2,cols=2,shared_xaxes=True)\n",
    "\n",
    "data1=go.Bar(x=df['Date'],y=df['Confirmed_Cases'],name='Confirmed Cases')\n",
    "data2=go.Bar(x=df['Date'],y=df['Recovered_Cases'],name='Recovered Cases')\n",
    "data3=go.Bar(x=df['Date'],y=df['Active_Cases'],name='Active Cases')\n",
    "data4=go.Bar(x=df['Date'],y=df['Deceased_Cases'],name='Deceased Cases')\n",
    "\n",
    "fig.add_trace(data3, 1, 1)\n",
    "fig.add_trace(data1, 1, 2)\n",
    "fig.add_trace(data2, 2, 1)\n",
    "fig.add_trace(data4, 2, 2)\n",
    "fig.update_layout(title_text='Daily COVID-19 Tracker')\n",
    "fig.show()"
   ]
  },
  {
   "cell_type": "markdown",
   "metadata": {},
   "source": [
    "#### The output is shown in the covid19_project.pdf as the plotly output is not supported in github"
   ]
  },
  {
   "cell_type": "markdown",
   "metadata": {},
   "source": [
    "## COVID-19 Tracker (Graph 2)"
   ]
  },
  {
   "cell_type": "markdown",
   "metadata": {},
   "source": [
    "The below graph is a scatter plot along with lines which comprises of daily cases in India. This graph helps to properly track the number of cases which makes it easy to find when the cases were high or low. It also tells the case trend in India. "
   ]
  },
  {
   "cell_type": "code",
   "execution_count": 28,
   "metadata": {},
   "outputs": [
    {
     "data": {
      "application/vnd.plotly.v1+json": {
       "config": {
        "plotlyServerURL": "https://plot.ly"
       },
       "data": [
        {
         "mode": "markers+lines",
         "name": "Deceased Cases",
         "type": "scatter",
         "x": [
          "18 May ",
          "19 May ",
          "20 May ",
          "21 May ",
          "22 May ",
          "23 May ",
          "24 May ",
          "25 May ",
          "26 May ",
          "27 May ",
          "28 May ",
          "29 May ",
          "30 May ",
          "31 May ",
          "01 June ",
          "02 June ",
          "03 June ",
          "04 June ",
          "05 June ",
          "06 June ",
          "07 June ",
          "08 June ",
          "09 June ",
          "10 June ",
          "11 June ",
          "12 June ",
          "13 June ",
          "14 June ",
          "15 June ",
          "16 June ",
          "17 June ",
          "18 June ",
          "19 June ",
          "20 June ",
          "21 June ",
          "22 June ",
          "23 June ",
          "24 June ",
          "25 June ",
          "26 June ",
          "27 June ",
          "28 June ",
          "29 June ",
          "30 June ",
          "01 July ",
          "02 July ",
          "03 July ",
          "04 July ",
          "05 July ",
          "06 July ",
          "07 July ",
          "08 July ",
          "09 July ",
          "10 July ",
          "11 July ",
          "12 July ",
          "13 July ",
          "14 July ",
          "15 July ",
          "16 July ",
          "17 July ",
          "18 July ",
          "19 July ",
          "20 July ",
          "21 July ",
          "22 July ",
          "23 July ",
          "24 July ",
          "25 July ",
          "26 July ",
          "27 July ",
          "28 July ",
          "29 July ",
          "30 July ",
          "31 July ",
          "01 August ",
          "02 August ",
          "03 August ",
          "04 August ",
          "05 August ",
          "06 August ",
          "07 August ",
          "08 August ",
          "09 August ",
          "10 August ",
          "11 August ",
          "12 August ",
          "13 August ",
          "14 August ",
          "15 August ",
          "16 August ",
          "17 August ",
          "18 August ",
          "19 August ",
          "20 August ",
          "21 August ",
          "22 August ",
          "23 August ",
          "24 August ",
          "25 August ",
          "26 August ",
          "27 August ",
          "28 August ",
          "29 August ",
          "30 August "
         ],
         "y": [
          131,
          146,
          134,
          148,
          142,
          142,
          156,
          150,
          173,
          188,
          176,
          269,
          205,
          222,
          201,
          222,
          259,
          274,
          286,
          297,
          261,
          271,
          272,
          358,
          394,
          388,
          309,
          324,
          396,
          2004,
          341,
          343,
          364,
          308,
          426,
          312,
          468,
          424,
          401,
          381,
          414,
          384,
          417,
          506,
          438,
          378,
          444,
          611,
          421,
          473,
          479,
          492,
          479,
          520,
          543,
          500,
          541,
          587,
          614,
          680,
          676,
          543,
          675,
          596,
          671,
          1130,
          755,
          763,
          703,
          704,
          642,
          774,
          775,
          784,
          764,
          854,
          760,
          806,
          849,
          919,
          899,
          936,
          875,
          1013,
          887,
          835,
          950,
          1006,
          989,
          952,
          952,
          880,
          1099,
          979,
          981,
          953,
          918,
          846,
          854,
          1066,
          1017,
          1066,
          1019,
          943,
          960
         ]
        },
        {
         "mode": "markers+lines",
         "name": "Confirmed Cases",
         "type": "scatter",
         "x": [
          "18 May ",
          "19 May ",
          "20 May ",
          "21 May ",
          "22 May ",
          "23 May ",
          "24 May ",
          "25 May ",
          "26 May ",
          "27 May ",
          "28 May ",
          "29 May ",
          "30 May ",
          "31 May ",
          "01 June ",
          "02 June ",
          "03 June ",
          "04 June ",
          "05 June ",
          "06 June ",
          "07 June ",
          "08 June ",
          "09 June ",
          "10 June ",
          "11 June ",
          "12 June ",
          "13 June ",
          "14 June ",
          "15 June ",
          "16 June ",
          "17 June ",
          "18 June ",
          "19 June ",
          "20 June ",
          "21 June ",
          "22 June ",
          "23 June ",
          "24 June ",
          "25 June ",
          "26 June ",
          "27 June ",
          "28 June ",
          "29 June ",
          "30 June ",
          "01 July ",
          "02 July ",
          "03 July ",
          "04 July ",
          "05 July ",
          "06 July ",
          "07 July ",
          "08 July ",
          "09 July ",
          "10 July ",
          "11 July ",
          "12 July ",
          "13 July ",
          "14 July ",
          "15 July ",
          "16 July ",
          "17 July ",
          "18 July ",
          "19 July ",
          "20 July ",
          "21 July ",
          "22 July ",
          "23 July ",
          "24 July ",
          "25 July ",
          "26 July ",
          "27 July ",
          "28 July ",
          "29 July ",
          "30 July ",
          "31 July ",
          "01 August ",
          "02 August ",
          "03 August ",
          "04 August ",
          "05 August ",
          "06 August ",
          "07 August ",
          "08 August ",
          "09 August ",
          "10 August ",
          "11 August ",
          "12 August ",
          "13 August ",
          "14 August ",
          "15 August ",
          "16 August ",
          "17 August ",
          "18 August ",
          "19 August ",
          "20 August ",
          "21 August ",
          "22 August ",
          "23 August ",
          "24 August ",
          "25 August ",
          "26 August ",
          "27 August ",
          "28 August ",
          "29 August ",
          "30 August "
         ],
         "y": [
          4628,
          6154,
          5720,
          6023,
          6536,
          6667,
          7111,
          6414,
          5907,
          7246,
          7254,
          8138,
          8364,
          8789,
          7723,
          8812,
          9689,
          9847,
          9472,
          10408,
          10882,
          8536,
          9981,
          11156,
          11135,
          11306,
          12039,
          11405,
          10032,
          11086,
          13108,
          13829,
          14740,
          15918,
          15151,
          13560,
          15656,
          16868,
          18205,
          18255,
          20142,
          19610,
          18339,
          18256,
          19429,
          21947,
          22718,
          24018,
          23942,
          22500,
          23147,
          25561,
          25790,
          27762,
          27757,
          29106,
          28178,
          29917,
          32607,
          35468,
          34820,
          37411,
          40235,
          36806,
          39170,
          45601,
          48443,
          48888,
          50072,
          48932,
          46484,
          49631,
          52479,
          54968,
          57486,
          55117,
          52672,
          50488,
          51282,
          56626,
          62170,
          61455,
          65156,
          62117,
          53016,
          61252,
          67066,
          64141,
          65610,
          63986,
          58096,
          54298,
          65024,
          69196,
          68518,
          69029,
          70067,
          61749,
          59696,
          66873,
          75995,
          76827,
          76657,
          78479,
          79461
         ]
        },
        {
         "mode": "markers+lines",
         "name": "Recovered Cases",
         "type": "scatter",
         "x": [
          "18 May ",
          "19 May ",
          "20 May ",
          "21 May ",
          "22 May ",
          "23 May ",
          "24 May ",
          "25 May ",
          "26 May ",
          "27 May ",
          "28 May ",
          "29 May ",
          "30 May ",
          "31 May ",
          "01 June ",
          "02 June ",
          "03 June ",
          "04 June ",
          "05 June ",
          "06 June ",
          "07 June ",
          "08 June ",
          "09 June ",
          "10 June ",
          "11 June ",
          "12 June ",
          "13 June ",
          "14 June ",
          "15 June ",
          "16 June ",
          "17 June ",
          "18 June ",
          "19 June ",
          "20 June ",
          "21 June ",
          "22 June ",
          "23 June ",
          "24 June ",
          "25 June ",
          "26 June ",
          "27 June ",
          "28 June ",
          "29 June ",
          "30 June ",
          "01 July ",
          "02 July ",
          "03 July ",
          "04 July ",
          "05 July ",
          "06 July ",
          "07 July ",
          "08 July ",
          "09 July ",
          "10 July ",
          "11 July ",
          "12 July ",
          "13 July ",
          "14 July ",
          "15 July ",
          "16 July ",
          "17 July ",
          "18 July ",
          "19 July ",
          "20 July ",
          "21 July ",
          "22 July ",
          "23 July ",
          "24 July ",
          "25 July ",
          "26 July ",
          "27 July ",
          "28 July ",
          "29 July ",
          "30 July ",
          "31 July ",
          "01 August ",
          "02 August ",
          "03 August ",
          "04 August ",
          "05 August ",
          "06 August ",
          "07 August ",
          "08 August ",
          "09 August ",
          "10 August ",
          "11 August ",
          "12 August ",
          "13 August ",
          "14 August ",
          "15 August ",
          "16 August ",
          "17 August ",
          "18 August ",
          "19 August ",
          "20 August ",
          "21 August ",
          "22 August ",
          "23 August ",
          "24 August ",
          "25 August ",
          "26 August ",
          "27 August ",
          "28 August ",
          "29 August ",
          "30 August "
         ],
         "y": [
          2482,
          3032,
          3113,
          3131,
          3280,
          2576,
          3285,
          3012,
          3585,
          3434,
          3171,
          11735,
          4303,
          4928,
          3882,
          4531,
          3789,
          4390,
          4770,
          5433,
          5191,
          5171,
          5634,
          6275,
          6044,
          7263,
          8092,
          7358,
          10639,
          7226,
          6890,
          10741,
          9029,
          13974,
          9075,
          10879,
          10462,
          13089,
          13983,
          10246,
          14229,
          11631,
          13497,
          12565,
          12064,
          19999,
          14417,
          14746,
          15829,
          15315,
          16836,
          19508,
          19408,
          20289,
          19981,
          18198,
          17683,
          20977,
          20646,
          22867,
          17476,
          23583,
          22730,
          24303,
          27589,
          31875,
          33326,
          32514,
          37125,
          31512,
          34354,
          35683,
          32886,
          37425,
          36554,
          51368,
          40355,
          43070,
          51220,
          45583,
          50141,
          50387,
          52135,
          54474,
          47362,
          56461,
          57759,
          54776,
          56920,
          53116,
          57404,
          58172,
          60455,
          59365,
          61873,
          62858,
          59101,
          56896,
          66305,
          64151,
          56191,
          59620,
          64475,
          64982,
          60422
         ]
        }
       ],
       "layout": {
        "template": {
         "data": {
          "bar": [
           {
            "error_x": {
             "color": "#2a3f5f"
            },
            "error_y": {
             "color": "#2a3f5f"
            },
            "marker": {
             "line": {
              "color": "#E5ECF6",
              "width": 0.5
             }
            },
            "type": "bar"
           }
          ],
          "barpolar": [
           {
            "marker": {
             "line": {
              "color": "#E5ECF6",
              "width": 0.5
             }
            },
            "type": "barpolar"
           }
          ],
          "carpet": [
           {
            "aaxis": {
             "endlinecolor": "#2a3f5f",
             "gridcolor": "white",
             "linecolor": "white",
             "minorgridcolor": "white",
             "startlinecolor": "#2a3f5f"
            },
            "baxis": {
             "endlinecolor": "#2a3f5f",
             "gridcolor": "white",
             "linecolor": "white",
             "minorgridcolor": "white",
             "startlinecolor": "#2a3f5f"
            },
            "type": "carpet"
           }
          ],
          "choropleth": [
           {
            "colorbar": {
             "outlinewidth": 0,
             "ticks": ""
            },
            "type": "choropleth"
           }
          ],
          "contour": [
           {
            "colorbar": {
             "outlinewidth": 0,
             "ticks": ""
            },
            "colorscale": [
             [
              0,
              "#0d0887"
             ],
             [
              0.1111111111111111,
              "#46039f"
             ],
             [
              0.2222222222222222,
              "#7201a8"
             ],
             [
              0.3333333333333333,
              "#9c179e"
             ],
             [
              0.4444444444444444,
              "#bd3786"
             ],
             [
              0.5555555555555556,
              "#d8576b"
             ],
             [
              0.6666666666666666,
              "#ed7953"
             ],
             [
              0.7777777777777778,
              "#fb9f3a"
             ],
             [
              0.8888888888888888,
              "#fdca26"
             ],
             [
              1,
              "#f0f921"
             ]
            ],
            "type": "contour"
           }
          ],
          "contourcarpet": [
           {
            "colorbar": {
             "outlinewidth": 0,
             "ticks": ""
            },
            "type": "contourcarpet"
           }
          ],
          "heatmap": [
           {
            "colorbar": {
             "outlinewidth": 0,
             "ticks": ""
            },
            "colorscale": [
             [
              0,
              "#0d0887"
             ],
             [
              0.1111111111111111,
              "#46039f"
             ],
             [
              0.2222222222222222,
              "#7201a8"
             ],
             [
              0.3333333333333333,
              "#9c179e"
             ],
             [
              0.4444444444444444,
              "#bd3786"
             ],
             [
              0.5555555555555556,
              "#d8576b"
             ],
             [
              0.6666666666666666,
              "#ed7953"
             ],
             [
              0.7777777777777778,
              "#fb9f3a"
             ],
             [
              0.8888888888888888,
              "#fdca26"
             ],
             [
              1,
              "#f0f921"
             ]
            ],
            "type": "heatmap"
           }
          ],
          "heatmapgl": [
           {
            "colorbar": {
             "outlinewidth": 0,
             "ticks": ""
            },
            "colorscale": [
             [
              0,
              "#0d0887"
             ],
             [
              0.1111111111111111,
              "#46039f"
             ],
             [
              0.2222222222222222,
              "#7201a8"
             ],
             [
              0.3333333333333333,
              "#9c179e"
             ],
             [
              0.4444444444444444,
              "#bd3786"
             ],
             [
              0.5555555555555556,
              "#d8576b"
             ],
             [
              0.6666666666666666,
              "#ed7953"
             ],
             [
              0.7777777777777778,
              "#fb9f3a"
             ],
             [
              0.8888888888888888,
              "#fdca26"
             ],
             [
              1,
              "#f0f921"
             ]
            ],
            "type": "heatmapgl"
           }
          ],
          "histogram": [
           {
            "marker": {
             "colorbar": {
              "outlinewidth": 0,
              "ticks": ""
             }
            },
            "type": "histogram"
           }
          ],
          "histogram2d": [
           {
            "colorbar": {
             "outlinewidth": 0,
             "ticks": ""
            },
            "colorscale": [
             [
              0,
              "#0d0887"
             ],
             [
              0.1111111111111111,
              "#46039f"
             ],
             [
              0.2222222222222222,
              "#7201a8"
             ],
             [
              0.3333333333333333,
              "#9c179e"
             ],
             [
              0.4444444444444444,
              "#bd3786"
             ],
             [
              0.5555555555555556,
              "#d8576b"
             ],
             [
              0.6666666666666666,
              "#ed7953"
             ],
             [
              0.7777777777777778,
              "#fb9f3a"
             ],
             [
              0.8888888888888888,
              "#fdca26"
             ],
             [
              1,
              "#f0f921"
             ]
            ],
            "type": "histogram2d"
           }
          ],
          "histogram2dcontour": [
           {
            "colorbar": {
             "outlinewidth": 0,
             "ticks": ""
            },
            "colorscale": [
             [
              0,
              "#0d0887"
             ],
             [
              0.1111111111111111,
              "#46039f"
             ],
             [
              0.2222222222222222,
              "#7201a8"
             ],
             [
              0.3333333333333333,
              "#9c179e"
             ],
             [
              0.4444444444444444,
              "#bd3786"
             ],
             [
              0.5555555555555556,
              "#d8576b"
             ],
             [
              0.6666666666666666,
              "#ed7953"
             ],
             [
              0.7777777777777778,
              "#fb9f3a"
             ],
             [
              0.8888888888888888,
              "#fdca26"
             ],
             [
              1,
              "#f0f921"
             ]
            ],
            "type": "histogram2dcontour"
           }
          ],
          "mesh3d": [
           {
            "colorbar": {
             "outlinewidth": 0,
             "ticks": ""
            },
            "type": "mesh3d"
           }
          ],
          "parcoords": [
           {
            "line": {
             "colorbar": {
              "outlinewidth": 0,
              "ticks": ""
             }
            },
            "type": "parcoords"
           }
          ],
          "pie": [
           {
            "automargin": true,
            "type": "pie"
           }
          ],
          "scatter": [
           {
            "marker": {
             "colorbar": {
              "outlinewidth": 0,
              "ticks": ""
             }
            },
            "type": "scatter"
           }
          ],
          "scatter3d": [
           {
            "line": {
             "colorbar": {
              "outlinewidth": 0,
              "ticks": ""
             }
            },
            "marker": {
             "colorbar": {
              "outlinewidth": 0,
              "ticks": ""
             }
            },
            "type": "scatter3d"
           }
          ],
          "scattercarpet": [
           {
            "marker": {
             "colorbar": {
              "outlinewidth": 0,
              "ticks": ""
             }
            },
            "type": "scattercarpet"
           }
          ],
          "scattergeo": [
           {
            "marker": {
             "colorbar": {
              "outlinewidth": 0,
              "ticks": ""
             }
            },
            "type": "scattergeo"
           }
          ],
          "scattergl": [
           {
            "marker": {
             "colorbar": {
              "outlinewidth": 0,
              "ticks": ""
             }
            },
            "type": "scattergl"
           }
          ],
          "scattermapbox": [
           {
            "marker": {
             "colorbar": {
              "outlinewidth": 0,
              "ticks": ""
             }
            },
            "type": "scattermapbox"
           }
          ],
          "scatterpolar": [
           {
            "marker": {
             "colorbar": {
              "outlinewidth": 0,
              "ticks": ""
             }
            },
            "type": "scatterpolar"
           }
          ],
          "scatterpolargl": [
           {
            "marker": {
             "colorbar": {
              "outlinewidth": 0,
              "ticks": ""
             }
            },
            "type": "scatterpolargl"
           }
          ],
          "scatterternary": [
           {
            "marker": {
             "colorbar": {
              "outlinewidth": 0,
              "ticks": ""
             }
            },
            "type": "scatterternary"
           }
          ],
          "surface": [
           {
            "colorbar": {
             "outlinewidth": 0,
             "ticks": ""
            },
            "colorscale": [
             [
              0,
              "#0d0887"
             ],
             [
              0.1111111111111111,
              "#46039f"
             ],
             [
              0.2222222222222222,
              "#7201a8"
             ],
             [
              0.3333333333333333,
              "#9c179e"
             ],
             [
              0.4444444444444444,
              "#bd3786"
             ],
             [
              0.5555555555555556,
              "#d8576b"
             ],
             [
              0.6666666666666666,
              "#ed7953"
             ],
             [
              0.7777777777777778,
              "#fb9f3a"
             ],
             [
              0.8888888888888888,
              "#fdca26"
             ],
             [
              1,
              "#f0f921"
             ]
            ],
            "type": "surface"
           }
          ],
          "table": [
           {
            "cells": {
             "fill": {
              "color": "#EBF0F8"
             },
             "line": {
              "color": "white"
             }
            },
            "header": {
             "fill": {
              "color": "#C8D4E3"
             },
             "line": {
              "color": "white"
             }
            },
            "type": "table"
           }
          ]
         },
         "layout": {
          "annotationdefaults": {
           "arrowcolor": "#2a3f5f",
           "arrowhead": 0,
           "arrowwidth": 1
          },
          "coloraxis": {
           "colorbar": {
            "outlinewidth": 0,
            "ticks": ""
           }
          },
          "colorscale": {
           "diverging": [
            [
             0,
             "#8e0152"
            ],
            [
             0.1,
             "#c51b7d"
            ],
            [
             0.2,
             "#de77ae"
            ],
            [
             0.3,
             "#f1b6da"
            ],
            [
             0.4,
             "#fde0ef"
            ],
            [
             0.5,
             "#f7f7f7"
            ],
            [
             0.6,
             "#e6f5d0"
            ],
            [
             0.7,
             "#b8e186"
            ],
            [
             0.8,
             "#7fbc41"
            ],
            [
             0.9,
             "#4d9221"
            ],
            [
             1,
             "#276419"
            ]
           ],
           "sequential": [
            [
             0,
             "#0d0887"
            ],
            [
             0.1111111111111111,
             "#46039f"
            ],
            [
             0.2222222222222222,
             "#7201a8"
            ],
            [
             0.3333333333333333,
             "#9c179e"
            ],
            [
             0.4444444444444444,
             "#bd3786"
            ],
            [
             0.5555555555555556,
             "#d8576b"
            ],
            [
             0.6666666666666666,
             "#ed7953"
            ],
            [
             0.7777777777777778,
             "#fb9f3a"
            ],
            [
             0.8888888888888888,
             "#fdca26"
            ],
            [
             1,
             "#f0f921"
            ]
           ],
           "sequentialminus": [
            [
             0,
             "#0d0887"
            ],
            [
             0.1111111111111111,
             "#46039f"
            ],
            [
             0.2222222222222222,
             "#7201a8"
            ],
            [
             0.3333333333333333,
             "#9c179e"
            ],
            [
             0.4444444444444444,
             "#bd3786"
            ],
            [
             0.5555555555555556,
             "#d8576b"
            ],
            [
             0.6666666666666666,
             "#ed7953"
            ],
            [
             0.7777777777777778,
             "#fb9f3a"
            ],
            [
             0.8888888888888888,
             "#fdca26"
            ],
            [
             1,
             "#f0f921"
            ]
           ]
          },
          "colorway": [
           "#636efa",
           "#EF553B",
           "#00cc96",
           "#ab63fa",
           "#FFA15A",
           "#19d3f3",
           "#FF6692",
           "#B6E880",
           "#FF97FF",
           "#FECB52"
          ],
          "font": {
           "color": "#2a3f5f"
          },
          "geo": {
           "bgcolor": "white",
           "lakecolor": "white",
           "landcolor": "#E5ECF6",
           "showlakes": true,
           "showland": true,
           "subunitcolor": "white"
          },
          "hoverlabel": {
           "align": "left"
          },
          "hovermode": "closest",
          "mapbox": {
           "style": "light"
          },
          "paper_bgcolor": "white",
          "plot_bgcolor": "#E5ECF6",
          "polar": {
           "angularaxis": {
            "gridcolor": "white",
            "linecolor": "white",
            "ticks": ""
           },
           "bgcolor": "#E5ECF6",
           "radialaxis": {
            "gridcolor": "white",
            "linecolor": "white",
            "ticks": ""
           }
          },
          "scene": {
           "xaxis": {
            "backgroundcolor": "#E5ECF6",
            "gridcolor": "white",
            "gridwidth": 2,
            "linecolor": "white",
            "showbackground": true,
            "ticks": "",
            "zerolinecolor": "white"
           },
           "yaxis": {
            "backgroundcolor": "#E5ECF6",
            "gridcolor": "white",
            "gridwidth": 2,
            "linecolor": "white",
            "showbackground": true,
            "ticks": "",
            "zerolinecolor": "white"
           },
           "zaxis": {
            "backgroundcolor": "#E5ECF6",
            "gridcolor": "white",
            "gridwidth": 2,
            "linecolor": "white",
            "showbackground": true,
            "ticks": "",
            "zerolinecolor": "white"
           }
          },
          "shapedefaults": {
           "line": {
            "color": "#2a3f5f"
           }
          },
          "ternary": {
           "aaxis": {
            "gridcolor": "white",
            "linecolor": "white",
            "ticks": ""
           },
           "baxis": {
            "gridcolor": "white",
            "linecolor": "white",
            "ticks": ""
           },
           "bgcolor": "#E5ECF6",
           "caxis": {
            "gridcolor": "white",
            "linecolor": "white",
            "ticks": ""
           }
          },
          "title": {
           "x": 0.05
          },
          "xaxis": {
           "automargin": true,
           "gridcolor": "white",
           "linecolor": "white",
           "ticks": "",
           "title": {
            "standoff": 15
           },
           "zerolinecolor": "white",
           "zerolinewidth": 2
          },
          "yaxis": {
           "automargin": true,
           "gridcolor": "white",
           "linecolor": "white",
           "ticks": "",
           "title": {
            "standoff": 15
           },
           "zerolinecolor": "white",
           "zerolinewidth": 2
          }
         }
        },
        "title": {
         "text": "COVID-19 Cases Tracker",
         "x": 0.5,
         "xanchor": "center",
         "y": 0.9,
         "yanchor": "top"
        }
       }
      },
      "text/html": [
       "<div>\n",
       "        \n",
       "        \n",
       "            <div id=\"4a27f2ba-bf66-4bef-96f3-2a0caa1627b0\" class=\"plotly-graph-div\" style=\"height:525px; width:100%;\"></div>\n",
       "            <script type=\"text/javascript\">\n",
       "                require([\"plotly\"], function(Plotly) {\n",
       "                    window.PLOTLYENV=window.PLOTLYENV || {};\n",
       "                    \n",
       "                if (document.getElementById(\"4a27f2ba-bf66-4bef-96f3-2a0caa1627b0\")) {\n",
       "                    Plotly.newPlot(\n",
       "                        '4a27f2ba-bf66-4bef-96f3-2a0caa1627b0',\n",
       "                        [{\"mode\": \"markers+lines\", \"name\": \"Deceased Cases\", \"type\": \"scatter\", \"x\": [\"18 May \", \"19 May \", \"20 May \", \"21 May \", \"22 May \", \"23 May \", \"24 May \", \"25 May \", \"26 May \", \"27 May \", \"28 May \", \"29 May \", \"30 May \", \"31 May \", \"01 June \", \"02 June \", \"03 June \", \"04 June \", \"05 June \", \"06 June \", \"07 June \", \"08 June \", \"09 June \", \"10 June \", \"11 June \", \"12 June \", \"13 June \", \"14 June \", \"15 June \", \"16 June \", \"17 June \", \"18 June \", \"19 June \", \"20 June \", \"21 June \", \"22 June \", \"23 June \", \"24 June \", \"25 June \", \"26 June \", \"27 June \", \"28 June \", \"29 June \", \"30 June \", \"01 July \", \"02 July \", \"03 July \", \"04 July \", \"05 July \", \"06 July \", \"07 July \", \"08 July \", \"09 July \", \"10 July \", \"11 July \", \"12 July \", \"13 July \", \"14 July \", \"15 July \", \"16 July \", \"17 July \", \"18 July \", \"19 July \", \"20 July \", \"21 July \", \"22 July \", \"23 July \", \"24 July \", \"25 July \", \"26 July \", \"27 July \", \"28 July \", \"29 July \", \"30 July \", \"31 July \", \"01 August \", \"02 August \", \"03 August \", \"04 August \", \"05 August \", \"06 August \", \"07 August \", \"08 August \", \"09 August \", \"10 August \", \"11 August \", \"12 August \", \"13 August \", \"14 August \", \"15 August \", \"16 August \", \"17 August \", \"18 August \", \"19 August \", \"20 August \", \"21 August \", \"22 August \", \"23 August \", \"24 August \", \"25 August \", \"26 August \", \"27 August \", \"28 August \", \"29 August \", \"30 August \"], \"y\": [131, 146, 134, 148, 142, 142, 156, 150, 173, 188, 176, 269, 205, 222, 201, 222, 259, 274, 286, 297, 261, 271, 272, 358, 394, 388, 309, 324, 396, 2004, 341, 343, 364, 308, 426, 312, 468, 424, 401, 381, 414, 384, 417, 506, 438, 378, 444, 611, 421, 473, 479, 492, 479, 520, 543, 500, 541, 587, 614, 680, 676, 543, 675, 596, 671, 1130, 755, 763, 703, 704, 642, 774, 775, 784, 764, 854, 760, 806, 849, 919, 899, 936, 875, 1013, 887, 835, 950, 1006, 989, 952, 952, 880, 1099, 979, 981, 953, 918, 846, 854, 1066, 1017, 1066, 1019, 943, 960]}, {\"mode\": \"markers+lines\", \"name\": \"Confirmed Cases\", \"type\": \"scatter\", \"x\": [\"18 May \", \"19 May \", \"20 May \", \"21 May \", \"22 May \", \"23 May \", \"24 May \", \"25 May \", \"26 May \", \"27 May \", \"28 May \", \"29 May \", \"30 May \", \"31 May \", \"01 June \", \"02 June \", \"03 June \", \"04 June \", \"05 June \", \"06 June \", \"07 June \", \"08 June \", \"09 June \", \"10 June \", \"11 June \", \"12 June \", \"13 June \", \"14 June \", \"15 June \", \"16 June \", \"17 June \", \"18 June \", \"19 June \", \"20 June \", \"21 June \", \"22 June \", \"23 June \", \"24 June \", \"25 June \", \"26 June \", \"27 June \", \"28 June \", \"29 June \", \"30 June \", \"01 July \", \"02 July \", \"03 July \", \"04 July \", \"05 July \", \"06 July \", \"07 July \", \"08 July \", \"09 July \", \"10 July \", \"11 July \", \"12 July \", \"13 July \", \"14 July \", \"15 July \", \"16 July \", \"17 July \", \"18 July \", \"19 July \", \"20 July \", \"21 July \", \"22 July \", \"23 July \", \"24 July \", \"25 July \", \"26 July \", \"27 July \", \"28 July \", \"29 July \", \"30 July \", \"31 July \", \"01 August \", \"02 August \", \"03 August \", \"04 August \", \"05 August \", \"06 August \", \"07 August \", \"08 August \", \"09 August \", \"10 August \", \"11 August \", \"12 August \", \"13 August \", \"14 August \", \"15 August \", \"16 August \", \"17 August \", \"18 August \", \"19 August \", \"20 August \", \"21 August \", \"22 August \", \"23 August \", \"24 August \", \"25 August \", \"26 August \", \"27 August \", \"28 August \", \"29 August \", \"30 August \"], \"y\": [4628, 6154, 5720, 6023, 6536, 6667, 7111, 6414, 5907, 7246, 7254, 8138, 8364, 8789, 7723, 8812, 9689, 9847, 9472, 10408, 10882, 8536, 9981, 11156, 11135, 11306, 12039, 11405, 10032, 11086, 13108, 13829, 14740, 15918, 15151, 13560, 15656, 16868, 18205, 18255, 20142, 19610, 18339, 18256, 19429, 21947, 22718, 24018, 23942, 22500, 23147, 25561, 25790, 27762, 27757, 29106, 28178, 29917, 32607, 35468, 34820, 37411, 40235, 36806, 39170, 45601, 48443, 48888, 50072, 48932, 46484, 49631, 52479, 54968, 57486, 55117, 52672, 50488, 51282, 56626, 62170, 61455, 65156, 62117, 53016, 61252, 67066, 64141, 65610, 63986, 58096, 54298, 65024, 69196, 68518, 69029, 70067, 61749, 59696, 66873, 75995, 76827, 76657, 78479, 79461]}, {\"mode\": \"markers+lines\", \"name\": \"Recovered Cases\", \"type\": \"scatter\", \"x\": [\"18 May \", \"19 May \", \"20 May \", \"21 May \", \"22 May \", \"23 May \", \"24 May \", \"25 May \", \"26 May \", \"27 May \", \"28 May \", \"29 May \", \"30 May \", \"31 May \", \"01 June \", \"02 June \", \"03 June \", \"04 June \", \"05 June \", \"06 June \", \"07 June \", \"08 June \", \"09 June \", \"10 June \", \"11 June \", \"12 June \", \"13 June \", \"14 June \", \"15 June \", \"16 June \", \"17 June \", \"18 June \", \"19 June \", \"20 June \", \"21 June \", \"22 June \", \"23 June \", \"24 June \", \"25 June \", \"26 June \", \"27 June \", \"28 June \", \"29 June \", \"30 June \", \"01 July \", \"02 July \", \"03 July \", \"04 July \", \"05 July \", \"06 July \", \"07 July \", \"08 July \", \"09 July \", \"10 July \", \"11 July \", \"12 July \", \"13 July \", \"14 July \", \"15 July \", \"16 July \", \"17 July \", \"18 July \", \"19 July \", \"20 July \", \"21 July \", \"22 July \", \"23 July \", \"24 July \", \"25 July \", \"26 July \", \"27 July \", \"28 July \", \"29 July \", \"30 July \", \"31 July \", \"01 August \", \"02 August \", \"03 August \", \"04 August \", \"05 August \", \"06 August \", \"07 August \", \"08 August \", \"09 August \", \"10 August \", \"11 August \", \"12 August \", \"13 August \", \"14 August \", \"15 August \", \"16 August \", \"17 August \", \"18 August \", \"19 August \", \"20 August \", \"21 August \", \"22 August \", \"23 August \", \"24 August \", \"25 August \", \"26 August \", \"27 August \", \"28 August \", \"29 August \", \"30 August \"], \"y\": [2482, 3032, 3113, 3131, 3280, 2576, 3285, 3012, 3585, 3434, 3171, 11735, 4303, 4928, 3882, 4531, 3789, 4390, 4770, 5433, 5191, 5171, 5634, 6275, 6044, 7263, 8092, 7358, 10639, 7226, 6890, 10741, 9029, 13974, 9075, 10879, 10462, 13089, 13983, 10246, 14229, 11631, 13497, 12565, 12064, 19999, 14417, 14746, 15829, 15315, 16836, 19508, 19408, 20289, 19981, 18198, 17683, 20977, 20646, 22867, 17476, 23583, 22730, 24303, 27589, 31875, 33326, 32514, 37125, 31512, 34354, 35683, 32886, 37425, 36554, 51368, 40355, 43070, 51220, 45583, 50141, 50387, 52135, 54474, 47362, 56461, 57759, 54776, 56920, 53116, 57404, 58172, 60455, 59365, 61873, 62858, 59101, 56896, 66305, 64151, 56191, 59620, 64475, 64982, 60422]}],\n",
       "                        {\"template\": {\"data\": {\"bar\": [{\"error_x\": {\"color\": \"#2a3f5f\"}, \"error_y\": {\"color\": \"#2a3f5f\"}, \"marker\": {\"line\": {\"color\": \"#E5ECF6\", \"width\": 0.5}}, \"type\": \"bar\"}], \"barpolar\": [{\"marker\": {\"line\": {\"color\": \"#E5ECF6\", \"width\": 0.5}}, \"type\": \"barpolar\"}], \"carpet\": [{\"aaxis\": {\"endlinecolor\": \"#2a3f5f\", \"gridcolor\": \"white\", \"linecolor\": \"white\", \"minorgridcolor\": \"white\", \"startlinecolor\": \"#2a3f5f\"}, \"baxis\": {\"endlinecolor\": \"#2a3f5f\", \"gridcolor\": \"white\", \"linecolor\": \"white\", \"minorgridcolor\": \"white\", \"startlinecolor\": \"#2a3f5f\"}, \"type\": \"carpet\"}], \"choropleth\": [{\"colorbar\": {\"outlinewidth\": 0, \"ticks\": \"\"}, \"type\": \"choropleth\"}], \"contour\": [{\"colorbar\": {\"outlinewidth\": 0, \"ticks\": \"\"}, \"colorscale\": [[0.0, \"#0d0887\"], [0.1111111111111111, \"#46039f\"], [0.2222222222222222, \"#7201a8\"], [0.3333333333333333, \"#9c179e\"], [0.4444444444444444, \"#bd3786\"], [0.5555555555555556, \"#d8576b\"], [0.6666666666666666, \"#ed7953\"], [0.7777777777777778, \"#fb9f3a\"], [0.8888888888888888, \"#fdca26\"], [1.0, \"#f0f921\"]], \"type\": \"contour\"}], \"contourcarpet\": [{\"colorbar\": {\"outlinewidth\": 0, \"ticks\": \"\"}, \"type\": \"contourcarpet\"}], \"heatmap\": [{\"colorbar\": {\"outlinewidth\": 0, \"ticks\": \"\"}, \"colorscale\": [[0.0, \"#0d0887\"], [0.1111111111111111, \"#46039f\"], [0.2222222222222222, \"#7201a8\"], [0.3333333333333333, \"#9c179e\"], [0.4444444444444444, \"#bd3786\"], [0.5555555555555556, \"#d8576b\"], [0.6666666666666666, \"#ed7953\"], [0.7777777777777778, \"#fb9f3a\"], [0.8888888888888888, \"#fdca26\"], [1.0, \"#f0f921\"]], \"type\": \"heatmap\"}], \"heatmapgl\": [{\"colorbar\": {\"outlinewidth\": 0, \"ticks\": \"\"}, \"colorscale\": [[0.0, \"#0d0887\"], [0.1111111111111111, \"#46039f\"], [0.2222222222222222, \"#7201a8\"], [0.3333333333333333, \"#9c179e\"], [0.4444444444444444, \"#bd3786\"], [0.5555555555555556, \"#d8576b\"], [0.6666666666666666, \"#ed7953\"], [0.7777777777777778, \"#fb9f3a\"], [0.8888888888888888, \"#fdca26\"], [1.0, \"#f0f921\"]], \"type\": \"heatmapgl\"}], \"histogram\": [{\"marker\": {\"colorbar\": {\"outlinewidth\": 0, \"ticks\": \"\"}}, \"type\": \"histogram\"}], \"histogram2d\": [{\"colorbar\": {\"outlinewidth\": 0, \"ticks\": \"\"}, \"colorscale\": [[0.0, \"#0d0887\"], [0.1111111111111111, \"#46039f\"], [0.2222222222222222, \"#7201a8\"], [0.3333333333333333, \"#9c179e\"], [0.4444444444444444, \"#bd3786\"], [0.5555555555555556, \"#d8576b\"], [0.6666666666666666, \"#ed7953\"], [0.7777777777777778, \"#fb9f3a\"], [0.8888888888888888, \"#fdca26\"], [1.0, \"#f0f921\"]], \"type\": \"histogram2d\"}], \"histogram2dcontour\": [{\"colorbar\": {\"outlinewidth\": 0, \"ticks\": \"\"}, \"colorscale\": [[0.0, \"#0d0887\"], [0.1111111111111111, \"#46039f\"], [0.2222222222222222, \"#7201a8\"], [0.3333333333333333, \"#9c179e\"], [0.4444444444444444, \"#bd3786\"], [0.5555555555555556, \"#d8576b\"], [0.6666666666666666, \"#ed7953\"], [0.7777777777777778, \"#fb9f3a\"], [0.8888888888888888, \"#fdca26\"], [1.0, \"#f0f921\"]], \"type\": \"histogram2dcontour\"}], \"mesh3d\": [{\"colorbar\": {\"outlinewidth\": 0, \"ticks\": \"\"}, \"type\": \"mesh3d\"}], \"parcoords\": [{\"line\": {\"colorbar\": {\"outlinewidth\": 0, \"ticks\": \"\"}}, \"type\": \"parcoords\"}], \"pie\": [{\"automargin\": true, \"type\": \"pie\"}], \"scatter\": [{\"marker\": {\"colorbar\": {\"outlinewidth\": 0, \"ticks\": \"\"}}, \"type\": \"scatter\"}], \"scatter3d\": [{\"line\": {\"colorbar\": {\"outlinewidth\": 0, \"ticks\": \"\"}}, \"marker\": {\"colorbar\": {\"outlinewidth\": 0, \"ticks\": \"\"}}, \"type\": \"scatter3d\"}], \"scattercarpet\": [{\"marker\": {\"colorbar\": {\"outlinewidth\": 0, \"ticks\": \"\"}}, \"type\": \"scattercarpet\"}], \"scattergeo\": [{\"marker\": {\"colorbar\": {\"outlinewidth\": 0, \"ticks\": \"\"}}, \"type\": \"scattergeo\"}], \"scattergl\": [{\"marker\": {\"colorbar\": {\"outlinewidth\": 0, \"ticks\": \"\"}}, \"type\": \"scattergl\"}], \"scattermapbox\": [{\"marker\": {\"colorbar\": {\"outlinewidth\": 0, \"ticks\": \"\"}}, \"type\": \"scattermapbox\"}], \"scatterpolar\": [{\"marker\": {\"colorbar\": {\"outlinewidth\": 0, \"ticks\": \"\"}}, \"type\": \"scatterpolar\"}], \"scatterpolargl\": [{\"marker\": {\"colorbar\": {\"outlinewidth\": 0, \"ticks\": \"\"}}, \"type\": \"scatterpolargl\"}], \"scatterternary\": [{\"marker\": {\"colorbar\": {\"outlinewidth\": 0, \"ticks\": \"\"}}, \"type\": \"scatterternary\"}], \"surface\": [{\"colorbar\": {\"outlinewidth\": 0, \"ticks\": \"\"}, \"colorscale\": [[0.0, \"#0d0887\"], [0.1111111111111111, \"#46039f\"], [0.2222222222222222, \"#7201a8\"], [0.3333333333333333, \"#9c179e\"], [0.4444444444444444, \"#bd3786\"], [0.5555555555555556, \"#d8576b\"], [0.6666666666666666, \"#ed7953\"], [0.7777777777777778, \"#fb9f3a\"], [0.8888888888888888, \"#fdca26\"], [1.0, \"#f0f921\"]], \"type\": \"surface\"}], \"table\": [{\"cells\": {\"fill\": {\"color\": \"#EBF0F8\"}, \"line\": {\"color\": \"white\"}}, \"header\": {\"fill\": {\"color\": \"#C8D4E3\"}, \"line\": {\"color\": \"white\"}}, \"type\": \"table\"}]}, \"layout\": {\"annotationdefaults\": {\"arrowcolor\": \"#2a3f5f\", \"arrowhead\": 0, \"arrowwidth\": 1}, \"coloraxis\": {\"colorbar\": {\"outlinewidth\": 0, \"ticks\": \"\"}}, \"colorscale\": {\"diverging\": [[0, \"#8e0152\"], [0.1, \"#c51b7d\"], [0.2, \"#de77ae\"], [0.3, \"#f1b6da\"], [0.4, \"#fde0ef\"], [0.5, \"#f7f7f7\"], [0.6, \"#e6f5d0\"], [0.7, \"#b8e186\"], [0.8, \"#7fbc41\"], [0.9, \"#4d9221\"], [1, \"#276419\"]], \"sequential\": [[0.0, \"#0d0887\"], [0.1111111111111111, \"#46039f\"], [0.2222222222222222, \"#7201a8\"], [0.3333333333333333, \"#9c179e\"], [0.4444444444444444, \"#bd3786\"], [0.5555555555555556, \"#d8576b\"], [0.6666666666666666, \"#ed7953\"], [0.7777777777777778, \"#fb9f3a\"], [0.8888888888888888, \"#fdca26\"], [1.0, \"#f0f921\"]], \"sequentialminus\": [[0.0, \"#0d0887\"], [0.1111111111111111, \"#46039f\"], [0.2222222222222222, \"#7201a8\"], [0.3333333333333333, \"#9c179e\"], [0.4444444444444444, \"#bd3786\"], [0.5555555555555556, \"#d8576b\"], [0.6666666666666666, \"#ed7953\"], [0.7777777777777778, \"#fb9f3a\"], [0.8888888888888888, \"#fdca26\"], [1.0, \"#f0f921\"]]}, \"colorway\": [\"#636efa\", \"#EF553B\", \"#00cc96\", \"#ab63fa\", \"#FFA15A\", \"#19d3f3\", \"#FF6692\", \"#B6E880\", \"#FF97FF\", \"#FECB52\"], \"font\": {\"color\": \"#2a3f5f\"}, \"geo\": {\"bgcolor\": \"white\", \"lakecolor\": \"white\", \"landcolor\": \"#E5ECF6\", \"showlakes\": true, \"showland\": true, \"subunitcolor\": \"white\"}, \"hoverlabel\": {\"align\": \"left\"}, \"hovermode\": \"closest\", \"mapbox\": {\"style\": \"light\"}, \"paper_bgcolor\": \"white\", \"plot_bgcolor\": \"#E5ECF6\", \"polar\": {\"angularaxis\": {\"gridcolor\": \"white\", \"linecolor\": \"white\", \"ticks\": \"\"}, \"bgcolor\": \"#E5ECF6\", \"radialaxis\": {\"gridcolor\": \"white\", \"linecolor\": \"white\", \"ticks\": \"\"}}, \"scene\": {\"xaxis\": {\"backgroundcolor\": \"#E5ECF6\", \"gridcolor\": \"white\", \"gridwidth\": 2, \"linecolor\": \"white\", \"showbackground\": true, \"ticks\": \"\", \"zerolinecolor\": \"white\"}, \"yaxis\": {\"backgroundcolor\": \"#E5ECF6\", \"gridcolor\": \"white\", \"gridwidth\": 2, \"linecolor\": \"white\", \"showbackground\": true, \"ticks\": \"\", \"zerolinecolor\": \"white\"}, \"zaxis\": {\"backgroundcolor\": \"#E5ECF6\", \"gridcolor\": \"white\", \"gridwidth\": 2, \"linecolor\": \"white\", \"showbackground\": true, \"ticks\": \"\", \"zerolinecolor\": \"white\"}}, \"shapedefaults\": {\"line\": {\"color\": \"#2a3f5f\"}}, \"ternary\": {\"aaxis\": {\"gridcolor\": \"white\", \"linecolor\": \"white\", \"ticks\": \"\"}, \"baxis\": {\"gridcolor\": \"white\", \"linecolor\": \"white\", \"ticks\": \"\"}, \"bgcolor\": \"#E5ECF6\", \"caxis\": {\"gridcolor\": \"white\", \"linecolor\": \"white\", \"ticks\": \"\"}}, \"title\": {\"x\": 0.05}, \"xaxis\": {\"automargin\": true, \"gridcolor\": \"white\", \"linecolor\": \"white\", \"ticks\": \"\", \"title\": {\"standoff\": 15}, \"zerolinecolor\": \"white\", \"zerolinewidth\": 2}, \"yaxis\": {\"automargin\": true, \"gridcolor\": \"white\", \"linecolor\": \"white\", \"ticks\": \"\", \"title\": {\"standoff\": 15}, \"zerolinecolor\": \"white\", \"zerolinewidth\": 2}}}, \"title\": {\"text\": \"COVID-19 Cases Tracker\", \"x\": 0.5, \"xanchor\": \"center\", \"y\": 0.9, \"yanchor\": \"top\"}},\n",
       "                        {\"responsive\": true}\n",
       "                    ).then(function(){\n",
       "                            \n",
       "var gd = document.getElementById('4a27f2ba-bf66-4bef-96f3-2a0caa1627b0');\n",
       "var x = new MutationObserver(function (mutations, observer) {{\n",
       "        var display = window.getComputedStyle(gd).display;\n",
       "        if (!display || display === 'none') {{\n",
       "            console.log([gd, 'removed!']);\n",
       "            Plotly.purge(gd);\n",
       "            observer.disconnect();\n",
       "        }}\n",
       "}});\n",
       "\n",
       "// Listen for the removal of the full notebook cells\n",
       "var notebookContainer = gd.closest('#notebook-container');\n",
       "if (notebookContainer) {{\n",
       "    x.observe(notebookContainer, {childList: true});\n",
       "}}\n",
       "\n",
       "// Listen for the clearing of the current output cell\n",
       "var outputEl = gd.closest('.output');\n",
       "if (outputEl) {{\n",
       "    x.observe(outputEl, {childList: true});\n",
       "}}\n",
       "\n",
       "                        })\n",
       "                };\n",
       "                });\n",
       "            </script>\n",
       "        </div>"
      ]
     },
     "metadata": {},
     "output_type": "display_data"
    }
   ],
   "source": [
    "graph1 = go.Scatter(x=df['Date'],y=df['Confirmed_Cases'],name='Confirmed Cases',mode='markers+lines')\n",
    "graph2 = go.Scatter(x=df['Date'], y=df['Recovered_Cases'], name='Recovered Cases',mode='markers+lines')\n",
    "graph3 = go.Scatter(x=df['Date'], y=df['Deceased_Cases'], name='Deceased Cases',mode='markers+lines')\n",
    "data=[graph3,graph1,graph2]\n",
    "layout=go.Layout(title='COVID-19 Cases Tracker')\n",
    "figure=go.Figure(data=data,layout=layout)\n",
    "figure.update_layout(\n",
    "            title={\n",
    "                'y': 0.9,\n",
    "                'x': 0.5,\n",
    "                'xanchor':'center',\n",
    "                'yanchor':'top'\n",
    "            }\n",
    "        )\n",
    "figure.show()"
   ]
  },
  {
   "cell_type": "markdown",
   "metadata": {},
   "source": [
    "#### The output is shown in the covid19_project.pdf as the pyplot output is not supported in github"
   ]
  },
  {
   "cell_type": "markdown",
   "metadata": {},
   "source": [
    "By looking at the chart, we can see that the number of Confirmed Cases in India is increasing Day by Day but the good thing is that the number of Recovered Cases is also increasing which is a sense of relief. Also, we can see that the number of deceased \n",
    "cases is not having any spike which means there is a slight difference in the number of cases betweem any two days"
   ]
  },
  {
   "cell_type": "markdown",
   "metadata": {},
   "source": [
    "## COVID-19 Donut Chart"
   ]
  },
  {
   "cell_type": "markdown",
   "metadata": {},
   "source": [
    "The Donut Chart is divided into three section- Recovered Cases, Active Cases, Deceased Cases. The chart helps us to determine how much percentage of a particular type of cases are there in present in comparison of the other types of cases.  "
   ]
  },
  {
   "cell_type": "code",
   "execution_count": 29,
   "metadata": {},
   "outputs": [
    {
     "data": {
      "image/png": "[encoded data removed]",
      "text/plain": [
       "<Figure size 1584x792 with 1 Axes>"
      ]
     },
     "metadata": {},
     "output_type": "display_data"
    }
   ],
   "source": [
    "df=df.iloc[:,[3,5,7]]\n",
    "colors=['yellowgreen','Grey','deepskyblue']\n",
    "plt.figure(figsize=(22,11))\n",
    "df.sum().plot(kind='pie',autopct='%.2f%%',startangle=90,y='',colors=colors)\n",
    "my_circle=plt.Circle( (0,0), 0.4, color='white')\n",
    "p=plt.gcf()\n",
    "p.gca().add_artist(my_circle)\n",
    "plt.legend()\n",
    "plt.title('Donut Chart')\n",
    "plt.show()\n",
    "\n"
   ]
  },
  {
   "cell_type": "code",
   "execution_count": 30,
   "metadata": {},
   "outputs": [
    {
     "data": {
      "application/vnd.plotly.v1+json": {
       "config": {
        "plotlyServerURL": "https://plot.ly"
       },
       "data": [
        {
         "hole": 0.2,
         "labels": [
          "Deceased_Cases",
          "Active Cases",
          "Recovered Cases"
         ],
         "marker": {
          "colors": [
           "grey",
           "navyblue",
           "greenyellow"
          ],
          "line": {
           "color": "#000000",
           "width": 4
          }
         },
         "textfont": {
          "size": 18
         },
         "textinfo": "percent+label",
         "type": "pie",
         "values": [
          61605,
          725744,
          2736140
         ]
        }
       ],
       "layout": {
        "template": {
         "data": {
          "bar": [
           {
            "error_x": {
             "color": "#2a3f5f"
            },
            "error_y": {
             "color": "#2a3f5f"
            },
            "marker": {
             "line": {
              "color": "#E5ECF6",
              "width": 0.5
             }
            },
            "type": "bar"
           }
          ],
          "barpolar": [
           {
            "marker": {
             "line": {
              "color": "#E5ECF6",
              "width": 0.5
             }
            },
            "type": "barpolar"
           }
          ],
          "carpet": [
           {
            "aaxis": {
             "endlinecolor": "#2a3f5f",
             "gridcolor": "white",
             "linecolor": "white",
             "minorgridcolor": "white",
             "startlinecolor": "#2a3f5f"
            },
            "baxis": {
             "endlinecolor": "#2a3f5f",
             "gridcolor": "white",
             "linecolor": "white",
             "minorgridcolor": "white",
             "startlinecolor": "#2a3f5f"
            },
            "type": "carpet"
           }
          ],
          "choropleth": [
           {
            "colorbar": {
             "outlinewidth": 0,
             "ticks": ""
            },
            "type": "choropleth"
           }
          ],
          "contour": [
           {
            "colorbar": {
             "outlinewidth": 0,
             "ticks": ""
            },
            "colorscale": [
             [
              0,
              "#0d0887"
             ],
             [
              0.1111111111111111,
              "#46039f"
             ],
             [
              0.2222222222222222,
              "#7201a8"
             ],
             [
              0.3333333333333333,
              "#9c179e"
             ],
             [
              0.4444444444444444,
              "#bd3786"
             ],
             [
              0.5555555555555556,
              "#d8576b"
             ],
             [
              0.6666666666666666,
              "#ed7953"
             ],
             [
              0.7777777777777778,
              "#fb9f3a"
             ],
             [
              0.8888888888888888,
              "#fdca26"
             ],
             [
              1,
              "#f0f921"
             ]
            ],
            "type": "contour"
           }
          ],
          "contourcarpet": [
           {
            "colorbar": {
             "outlinewidth": 0,
             "ticks": ""
            },
            "type": "contourcarpet"
           }
          ],
          "heatmap": [
           {
            "colorbar": {
             "outlinewidth": 0,
             "ticks": ""
            },
            "colorscale": [
             [
              0,
              "#0d0887"
             ],
             [
              0.1111111111111111,
              "#46039f"
             ],
             [
              0.2222222222222222,
              "#7201a8"
             ],
             [
              0.3333333333333333,
              "#9c179e"
             ],
             [
              0.4444444444444444,
              "#bd3786"
             ],
             [
              0.5555555555555556,
              "#d8576b"
             ],
             [
              0.6666666666666666,
              "#ed7953"
             ],
             [
              0.7777777777777778,
              "#fb9f3a"
             ],
             [
              0.8888888888888888,
              "#fdca26"
             ],
             [
              1,
              "#f0f921"
             ]
            ],
            "type": "heatmap"
           }
          ],
          "heatmapgl": [
           {
            "colorbar": {
             "outlinewidth": 0,
             "ticks": ""
            },
            "colorscale": [
             [
              0,
              "#0d0887"
             ],
             [
              0.1111111111111111,
              "#46039f"
             ],
             [
              0.2222222222222222,
              "#7201a8"
             ],
             [
              0.3333333333333333,
              "#9c179e"
             ],
             [
              0.4444444444444444,
              "#bd3786"
             ],
             [
              0.5555555555555556,
              "#d8576b"
             ],
             [
              0.6666666666666666,
              "#ed7953"
             ],
             [
              0.7777777777777778,
              "#fb9f3a"
             ],
             [
              0.8888888888888888,
              "#fdca26"
             ],
             [
              1,
              "#f0f921"
             ]
            ],
            "type": "heatmapgl"
           }
          ],
          "histogram": [
           {
            "marker": {
             "colorbar": {
              "outlinewidth": 0,
              "ticks": ""
             }
            },
            "type": "histogram"
           }
          ],
          "histogram2d": [
           {
            "colorbar": {
             "outlinewidth": 0,
             "ticks": ""
            },
            "colorscale": [
             [
              0,
              "#0d0887"
             ],
             [
              0.1111111111111111,
              "#46039f"
             ],
             [
              0.2222222222222222,
              "#7201a8"
             ],
             [
              0.3333333333333333,
              "#9c179e"
             ],
             [
              0.4444444444444444,
              "#bd3786"
             ],
             [
              0.5555555555555556,
              "#d8576b"
             ],
             [
              0.6666666666666666,
              "#ed7953"
             ],
             [
              0.7777777777777778,
              "#fb9f3a"
             ],
             [
              0.8888888888888888,
              "#fdca26"
             ],
             [
              1,
              "#f0f921"
             ]
            ],
            "type": "histogram2d"
           }
          ],
          "histogram2dcontour": [
           {
            "colorbar": {
             "outlinewidth": 0,
             "ticks": ""
            },
            "colorscale": [
             [
              0,
              "#0d0887"
             ],
             [
              0.1111111111111111,
              "#46039f"
             ],
             [
              0.2222222222222222,
              "#7201a8"
             ],
             [
              0.3333333333333333,
              "#9c179e"
             ],
             [
              0.4444444444444444,
              "#bd3786"
             ],
             [
              0.5555555555555556,
              "#d8576b"
             ],
             [
              0.6666666666666666,
              "#ed7953"
             ],
             [
              0.7777777777777778,
              "#fb9f3a"
             ],
             [
              0.8888888888888888,
              "#fdca26"
             ],
             [
              1,
              "#f0f921"
             ]
            ],
            "type": "histogram2dcontour"
           }
          ],
          "mesh3d": [
           {
            "colorbar": {
             "outlinewidth": 0,
             "ticks": ""
            },
            "type": "mesh3d"
           }
          ],
          "parcoords": [
           {
            "line": {
             "colorbar": {
              "outlinewidth": 0,
              "ticks": ""
             }
            },
            "type": "parcoords"
           }
          ],
          "pie": [
           {
            "automargin": true,
            "type": "pie"
           }
          ],
          "scatter": [
           {
            "marker": {
             "colorbar": {
              "outlinewidth": 0,
              "ticks": ""
             }
            },
            "type": "scatter"
           }
          ],
          "scatter3d": [
           {
            "line": {
             "colorbar": {
              "outlinewidth": 0,
              "ticks": ""
             }
            },
            "marker": {
             "colorbar": {
              "outlinewidth": 0,
              "ticks": ""
             }
            },
            "type": "scatter3d"
           }
          ],
          "scattercarpet": [
           {
            "marker": {
             "colorbar": {
              "outlinewidth": 0,
              "ticks": ""
             }
            },
            "type": "scattercarpet"
           }
          ],
          "scattergeo": [
           {
            "marker": {
             "colorbar": {
              "outlinewidth": 0,
              "ticks": ""
             }
            },
            "type": "scattergeo"
           }
          ],
          "scattergl": [
           {
            "marker": {
             "colorbar": {
              "outlinewidth": 0,
              "ticks": ""
             }
            },
            "type": "scattergl"
           }
          ],
          "scattermapbox": [
           {
            "marker": {
             "colorbar": {
              "outlinewidth": 0,
              "ticks": ""
             }
            },
            "type": "scattermapbox"
           }
          ],
          "scatterpolar": [
           {
            "marker": {
             "colorbar": {
              "outlinewidth": 0,
              "ticks": ""
             }
            },
            "type": "scatterpolar"
           }
          ],
          "scatterpolargl": [
           {
            "marker": {
             "colorbar": {
              "outlinewidth": 0,
              "ticks": ""
             }
            },
            "type": "scatterpolargl"
           }
          ],
          "scatterternary": [
           {
            "marker": {
             "colorbar": {
              "outlinewidth": 0,
              "ticks": ""
             }
            },
            "type": "scatterternary"
           }
          ],
          "surface": [
           {
            "colorbar": {
             "outlinewidth": 0,
             "ticks": ""
            },
            "colorscale": [
             [
              0,
              "#0d0887"
             ],
             [
              0.1111111111111111,
              "#46039f"
             ],
             [
              0.2222222222222222,
              "#7201a8"
             ],
             [
              0.3333333333333333,
              "#9c179e"
             ],
             [
              0.4444444444444444,
              "#bd3786"
             ],
             [
              0.5555555555555556,
              "#d8576b"
             ],
             [
              0.6666666666666666,
              "#ed7953"
             ],
             [
              0.7777777777777778,
              "#fb9f3a"
             ],
             [
              0.8888888888888888,
              "#fdca26"
             ],
             [
              1,
              "#f0f921"
             ]
            ],
            "type": "surface"
           }
          ],
          "table": [
           {
            "cells": {
             "fill": {
              "color": "#EBF0F8"
             },
             "line": {
              "color": "white"
             }
            },
            "header": {
             "fill": {
              "color": "#C8D4E3"
             },
             "line": {
              "color": "white"
             }
            },
            "type": "table"
           }
          ]
         },
         "layout": {
          "annotationdefaults": {
           "arrowcolor": "#2a3f5f",
           "arrowhead": 0,
           "arrowwidth": 1
          },
          "coloraxis": {
           "colorbar": {
            "outlinewidth": 0,
            "ticks": ""
           }
          },
          "colorscale": {
           "diverging": [
            [
             0,
             "#8e0152"
            ],
            [
             0.1,
             "#c51b7d"
            ],
            [
             0.2,
             "#de77ae"
            ],
            [
             0.3,
             "#f1b6da"
            ],
            [
             0.4,
             "#fde0ef"
            ],
            [
             0.5,
             "#f7f7f7"
            ],
            [
             0.6,
             "#e6f5d0"
            ],
            [
             0.7,
             "#b8e186"
            ],
            [
             0.8,
             "#7fbc41"
            ],
            [
             0.9,
             "#4d9221"
            ],
            [
             1,
             "#276419"
            ]
           ],
           "sequential": [
            [
             0,
             "#0d0887"
            ],
            [
             0.1111111111111111,
             "#46039f"
            ],
            [
             0.2222222222222222,
             "#7201a8"
            ],
            [
             0.3333333333333333,
             "#9c179e"
            ],
            [
             0.4444444444444444,
             "#bd3786"
            ],
            [
             0.5555555555555556,
             "#d8576b"
            ],
            [
             0.6666666666666666,
             "#ed7953"
            ],
            [
             0.7777777777777778,
             "#fb9f3a"
            ],
            [
             0.8888888888888888,
             "#fdca26"
            ],
            [
             1,
             "#f0f921"
            ]
           ],
           "sequentialminus": [
            [
             0,
             "#0d0887"
            ],
            [
             0.1111111111111111,
             "#46039f"
            ],
            [
             0.2222222222222222,
             "#7201a8"
            ],
            [
             0.3333333333333333,
             "#9c179e"
            ],
            [
             0.4444444444444444,
             "#bd3786"
            ],
            [
             0.5555555555555556,
             "#d8576b"
            ],
            [
             0.6666666666666666,
             "#ed7953"
            ],
            [
             0.7777777777777778,
             "#fb9f3a"
            ],
            [
             0.8888888888888888,
             "#fdca26"
            ],
            [
             1,
             "#f0f921"
            ]
           ]
          },
          "colorway": [
           "#636efa",
           "#EF553B",
           "#00cc96",
           "#ab63fa",
           "#FFA15A",
           "#19d3f3",
           "#FF6692",
           "#B6E880",
           "#FF97FF",
           "#FECB52"
          ],
          "font": {
           "color": "#2a3f5f"
          },
          "geo": {
           "bgcolor": "white",
           "lakecolor": "white",
           "landcolor": "#E5ECF6",
           "showlakes": true,
           "showland": true,
           "subunitcolor": "white"
          },
          "hoverlabel": {
           "align": "left"
          },
          "hovermode": "closest",
          "mapbox": {
           "style": "light"
          },
          "paper_bgcolor": "white",
          "plot_bgcolor": "#E5ECF6",
          "polar": {
           "angularaxis": {
            "gridcolor": "white",
            "linecolor": "white",
            "ticks": ""
           },
           "bgcolor": "#E5ECF6",
           "radialaxis": {
            "gridcolor": "white",
            "linecolor": "white",
            "ticks": ""
           }
          },
          "scene": {
           "xaxis": {
            "backgroundcolor": "#E5ECF6",
            "gridcolor": "white",
            "gridwidth": 2,
            "linecolor": "white",
            "showbackground": true,
            "ticks": "",
            "zerolinecolor": "white"
           },
           "yaxis": {
            "backgroundcolor": "#E5ECF6",
            "gridcolor": "white",
            "gridwidth": 2,
            "linecolor": "white",
            "showbackground": true,
            "ticks": "",
            "zerolinecolor": "white"
           },
           "zaxis": {
            "backgroundcolor": "#E5ECF6",
            "gridcolor": "white",
            "gridwidth": 2,
            "linecolor": "white",
            "showbackground": true,
            "ticks": "",
            "zerolinecolor": "white"
           }
          },
          "shapedefaults": {
           "line": {
            "color": "#2a3f5f"
           }
          },
          "ternary": {
           "aaxis": {
            "gridcolor": "white",
            "linecolor": "white",
            "ticks": ""
           },
           "baxis": {
            "gridcolor": "white",
            "linecolor": "white",
            "ticks": ""
           },
           "bgcolor": "#E5ECF6",
           "caxis": {
            "gridcolor": "white",
            "linecolor": "white",
            "ticks": ""
           }
          },
          "title": {
           "x": 0.05
          },
          "xaxis": {
           "automargin": true,
           "gridcolor": "white",
           "linecolor": "white",
           "ticks": "",
           "title": {
            "standoff": 15
           },
           "zerolinecolor": "white",
           "zerolinewidth": 2
          },
          "yaxis": {
           "automargin": true,
           "gridcolor": "white",
           "linecolor": "white",
           "ticks": "",
           "title": {
            "standoff": 15
           },
           "zerolinecolor": "white",
           "zerolinewidth": 2
          }
         }
        },
        "title": {
         "text": "COVID-19 Donut chart"
        }
       }
      },
      "text/html": [
       "<div>\n",
       "        \n",
       "        \n",
       "            <div id=\"59dc51b2-c45c-4121-830e-eeda6b6433e7\" class=\"plotly-graph-div\" style=\"height:525px; width:100%;\"></div>\n",
       "            <script type=\"text/javascript\">\n",
       "                require([\"plotly\"], function(Plotly) {\n",
       "                    window.PLOTLYENV=window.PLOTLYENV || {};\n",
       "                    \n",
       "                if (document.getElementById(\"59dc51b2-c45c-4121-830e-eeda6b6433e7\")) {\n",
       "                    Plotly.newPlot(\n",
       "                        '59dc51b2-c45c-4121-830e-eeda6b6433e7',\n",
       "                        [{\"hole\": 0.2, \"labels\": [\"Deceased_Cases\", \"Active Cases\", \"Recovered Cases\"], \"marker\": {\"colors\": [\"grey\", \"navyblue\", \"greenyellow\"], \"line\": {\"color\": \"#000000\", \"width\": 4}}, \"textfont\": {\"size\": 18}, \"textinfo\": \"percent+label\", \"type\": \"pie\", \"values\": [61605, 725744, 2736140]}],\n",
       "                        {\"template\": {\"data\": {\"bar\": [{\"error_x\": {\"color\": \"#2a3f5f\"}, \"error_y\": {\"color\": \"#2a3f5f\"}, \"marker\": {\"line\": {\"color\": \"#E5ECF6\", \"width\": 0.5}}, \"type\": \"bar\"}], \"barpolar\": [{\"marker\": {\"line\": {\"color\": \"#E5ECF6\", \"width\": 0.5}}, \"type\": \"barpolar\"}], \"carpet\": [{\"aaxis\": {\"endlinecolor\": \"#2a3f5f\", \"gridcolor\": \"white\", \"linecolor\": \"white\", \"minorgridcolor\": \"white\", \"startlinecolor\": \"#2a3f5f\"}, \"baxis\": {\"endlinecolor\": \"#2a3f5f\", \"gridcolor\": \"white\", \"linecolor\": \"white\", \"minorgridcolor\": \"white\", \"startlinecolor\": \"#2a3f5f\"}, \"type\": \"carpet\"}], \"choropleth\": [{\"colorbar\": {\"outlinewidth\": 0, \"ticks\": \"\"}, \"type\": \"choropleth\"}], \"contour\": [{\"colorbar\": {\"outlinewidth\": 0, \"ticks\": \"\"}, \"colorscale\": [[0.0, \"#0d0887\"], [0.1111111111111111, \"#46039f\"], [0.2222222222222222, \"#7201a8\"], [0.3333333333333333, \"#9c179e\"], [0.4444444444444444, \"#bd3786\"], [0.5555555555555556, \"#d8576b\"], [0.6666666666666666, \"#ed7953\"], [0.7777777777777778, \"#fb9f3a\"], [0.8888888888888888, \"#fdca26\"], [1.0, \"#f0f921\"]], \"type\": \"contour\"}], \"contourcarpet\": [{\"colorbar\": {\"outlinewidth\": 0, \"ticks\": \"\"}, \"type\": \"contourcarpet\"}], \"heatmap\": [{\"colorbar\": {\"outlinewidth\": 0, \"ticks\": \"\"}, \"colorscale\": [[0.0, \"#0d0887\"], [0.1111111111111111, \"#46039f\"], [0.2222222222222222, \"#7201a8\"], [0.3333333333333333, \"#9c179e\"], [0.4444444444444444, \"#bd3786\"], [0.5555555555555556, \"#d8576b\"], [0.6666666666666666, \"#ed7953\"], [0.7777777777777778, \"#fb9f3a\"], [0.8888888888888888, \"#fdca26\"], [1.0, \"#f0f921\"]], \"type\": \"heatmap\"}], \"heatmapgl\": [{\"colorbar\": {\"outlinewidth\": 0, \"ticks\": \"\"}, \"colorscale\": [[0.0, \"#0d0887\"], [0.1111111111111111, \"#46039f\"], [0.2222222222222222, \"#7201a8\"], [0.3333333333333333, \"#9c179e\"], [0.4444444444444444, \"#bd3786\"], [0.5555555555555556, \"#d8576b\"], [0.6666666666666666, \"#ed7953\"], [0.7777777777777778, \"#fb9f3a\"], [0.8888888888888888, \"#fdca26\"], [1.0, \"#f0f921\"]], \"type\": \"heatmapgl\"}], \"histogram\": [{\"marker\": {\"colorbar\": {\"outlinewidth\": 0, \"ticks\": \"\"}}, \"type\": \"histogram\"}], \"histogram2d\": [{\"colorbar\": {\"outlinewidth\": 0, \"ticks\": \"\"}, \"colorscale\": [[0.0, \"#0d0887\"], [0.1111111111111111, \"#46039f\"], [0.2222222222222222, \"#7201a8\"], [0.3333333333333333, \"#9c179e\"], [0.4444444444444444, \"#bd3786\"], [0.5555555555555556, \"#d8576b\"], [0.6666666666666666, \"#ed7953\"], [0.7777777777777778, \"#fb9f3a\"], [0.8888888888888888, \"#fdca26\"], [1.0, \"#f0f921\"]], \"type\": \"histogram2d\"}], \"histogram2dcontour\": [{\"colorbar\": {\"outlinewidth\": 0, \"ticks\": \"\"}, \"colorscale\": [[0.0, \"#0d0887\"], [0.1111111111111111, \"#46039f\"], [0.2222222222222222, \"#7201a8\"], [0.3333333333333333, \"#9c179e\"], [0.4444444444444444, \"#bd3786\"], [0.5555555555555556, \"#d8576b\"], [0.6666666666666666, \"#ed7953\"], [0.7777777777777778, \"#fb9f3a\"], [0.8888888888888888, \"#fdca26\"], [1.0, \"#f0f921\"]], \"type\": \"histogram2dcontour\"}], \"mesh3d\": [{\"colorbar\": {\"outlinewidth\": 0, \"ticks\": \"\"}, \"type\": \"mesh3d\"}], \"parcoords\": [{\"line\": {\"colorbar\": {\"outlinewidth\": 0, \"ticks\": \"\"}}, \"type\": \"parcoords\"}], \"pie\": [{\"automargin\": true, \"type\": \"pie\"}], \"scatter\": [{\"marker\": {\"colorbar\": {\"outlinewidth\": 0, \"ticks\": \"\"}}, \"type\": \"scatter\"}], \"scatter3d\": [{\"line\": {\"colorbar\": {\"outlinewidth\": 0, \"ticks\": \"\"}}, \"marker\": {\"colorbar\": {\"outlinewidth\": 0, \"ticks\": \"\"}}, \"type\": \"scatter3d\"}], \"scattercarpet\": [{\"marker\": {\"colorbar\": {\"outlinewidth\": 0, \"ticks\": \"\"}}, \"type\": \"scattercarpet\"}], \"scattergeo\": [{\"marker\": {\"colorbar\": {\"outlinewidth\": 0, \"ticks\": \"\"}}, \"type\": \"scattergeo\"}], \"scattergl\": [{\"marker\": {\"colorbar\": {\"outlinewidth\": 0, \"ticks\": \"\"}}, \"type\": \"scattergl\"}], \"scattermapbox\": [{\"marker\": {\"colorbar\": {\"outlinewidth\": 0, \"ticks\": \"\"}}, \"type\": \"scattermapbox\"}], \"scatterpolar\": [{\"marker\": {\"colorbar\": {\"outlinewidth\": 0, \"ticks\": \"\"}}, \"type\": \"scatterpolar\"}], \"scatterpolargl\": [{\"marker\": {\"colorbar\": {\"outlinewidth\": 0, \"ticks\": \"\"}}, \"type\": \"scatterpolargl\"}], \"scatterternary\": [{\"marker\": {\"colorbar\": {\"outlinewidth\": 0, \"ticks\": \"\"}}, \"type\": \"scatterternary\"}], \"surface\": [{\"colorbar\": {\"outlinewidth\": 0, \"ticks\": \"\"}, \"colorscale\": [[0.0, \"#0d0887\"], [0.1111111111111111, \"#46039f\"], [0.2222222222222222, \"#7201a8\"], [0.3333333333333333, \"#9c179e\"], [0.4444444444444444, \"#bd3786\"], [0.5555555555555556, \"#d8576b\"], [0.6666666666666666, \"#ed7953\"], [0.7777777777777778, \"#fb9f3a\"], [0.8888888888888888, \"#fdca26\"], [1.0, \"#f0f921\"]], \"type\": \"surface\"}], \"table\": [{\"cells\": {\"fill\": {\"color\": \"#EBF0F8\"}, \"line\": {\"color\": \"white\"}}, \"header\": {\"fill\": {\"color\": \"#C8D4E3\"}, \"line\": {\"color\": \"white\"}}, \"type\": \"table\"}]}, \"layout\": {\"annotationdefaults\": {\"arrowcolor\": \"#2a3f5f\", \"arrowhead\": 0, \"arrowwidth\": 1}, \"coloraxis\": {\"colorbar\": {\"outlinewidth\": 0, \"ticks\": \"\"}}, \"colorscale\": {\"diverging\": [[0, \"#8e0152\"], [0.1, \"#c51b7d\"], [0.2, \"#de77ae\"], [0.3, \"#f1b6da\"], [0.4, \"#fde0ef\"], [0.5, \"#f7f7f7\"], [0.6, \"#e6f5d0\"], [0.7, \"#b8e186\"], [0.8, \"#7fbc41\"], [0.9, \"#4d9221\"], [1, \"#276419\"]], \"sequential\": [[0.0, \"#0d0887\"], [0.1111111111111111, \"#46039f\"], [0.2222222222222222, \"#7201a8\"], [0.3333333333333333, \"#9c179e\"], [0.4444444444444444, \"#bd3786\"], [0.5555555555555556, \"#d8576b\"], [0.6666666666666666, \"#ed7953\"], [0.7777777777777778, \"#fb9f3a\"], [0.8888888888888888, \"#fdca26\"], [1.0, \"#f0f921\"]], \"sequentialminus\": [[0.0, \"#0d0887\"], [0.1111111111111111, \"#46039f\"], [0.2222222222222222, \"#7201a8\"], [0.3333333333333333, \"#9c179e\"], [0.4444444444444444, \"#bd3786\"], [0.5555555555555556, \"#d8576b\"], [0.6666666666666666, \"#ed7953\"], [0.7777777777777778, \"#fb9f3a\"], [0.8888888888888888, \"#fdca26\"], [1.0, \"#f0f921\"]]}, \"colorway\": [\"#636efa\", \"#EF553B\", \"#00cc96\", \"#ab63fa\", \"#FFA15A\", \"#19d3f3\", \"#FF6692\", \"#B6E880\", \"#FF97FF\", \"#FECB52\"], \"font\": {\"color\": \"#2a3f5f\"}, \"geo\": {\"bgcolor\": \"white\", \"lakecolor\": \"white\", \"landcolor\": \"#E5ECF6\", \"showlakes\": true, \"showland\": true, \"subunitcolor\": \"white\"}, \"hoverlabel\": {\"align\": \"left\"}, \"hovermode\": \"closest\", \"mapbox\": {\"style\": \"light\"}, \"paper_bgcolor\": \"white\", \"plot_bgcolor\": \"#E5ECF6\", \"polar\": {\"angularaxis\": {\"gridcolor\": \"white\", \"linecolor\": \"white\", \"ticks\": \"\"}, \"bgcolor\": \"#E5ECF6\", \"radialaxis\": {\"gridcolor\": \"white\", \"linecolor\": \"white\", \"ticks\": \"\"}}, \"scene\": {\"xaxis\": {\"backgroundcolor\": \"#E5ECF6\", \"gridcolor\": \"white\", \"gridwidth\": 2, \"linecolor\": \"white\", \"showbackground\": true, \"ticks\": \"\", \"zerolinecolor\": \"white\"}, \"yaxis\": {\"backgroundcolor\": \"#E5ECF6\", \"gridcolor\": \"white\", \"gridwidth\": 2, \"linecolor\": \"white\", \"showbackground\": true, \"ticks\": \"\", \"zerolinecolor\": \"white\"}, \"zaxis\": {\"backgroundcolor\": \"#E5ECF6\", \"gridcolor\": \"white\", \"gridwidth\": 2, \"linecolor\": \"white\", \"showbackground\": true, \"ticks\": \"\", \"zerolinecolor\": \"white\"}}, \"shapedefaults\": {\"line\": {\"color\": \"#2a3f5f\"}}, \"ternary\": {\"aaxis\": {\"gridcolor\": \"white\", \"linecolor\": \"white\", \"ticks\": \"\"}, \"baxis\": {\"gridcolor\": \"white\", \"linecolor\": \"white\", \"ticks\": \"\"}, \"bgcolor\": \"#E5ECF6\", \"caxis\": {\"gridcolor\": \"white\", \"linecolor\": \"white\", \"ticks\": \"\"}}, \"title\": {\"x\": 0.05}, \"xaxis\": {\"automargin\": true, \"gridcolor\": \"white\", \"linecolor\": \"white\", \"ticks\": \"\", \"title\": {\"standoff\": 15}, \"zerolinecolor\": \"white\", \"zerolinewidth\": 2}, \"yaxis\": {\"automargin\": true, \"gridcolor\": \"white\", \"linecolor\": \"white\", \"ticks\": \"\", \"title\": {\"standoff\": 15}, \"zerolinecolor\": \"white\", \"zerolinewidth\": 2}}}, \"title\": {\"text\": \"COVID-19 Donut chart\"}},\n",
       "                        {\"responsive\": true}\n",
       "                    ).then(function(){\n",
       "                            \n",
       "var gd = document.getElementById('59dc51b2-c45c-4121-830e-eeda6b6433e7');\n",
       "var x = new MutationObserver(function (mutations, observer) {{\n",
       "        var display = window.getComputedStyle(gd).display;\n",
       "        if (!display || display === 'none') {{\n",
       "            console.log([gd, 'removed!']);\n",
       "            Plotly.purge(gd);\n",
       "            observer.disconnect();\n",
       "        }}\n",
       "}});\n",
       "\n",
       "// Listen for the removal of the full notebook cells\n",
       "var notebookContainer = gd.closest('#notebook-container');\n",
       "if (notebookContainer) {{\n",
       "    x.observe(notebookContainer, {childList: true});\n",
       "}}\n",
       "\n",
       "// Listen for the clearing of the current output cell\n",
       "var outputEl = gd.closest('.output');\n",
       "if (outputEl) {{\n",
       "    x.observe(outputEl, {childList: true});\n",
       "}}\n",
       "\n",
       "                        })\n",
       "                };\n",
       "                });\n",
       "            </script>\n",
       "        </div>"
      ]
     },
     "metadata": {},
     "output_type": "display_data"
    }
   ],
   "source": [
    "colors = ['grey', 'navyblue', 'greenyellow']\n",
    "names=['Deceased_Cases','Active Cases','Recovered Cases']\n",
    "pie_graph=go.Pie(values=[df['Deceased_Cases'].sum(),df['Active_Cases'].sum(),df['Recovered_Cases'].sum()],labels=names,\n",
    "                         hole=.2)\n",
    "layout=go.Layout(title='COVID-19 Donut chart',)\n",
    "figure=go.Figure(data=pie_graph,layout=layout)\n",
    "figure.update_traces(textinfo='percent+label',textfont_size=18,marker=dict(colors=colors,line=dict(color='#000000',width=4)))\n",
    "figure.show()"
   ]
  },
  {
   "cell_type": "markdown",
   "metadata": {},
   "source": [
    "#### The output is shown in the covid19_project.pdf as the plotly output is not supported in github"
   ]
  },
  {
   "cell_type": "markdown",
   "metadata": {},
   "source": [
    "Currently, the recovery percentage is more than the Active and Deceased percentage."
   ]
  },
  {
   "cell_type": "markdown",
   "metadata": {},
   "source": [
    "## STATE wise COVID-19 Cases"
   ]
  },
  {
   "cell_type": "markdown",
   "metadata": {},
   "source": [
    "So, now we will see COVID-19 cases state wise which will help us to find the total number of cases in each state."
   ]
  },
  {
   "cell_type": "code",
   "execution_count": 47,
   "metadata": {},
   "outputs": [
    {
     "data": {
      "text/html": [
       "<div>\n",
       "<style scoped>\n",
       "    .dataframe tbody tr th:only-of-type {\n",
       "        vertical-align: middle;\n",
       "    }\n",
       "\n",
       "    .dataframe tbody tr th {\n",
       "        vertical-align: top;\n",
       "    }\n",
       "\n",
       "    .dataframe thead th {\n",
       "        text-align: right;\n",
       "    }\n",
       "</style>\n",
       "<table border=\"1\" class=\"dataframe\">\n",
       "  <thead>\n",
       "    <tr style=\"text-align: right;\">\n",
       "      <th></th>\n",
       "      <th>Confirmed Cases</th>\n",
       "      <th>Recovered Cases</th>\n",
       "      <th>Deceased Cases</th>\n",
       "      <th>Active Cases</th>\n",
       "      <th>Recovered Ratio(in %)</th>\n",
       "      <th>Active Ratio(in %)</th>\n",
       "      <th>Deceased Ratio(in %)</th>\n",
       "    </tr>\n",
       "    <tr>\n",
       "      <th>State</th>\n",
       "      <th></th>\n",
       "      <th></th>\n",
       "      <th></th>\n",
       "      <th></th>\n",
       "      <th></th>\n",
       "      <th></th>\n",
       "      <th></th>\n",
       "    </tr>\n",
       "  </thead>\n",
       "  <tbody>\n",
       "    <tr>\n",
       "      <th>Maharashtra</th>\n",
       "      <td>780689</td>\n",
       "      <td>562401</td>\n",
       "      <td>24398</td>\n",
       "      <td>193890</td>\n",
       "      <td>72.0</td>\n",
       "      <td>24.8</td>\n",
       "      <td>3.1</td>\n",
       "    </tr>\n",
       "    <tr>\n",
       "      <th>Andhra Pradesh</th>\n",
       "      <td>424767</td>\n",
       "      <td>321754</td>\n",
       "      <td>3884</td>\n",
       "      <td>99129</td>\n",
       "      <td>75.7</td>\n",
       "      <td>23.3</td>\n",
       "      <td>0.9</td>\n",
       "    </tr>\n",
       "    <tr>\n",
       "      <th>Tamil Nadu</th>\n",
       "      <td>422085</td>\n",
       "      <td>362133</td>\n",
       "      <td>7231</td>\n",
       "      <td>52721</td>\n",
       "      <td>85.8</td>\n",
       "      <td>12.5</td>\n",
       "      <td>1.7</td>\n",
       "    </tr>\n",
       "    <tr>\n",
       "      <th>Karnataka</th>\n",
       "      <td>335928</td>\n",
       "      <td>242230</td>\n",
       "      <td>5596</td>\n",
       "      <td>88102</td>\n",
       "      <td>72.1</td>\n",
       "      <td>26.2</td>\n",
       "      <td>1.7</td>\n",
       "    </tr>\n",
       "    <tr>\n",
       "      <th>Uttar Pradesh</th>\n",
       "      <td>225632</td>\n",
       "      <td>167543</td>\n",
       "      <td>3423</td>\n",
       "      <td>54666</td>\n",
       "      <td>74.3</td>\n",
       "      <td>24.2</td>\n",
       "      <td>1.5</td>\n",
       "    </tr>\n",
       "    <tr>\n",
       "      <th>Delhi</th>\n",
       "      <td>173390</td>\n",
       "      <td>154171</td>\n",
       "      <td>4426</td>\n",
       "      <td>14793</td>\n",
       "      <td>88.9</td>\n",
       "      <td>8.5</td>\n",
       "      <td>2.6</td>\n",
       "    </tr>\n",
       "    <tr>\n",
       "      <th>West Bengal</th>\n",
       "      <td>159785</td>\n",
       "      <td>130952</td>\n",
       "      <td>3176</td>\n",
       "      <td>25657</td>\n",
       "      <td>82.0</td>\n",
       "      <td>16.1</td>\n",
       "      <td>2.0</td>\n",
       "    </tr>\n",
       "    <tr>\n",
       "      <th>Bihar</th>\n",
       "      <td>135013</td>\n",
       "      <td>117305</td>\n",
       "      <td>688</td>\n",
       "      <td>17020</td>\n",
       "      <td>86.9</td>\n",
       "      <td>12.6</td>\n",
       "      <td>0.5</td>\n",
       "    </tr>\n",
       "    <tr>\n",
       "      <th>Telegana</th>\n",
       "      <td>122580</td>\n",
       "      <td>90988</td>\n",
       "      <td>818</td>\n",
       "      <td>30774</td>\n",
       "      <td>74.2</td>\n",
       "      <td>25.1</td>\n",
       "      <td>0.7</td>\n",
       "    </tr>\n",
       "    <tr>\n",
       "      <th>Assam</th>\n",
       "      <td>105673</td>\n",
       "      <td>83928</td>\n",
       "      <td>300</td>\n",
       "      <td>21445</td>\n",
       "      <td>79.4</td>\n",
       "      <td>20.3</td>\n",
       "      <td>0.3</td>\n",
       "    </tr>\n",
       "    <tr>\n",
       "      <th>Orissa</th>\n",
       "      <td>100934</td>\n",
       "      <td>73233</td>\n",
       "      <td>535</td>\n",
       "      <td>27166</td>\n",
       "      <td>72.6</td>\n",
       "      <td>26.9</td>\n",
       "      <td>0.5</td>\n",
       "    </tr>\n",
       "    <tr>\n",
       "      <th>Gujarat</th>\n",
       "      <td>95155</td>\n",
       "      <td>76858</td>\n",
       "      <td>3007</td>\n",
       "      <td>15290</td>\n",
       "      <td>80.8</td>\n",
       "      <td>16.1</td>\n",
       "      <td>3.2</td>\n",
       "    </tr>\n",
       "    <tr>\n",
       "      <th>Rajasthan</th>\n",
       "      <td>80227</td>\n",
       "      <td>65093</td>\n",
       "      <td>1043</td>\n",
       "      <td>14091</td>\n",
       "      <td>81.1</td>\n",
       "      <td>17.6</td>\n",
       "      <td>1.3</td>\n",
       "    </tr>\n",
       "    <tr>\n",
       "      <th>Kerela</th>\n",
       "      <td>73855</td>\n",
       "      <td>49844</td>\n",
       "      <td>288</td>\n",
       "      <td>23723</td>\n",
       "      <td>67.5</td>\n",
       "      <td>32.1</td>\n",
       "      <td>0.4</td>\n",
       "    </tr>\n",
       "    <tr>\n",
       "      <th>Haryana</th>\n",
       "      <td>63282</td>\n",
       "      <td>51619</td>\n",
       "      <td>682</td>\n",
       "      <td>10981</td>\n",
       "      <td>81.6</td>\n",
       "      <td>17.4</td>\n",
       "      <td>1.1</td>\n",
       "    </tr>\n",
       "    <tr>\n",
       "      <th>Madhya Pradesh</th>\n",
       "      <td>62433</td>\n",
       "      <td>47467</td>\n",
       "      <td>1375</td>\n",
       "      <td>13591</td>\n",
       "      <td>76.0</td>\n",
       "      <td>21.8</td>\n",
       "      <td>2.2</td>\n",
       "    </tr>\n",
       "    <tr>\n",
       "      <th>Punjab</th>\n",
       "      <td>52526</td>\n",
       "      <td>35747</td>\n",
       "      <td>1404</td>\n",
       "      <td>15375</td>\n",
       "      <td>68.1</td>\n",
       "      <td>29.3</td>\n",
       "      <td>2.7</td>\n",
       "    </tr>\n",
       "    <tr>\n",
       "      <th>JH</th>\n",
       "      <td>38410</td>\n",
       "      <td>26448</td>\n",
       "      <td>410</td>\n",
       "      <td>11552</td>\n",
       "      <td>68.9</td>\n",
       "      <td>30.1</td>\n",
       "      <td>1.1</td>\n",
       "    </tr>\n",
       "    <tr>\n",
       "      <th>Jammu And Kashmir</th>\n",
       "      <td>37163</td>\n",
       "      <td>28510</td>\n",
       "      <td>694</td>\n",
       "      <td>7959</td>\n",
       "      <td>76.7</td>\n",
       "      <td>21.4</td>\n",
       "      <td>1.9</td>\n",
       "    </tr>\n",
       "    <tr>\n",
       "      <th>Chattisgarh</th>\n",
       "      <td>30092</td>\n",
       "      <td>16303</td>\n",
       "      <td>269</td>\n",
       "      <td>13520</td>\n",
       "      <td>54.2</td>\n",
       "      <td>44.9</td>\n",
       "      <td>0.9</td>\n",
       "    </tr>\n",
       "    <tr>\n",
       "      <th>Uttarakhand</th>\n",
       "      <td>19235</td>\n",
       "      <td>13004</td>\n",
       "      <td>257</td>\n",
       "      <td>5974</td>\n",
       "      <td>67.6</td>\n",
       "      <td>31.1</td>\n",
       "      <td>1.3</td>\n",
       "    </tr>\n",
       "    <tr>\n",
       "      <th>Goa</th>\n",
       "      <td>17004</td>\n",
       "      <td>13186</td>\n",
       "      <td>183</td>\n",
       "      <td>3635</td>\n",
       "      <td>77.5</td>\n",
       "      <td>21.4</td>\n",
       "      <td>1.1</td>\n",
       "    </tr>\n",
       "    <tr>\n",
       "      <th>Puducherry</th>\n",
       "      <td>13601</td>\n",
       "      <td>8968</td>\n",
       "      <td>221</td>\n",
       "      <td>4412</td>\n",
       "      <td>65.9</td>\n",
       "      <td>32.4</td>\n",
       "      <td>1.6</td>\n",
       "    </tr>\n",
       "    <tr>\n",
       "      <th>Tripura</th>\n",
       "      <td>11323</td>\n",
       "      <td>7232</td>\n",
       "      <td>98</td>\n",
       "      <td>3993</td>\n",
       "      <td>63.9</td>\n",
       "      <td>35.3</td>\n",
       "      <td>0.9</td>\n",
       "    </tr>\n",
       "    <tr>\n",
       "      <th>Manipur</th>\n",
       "      <td>6112</td>\n",
       "      <td>4239</td>\n",
       "      <td>28</td>\n",
       "      <td>1845</td>\n",
       "      <td>69.4</td>\n",
       "      <td>30.2</td>\n",
       "      <td>0.5</td>\n",
       "    </tr>\n",
       "    <tr>\n",
       "      <th>Himachal Pradesh</th>\n",
       "      <td>5945</td>\n",
       "      <td>4409</td>\n",
       "      <td>34</td>\n",
       "      <td>1502</td>\n",
       "      <td>74.2</td>\n",
       "      <td>25.3</td>\n",
       "      <td>0.6</td>\n",
       "    </tr>\n",
       "    <tr>\n",
       "      <th>Chandigarh</th>\n",
       "      <td>4155</td>\n",
       "      <td>2296</td>\n",
       "      <td>52</td>\n",
       "      <td>1807</td>\n",
       "      <td>55.3</td>\n",
       "      <td>43.5</td>\n",
       "      <td>1.3</td>\n",
       "    </tr>\n",
       "    <tr>\n",
       "      <th>Arunachal Pradesh</th>\n",
       "      <td>4034</td>\n",
       "      <td>2822</td>\n",
       "      <td>7</td>\n",
       "      <td>1205</td>\n",
       "      <td>70.0</td>\n",
       "      <td>29.9</td>\n",
       "      <td>0.2</td>\n",
       "    </tr>\n",
       "    <tr>\n",
       "      <th>Nagaland</th>\n",
       "      <td>3922</td>\n",
       "      <td>3017</td>\n",
       "      <td>8</td>\n",
       "      <td>897</td>\n",
       "      <td>76.9</td>\n",
       "      <td>22.9</td>\n",
       "      <td>0.2</td>\n",
       "    </tr>\n",
       "    <tr>\n",
       "      <th>Andaman Nicobar</th>\n",
       "      <td>3100</td>\n",
       "      <td>2577</td>\n",
       "      <td>45</td>\n",
       "      <td>478</td>\n",
       "      <td>83.1</td>\n",
       "      <td>15.4</td>\n",
       "      <td>1.5</td>\n",
       "    </tr>\n",
       "    <tr>\n",
       "      <th>Ladakh</th>\n",
       "      <td>2638</td>\n",
       "      <td>1757</td>\n",
       "      <td>34</td>\n",
       "      <td>847</td>\n",
       "      <td>66.6</td>\n",
       "      <td>32.1</td>\n",
       "      <td>1.3</td>\n",
       "    </tr>\n",
       "    <tr>\n",
       "      <th>Meghalaya</th>\n",
       "      <td>2343</td>\n",
       "      <td>1049</td>\n",
       "      <td>10</td>\n",
       "      <td>1284</td>\n",
       "      <td>44.8</td>\n",
       "      <td>54.8</td>\n",
       "      <td>0.4</td>\n",
       "    </tr>\n",
       "    <tr>\n",
       "      <th>DN</th>\n",
       "      <td>2342</td>\n",
       "      <td>2042</td>\n",
       "      <td>2</td>\n",
       "      <td>298</td>\n",
       "      <td>87.2</td>\n",
       "      <td>12.7</td>\n",
       "      <td>0.1</td>\n",
       "    </tr>\n",
       "    <tr>\n",
       "      <th>Sikkim</th>\n",
       "      <td>1615</td>\n",
       "      <td>1196</td>\n",
       "      <td>3</td>\n",
       "      <td>416</td>\n",
       "      <td>74.1</td>\n",
       "      <td>25.8</td>\n",
       "      <td>0.2</td>\n",
       "    </tr>\n",
       "    <tr>\n",
       "      <th>Mizoram</th>\n",
       "      <td>1008</td>\n",
       "      <td>589</td>\n",
       "      <td>0</td>\n",
       "      <td>419</td>\n",
       "      <td>58.4</td>\n",
       "      <td>41.6</td>\n",
       "      <td>0.0</td>\n",
       "    </tr>\n",
       "    <tr>\n",
       "      <th>LD</th>\n",
       "      <td>0</td>\n",
       "      <td>0</td>\n",
       "      <td>0</td>\n",
       "      <td>0</td>\n",
       "      <td>0.0</td>\n",
       "      <td>0.0</td>\n",
       "      <td>0.0</td>\n",
       "    </tr>\n",
       "    <tr>\n",
       "      <th>Daman &amp; Diu</th>\n",
       "      <td>0</td>\n",
       "      <td>0</td>\n",
       "      <td>0</td>\n",
       "      <td>0</td>\n",
       "      <td>0.0</td>\n",
       "      <td>0.0</td>\n",
       "      <td>0.0</td>\n",
       "    </tr>\n",
       "  </tbody>\n",
       "</table>\n",
       "</div>"
      ],
      "text/plain": [
       "                   Confirmed Cases  Recovered Cases  Deceased Cases  \\\n",
       "State                                                                 \n",
       "Maharashtra                 780689           562401           24398   \n",
       "Andhra Pradesh              424767           321754            3884   \n",
       "Tamil Nadu                  422085           362133            7231   \n",
       "Karnataka                   335928           242230            5596   \n",
       "Uttar Pradesh               225632           167543            3423   \n",
       "Delhi                       173390           154171            4426   \n",
       "West Bengal                 159785           130952            3176   \n",
       "Bihar                       135013           117305             688   \n",
       "Telegana                    122580            90988             818   \n",
       "Assam                       105673            83928             300   \n",
       "Orissa                      100934            73233             535   \n",
       "Gujarat                      95155            76858            3007   \n",
       "Rajasthan                    80227            65093            1043   \n",
       "Kerela                       73855            49844             288   \n",
       "Haryana                      63282            51619             682   \n",
       "Madhya Pradesh               62433            47467            1375   \n",
       "Punjab                       52526            35747            1404   \n",
       "JH                           38410            26448             410   \n",
       "Jammu And Kashmir            37163            28510             694   \n",
       "Chattisgarh                  30092            16303             269   \n",
       "Uttarakhand                  19235            13004             257   \n",
       "Goa                          17004            13186             183   \n",
       "Puducherry                   13601             8968             221   \n",
       "Tripura                      11323             7232              98   \n",
       "Manipur                       6112             4239              28   \n",
       "Himachal Pradesh              5945             4409              34   \n",
       "Chandigarh                    4155             2296              52   \n",
       "Arunachal Pradesh             4034             2822               7   \n",
       "Nagaland                      3922             3017               8   \n",
       "Andaman Nicobar               3100             2577              45   \n",
       "Ladakh                        2638             1757              34   \n",
       "Meghalaya                     2343             1049              10   \n",
       "DN                            2342             2042               2   \n",
       "Sikkim                        1615             1196               3   \n",
       "Mizoram                       1008              589               0   \n",
       "LD                               0                0               0   \n",
       "Daman & Diu                      0                0               0   \n",
       "\n",
       "                   Active Cases  Recovered Ratio(in %)  Active Ratio(in %)  \\\n",
       "State                                                                        \n",
       "Maharashtra              193890                   72.0                24.8   \n",
       "Andhra Pradesh            99129                   75.7                23.3   \n",
       "Tamil Nadu                52721                   85.8                12.5   \n",
       "Karnataka                 88102                   72.1                26.2   \n",
       "Uttar Pradesh             54666                   74.3                24.2   \n",
       "Delhi                     14793                   88.9                 8.5   \n",
       "West Bengal               25657                   82.0                16.1   \n",
       "Bihar                     17020                   86.9                12.6   \n",
       "Telegana                  30774                   74.2                25.1   \n",
       "Assam                     21445                   79.4                20.3   \n",
       "Orissa                    27166                   72.6                26.9   \n",
       "Gujarat                   15290                   80.8                16.1   \n",
       "Rajasthan                 14091                   81.1                17.6   \n",
       "Kerela                    23723                   67.5                32.1   \n",
       "Haryana                   10981                   81.6                17.4   \n",
       "Madhya Pradesh            13591                   76.0                21.8   \n",
       "Punjab                    15375                   68.1                29.3   \n",
       "JH                        11552                   68.9                30.1   \n",
       "Jammu And Kashmir          7959                   76.7                21.4   \n",
       "Chattisgarh               13520                   54.2                44.9   \n",
       "Uttarakhand                5974                   67.6                31.1   \n",
       "Goa                        3635                   77.5                21.4   \n",
       "Puducherry                 4412                   65.9                32.4   \n",
       "Tripura                    3993                   63.9                35.3   \n",
       "Manipur                    1845                   69.4                30.2   \n",
       "Himachal Pradesh           1502                   74.2                25.3   \n",
       "Chandigarh                 1807                   55.3                43.5   \n",
       "Arunachal Pradesh          1205                   70.0                29.9   \n",
       "Nagaland                    897                   76.9                22.9   \n",
       "Andaman Nicobar             478                   83.1                15.4   \n",
       "Ladakh                      847                   66.6                32.1   \n",
       "Meghalaya                  1284                   44.8                54.8   \n",
       "DN                          298                   87.2                12.7   \n",
       "Sikkim                      416                   74.1                25.8   \n",
       "Mizoram                     419                   58.4                41.6   \n",
       "LD                            0                    0.0                 0.0   \n",
       "Daman & Diu                   0                    0.0                 0.0   \n",
       "\n",
       "                   Deceased Ratio(in %)  \n",
       "State                                    \n",
       "Maharashtra                         3.1  \n",
       "Andhra Pradesh                      0.9  \n",
       "Tamil Nadu                          1.7  \n",
       "Karnataka                           1.7  \n",
       "Uttar Pradesh                       1.5  \n",
       "Delhi                               2.6  \n",
       "West Bengal                         2.0  \n",
       "Bihar                               0.5  \n",
       "Telegana                            0.7  \n",
       "Assam                               0.3  \n",
       "Orissa                              0.5  \n",
       "Gujarat                             3.2  \n",
       "Rajasthan                           1.3  \n",
       "Kerela                              0.4  \n",
       "Haryana                             1.1  \n",
       "Madhya Pradesh                      2.2  \n",
       "Punjab                              2.7  \n",
       "JH                                  1.1  \n",
       "Jammu And Kashmir                   1.9  \n",
       "Chattisgarh                         0.9  \n",
       "Uttarakhand                         1.3  \n",
       "Goa                                 1.1  \n",
       "Puducherry                          1.6  \n",
       "Tripura                             0.9  \n",
       "Manipur                             0.5  \n",
       "Himachal Pradesh                    0.6  \n",
       "Chandigarh                          1.3  \n",
       "Arunachal Pradesh                   0.2  \n",
       "Nagaland                            0.2  \n",
       "Andaman Nicobar                     1.5  \n",
       "Ladakh                              1.3  \n",
       "Meghalaya                           0.4  \n",
       "DN                                  0.1  \n",
       "Sikkim                              0.2  \n",
       "Mizoram                             0.0  \n",
       "LD                                  0.0  \n",
       "Daman & Diu                         0.0  "
      ]
     },
     "execution_count": 47,
     "metadata": {},
     "output_type": "execute_result"
    }
   ],
   "source": [
    "state_df = pd.read_csv('https://api.covid19india.org/csv/latest/state_wise_daily.csv')\n",
    "state_df['Date'] = state_df.Date.apply(lambda x: pd.to_datetime(x).strftime('%d-%m-%Y'))\n",
    "state_df.rename(columns={'AN': 'Andaman Nicobar', 'AP': 'Andhra Pradesh', 'AR': 'Arunachal Pradesh', 'AS': 'Assam',\n",
    "                             'BR': 'Bihar', 'CH': 'Chandigarh', 'CT': 'Chattisgarh', 'DD': 'Daman & Diu', 'DL': 'Delhi',\n",
    "                             'GA': 'Goa', 'GJ': 'Gujarat',\n",
    "                             'HR': 'Haryana', 'HP': 'Himachal Pradesh', 'JK': 'Jammu And Kashmir', 'KA': 'Karnataka',\n",
    "                             'KL': 'Kerela',\n",
    "                             'LA': 'Ladakh', 'MP': 'Madhya Pradesh', 'MH': 'Maharashtra', 'MN': 'Manipur',\n",
    "                             'ML': 'Meghalaya',\n",
    "                             'MZ': 'Mizoram', 'NL': 'Nagaland', 'OR': 'Orissa', 'PY': 'Puducherry', 'PB': 'Punjab',\n",
    "                             'RJ': 'Rajasthan',\n",
    "                             'SK': 'Sikkim', 'TN': 'Tamil Nadu', 'TG': 'Telegana', 'TR': 'Tripura',\n",
    "                             'UP': 'Uttar Pradesh',\n",
    "                             'UT': 'Uttarakhand',\n",
    "                             'WB': 'West Bengal', 'TT': 'Total'}, inplace=True)\n",
    "\n",
    "top_affected=state_df.loc[state_df['Status']=='Confirmed']\n",
    "top_affected=top_affected.iloc[:,3:-1]\n",
    "top_affected=top_affected.reset_index()\n",
    "top_affected.drop(['index'],axis=1,inplace=True)\n",
    "confirmed=top_affected.sum(axis=0)\n",
    "confirmed_df=pd.DataFrame(confirmed,columns=['Confirmed Cases'])\n",
    "\n",
    "recovered_state=state_df.loc[state_df['Status']=='Recovered']\n",
    "recovered_state=recovered_state.iloc[:,3:-1]\n",
    "recovered_state=recovered_state.reset_index()\n",
    "recovered_state.drop(['index'],axis=1,inplace=True)\n",
    "recovered=recovered_state.sum(axis=0)\n",
    "recovered_df=pd.DataFrame(recovered,columns=['Recovered Cases'])\n",
    "\n",
    "final_part1=confirmed_df.merge(recovered_df,left_index=True,right_index=True)\n",
    "\n",
    "deceased_state = state_df.loc[state_df['Status'] == 'Deceased']\n",
    "deceased_state = deceased_state.iloc[:, 3:-1]\n",
    "deceased_state = deceased_state.reset_index()\n",
    "deceased_state.drop(['index'], axis=1, inplace=True)\n",
    "deceased = deceased_state.sum(axis=0)\n",
    "deceased_df = pd.DataFrame(deceased, columns=['Deceased Cases'])\n",
    "\n",
    "final_df=final_part1.merge(deceased_df,left_index=True,right_index=True)\n",
    "final_df['Active Cases']=final_df['Confirmed Cases']-(final_df['Recovered Cases']+final_df['Deceased Cases'])\n",
    "final_df.index.name='State'\n",
    "final_df1=final_df.sort_values(by='Confirmed Cases',ascending=False)\n",
    "final_df1['Recovered Ratio(in %)']=(final_df1['Recovered Cases']/final_df1['Confirmed Cases'])*100\n",
    "final_df1['Active Ratio(in %)']=(final_df1['Active Cases']/final_df1['Confirmed Cases'])*100\n",
    "final_df1['Deceased Ratio(in %)']=(final_df1['Deceased Cases']/final_df1['Confirmed Cases'])*100\n",
    "final_df1=final_df1.rename(columns={'JH':'Jharkhand'})\n",
    "final_df1.replace(np.nan,0,inplace=True)\n",
    "\n",
    "\n",
    "final_df1"
   ]
  },
  {
   "cell_type": "markdown",
   "metadata": {},
   "source": [
    "Now, you can view how much case a State has as compared to other states by viewing the itensity of the color in the\n",
    "dataframe. Darker the cell, the higher value of the cases in that State. "
   ]
  },
  {
   "cell_type": "markdown",
   "metadata": {},
   "source": [
    "## Confirmed Cases"
   ]
  },
  {
   "cell_type": "code",
   "execution_count": 57,
   "metadata": {},
   "outputs": [
    {
     "data": {
      "text/html": [
       "<style  type=\"text/css\" >\n",
       "    #T_3fdebb36_eb9a_11ea_bfeb_c0b8831c46barow0_col0 {\n",
       "            background-color:  #67000d;\n",
       "            color:  #f1f1f1;\n",
       "        }    #T_3fdebb36_eb9a_11ea_bfeb_c0b8831c46barow1_col0 {\n",
       "            background-color:  #f7593f;\n",
       "            color:  #000000;\n",
       "        }    #T_3fdebb36_eb9a_11ea_bfeb_c0b8831c46barow2_col0 {\n",
       "            background-color:  #f75b40;\n",
       "            color:  #000000;\n",
       "        }    #T_3fdebb36_eb9a_11ea_bfeb_c0b8831c46barow3_col0 {\n",
       "            background-color:  #fc8060;\n",
       "            color:  #000000;\n",
       "        }    #T_3fdebb36_eb9a_11ea_bfeb_c0b8831c46barow4_col0 {\n",
       "            background-color:  #fcaf93;\n",
       "            color:  #000000;\n",
       "        }    #T_3fdebb36_eb9a_11ea_bfeb_c0b8831c46barow5_col0 {\n",
       "            background-color:  #fcc4ad;\n",
       "            color:  #000000;\n",
       "        }    #T_3fdebb36_eb9a_11ea_bfeb_c0b8831c46barow6_col0 {\n",
       "            background-color:  #fdc9b3;\n",
       "            color:  #000000;\n",
       "        }    #T_3fdebb36_eb9a_11ea_bfeb_c0b8831c46barow7_col0 {\n",
       "            background-color:  #fdd2bf;\n",
       "            color:  #000000;\n",
       "        }    #T_3fdebb36_eb9a_11ea_bfeb_c0b8831c46barow8_col0 {\n",
       "            background-color:  #fdd7c6;\n",
       "            color:  #000000;\n",
       "        }    #T_3fdebb36_eb9a_11ea_bfeb_c0b8831c46barow9_col0 {\n",
       "            background-color:  #fedecf;\n",
       "            color:  #000000;\n",
       "        }    #T_3fdebb36_eb9a_11ea_bfeb_c0b8831c46barow10_col0 {\n",
       "            background-color:  #fedfd0;\n",
       "            color:  #000000;\n",
       "        }    #T_3fdebb36_eb9a_11ea_bfeb_c0b8831c46barow11_col0 {\n",
       "            background-color:  #fee1d3;\n",
       "            color:  #000000;\n",
       "        }    #T_3fdebb36_eb9a_11ea_bfeb_c0b8831c46barow12_col0 {\n",
       "            background-color:  #fee4d8;\n",
       "            color:  #000000;\n",
       "        }    #T_3fdebb36_eb9a_11ea_bfeb_c0b8831c46barow13_col0 {\n",
       "            background-color:  #fee5d9;\n",
       "            color:  #000000;\n",
       "        }    #T_3fdebb36_eb9a_11ea_bfeb_c0b8831c46barow14_col0 {\n",
       "            background-color:  #fee8dd;\n",
       "            color:  #000000;\n",
       "        }    #T_3fdebb36_eb9a_11ea_bfeb_c0b8831c46barow15_col0 {\n",
       "            background-color:  #fee8dd;\n",
       "            color:  #000000;\n",
       "        }    #T_3fdebb36_eb9a_11ea_bfeb_c0b8831c46barow16_col0 {\n",
       "            background-color:  #feeae0;\n",
       "            color:  #000000;\n",
       "        }    #T_3fdebb36_eb9a_11ea_bfeb_c0b8831c46barow17_col0 {\n",
       "            background-color:  #ffede5;\n",
       "            color:  #000000;\n",
       "        }    #T_3fdebb36_eb9a_11ea_bfeb_c0b8831c46barow18_col0 {\n",
       "            background-color:  #ffede5;\n",
       "            color:  #000000;\n",
       "        }    #T_3fdebb36_eb9a_11ea_bfeb_c0b8831c46barow19_col0 {\n",
       "            background-color:  #ffefe8;\n",
       "            color:  #000000;\n",
       "        }    #T_3fdebb36_eb9a_11ea_bfeb_c0b8831c46barow20_col0 {\n",
       "            background-color:  #fff1ea;\n",
       "            color:  #000000;\n",
       "        }    #T_3fdebb36_eb9a_11ea_bfeb_c0b8831c46barow21_col0 {\n",
       "            background-color:  #fff2eb;\n",
       "            color:  #000000;\n",
       "        }    #T_3fdebb36_eb9a_11ea_bfeb_c0b8831c46barow22_col0 {\n",
       "            background-color:  #fff2ec;\n",
       "            color:  #000000;\n",
       "        }    #T_3fdebb36_eb9a_11ea_bfeb_c0b8831c46barow23_col0 {\n",
       "            background-color:  #fff3ed;\n",
       "            color:  #000000;\n",
       "        }    #T_3fdebb36_eb9a_11ea_bfeb_c0b8831c46barow24_col0 {\n",
       "            background-color:  #fff4ee;\n",
       "            color:  #000000;\n",
       "        }    #T_3fdebb36_eb9a_11ea_bfeb_c0b8831c46barow25_col0 {\n",
       "            background-color:  #fff4ef;\n",
       "            color:  #000000;\n",
       "        }    #T_3fdebb36_eb9a_11ea_bfeb_c0b8831c46barow26_col0 {\n",
       "            background-color:  #fff4ef;\n",
       "            color:  #000000;\n",
       "        }    #T_3fdebb36_eb9a_11ea_bfeb_c0b8831c46barow27_col0 {\n",
       "            background-color:  #fff4ef;\n",
       "            color:  #000000;\n",
       "        }    #T_3fdebb36_eb9a_11ea_bfeb_c0b8831c46barow28_col0 {\n",
       "            background-color:  #fff4ef;\n",
       "            color:  #000000;\n",
       "        }    #T_3fdebb36_eb9a_11ea_bfeb_c0b8831c46barow29_col0 {\n",
       "            background-color:  #fff4ef;\n",
       "            color:  #000000;\n",
       "        }    #T_3fdebb36_eb9a_11ea_bfeb_c0b8831c46barow30_col0 {\n",
       "            background-color:  #fff5f0;\n",
       "            color:  #000000;\n",
       "        }    #T_3fdebb36_eb9a_11ea_bfeb_c0b8831c46barow31_col0 {\n",
       "            background-color:  #fff5f0;\n",
       "            color:  #000000;\n",
       "        }    #T_3fdebb36_eb9a_11ea_bfeb_c0b8831c46barow32_col0 {\n",
       "            background-color:  #fff5f0;\n",
       "            color:  #000000;\n",
       "        }    #T_3fdebb36_eb9a_11ea_bfeb_c0b8831c46barow33_col0 {\n",
       "            background-color:  #fff5f0;\n",
       "            color:  #000000;\n",
       "        }    #T_3fdebb36_eb9a_11ea_bfeb_c0b8831c46barow34_col0 {\n",
       "            background-color:  #fff5f0;\n",
       "            color:  #000000;\n",
       "        }    #T_3fdebb36_eb9a_11ea_bfeb_c0b8831c46barow35_col0 {\n",
       "            background-color:  #fff5f0;\n",
       "            color:  #000000;\n",
       "        }    #T_3fdebb36_eb9a_11ea_bfeb_c0b8831c46barow36_col0 {\n",
       "            background-color:  #fff5f0;\n",
       "            color:  #000000;\n",
       "        }</style><table id=\"T_3fdebb36_eb9a_11ea_bfeb_c0b8831c46ba\" ><thead>    <tr>        <th class=\"blank level0\" ></th>        <th class=\"col_heading level0 col0\" >Confirmed Cases</th>    </tr>    <tr>        <th class=\"index_name level0\" >State</th>        <th class=\"blank\" ></th>    </tr></thead><tbody>\n",
       "                <tr>\n",
       "                        <th id=\"T_3fdebb36_eb9a_11ea_bfeb_c0b8831c46balevel0_row0\" class=\"row_heading level0 row0\" >Maharashtra</th>\n",
       "                        <td id=\"T_3fdebb36_eb9a_11ea_bfeb_c0b8831c46barow0_col0\" class=\"data row0 col0\" >780689</td>\n",
       "            </tr>\n",
       "            <tr>\n",
       "                        <th id=\"T_3fdebb36_eb9a_11ea_bfeb_c0b8831c46balevel0_row1\" class=\"row_heading level0 row1\" >Andhra Pradesh</th>\n",
       "                        <td id=\"T_3fdebb36_eb9a_11ea_bfeb_c0b8831c46barow1_col0\" class=\"data row1 col0\" >424767</td>\n",
       "            </tr>\n",
       "            <tr>\n",
       "                        <th id=\"T_3fdebb36_eb9a_11ea_bfeb_c0b8831c46balevel0_row2\" class=\"row_heading level0 row2\" >Tamil Nadu</th>\n",
       "                        <td id=\"T_3fdebb36_eb9a_11ea_bfeb_c0b8831c46barow2_col0\" class=\"data row2 col0\" >422085</td>\n",
       "            </tr>\n",
       "            <tr>\n",
       "                        <th id=\"T_3fdebb36_eb9a_11ea_bfeb_c0b8831c46balevel0_row3\" class=\"row_heading level0 row3\" >Karnataka</th>\n",
       "                        <td id=\"T_3fdebb36_eb9a_11ea_bfeb_c0b8831c46barow3_col0\" class=\"data row3 col0\" >335928</td>\n",
       "            </tr>\n",
       "            <tr>\n",
       "                        <th id=\"T_3fdebb36_eb9a_11ea_bfeb_c0b8831c46balevel0_row4\" class=\"row_heading level0 row4\" >Uttar Pradesh</th>\n",
       "                        <td id=\"T_3fdebb36_eb9a_11ea_bfeb_c0b8831c46barow4_col0\" class=\"data row4 col0\" >225632</td>\n",
       "            </tr>\n",
       "            <tr>\n",
       "                        <th id=\"T_3fdebb36_eb9a_11ea_bfeb_c0b8831c46balevel0_row5\" class=\"row_heading level0 row5\" >Delhi</th>\n",
       "                        <td id=\"T_3fdebb36_eb9a_11ea_bfeb_c0b8831c46barow5_col0\" class=\"data row5 col0\" >173390</td>\n",
       "            </tr>\n",
       "            <tr>\n",
       "                        <th id=\"T_3fdebb36_eb9a_11ea_bfeb_c0b8831c46balevel0_row6\" class=\"row_heading level0 row6\" >West Bengal</th>\n",
       "                        <td id=\"T_3fdebb36_eb9a_11ea_bfeb_c0b8831c46barow6_col0\" class=\"data row6 col0\" >159785</td>\n",
       "            </tr>\n",
       "            <tr>\n",
       "                        <th id=\"T_3fdebb36_eb9a_11ea_bfeb_c0b8831c46balevel0_row7\" class=\"row_heading level0 row7\" >Bihar</th>\n",
       "                        <td id=\"T_3fdebb36_eb9a_11ea_bfeb_c0b8831c46barow7_col0\" class=\"data row7 col0\" >135013</td>\n",
       "            </tr>\n",
       "            <tr>\n",
       "                        <th id=\"T_3fdebb36_eb9a_11ea_bfeb_c0b8831c46balevel0_row8\" class=\"row_heading level0 row8\" >Telegana</th>\n",
       "                        <td id=\"T_3fdebb36_eb9a_11ea_bfeb_c0b8831c46barow8_col0\" class=\"data row8 col0\" >122580</td>\n",
       "            </tr>\n",
       "            <tr>\n",
       "                        <th id=\"T_3fdebb36_eb9a_11ea_bfeb_c0b8831c46balevel0_row9\" class=\"row_heading level0 row9\" >Assam</th>\n",
       "                        <td id=\"T_3fdebb36_eb9a_11ea_bfeb_c0b8831c46barow9_col0\" class=\"data row9 col0\" >105673</td>\n",
       "            </tr>\n",
       "            <tr>\n",
       "                        <th id=\"T_3fdebb36_eb9a_11ea_bfeb_c0b8831c46balevel0_row10\" class=\"row_heading level0 row10\" >Orissa</th>\n",
       "                        <td id=\"T_3fdebb36_eb9a_11ea_bfeb_c0b8831c46barow10_col0\" class=\"data row10 col0\" >100934</td>\n",
       "            </tr>\n",
       "            <tr>\n",
       "                        <th id=\"T_3fdebb36_eb9a_11ea_bfeb_c0b8831c46balevel0_row11\" class=\"row_heading level0 row11\" >Gujarat</th>\n",
       "                        <td id=\"T_3fdebb36_eb9a_11ea_bfeb_c0b8831c46barow11_col0\" class=\"data row11 col0\" >95155</td>\n",
       "            </tr>\n",
       "            <tr>\n",
       "                        <th id=\"T_3fdebb36_eb9a_11ea_bfeb_c0b8831c46balevel0_row12\" class=\"row_heading level0 row12\" >Rajasthan</th>\n",
       "                        <td id=\"T_3fdebb36_eb9a_11ea_bfeb_c0b8831c46barow12_col0\" class=\"data row12 col0\" >80227</td>\n",
       "            </tr>\n",
       "            <tr>\n",
       "                        <th id=\"T_3fdebb36_eb9a_11ea_bfeb_c0b8831c46balevel0_row13\" class=\"row_heading level0 row13\" >Kerela</th>\n",
       "                        <td id=\"T_3fdebb36_eb9a_11ea_bfeb_c0b8831c46barow13_col0\" class=\"data row13 col0\" >73855</td>\n",
       "            </tr>\n",
       "            <tr>\n",
       "                        <th id=\"T_3fdebb36_eb9a_11ea_bfeb_c0b8831c46balevel0_row14\" class=\"row_heading level0 row14\" >Haryana</th>\n",
       "                        <td id=\"T_3fdebb36_eb9a_11ea_bfeb_c0b8831c46barow14_col0\" class=\"data row14 col0\" >63282</td>\n",
       "            </tr>\n",
       "            <tr>\n",
       "                        <th id=\"T_3fdebb36_eb9a_11ea_bfeb_c0b8831c46balevel0_row15\" class=\"row_heading level0 row15\" >Madhya Pradesh</th>\n",
       "                        <td id=\"T_3fdebb36_eb9a_11ea_bfeb_c0b8831c46barow15_col0\" class=\"data row15 col0\" >62433</td>\n",
       "            </tr>\n",
       "            <tr>\n",
       "                        <th id=\"T_3fdebb36_eb9a_11ea_bfeb_c0b8831c46balevel0_row16\" class=\"row_heading level0 row16\" >Punjab</th>\n",
       "                        <td id=\"T_3fdebb36_eb9a_11ea_bfeb_c0b8831c46barow16_col0\" class=\"data row16 col0\" >52526</td>\n",
       "            </tr>\n",
       "            <tr>\n",
       "                        <th id=\"T_3fdebb36_eb9a_11ea_bfeb_c0b8831c46balevel0_row17\" class=\"row_heading level0 row17\" >JH</th>\n",
       "                        <td id=\"T_3fdebb36_eb9a_11ea_bfeb_c0b8831c46barow17_col0\" class=\"data row17 col0\" >38410</td>\n",
       "            </tr>\n",
       "            <tr>\n",
       "                        <th id=\"T_3fdebb36_eb9a_11ea_bfeb_c0b8831c46balevel0_row18\" class=\"row_heading level0 row18\" >Jammu And Kashmir</th>\n",
       "                        <td id=\"T_3fdebb36_eb9a_11ea_bfeb_c0b8831c46barow18_col0\" class=\"data row18 col0\" >37163</td>\n",
       "            </tr>\n",
       "            <tr>\n",
       "                        <th id=\"T_3fdebb36_eb9a_11ea_bfeb_c0b8831c46balevel0_row19\" class=\"row_heading level0 row19\" >Chattisgarh</th>\n",
       "                        <td id=\"T_3fdebb36_eb9a_11ea_bfeb_c0b8831c46barow19_col0\" class=\"data row19 col0\" >30092</td>\n",
       "            </tr>\n",
       "            <tr>\n",
       "                        <th id=\"T_3fdebb36_eb9a_11ea_bfeb_c0b8831c46balevel0_row20\" class=\"row_heading level0 row20\" >Uttarakhand</th>\n",
       "                        <td id=\"T_3fdebb36_eb9a_11ea_bfeb_c0b8831c46barow20_col0\" class=\"data row20 col0\" >19235</td>\n",
       "            </tr>\n",
       "            <tr>\n",
       "                        <th id=\"T_3fdebb36_eb9a_11ea_bfeb_c0b8831c46balevel0_row21\" class=\"row_heading level0 row21\" >Goa</th>\n",
       "                        <td id=\"T_3fdebb36_eb9a_11ea_bfeb_c0b8831c46barow21_col0\" class=\"data row21 col0\" >17004</td>\n",
       "            </tr>\n",
       "            <tr>\n",
       "                        <th id=\"T_3fdebb36_eb9a_11ea_bfeb_c0b8831c46balevel0_row22\" class=\"row_heading level0 row22\" >Puducherry</th>\n",
       "                        <td id=\"T_3fdebb36_eb9a_11ea_bfeb_c0b8831c46barow22_col0\" class=\"data row22 col0\" >13601</td>\n",
       "            </tr>\n",
       "            <tr>\n",
       "                        <th id=\"T_3fdebb36_eb9a_11ea_bfeb_c0b8831c46balevel0_row23\" class=\"row_heading level0 row23\" >Tripura</th>\n",
       "                        <td id=\"T_3fdebb36_eb9a_11ea_bfeb_c0b8831c46barow23_col0\" class=\"data row23 col0\" >11323</td>\n",
       "            </tr>\n",
       "            <tr>\n",
       "                        <th id=\"T_3fdebb36_eb9a_11ea_bfeb_c0b8831c46balevel0_row24\" class=\"row_heading level0 row24\" >Manipur</th>\n",
       "                        <td id=\"T_3fdebb36_eb9a_11ea_bfeb_c0b8831c46barow24_col0\" class=\"data row24 col0\" >6112</td>\n",
       "            </tr>\n",
       "            <tr>\n",
       "                        <th id=\"T_3fdebb36_eb9a_11ea_bfeb_c0b8831c46balevel0_row25\" class=\"row_heading level0 row25\" >Himachal Pradesh</th>\n",
       "                        <td id=\"T_3fdebb36_eb9a_11ea_bfeb_c0b8831c46barow25_col0\" class=\"data row25 col0\" >5945</td>\n",
       "            </tr>\n",
       "            <tr>\n",
       "                        <th id=\"T_3fdebb36_eb9a_11ea_bfeb_c0b8831c46balevel0_row26\" class=\"row_heading level0 row26\" >Chandigarh</th>\n",
       "                        <td id=\"T_3fdebb36_eb9a_11ea_bfeb_c0b8831c46barow26_col0\" class=\"data row26 col0\" >4155</td>\n",
       "            </tr>\n",
       "            <tr>\n",
       "                        <th id=\"T_3fdebb36_eb9a_11ea_bfeb_c0b8831c46balevel0_row27\" class=\"row_heading level0 row27\" >Arunachal Pradesh</th>\n",
       "                        <td id=\"T_3fdebb36_eb9a_11ea_bfeb_c0b8831c46barow27_col0\" class=\"data row27 col0\" >4034</td>\n",
       "            </tr>\n",
       "            <tr>\n",
       "                        <th id=\"T_3fdebb36_eb9a_11ea_bfeb_c0b8831c46balevel0_row28\" class=\"row_heading level0 row28\" >Nagaland</th>\n",
       "                        <td id=\"T_3fdebb36_eb9a_11ea_bfeb_c0b8831c46barow28_col0\" class=\"data row28 col0\" >3922</td>\n",
       "            </tr>\n",
       "            <tr>\n",
       "                        <th id=\"T_3fdebb36_eb9a_11ea_bfeb_c0b8831c46balevel0_row29\" class=\"row_heading level0 row29\" >Andaman Nicobar</th>\n",
       "                        <td id=\"T_3fdebb36_eb9a_11ea_bfeb_c0b8831c46barow29_col0\" class=\"data row29 col0\" >3100</td>\n",
       "            </tr>\n",
       "            <tr>\n",
       "                        <th id=\"T_3fdebb36_eb9a_11ea_bfeb_c0b8831c46balevel0_row30\" class=\"row_heading level0 row30\" >Ladakh</th>\n",
       "                        <td id=\"T_3fdebb36_eb9a_11ea_bfeb_c0b8831c46barow30_col0\" class=\"data row30 col0\" >2638</td>\n",
       "            </tr>\n",
       "            <tr>\n",
       "                        <th id=\"T_3fdebb36_eb9a_11ea_bfeb_c0b8831c46balevel0_row31\" class=\"row_heading level0 row31\" >Meghalaya</th>\n",
       "                        <td id=\"T_3fdebb36_eb9a_11ea_bfeb_c0b8831c46barow31_col0\" class=\"data row31 col0\" >2343</td>\n",
       "            </tr>\n",
       "            <tr>\n",
       "                        <th id=\"T_3fdebb36_eb9a_11ea_bfeb_c0b8831c46balevel0_row32\" class=\"row_heading level0 row32\" >DN</th>\n",
       "                        <td id=\"T_3fdebb36_eb9a_11ea_bfeb_c0b8831c46barow32_col0\" class=\"data row32 col0\" >2342</td>\n",
       "            </tr>\n",
       "            <tr>\n",
       "                        <th id=\"T_3fdebb36_eb9a_11ea_bfeb_c0b8831c46balevel0_row33\" class=\"row_heading level0 row33\" >Sikkim</th>\n",
       "                        <td id=\"T_3fdebb36_eb9a_11ea_bfeb_c0b8831c46barow33_col0\" class=\"data row33 col0\" >1615</td>\n",
       "            </tr>\n",
       "            <tr>\n",
       "                        <th id=\"T_3fdebb36_eb9a_11ea_bfeb_c0b8831c46balevel0_row34\" class=\"row_heading level0 row34\" >Mizoram</th>\n",
       "                        <td id=\"T_3fdebb36_eb9a_11ea_bfeb_c0b8831c46barow34_col0\" class=\"data row34 col0\" >1008</td>\n",
       "            </tr>\n",
       "            <tr>\n",
       "                        <th id=\"T_3fdebb36_eb9a_11ea_bfeb_c0b8831c46balevel0_row35\" class=\"row_heading level0 row35\" >LD</th>\n",
       "                        <td id=\"T_3fdebb36_eb9a_11ea_bfeb_c0b8831c46barow35_col0\" class=\"data row35 col0\" >0</td>\n",
       "            </tr>\n",
       "            <tr>\n",
       "                        <th id=\"T_3fdebb36_eb9a_11ea_bfeb_c0b8831c46balevel0_row36\" class=\"row_heading level0 row36\" >Daman & Diu</th>\n",
       "                        <td id=\"T_3fdebb36_eb9a_11ea_bfeb_c0b8831c46barow36_col0\" class=\"data row36 col0\" >0</td>\n",
       "            </tr>\n",
       "    </tbody></table>"
      ],
      "text/plain": [
       "<pandas.io.formats.style.Styler at 0x15ba284f1c8>"
      ]
     },
     "execution_count": 57,
     "metadata": {},
     "output_type": "execute_result"
    }
   ],
   "source": [
    "ccases=final_df1[['Confirmed Cases']]\n",
    "ccases=ccases.style.background_gradient(cmap='Reds')\n",
    "ccases"
   ]
  },
  {
   "cell_type": "markdown",
   "metadata": {},
   "source": [
    "## Recovered Cases"
   ]
  },
  {
   "cell_type": "code",
   "execution_count": 58,
   "metadata": {},
   "outputs": [
    {
     "data": {
      "text/html": [
       "<style  type=\"text/css\" >\n",
       "    #T_5b290114_eb9a_11ea_b743_c0b8831c46barow0_col0 {\n",
       "            background-color:  #00441b;\n",
       "            color:  #f1f1f1;\n",
       "        }    #T_5b290114_eb9a_11ea_b743_c0b8831c46barow1_col0 {\n",
       "            background-color:  #56b567;\n",
       "            color:  #000000;\n",
       "        }    #T_5b290114_eb9a_11ea_b743_c0b8831c46barow2_col0 {\n",
       "            background-color:  #3da65a;\n",
       "            color:  #000000;\n",
       "        }    #T_5b290114_eb9a_11ea_b743_c0b8831c46barow3_col0 {\n",
       "            background-color:  #8dd08a;\n",
       "            color:  #000000;\n",
       "        }    #T_5b290114_eb9a_11ea_b743_c0b8831c46barow4_col0 {\n",
       "            background-color:  #b8e3b2;\n",
       "            color:  #000000;\n",
       "        }    #T_5b290114_eb9a_11ea_b743_c0b8831c46barow5_col0 {\n",
       "            background-color:  #c0e6b9;\n",
       "            color:  #000000;\n",
       "        }    #T_5b290114_eb9a_11ea_b743_c0b8831c46barow6_col0 {\n",
       "            background-color:  #cbebc5;\n",
       "            color:  #000000;\n",
       "        }    #T_5b290114_eb9a_11ea_b743_c0b8831c46barow7_col0 {\n",
       "            background-color:  #d1edcb;\n",
       "            color:  #000000;\n",
       "        }    #T_5b290114_eb9a_11ea_b743_c0b8831c46barow8_col0 {\n",
       "            background-color:  #dcf2d7;\n",
       "            color:  #000000;\n",
       "        }    #T_5b290114_eb9a_11ea_b743_c0b8831c46barow9_col0 {\n",
       "            background-color:  #dff3da;\n",
       "            color:  #000000;\n",
       "        }    #T_5b290114_eb9a_11ea_b743_c0b8831c46barow10_col0 {\n",
       "            background-color:  #e4f5df;\n",
       "            color:  #000000;\n",
       "        }    #T_5b290114_eb9a_11ea_b743_c0b8831c46barow11_col0 {\n",
       "            background-color:  #e3f4de;\n",
       "            color:  #000000;\n",
       "        }    #T_5b290114_eb9a_11ea_b743_c0b8831c46barow12_col0 {\n",
       "            background-color:  #e7f6e2;\n",
       "            color:  #000000;\n",
       "        }    #T_5b290114_eb9a_11ea_b743_c0b8831c46barow13_col0 {\n",
       "            background-color:  #ebf7e7;\n",
       "            color:  #000000;\n",
       "        }    #T_5b290114_eb9a_11ea_b743_c0b8831c46barow14_col0 {\n",
       "            background-color:  #eaf7e6;\n",
       "            color:  #000000;\n",
       "        }    #T_5b290114_eb9a_11ea_b743_c0b8831c46barow15_col0 {\n",
       "            background-color:  #ebf7e7;\n",
       "            color:  #000000;\n",
       "        }    #T_5b290114_eb9a_11ea_b743_c0b8831c46barow16_col0 {\n",
       "            background-color:  #eef8ea;\n",
       "            color:  #000000;\n",
       "        }    #T_5b290114_eb9a_11ea_b743_c0b8831c46barow17_col0 {\n",
       "            background-color:  #f0f9ed;\n",
       "            color:  #000000;\n",
       "        }    #T_5b290114_eb9a_11ea_b743_c0b8831c46barow18_col0 {\n",
       "            background-color:  #f0f9ed;\n",
       "            color:  #000000;\n",
       "        }    #T_5b290114_eb9a_11ea_b743_c0b8831c46barow19_col0 {\n",
       "            background-color:  #f3faf0;\n",
       "            color:  #000000;\n",
       "        }    #T_5b290114_eb9a_11ea_b743_c0b8831c46barow20_col0 {\n",
       "            background-color:  #f4fbf2;\n",
       "            color:  #000000;\n",
       "        }    #T_5b290114_eb9a_11ea_b743_c0b8831c46barow21_col0 {\n",
       "            background-color:  #f4fbf1;\n",
       "            color:  #000000;\n",
       "        }    #T_5b290114_eb9a_11ea_b743_c0b8831c46barow22_col0 {\n",
       "            background-color:  #f5fbf2;\n",
       "            color:  #000000;\n",
       "        }    #T_5b290114_eb9a_11ea_b743_c0b8831c46barow23_col0 {\n",
       "            background-color:  #f5fbf3;\n",
       "            color:  #000000;\n",
       "        }    #T_5b290114_eb9a_11ea_b743_c0b8831c46barow24_col0 {\n",
       "            background-color:  #f6fcf4;\n",
       "            color:  #000000;\n",
       "        }    #T_5b290114_eb9a_11ea_b743_c0b8831c46barow25_col0 {\n",
       "            background-color:  #f6fcf4;\n",
       "            color:  #000000;\n",
       "        }    #T_5b290114_eb9a_11ea_b743_c0b8831c46barow26_col0 {\n",
       "            background-color:  #f6fcf4;\n",
       "            color:  #000000;\n",
       "        }    #T_5b290114_eb9a_11ea_b743_c0b8831c46barow27_col0 {\n",
       "            background-color:  #f6fcf4;\n",
       "            color:  #000000;\n",
       "        }    #T_5b290114_eb9a_11ea_b743_c0b8831c46barow28_col0 {\n",
       "            background-color:  #f6fcf4;\n",
       "            color:  #000000;\n",
       "        }    #T_5b290114_eb9a_11ea_b743_c0b8831c46barow29_col0 {\n",
       "            background-color:  #f6fcf4;\n",
       "            color:  #000000;\n",
       "        }    #T_5b290114_eb9a_11ea_b743_c0b8831c46barow30_col0 {\n",
       "            background-color:  #f7fcf5;\n",
       "            color:  #000000;\n",
       "        }    #T_5b290114_eb9a_11ea_b743_c0b8831c46barow31_col0 {\n",
       "            background-color:  #f7fcf5;\n",
       "            color:  #000000;\n",
       "        }    #T_5b290114_eb9a_11ea_b743_c0b8831c46barow32_col0 {\n",
       "            background-color:  #f7fcf5;\n",
       "            color:  #000000;\n",
       "        }    #T_5b290114_eb9a_11ea_b743_c0b8831c46barow33_col0 {\n",
       "            background-color:  #f7fcf5;\n",
       "            color:  #000000;\n",
       "        }    #T_5b290114_eb9a_11ea_b743_c0b8831c46barow34_col0 {\n",
       "            background-color:  #f7fcf5;\n",
       "            color:  #000000;\n",
       "        }    #T_5b290114_eb9a_11ea_b743_c0b8831c46barow35_col0 {\n",
       "            background-color:  #f7fcf5;\n",
       "            color:  #000000;\n",
       "        }    #T_5b290114_eb9a_11ea_b743_c0b8831c46barow36_col0 {\n",
       "            background-color:  #f7fcf5;\n",
       "            color:  #000000;\n",
       "        }</style><table id=\"T_5b290114_eb9a_11ea_b743_c0b8831c46ba\" ><thead>    <tr>        <th class=\"blank level0\" ></th>        <th class=\"col_heading level0 col0\" >Recovered Cases</th>    </tr>    <tr>        <th class=\"index_name level0\" >State</th>        <th class=\"blank\" ></th>    </tr></thead><tbody>\n",
       "                <tr>\n",
       "                        <th id=\"T_5b290114_eb9a_11ea_b743_c0b8831c46balevel0_row0\" class=\"row_heading level0 row0\" >Maharashtra</th>\n",
       "                        <td id=\"T_5b290114_eb9a_11ea_b743_c0b8831c46barow0_col0\" class=\"data row0 col0\" >562401</td>\n",
       "            </tr>\n",
       "            <tr>\n",
       "                        <th id=\"T_5b290114_eb9a_11ea_b743_c0b8831c46balevel0_row1\" class=\"row_heading level0 row1\" >Andhra Pradesh</th>\n",
       "                        <td id=\"T_5b290114_eb9a_11ea_b743_c0b8831c46barow1_col0\" class=\"data row1 col0\" >321754</td>\n",
       "            </tr>\n",
       "            <tr>\n",
       "                        <th id=\"T_5b290114_eb9a_11ea_b743_c0b8831c46balevel0_row2\" class=\"row_heading level0 row2\" >Tamil Nadu</th>\n",
       "                        <td id=\"T_5b290114_eb9a_11ea_b743_c0b8831c46barow2_col0\" class=\"data row2 col0\" >362133</td>\n",
       "            </tr>\n",
       "            <tr>\n",
       "                        <th id=\"T_5b290114_eb9a_11ea_b743_c0b8831c46balevel0_row3\" class=\"row_heading level0 row3\" >Karnataka</th>\n",
       "                        <td id=\"T_5b290114_eb9a_11ea_b743_c0b8831c46barow3_col0\" class=\"data row3 col0\" >242230</td>\n",
       "            </tr>\n",
       "            <tr>\n",
       "                        <th id=\"T_5b290114_eb9a_11ea_b743_c0b8831c46balevel0_row4\" class=\"row_heading level0 row4\" >Uttar Pradesh</th>\n",
       "                        <td id=\"T_5b290114_eb9a_11ea_b743_c0b8831c46barow4_col0\" class=\"data row4 col0\" >167543</td>\n",
       "            </tr>\n",
       "            <tr>\n",
       "                        <th id=\"T_5b290114_eb9a_11ea_b743_c0b8831c46balevel0_row5\" class=\"row_heading level0 row5\" >Delhi</th>\n",
       "                        <td id=\"T_5b290114_eb9a_11ea_b743_c0b8831c46barow5_col0\" class=\"data row5 col0\" >154171</td>\n",
       "            </tr>\n",
       "            <tr>\n",
       "                        <th id=\"T_5b290114_eb9a_11ea_b743_c0b8831c46balevel0_row6\" class=\"row_heading level0 row6\" >West Bengal</th>\n",
       "                        <td id=\"T_5b290114_eb9a_11ea_b743_c0b8831c46barow6_col0\" class=\"data row6 col0\" >130952</td>\n",
       "            </tr>\n",
       "            <tr>\n",
       "                        <th id=\"T_5b290114_eb9a_11ea_b743_c0b8831c46balevel0_row7\" class=\"row_heading level0 row7\" >Bihar</th>\n",
       "                        <td id=\"T_5b290114_eb9a_11ea_b743_c0b8831c46barow7_col0\" class=\"data row7 col0\" >117305</td>\n",
       "            </tr>\n",
       "            <tr>\n",
       "                        <th id=\"T_5b290114_eb9a_11ea_b743_c0b8831c46balevel0_row8\" class=\"row_heading level0 row8\" >Telegana</th>\n",
       "                        <td id=\"T_5b290114_eb9a_11ea_b743_c0b8831c46barow8_col0\" class=\"data row8 col0\" >90988</td>\n",
       "            </tr>\n",
       "            <tr>\n",
       "                        <th id=\"T_5b290114_eb9a_11ea_b743_c0b8831c46balevel0_row9\" class=\"row_heading level0 row9\" >Assam</th>\n",
       "                        <td id=\"T_5b290114_eb9a_11ea_b743_c0b8831c46barow9_col0\" class=\"data row9 col0\" >83928</td>\n",
       "            </tr>\n",
       "            <tr>\n",
       "                        <th id=\"T_5b290114_eb9a_11ea_b743_c0b8831c46balevel0_row10\" class=\"row_heading level0 row10\" >Orissa</th>\n",
       "                        <td id=\"T_5b290114_eb9a_11ea_b743_c0b8831c46barow10_col0\" class=\"data row10 col0\" >73233</td>\n",
       "            </tr>\n",
       "            <tr>\n",
       "                        <th id=\"T_5b290114_eb9a_11ea_b743_c0b8831c46balevel0_row11\" class=\"row_heading level0 row11\" >Gujarat</th>\n",
       "                        <td id=\"T_5b290114_eb9a_11ea_b743_c0b8831c46barow11_col0\" class=\"data row11 col0\" >76858</td>\n",
       "            </tr>\n",
       "            <tr>\n",
       "                        <th id=\"T_5b290114_eb9a_11ea_b743_c0b8831c46balevel0_row12\" class=\"row_heading level0 row12\" >Rajasthan</th>\n",
       "                        <td id=\"T_5b290114_eb9a_11ea_b743_c0b8831c46barow12_col0\" class=\"data row12 col0\" >65093</td>\n",
       "            </tr>\n",
       "            <tr>\n",
       "                        <th id=\"T_5b290114_eb9a_11ea_b743_c0b8831c46balevel0_row13\" class=\"row_heading level0 row13\" >Kerela</th>\n",
       "                        <td id=\"T_5b290114_eb9a_11ea_b743_c0b8831c46barow13_col0\" class=\"data row13 col0\" >49844</td>\n",
       "            </tr>\n",
       "            <tr>\n",
       "                        <th id=\"T_5b290114_eb9a_11ea_b743_c0b8831c46balevel0_row14\" class=\"row_heading level0 row14\" >Haryana</th>\n",
       "                        <td id=\"T_5b290114_eb9a_11ea_b743_c0b8831c46barow14_col0\" class=\"data row14 col0\" >51619</td>\n",
       "            </tr>\n",
       "            <tr>\n",
       "                        <th id=\"T_5b290114_eb9a_11ea_b743_c0b8831c46balevel0_row15\" class=\"row_heading level0 row15\" >Madhya Pradesh</th>\n",
       "                        <td id=\"T_5b290114_eb9a_11ea_b743_c0b8831c46barow15_col0\" class=\"data row15 col0\" >47467</td>\n",
       "            </tr>\n",
       "            <tr>\n",
       "                        <th id=\"T_5b290114_eb9a_11ea_b743_c0b8831c46balevel0_row16\" class=\"row_heading level0 row16\" >Punjab</th>\n",
       "                        <td id=\"T_5b290114_eb9a_11ea_b743_c0b8831c46barow16_col0\" class=\"data row16 col0\" >35747</td>\n",
       "            </tr>\n",
       "            <tr>\n",
       "                        <th id=\"T_5b290114_eb9a_11ea_b743_c0b8831c46balevel0_row17\" class=\"row_heading level0 row17\" >JH</th>\n",
       "                        <td id=\"T_5b290114_eb9a_11ea_b743_c0b8831c46barow17_col0\" class=\"data row17 col0\" >26448</td>\n",
       "            </tr>\n",
       "            <tr>\n",
       "                        <th id=\"T_5b290114_eb9a_11ea_b743_c0b8831c46balevel0_row18\" class=\"row_heading level0 row18\" >Jammu And Kashmir</th>\n",
       "                        <td id=\"T_5b290114_eb9a_11ea_b743_c0b8831c46barow18_col0\" class=\"data row18 col0\" >28510</td>\n",
       "            </tr>\n",
       "            <tr>\n",
       "                        <th id=\"T_5b290114_eb9a_11ea_b743_c0b8831c46balevel0_row19\" class=\"row_heading level0 row19\" >Chattisgarh</th>\n",
       "                        <td id=\"T_5b290114_eb9a_11ea_b743_c0b8831c46barow19_col0\" class=\"data row19 col0\" >16303</td>\n",
       "            </tr>\n",
       "            <tr>\n",
       "                        <th id=\"T_5b290114_eb9a_11ea_b743_c0b8831c46balevel0_row20\" class=\"row_heading level0 row20\" >Uttarakhand</th>\n",
       "                        <td id=\"T_5b290114_eb9a_11ea_b743_c0b8831c46barow20_col0\" class=\"data row20 col0\" >13004</td>\n",
       "            </tr>\n",
       "            <tr>\n",
       "                        <th id=\"T_5b290114_eb9a_11ea_b743_c0b8831c46balevel0_row21\" class=\"row_heading level0 row21\" >Goa</th>\n",
       "                        <td id=\"T_5b290114_eb9a_11ea_b743_c0b8831c46barow21_col0\" class=\"data row21 col0\" >13186</td>\n",
       "            </tr>\n",
       "            <tr>\n",
       "                        <th id=\"T_5b290114_eb9a_11ea_b743_c0b8831c46balevel0_row22\" class=\"row_heading level0 row22\" >Puducherry</th>\n",
       "                        <td id=\"T_5b290114_eb9a_11ea_b743_c0b8831c46barow22_col0\" class=\"data row22 col0\" >8968</td>\n",
       "            </tr>\n",
       "            <tr>\n",
       "                        <th id=\"T_5b290114_eb9a_11ea_b743_c0b8831c46balevel0_row23\" class=\"row_heading level0 row23\" >Tripura</th>\n",
       "                        <td id=\"T_5b290114_eb9a_11ea_b743_c0b8831c46barow23_col0\" class=\"data row23 col0\" >7232</td>\n",
       "            </tr>\n",
       "            <tr>\n",
       "                        <th id=\"T_5b290114_eb9a_11ea_b743_c0b8831c46balevel0_row24\" class=\"row_heading level0 row24\" >Manipur</th>\n",
       "                        <td id=\"T_5b290114_eb9a_11ea_b743_c0b8831c46barow24_col0\" class=\"data row24 col0\" >4239</td>\n",
       "            </tr>\n",
       "            <tr>\n",
       "                        <th id=\"T_5b290114_eb9a_11ea_b743_c0b8831c46balevel0_row25\" class=\"row_heading level0 row25\" >Himachal Pradesh</th>\n",
       "                        <td id=\"T_5b290114_eb9a_11ea_b743_c0b8831c46barow25_col0\" class=\"data row25 col0\" >4409</td>\n",
       "            </tr>\n",
       "            <tr>\n",
       "                        <th id=\"T_5b290114_eb9a_11ea_b743_c0b8831c46balevel0_row26\" class=\"row_heading level0 row26\" >Chandigarh</th>\n",
       "                        <td id=\"T_5b290114_eb9a_11ea_b743_c0b8831c46barow26_col0\" class=\"data row26 col0\" >2296</td>\n",
       "            </tr>\n",
       "            <tr>\n",
       "                        <th id=\"T_5b290114_eb9a_11ea_b743_c0b8831c46balevel0_row27\" class=\"row_heading level0 row27\" >Arunachal Pradesh</th>\n",
       "                        <td id=\"T_5b290114_eb9a_11ea_b743_c0b8831c46barow27_col0\" class=\"data row27 col0\" >2822</td>\n",
       "            </tr>\n",
       "            <tr>\n",
       "                        <th id=\"T_5b290114_eb9a_11ea_b743_c0b8831c46balevel0_row28\" class=\"row_heading level0 row28\" >Nagaland</th>\n",
       "                        <td id=\"T_5b290114_eb9a_11ea_b743_c0b8831c46barow28_col0\" class=\"data row28 col0\" >3017</td>\n",
       "            </tr>\n",
       "            <tr>\n",
       "                        <th id=\"T_5b290114_eb9a_11ea_b743_c0b8831c46balevel0_row29\" class=\"row_heading level0 row29\" >Andaman Nicobar</th>\n",
       "                        <td id=\"T_5b290114_eb9a_11ea_b743_c0b8831c46barow29_col0\" class=\"data row29 col0\" >2577</td>\n",
       "            </tr>\n",
       "            <tr>\n",
       "                        <th id=\"T_5b290114_eb9a_11ea_b743_c0b8831c46balevel0_row30\" class=\"row_heading level0 row30\" >Ladakh</th>\n",
       "                        <td id=\"T_5b290114_eb9a_11ea_b743_c0b8831c46barow30_col0\" class=\"data row30 col0\" >1757</td>\n",
       "            </tr>\n",
       "            <tr>\n",
       "                        <th id=\"T_5b290114_eb9a_11ea_b743_c0b8831c46balevel0_row31\" class=\"row_heading level0 row31\" >Meghalaya</th>\n",
       "                        <td id=\"T_5b290114_eb9a_11ea_b743_c0b8831c46barow31_col0\" class=\"data row31 col0\" >1049</td>\n",
       "            </tr>\n",
       "            <tr>\n",
       "                        <th id=\"T_5b290114_eb9a_11ea_b743_c0b8831c46balevel0_row32\" class=\"row_heading level0 row32\" >DN</th>\n",
       "                        <td id=\"T_5b290114_eb9a_11ea_b743_c0b8831c46barow32_col0\" class=\"data row32 col0\" >2042</td>\n",
       "            </tr>\n",
       "            <tr>\n",
       "                        <th id=\"T_5b290114_eb9a_11ea_b743_c0b8831c46balevel0_row33\" class=\"row_heading level0 row33\" >Sikkim</th>\n",
       "                        <td id=\"T_5b290114_eb9a_11ea_b743_c0b8831c46barow33_col0\" class=\"data row33 col0\" >1196</td>\n",
       "            </tr>\n",
       "            <tr>\n",
       "                        <th id=\"T_5b290114_eb9a_11ea_b743_c0b8831c46balevel0_row34\" class=\"row_heading level0 row34\" >Mizoram</th>\n",
       "                        <td id=\"T_5b290114_eb9a_11ea_b743_c0b8831c46barow34_col0\" class=\"data row34 col0\" >589</td>\n",
       "            </tr>\n",
       "            <tr>\n",
       "                        <th id=\"T_5b290114_eb9a_11ea_b743_c0b8831c46balevel0_row35\" class=\"row_heading level0 row35\" >LD</th>\n",
       "                        <td id=\"T_5b290114_eb9a_11ea_b743_c0b8831c46barow35_col0\" class=\"data row35 col0\" >0</td>\n",
       "            </tr>\n",
       "            <tr>\n",
       "                        <th id=\"T_5b290114_eb9a_11ea_b743_c0b8831c46balevel0_row36\" class=\"row_heading level0 row36\" >Daman & Diu</th>\n",
       "                        <td id=\"T_5b290114_eb9a_11ea_b743_c0b8831c46barow36_col0\" class=\"data row36 col0\" >0</td>\n",
       "            </tr>\n",
       "    </tbody></table>"
      ],
      "text/plain": [
       "<pandas.io.formats.style.Styler at 0x15ba2855248>"
      ]
     },
     "execution_count": 58,
     "metadata": {},
     "output_type": "execute_result"
    }
   ],
   "source": [
    "rcases=final_df1[['Recovered Cases']]\n",
    "rcases=rcases.style.background_gradient(cmap='Greens')\n",
    "rcases"
   ]
  },
  {
   "cell_type": "markdown",
   "metadata": {},
   "source": [
    "## Deceased Cases"
   ]
  },
  {
   "cell_type": "code",
   "execution_count": 65,
   "metadata": {},
   "outputs": [
    {
     "data": {
      "text/html": [
       "<style  type=\"text/css\" >\n",
       "    #T_2cc4234c_eb9b_11ea_bdcb_c0b8831c46barow0_col0 {\n",
       "            background-color:  #000000;\n",
       "            color:  #f1f1f1;\n",
       "        }    #T_2cc4234c_eb9b_11ea_bdcb_c0b8831c46barow1_col0 {\n",
       "            background-color:  #eaeaea;\n",
       "            color:  #000000;\n",
       "        }    #T_2cc4234c_eb9b_11ea_bdcb_c0b8831c46barow2_col0 {\n",
       "            background-color:  #cfcfcf;\n",
       "            color:  #000000;\n",
       "        }    #T_2cc4234c_eb9b_11ea_bdcb_c0b8831c46barow3_col0 {\n",
       "            background-color:  #dddddd;\n",
       "            color:  #000000;\n",
       "        }    #T_2cc4234c_eb9b_11ea_bdcb_c0b8831c46barow4_col0 {\n",
       "            background-color:  #eeeeee;\n",
       "            color:  #000000;\n",
       "        }    #T_2cc4234c_eb9b_11ea_bdcb_c0b8831c46barow5_col0 {\n",
       "            background-color:  #e6e6e6;\n",
       "            color:  #000000;\n",
       "        }    #T_2cc4234c_eb9b_11ea_bdcb_c0b8831c46barow6_col0 {\n",
       "            background-color:  #efefef;\n",
       "            color:  #000000;\n",
       "        }    #T_2cc4234c_eb9b_11ea_bdcb_c0b8831c46barow7_col0 {\n",
       "            background-color:  #fcfcfc;\n",
       "            color:  #000000;\n",
       "        }    #T_2cc4234c_eb9b_11ea_bdcb_c0b8831c46barow8_col0 {\n",
       "            background-color:  #fbfbfb;\n",
       "            color:  #000000;\n",
       "        }    #T_2cc4234c_eb9b_11ea_bdcb_c0b8831c46barow9_col0 {\n",
       "            background-color:  #fefefe;\n",
       "            color:  #000000;\n",
       "        }    #T_2cc4234c_eb9b_11ea_bdcb_c0b8831c46barow10_col0 {\n",
       "            background-color:  #fdfdfd;\n",
       "            color:  #000000;\n",
       "        }    #T_2cc4234c_eb9b_11ea_bdcb_c0b8831c46barow11_col0 {\n",
       "            background-color:  #f0f0f0;\n",
       "            color:  #000000;\n",
       "        }    #T_2cc4234c_eb9b_11ea_bdcb_c0b8831c46barow12_col0 {\n",
       "            background-color:  #fafafa;\n",
       "            color:  #000000;\n",
       "        }    #T_2cc4234c_eb9b_11ea_bdcb_c0b8831c46barow13_col0 {\n",
       "            background-color:  #fefefe;\n",
       "            color:  #000000;\n",
       "        }    #T_2cc4234c_eb9b_11ea_bdcb_c0b8831c46barow14_col0 {\n",
       "            background-color:  #fcfcfc;\n",
       "            color:  #000000;\n",
       "        }    #T_2cc4234c_eb9b_11ea_bdcb_c0b8831c46barow15_col0 {\n",
       "            background-color:  #f8f8f8;\n",
       "            color:  #000000;\n",
       "        }    #T_2cc4234c_eb9b_11ea_bdcb_c0b8831c46barow16_col0 {\n",
       "            background-color:  #f8f8f8;\n",
       "            color:  #000000;\n",
       "        }    #T_2cc4234c_eb9b_11ea_bdcb_c0b8831c46barow17_col0 {\n",
       "            background-color:  #fdfdfd;\n",
       "            color:  #000000;\n",
       "        }    #T_2cc4234c_eb9b_11ea_bdcb_c0b8831c46barow18_col0 {\n",
       "            background-color:  #fcfcfc;\n",
       "            color:  #000000;\n",
       "        }    #T_2cc4234c_eb9b_11ea_bdcb_c0b8831c46barow19_col0 {\n",
       "            background-color:  #fefefe;\n",
       "            color:  #000000;\n",
       "        }    #T_2cc4234c_eb9b_11ea_bdcb_c0b8831c46barow20_col0 {\n",
       "            background-color:  #fefefe;\n",
       "            color:  #000000;\n",
       "        }    #T_2cc4234c_eb9b_11ea_bdcb_c0b8831c46barow21_col0 {\n",
       "            background-color:  #ffffff;\n",
       "            color:  #000000;\n",
       "        }    #T_2cc4234c_eb9b_11ea_bdcb_c0b8831c46barow22_col0 {\n",
       "            background-color:  #fefefe;\n",
       "            color:  #000000;\n",
       "        }    #T_2cc4234c_eb9b_11ea_bdcb_c0b8831c46barow23_col0 {\n",
       "            background-color:  #ffffff;\n",
       "            color:  #000000;\n",
       "        }    #T_2cc4234c_eb9b_11ea_bdcb_c0b8831c46barow24_col0 {\n",
       "            background-color:  #ffffff;\n",
       "            color:  #000000;\n",
       "        }    #T_2cc4234c_eb9b_11ea_bdcb_c0b8831c46barow25_col0 {\n",
       "            background-color:  #ffffff;\n",
       "            color:  #000000;\n",
       "        }    #T_2cc4234c_eb9b_11ea_bdcb_c0b8831c46barow26_col0 {\n",
       "            background-color:  #ffffff;\n",
       "            color:  #000000;\n",
       "        }    #T_2cc4234c_eb9b_11ea_bdcb_c0b8831c46barow27_col0 {\n",
       "            background-color:  #ffffff;\n",
       "            color:  #000000;\n",
       "        }    #T_2cc4234c_eb9b_11ea_bdcb_c0b8831c46barow28_col0 {\n",
       "            background-color:  #ffffff;\n",
       "            color:  #000000;\n",
       "        }    #T_2cc4234c_eb9b_11ea_bdcb_c0b8831c46barow29_col0 {\n",
       "            background-color:  #ffffff;\n",
       "            color:  #000000;\n",
       "        }    #T_2cc4234c_eb9b_11ea_bdcb_c0b8831c46barow30_col0 {\n",
       "            background-color:  #ffffff;\n",
       "            color:  #000000;\n",
       "        }    #T_2cc4234c_eb9b_11ea_bdcb_c0b8831c46barow31_col0 {\n",
       "            background-color:  #ffffff;\n",
       "            color:  #000000;\n",
       "        }    #T_2cc4234c_eb9b_11ea_bdcb_c0b8831c46barow32_col0 {\n",
       "            background-color:  #ffffff;\n",
       "            color:  #000000;\n",
       "        }    #T_2cc4234c_eb9b_11ea_bdcb_c0b8831c46barow33_col0 {\n",
       "            background-color:  #ffffff;\n",
       "            color:  #000000;\n",
       "        }    #T_2cc4234c_eb9b_11ea_bdcb_c0b8831c46barow34_col0 {\n",
       "            background-color:  #ffffff;\n",
       "            color:  #000000;\n",
       "        }    #T_2cc4234c_eb9b_11ea_bdcb_c0b8831c46barow35_col0 {\n",
       "            background-color:  #ffffff;\n",
       "            color:  #000000;\n",
       "        }    #T_2cc4234c_eb9b_11ea_bdcb_c0b8831c46barow36_col0 {\n",
       "            background-color:  #ffffff;\n",
       "            color:  #000000;\n",
       "        }</style><table id=\"T_2cc4234c_eb9b_11ea_bdcb_c0b8831c46ba\" ><thead>    <tr>        <th class=\"blank level0\" ></th>        <th class=\"col_heading level0 col0\" >Deceased Cases</th>    </tr>    <tr>        <th class=\"index_name level0\" >State</th>        <th class=\"blank\" ></th>    </tr></thead><tbody>\n",
       "                <tr>\n",
       "                        <th id=\"T_2cc4234c_eb9b_11ea_bdcb_c0b8831c46balevel0_row0\" class=\"row_heading level0 row0\" >Maharashtra</th>\n",
       "                        <td id=\"T_2cc4234c_eb9b_11ea_bdcb_c0b8831c46barow0_col0\" class=\"data row0 col0\" >24398</td>\n",
       "            </tr>\n",
       "            <tr>\n",
       "                        <th id=\"T_2cc4234c_eb9b_11ea_bdcb_c0b8831c46balevel0_row1\" class=\"row_heading level0 row1\" >Andhra Pradesh</th>\n",
       "                        <td id=\"T_2cc4234c_eb9b_11ea_bdcb_c0b8831c46barow1_col0\" class=\"data row1 col0\" >3884</td>\n",
       "            </tr>\n",
       "            <tr>\n",
       "                        <th id=\"T_2cc4234c_eb9b_11ea_bdcb_c0b8831c46balevel0_row2\" class=\"row_heading level0 row2\" >Tamil Nadu</th>\n",
       "                        <td id=\"T_2cc4234c_eb9b_11ea_bdcb_c0b8831c46barow2_col0\" class=\"data row2 col0\" >7231</td>\n",
       "            </tr>\n",
       "            <tr>\n",
       "                        <th id=\"T_2cc4234c_eb9b_11ea_bdcb_c0b8831c46balevel0_row3\" class=\"row_heading level0 row3\" >Karnataka</th>\n",
       "                        <td id=\"T_2cc4234c_eb9b_11ea_bdcb_c0b8831c46barow3_col0\" class=\"data row3 col0\" >5596</td>\n",
       "            </tr>\n",
       "            <tr>\n",
       "                        <th id=\"T_2cc4234c_eb9b_11ea_bdcb_c0b8831c46balevel0_row4\" class=\"row_heading level0 row4\" >Uttar Pradesh</th>\n",
       "                        <td id=\"T_2cc4234c_eb9b_11ea_bdcb_c0b8831c46barow4_col0\" class=\"data row4 col0\" >3423</td>\n",
       "            </tr>\n",
       "            <tr>\n",
       "                        <th id=\"T_2cc4234c_eb9b_11ea_bdcb_c0b8831c46balevel0_row5\" class=\"row_heading level0 row5\" >Delhi</th>\n",
       "                        <td id=\"T_2cc4234c_eb9b_11ea_bdcb_c0b8831c46barow5_col0\" class=\"data row5 col0\" >4426</td>\n",
       "            </tr>\n",
       "            <tr>\n",
       "                        <th id=\"T_2cc4234c_eb9b_11ea_bdcb_c0b8831c46balevel0_row6\" class=\"row_heading level0 row6\" >West Bengal</th>\n",
       "                        <td id=\"T_2cc4234c_eb9b_11ea_bdcb_c0b8831c46barow6_col0\" class=\"data row6 col0\" >3176</td>\n",
       "            </tr>\n",
       "            <tr>\n",
       "                        <th id=\"T_2cc4234c_eb9b_11ea_bdcb_c0b8831c46balevel0_row7\" class=\"row_heading level0 row7\" >Bihar</th>\n",
       "                        <td id=\"T_2cc4234c_eb9b_11ea_bdcb_c0b8831c46barow7_col0\" class=\"data row7 col0\" >688</td>\n",
       "            </tr>\n",
       "            <tr>\n",
       "                        <th id=\"T_2cc4234c_eb9b_11ea_bdcb_c0b8831c46balevel0_row8\" class=\"row_heading level0 row8\" >Telegana</th>\n",
       "                        <td id=\"T_2cc4234c_eb9b_11ea_bdcb_c0b8831c46barow8_col0\" class=\"data row8 col0\" >818</td>\n",
       "            </tr>\n",
       "            <tr>\n",
       "                        <th id=\"T_2cc4234c_eb9b_11ea_bdcb_c0b8831c46balevel0_row9\" class=\"row_heading level0 row9\" >Assam</th>\n",
       "                        <td id=\"T_2cc4234c_eb9b_11ea_bdcb_c0b8831c46barow9_col0\" class=\"data row9 col0\" >300</td>\n",
       "            </tr>\n",
       "            <tr>\n",
       "                        <th id=\"T_2cc4234c_eb9b_11ea_bdcb_c0b8831c46balevel0_row10\" class=\"row_heading level0 row10\" >Orissa</th>\n",
       "                        <td id=\"T_2cc4234c_eb9b_11ea_bdcb_c0b8831c46barow10_col0\" class=\"data row10 col0\" >535</td>\n",
       "            </tr>\n",
       "            <tr>\n",
       "                        <th id=\"T_2cc4234c_eb9b_11ea_bdcb_c0b8831c46balevel0_row11\" class=\"row_heading level0 row11\" >Gujarat</th>\n",
       "                        <td id=\"T_2cc4234c_eb9b_11ea_bdcb_c0b8831c46barow11_col0\" class=\"data row11 col0\" >3007</td>\n",
       "            </tr>\n",
       "            <tr>\n",
       "                        <th id=\"T_2cc4234c_eb9b_11ea_bdcb_c0b8831c46balevel0_row12\" class=\"row_heading level0 row12\" >Rajasthan</th>\n",
       "                        <td id=\"T_2cc4234c_eb9b_11ea_bdcb_c0b8831c46barow12_col0\" class=\"data row12 col0\" >1043</td>\n",
       "            </tr>\n",
       "            <tr>\n",
       "                        <th id=\"T_2cc4234c_eb9b_11ea_bdcb_c0b8831c46balevel0_row13\" class=\"row_heading level0 row13\" >Kerela</th>\n",
       "                        <td id=\"T_2cc4234c_eb9b_11ea_bdcb_c0b8831c46barow13_col0\" class=\"data row13 col0\" >288</td>\n",
       "            </tr>\n",
       "            <tr>\n",
       "                        <th id=\"T_2cc4234c_eb9b_11ea_bdcb_c0b8831c46balevel0_row14\" class=\"row_heading level0 row14\" >Haryana</th>\n",
       "                        <td id=\"T_2cc4234c_eb9b_11ea_bdcb_c0b8831c46barow14_col0\" class=\"data row14 col0\" >682</td>\n",
       "            </tr>\n",
       "            <tr>\n",
       "                        <th id=\"T_2cc4234c_eb9b_11ea_bdcb_c0b8831c46balevel0_row15\" class=\"row_heading level0 row15\" >Madhya Pradesh</th>\n",
       "                        <td id=\"T_2cc4234c_eb9b_11ea_bdcb_c0b8831c46barow15_col0\" class=\"data row15 col0\" >1375</td>\n",
       "            </tr>\n",
       "            <tr>\n",
       "                        <th id=\"T_2cc4234c_eb9b_11ea_bdcb_c0b8831c46balevel0_row16\" class=\"row_heading level0 row16\" >Punjab</th>\n",
       "                        <td id=\"T_2cc4234c_eb9b_11ea_bdcb_c0b8831c46barow16_col0\" class=\"data row16 col0\" >1404</td>\n",
       "            </tr>\n",
       "            <tr>\n",
       "                        <th id=\"T_2cc4234c_eb9b_11ea_bdcb_c0b8831c46balevel0_row17\" class=\"row_heading level0 row17\" >JH</th>\n",
       "                        <td id=\"T_2cc4234c_eb9b_11ea_bdcb_c0b8831c46barow17_col0\" class=\"data row17 col0\" >410</td>\n",
       "            </tr>\n",
       "            <tr>\n",
       "                        <th id=\"T_2cc4234c_eb9b_11ea_bdcb_c0b8831c46balevel0_row18\" class=\"row_heading level0 row18\" >Jammu And Kashmir</th>\n",
       "                        <td id=\"T_2cc4234c_eb9b_11ea_bdcb_c0b8831c46barow18_col0\" class=\"data row18 col0\" >694</td>\n",
       "            </tr>\n",
       "            <tr>\n",
       "                        <th id=\"T_2cc4234c_eb9b_11ea_bdcb_c0b8831c46balevel0_row19\" class=\"row_heading level0 row19\" >Chattisgarh</th>\n",
       "                        <td id=\"T_2cc4234c_eb9b_11ea_bdcb_c0b8831c46barow19_col0\" class=\"data row19 col0\" >269</td>\n",
       "            </tr>\n",
       "            <tr>\n",
       "                        <th id=\"T_2cc4234c_eb9b_11ea_bdcb_c0b8831c46balevel0_row20\" class=\"row_heading level0 row20\" >Uttarakhand</th>\n",
       "                        <td id=\"T_2cc4234c_eb9b_11ea_bdcb_c0b8831c46barow20_col0\" class=\"data row20 col0\" >257</td>\n",
       "            </tr>\n",
       "            <tr>\n",
       "                        <th id=\"T_2cc4234c_eb9b_11ea_bdcb_c0b8831c46balevel0_row21\" class=\"row_heading level0 row21\" >Goa</th>\n",
       "                        <td id=\"T_2cc4234c_eb9b_11ea_bdcb_c0b8831c46barow21_col0\" class=\"data row21 col0\" >183</td>\n",
       "            </tr>\n",
       "            <tr>\n",
       "                        <th id=\"T_2cc4234c_eb9b_11ea_bdcb_c0b8831c46balevel0_row22\" class=\"row_heading level0 row22\" >Puducherry</th>\n",
       "                        <td id=\"T_2cc4234c_eb9b_11ea_bdcb_c0b8831c46barow22_col0\" class=\"data row22 col0\" >221</td>\n",
       "            </tr>\n",
       "            <tr>\n",
       "                        <th id=\"T_2cc4234c_eb9b_11ea_bdcb_c0b8831c46balevel0_row23\" class=\"row_heading level0 row23\" >Tripura</th>\n",
       "                        <td id=\"T_2cc4234c_eb9b_11ea_bdcb_c0b8831c46barow23_col0\" class=\"data row23 col0\" >98</td>\n",
       "            </tr>\n",
       "            <tr>\n",
       "                        <th id=\"T_2cc4234c_eb9b_11ea_bdcb_c0b8831c46balevel0_row24\" class=\"row_heading level0 row24\" >Manipur</th>\n",
       "                        <td id=\"T_2cc4234c_eb9b_11ea_bdcb_c0b8831c46barow24_col0\" class=\"data row24 col0\" >28</td>\n",
       "            </tr>\n",
       "            <tr>\n",
       "                        <th id=\"T_2cc4234c_eb9b_11ea_bdcb_c0b8831c46balevel0_row25\" class=\"row_heading level0 row25\" >Himachal Pradesh</th>\n",
       "                        <td id=\"T_2cc4234c_eb9b_11ea_bdcb_c0b8831c46barow25_col0\" class=\"data row25 col0\" >34</td>\n",
       "            </tr>\n",
       "            <tr>\n",
       "                        <th id=\"T_2cc4234c_eb9b_11ea_bdcb_c0b8831c46balevel0_row26\" class=\"row_heading level0 row26\" >Chandigarh</th>\n",
       "                        <td id=\"T_2cc4234c_eb9b_11ea_bdcb_c0b8831c46barow26_col0\" class=\"data row26 col0\" >52</td>\n",
       "            </tr>\n",
       "            <tr>\n",
       "                        <th id=\"T_2cc4234c_eb9b_11ea_bdcb_c0b8831c46balevel0_row27\" class=\"row_heading level0 row27\" >Arunachal Pradesh</th>\n",
       "                        <td id=\"T_2cc4234c_eb9b_11ea_bdcb_c0b8831c46barow27_col0\" class=\"data row27 col0\" >7</td>\n",
       "            </tr>\n",
       "            <tr>\n",
       "                        <th id=\"T_2cc4234c_eb9b_11ea_bdcb_c0b8831c46balevel0_row28\" class=\"row_heading level0 row28\" >Nagaland</th>\n",
       "                        <td id=\"T_2cc4234c_eb9b_11ea_bdcb_c0b8831c46barow28_col0\" class=\"data row28 col0\" >8</td>\n",
       "            </tr>\n",
       "            <tr>\n",
       "                        <th id=\"T_2cc4234c_eb9b_11ea_bdcb_c0b8831c46balevel0_row29\" class=\"row_heading level0 row29\" >Andaman Nicobar</th>\n",
       "                        <td id=\"T_2cc4234c_eb9b_11ea_bdcb_c0b8831c46barow29_col0\" class=\"data row29 col0\" >45</td>\n",
       "            </tr>\n",
       "            <tr>\n",
       "                        <th id=\"T_2cc4234c_eb9b_11ea_bdcb_c0b8831c46balevel0_row30\" class=\"row_heading level0 row30\" >Ladakh</th>\n",
       "                        <td id=\"T_2cc4234c_eb9b_11ea_bdcb_c0b8831c46barow30_col0\" class=\"data row30 col0\" >34</td>\n",
       "            </tr>\n",
       "            <tr>\n",
       "                        <th id=\"T_2cc4234c_eb9b_11ea_bdcb_c0b8831c46balevel0_row31\" class=\"row_heading level0 row31\" >Meghalaya</th>\n",
       "                        <td id=\"T_2cc4234c_eb9b_11ea_bdcb_c0b8831c46barow31_col0\" class=\"data row31 col0\" >10</td>\n",
       "            </tr>\n",
       "            <tr>\n",
       "                        <th id=\"T_2cc4234c_eb9b_11ea_bdcb_c0b8831c46balevel0_row32\" class=\"row_heading level0 row32\" >DN</th>\n",
       "                        <td id=\"T_2cc4234c_eb9b_11ea_bdcb_c0b8831c46barow32_col0\" class=\"data row32 col0\" >2</td>\n",
       "            </tr>\n",
       "            <tr>\n",
       "                        <th id=\"T_2cc4234c_eb9b_11ea_bdcb_c0b8831c46balevel0_row33\" class=\"row_heading level0 row33\" >Sikkim</th>\n",
       "                        <td id=\"T_2cc4234c_eb9b_11ea_bdcb_c0b8831c46barow33_col0\" class=\"data row33 col0\" >3</td>\n",
       "            </tr>\n",
       "            <tr>\n",
       "                        <th id=\"T_2cc4234c_eb9b_11ea_bdcb_c0b8831c46balevel0_row34\" class=\"row_heading level0 row34\" >Mizoram</th>\n",
       "                        <td id=\"T_2cc4234c_eb9b_11ea_bdcb_c0b8831c46barow34_col0\" class=\"data row34 col0\" >0</td>\n",
       "            </tr>\n",
       "            <tr>\n",
       "                        <th id=\"T_2cc4234c_eb9b_11ea_bdcb_c0b8831c46balevel0_row35\" class=\"row_heading level0 row35\" >LD</th>\n",
       "                        <td id=\"T_2cc4234c_eb9b_11ea_bdcb_c0b8831c46barow35_col0\" class=\"data row35 col0\" >0</td>\n",
       "            </tr>\n",
       "            <tr>\n",
       "                        <th id=\"T_2cc4234c_eb9b_11ea_bdcb_c0b8831c46balevel0_row36\" class=\"row_heading level0 row36\" >Daman & Diu</th>\n",
       "                        <td id=\"T_2cc4234c_eb9b_11ea_bdcb_c0b8831c46barow36_col0\" class=\"data row36 col0\" >0</td>\n",
       "            </tr>\n",
       "    </tbody></table>"
      ],
      "text/plain": [
       "<pandas.io.formats.style.Styler at 0x15ba288ec48>"
      ]
     },
     "execution_count": 65,
     "metadata": {},
     "output_type": "execute_result"
    }
   ],
   "source": [
    "dcases=final_df1[['Deceased Cases']]\n",
    "dcase=dcases.style.background_gradient(cmap='Greys')\n",
    "dcase"
   ]
  },
  {
   "cell_type": "code",
   "execution_count": 32,
   "metadata": {},
   "outputs": [
    {
     "data": {
      "text/html": [
       "<div>\n",
       "<style scoped>\n",
       "    .dataframe tbody tr th:only-of-type {\n",
       "        vertical-align: middle;\n",
       "    }\n",
       "\n",
       "    .dataframe tbody tr th {\n",
       "        vertical-align: top;\n",
       "    }\n",
       "\n",
       "    .dataframe thead th {\n",
       "        text-align: right;\n",
       "    }\n",
       "</style>\n",
       "<table border=\"1\" class=\"dataframe\">\n",
       "  <thead>\n",
       "    <tr style=\"text-align: right;\">\n",
       "      <th></th>\n",
       "      <th>Confirmed Cases</th>\n",
       "      <th>Recovered Cases</th>\n",
       "      <th>Deceased Cases</th>\n",
       "      <th>Active Cases</th>\n",
       "      <th>Recovered Ratio(in %)</th>\n",
       "      <th>Active Ratio(in %)</th>\n",
       "      <th>Deceased Ratio(in %)</th>\n",
       "    </tr>\n",
       "  </thead>\n",
       "  <tbody>\n",
       "    <tr>\n",
       "      <th>count</th>\n",
       "      <td>37.0</td>\n",
       "      <td>37.0</td>\n",
       "      <td>37.0</td>\n",
       "      <td>37.0</td>\n",
       "      <td>37.0</td>\n",
       "      <td>37.0</td>\n",
       "      <td>37.0</td>\n",
       "    </tr>\n",
       "    <tr>\n",
       "      <th>mean</th>\n",
       "      <td>97,783.7</td>\n",
       "      <td>74,943.5</td>\n",
       "      <td>1,746.7</td>\n",
       "      <td>21,093.4</td>\n",
       "      <td>69.0</td>\n",
       "      <td>24.5</td>\n",
       "      <td>1.1</td>\n",
       "    </tr>\n",
       "    <tr>\n",
       "      <th>std</th>\n",
       "      <td>160,271.7</td>\n",
       "      <td>120,923.9</td>\n",
       "      <td>4,214.4</td>\n",
       "      <td>37,198.4</td>\n",
       "      <td>19.3</td>\n",
       "      <td>11.4</td>\n",
       "      <td>0.9</td>\n",
       "    </tr>\n",
       "    <tr>\n",
       "      <th>min</th>\n",
       "      <td>0.0</td>\n",
       "      <td>0.0</td>\n",
       "      <td>0.0</td>\n",
       "      <td>0.0</td>\n",
       "      <td>0.0</td>\n",
       "      <td>0.0</td>\n",
       "      <td>0.0</td>\n",
       "    </tr>\n",
       "    <tr>\n",
       "      <th>25%</th>\n",
       "      <td>4,034.0</td>\n",
       "      <td>2,822.0</td>\n",
       "      <td>34.0</td>\n",
       "      <td>1,284.0</td>\n",
       "      <td>67.5</td>\n",
       "      <td>17.4</td>\n",
       "      <td>0.4</td>\n",
       "    </tr>\n",
       "    <tr>\n",
       "      <th>50%</th>\n",
       "      <td>37,163.0</td>\n",
       "      <td>26,448.0</td>\n",
       "      <td>288.0</td>\n",
       "      <td>10,981.0</td>\n",
       "      <td>74.1</td>\n",
       "      <td>24.8</td>\n",
       "      <td>1.1</td>\n",
       "    </tr>\n",
       "    <tr>\n",
       "      <th>75%</th>\n",
       "      <td>105,673.0</td>\n",
       "      <td>83,928.0</td>\n",
       "      <td>1,375.0</td>\n",
       "      <td>21,445.0</td>\n",
       "      <td>79.4</td>\n",
       "      <td>30.2</td>\n",
       "      <td>1.6</td>\n",
       "    </tr>\n",
       "    <tr>\n",
       "      <th>max</th>\n",
       "      <td>780,689.0</td>\n",
       "      <td>562,401.0</td>\n",
       "      <td>24,398.0</td>\n",
       "      <td>193,890.0</td>\n",
       "      <td>88.9</td>\n",
       "      <td>54.8</td>\n",
       "      <td>3.2</td>\n",
       "    </tr>\n",
       "  </tbody>\n",
       "</table>\n",
       "</div>"
      ],
      "text/plain": [
       "       Confirmed Cases  Recovered Cases  Deceased Cases  Active Cases  \\\n",
       "count             37.0             37.0            37.0          37.0   \n",
       "mean          97,783.7         74,943.5         1,746.7      21,093.4   \n",
       "std          160,271.7        120,923.9         4,214.4      37,198.4   \n",
       "min                0.0              0.0             0.0           0.0   \n",
       "25%            4,034.0          2,822.0            34.0       1,284.0   \n",
       "50%           37,163.0         26,448.0           288.0      10,981.0   \n",
       "75%          105,673.0         83,928.0         1,375.0      21,445.0   \n",
       "max          780,689.0        562,401.0        24,398.0     193,890.0   \n",
       "\n",
       "       Recovered Ratio(in %)  Active Ratio(in %)  Deceased Ratio(in %)  \n",
       "count                   37.0                37.0                  37.0  \n",
       "mean                    69.0                24.5                   1.1  \n",
       "std                     19.3                11.4                   0.9  \n",
       "min                      0.0                 0.0                   0.0  \n",
       "25%                     67.5                17.4                   0.4  \n",
       "50%                     74.1                24.8                   1.1  \n",
       "75%                     79.4                30.2                   1.6  \n",
       "max                     88.9                54.8                   3.2  "
      ]
     },
     "execution_count": 32,
     "metadata": {},
     "output_type": "execute_result"
    }
   ],
   "source": [
    "final_df1.describe()"
   ]
  },
  {
   "cell_type": "code",
   "execution_count": 33,
   "metadata": {},
   "outputs": [
    {
     "data": {
      "application/vnd.plotly.v1+json": {
       "config": {
        "plotlyServerURL": "https://plot.ly"
       },
       "data": [
        {
         "name": "Active Cases",
         "type": "bar",
         "x": [
          "Andaman Nicobar",
          "Andhra Pradesh",
          "Arunachal Pradesh",
          "Assam",
          "Bihar",
          "Chandigarh",
          "Chattisgarh",
          "DN",
          "Daman & Diu",
          "Delhi",
          "Goa",
          "Gujarat",
          "Haryana",
          "Himachal Pradesh",
          "Jammu And Kashmir",
          "JH",
          "Karnataka",
          "Kerela",
          "Ladakh",
          "LD",
          "Madhya Pradesh",
          "Maharashtra",
          "Manipur",
          "Meghalaya",
          "Mizoram",
          "Nagaland",
          "Orissa",
          "Puducherry",
          "Punjab",
          "Rajasthan",
          "Sikkim",
          "Tamil Nadu",
          "Telegana",
          "Tripura",
          "Uttar Pradesh",
          "Uttarakhand",
          "West Bengal"
         ],
         "xaxis": "x",
         "y": [
          478,
          99129,
          1205,
          21445,
          17020,
          1807,
          13520,
          298,
          0,
          14793,
          3635,
          15290,
          10981,
          1502,
          7959,
          11552,
          88102,
          23723,
          847,
          0,
          13591,
          193890,
          1845,
          1284,
          419,
          897,
          27166,
          4412,
          15375,
          14091,
          416,
          52721,
          30774,
          3993,
          54666,
          5974,
          25657
         ],
         "yaxis": "y"
        },
        {
         "name": "Confirmed Cases",
         "type": "bar",
         "x": [
          "Andaman Nicobar",
          "Andhra Pradesh",
          "Arunachal Pradesh",
          "Assam",
          "Bihar",
          "Chandigarh",
          "Chattisgarh",
          "DN",
          "Daman & Diu",
          "Delhi",
          "Goa",
          "Gujarat",
          "Haryana",
          "Himachal Pradesh",
          "Jammu And Kashmir",
          "JH",
          "Karnataka",
          "Kerela",
          "Ladakh",
          "LD",
          "Madhya Pradesh",
          "Maharashtra",
          "Manipur",
          "Meghalaya",
          "Mizoram",
          "Nagaland",
          "Orissa",
          "Puducherry",
          "Punjab",
          "Rajasthan",
          "Sikkim",
          "Tamil Nadu",
          "Telegana",
          "Tripura",
          "Uttar Pradesh",
          "Uttarakhand",
          "West Bengal"
         ],
         "xaxis": "x2",
         "y": [
          3100,
          424767,
          4034,
          105673,
          135013,
          4155,
          30092,
          2342,
          0,
          173390,
          17004,
          95155,
          63282,
          5945,
          37163,
          38410,
          335928,
          73855,
          2638,
          0,
          62433,
          780689,
          6112,
          2343,
          1008,
          3922,
          100934,
          13601,
          52526,
          80227,
          1615,
          422085,
          122580,
          11323,
          225632,
          19235,
          159785
         ],
         "yaxis": "y2"
        },
        {
         "name": "Recovered Cases",
         "type": "bar",
         "x": [
          "Andaman Nicobar",
          "Andhra Pradesh",
          "Arunachal Pradesh",
          "Assam",
          "Bihar",
          "Chandigarh",
          "Chattisgarh",
          "DN",
          "Daman & Diu",
          "Delhi",
          "Goa",
          "Gujarat",
          "Haryana",
          "Himachal Pradesh",
          "Jammu And Kashmir",
          "JH",
          "Karnataka",
          "Kerela",
          "Ladakh",
          "LD",
          "Madhya Pradesh",
          "Maharashtra",
          "Manipur",
          "Meghalaya",
          "Mizoram",
          "Nagaland",
          "Orissa",
          "Puducherry",
          "Punjab",
          "Rajasthan",
          "Sikkim",
          "Tamil Nadu",
          "Telegana",
          "Tripura",
          "Uttar Pradesh",
          "Uttarakhand",
          "West Bengal"
         ],
         "xaxis": "x3",
         "y": [
          2577,
          321754,
          2822,
          83928,
          117305,
          2296,
          16303,
          2042,
          0,
          154171,
          13186,
          76858,
          51619,
          4409,
          28510,
          26448,
          242230,
          49844,
          1757,
          0,
          47467,
          562401,
          4239,
          1049,
          589,
          3017,
          73233,
          8968,
          35747,
          65093,
          1196,
          362133,
          90988,
          7232,
          167543,
          13004,
          130952
         ],
         "yaxis": "y3"
        },
        {
         "name": "Deceased Cases",
         "type": "bar",
         "x": [
          "Andaman Nicobar",
          "Andhra Pradesh",
          "Arunachal Pradesh",
          "Assam",
          "Bihar",
          "Chandigarh",
          "Chattisgarh",
          "DN",
          "Daman & Diu",
          "Delhi",
          "Goa",
          "Gujarat",
          "Haryana",
          "Himachal Pradesh",
          "Jammu And Kashmir",
          "JH",
          "Karnataka",
          "Kerela",
          "Ladakh",
          "LD",
          "Madhya Pradesh",
          "Maharashtra",
          "Manipur",
          "Meghalaya",
          "Mizoram",
          "Nagaland",
          "Orissa",
          "Puducherry",
          "Punjab",
          "Rajasthan",
          "Sikkim",
          "Tamil Nadu",
          "Telegana",
          "Tripura",
          "Uttar Pradesh",
          "Uttarakhand",
          "West Bengal"
         ],
         "xaxis": "x4",
         "y": [
          45,
          3884,
          7,
          300,
          688,
          52,
          269,
          2,
          0,
          4426,
          183,
          3007,
          682,
          34,
          694,
          410,
          5596,
          288,
          34,
          0,
          1375,
          24398,
          28,
          10,
          0,
          8,
          535,
          221,
          1404,
          1043,
          3,
          7231,
          818,
          98,
          3423,
          257,
          3176
         ],
         "yaxis": "y4"
        }
       ],
       "layout": {
        "template": {
         "data": {
          "bar": [
           {
            "error_x": {
             "color": "#2a3f5f"
            },
            "error_y": {
             "color": "#2a3f5f"
            },
            "marker": {
             "line": {
              "color": "#E5ECF6",
              "width": 0.5
             }
            },
            "type": "bar"
           }
          ],
          "barpolar": [
           {
            "marker": {
             "line": {
              "color": "#E5ECF6",
              "width": 0.5
             }
            },
            "type": "barpolar"
           }
          ],
          "carpet": [
           {
            "aaxis": {
             "endlinecolor": "#2a3f5f",
             "gridcolor": "white",
             "linecolor": "white",
             "minorgridcolor": "white",
             "startlinecolor": "#2a3f5f"
            },
            "baxis": {
             "endlinecolor": "#2a3f5f",
             "gridcolor": "white",
             "linecolor": "white",
             "minorgridcolor": "white",
             "startlinecolor": "#2a3f5f"
            },
            "type": "carpet"
           }
          ],
          "choropleth": [
           {
            "colorbar": {
             "outlinewidth": 0,
             "ticks": ""
            },
            "type": "choropleth"
           }
          ],
          "contour": [
           {
            "colorbar": {
             "outlinewidth": 0,
             "ticks": ""
            },
            "colorscale": [
             [
              0,
              "#0d0887"
             ],
             [
              0.1111111111111111,
              "#46039f"
             ],
             [
              0.2222222222222222,
              "#7201a8"
             ],
             [
              0.3333333333333333,
              "#9c179e"
             ],
             [
              0.4444444444444444,
              "#bd3786"
             ],
             [
              0.5555555555555556,
              "#d8576b"
             ],
             [
              0.6666666666666666,
              "#ed7953"
             ],
             [
              0.7777777777777778,
              "#fb9f3a"
             ],
             [
              0.8888888888888888,
              "#fdca26"
             ],
             [
              1,
              "#f0f921"
             ]
            ],
            "type": "contour"
           }
          ],
          "contourcarpet": [
           {
            "colorbar": {
             "outlinewidth": 0,
             "ticks": ""
            },
            "type": "contourcarpet"
           }
          ],
          "heatmap": [
           {
            "colorbar": {
             "outlinewidth": 0,
             "ticks": ""
            },
            "colorscale": [
             [
              0,
              "#0d0887"
             ],
             [
              0.1111111111111111,
              "#46039f"
             ],
             [
              0.2222222222222222,
              "#7201a8"
             ],
             [
              0.3333333333333333,
              "#9c179e"
             ],
             [
              0.4444444444444444,
              "#bd3786"
             ],
             [
              0.5555555555555556,
              "#d8576b"
             ],
             [
              0.6666666666666666,
              "#ed7953"
             ],
             [
              0.7777777777777778,
              "#fb9f3a"
             ],
             [
              0.8888888888888888,
              "#fdca26"
             ],
             [
              1,
              "#f0f921"
             ]
            ],
            "type": "heatmap"
           }
          ],
          "heatmapgl": [
           {
            "colorbar": {
             "outlinewidth": 0,
             "ticks": ""
            },
            "colorscale": [
             [
              0,
              "#0d0887"
             ],
             [
              0.1111111111111111,
              "#46039f"
             ],
             [
              0.2222222222222222,
              "#7201a8"
             ],
             [
              0.3333333333333333,
              "#9c179e"
             ],
             [
              0.4444444444444444,
              "#bd3786"
             ],
             [
              0.5555555555555556,
              "#d8576b"
             ],
             [
              0.6666666666666666,
              "#ed7953"
             ],
             [
              0.7777777777777778,
              "#fb9f3a"
             ],
             [
              0.8888888888888888,
              "#fdca26"
             ],
             [
              1,
              "#f0f921"
             ]
            ],
            "type": "heatmapgl"
           }
          ],
          "histogram": [
           {
            "marker": {
             "colorbar": {
              "outlinewidth": 0,
              "ticks": ""
             }
            },
            "type": "histogram"
           }
          ],
          "histogram2d": [
           {
            "colorbar": {
             "outlinewidth": 0,
             "ticks": ""
            },
            "colorscale": [
             [
              0,
              "#0d0887"
             ],
             [
              0.1111111111111111,
              "#46039f"
             ],
             [
              0.2222222222222222,
              "#7201a8"
             ],
             [
              0.3333333333333333,
              "#9c179e"
             ],
             [
              0.4444444444444444,
              "#bd3786"
             ],
             [
              0.5555555555555556,
              "#d8576b"
             ],
             [
              0.6666666666666666,
              "#ed7953"
             ],
             [
              0.7777777777777778,
              "#fb9f3a"
             ],
             [
              0.8888888888888888,
              "#fdca26"
             ],
             [
              1,
              "#f0f921"
             ]
            ],
            "type": "histogram2d"
           }
          ],
          "histogram2dcontour": [
           {
            "colorbar": {
             "outlinewidth": 0,
             "ticks": ""
            },
            "colorscale": [
             [
              0,
              "#0d0887"
             ],
             [
              0.1111111111111111,
              "#46039f"
             ],
             [
              0.2222222222222222,
              "#7201a8"
             ],
             [
              0.3333333333333333,
              "#9c179e"
             ],
             [
              0.4444444444444444,
              "#bd3786"
             ],
             [
              0.5555555555555556,
              "#d8576b"
             ],
             [
              0.6666666666666666,
              "#ed7953"
             ],
             [
              0.7777777777777778,
              "#fb9f3a"
             ],
             [
              0.8888888888888888,
              "#fdca26"
             ],
             [
              1,
              "#f0f921"
             ]
            ],
            "type": "histogram2dcontour"
           }
          ],
          "mesh3d": [
           {
            "colorbar": {
             "outlinewidth": 0,
             "ticks": ""
            },
            "type": "mesh3d"
           }
          ],
          "parcoords": [
           {
            "line": {
             "colorbar": {
              "outlinewidth": 0,
              "ticks": ""
             }
            },
            "type": "parcoords"
           }
          ],
          "pie": [
           {
            "automargin": true,
            "type": "pie"
           }
          ],
          "scatter": [
           {
            "marker": {
             "colorbar": {
              "outlinewidth": 0,
              "ticks": ""
             }
            },
            "type": "scatter"
           }
          ],
          "scatter3d": [
           {
            "line": {
             "colorbar": {
              "outlinewidth": 0,
              "ticks": ""
             }
            },
            "marker": {
             "colorbar": {
              "outlinewidth": 0,
              "ticks": ""
             }
            },
            "type": "scatter3d"
           }
          ],
          "scattercarpet": [
           {
            "marker": {
             "colorbar": {
              "outlinewidth": 0,
              "ticks": ""
             }
            },
            "type": "scattercarpet"
           }
          ],
          "scattergeo": [
           {
            "marker": {
             "colorbar": {
              "outlinewidth": 0,
              "ticks": ""
             }
            },
            "type": "scattergeo"
           }
          ],
          "scattergl": [
           {
            "marker": {
             "colorbar": {
              "outlinewidth": 0,
              "ticks": ""
             }
            },
            "type": "scattergl"
           }
          ],
          "scattermapbox": [
           {
            "marker": {
             "colorbar": {
              "outlinewidth": 0,
              "ticks": ""
             }
            },
            "type": "scattermapbox"
           }
          ],
          "scatterpolar": [
           {
            "marker": {
             "colorbar": {
              "outlinewidth": 0,
              "ticks": ""
             }
            },
            "type": "scatterpolar"
           }
          ],
          "scatterpolargl": [
           {
            "marker": {
             "colorbar": {
              "outlinewidth": 0,
              "ticks": ""
             }
            },
            "type": "scatterpolargl"
           }
          ],
          "scatterternary": [
           {
            "marker": {
             "colorbar": {
              "outlinewidth": 0,
              "ticks": ""
             }
            },
            "type": "scatterternary"
           }
          ],
          "surface": [
           {
            "colorbar": {
             "outlinewidth": 0,
             "ticks": ""
            },
            "colorscale": [
             [
              0,
              "#0d0887"
             ],
             [
              0.1111111111111111,
              "#46039f"
             ],
             [
              0.2222222222222222,
              "#7201a8"
             ],
             [
              0.3333333333333333,
              "#9c179e"
             ],
             [
              0.4444444444444444,
              "#bd3786"
             ],
             [
              0.5555555555555556,
              "#d8576b"
             ],
             [
              0.6666666666666666,
              "#ed7953"
             ],
             [
              0.7777777777777778,
              "#fb9f3a"
             ],
             [
              0.8888888888888888,
              "#fdca26"
             ],
             [
              1,
              "#f0f921"
             ]
            ],
            "type": "surface"
           }
          ],
          "table": [
           {
            "cells": {
             "fill": {
              "color": "#EBF0F8"
             },
             "line": {
              "color": "white"
             }
            },
            "header": {
             "fill": {
              "color": "#C8D4E3"
             },
             "line": {
              "color": "white"
             }
            },
            "type": "table"
           }
          ]
         },
         "layout": {
          "annotationdefaults": {
           "arrowcolor": "#2a3f5f",
           "arrowhead": 0,
           "arrowwidth": 1
          },
          "coloraxis": {
           "colorbar": {
            "outlinewidth": 0,
            "ticks": ""
           }
          },
          "colorscale": {
           "diverging": [
            [
             0,
             "#8e0152"
            ],
            [
             0.1,
             "#c51b7d"
            ],
            [
             0.2,
             "#de77ae"
            ],
            [
             0.3,
             "#f1b6da"
            ],
            [
             0.4,
             "#fde0ef"
            ],
            [
             0.5,
             "#f7f7f7"
            ],
            [
             0.6,
             "#e6f5d0"
            ],
            [
             0.7,
             "#b8e186"
            ],
            [
             0.8,
             "#7fbc41"
            ],
            [
             0.9,
             "#4d9221"
            ],
            [
             1,
             "#276419"
            ]
           ],
           "sequential": [
            [
             0,
             "#0d0887"
            ],
            [
             0.1111111111111111,
             "#46039f"
            ],
            [
             0.2222222222222222,
             "#7201a8"
            ],
            [
             0.3333333333333333,
             "#9c179e"
            ],
            [
             0.4444444444444444,
             "#bd3786"
            ],
            [
             0.5555555555555556,
             "#d8576b"
            ],
            [
             0.6666666666666666,
             "#ed7953"
            ],
            [
             0.7777777777777778,
             "#fb9f3a"
            ],
            [
             0.8888888888888888,
             "#fdca26"
            ],
            [
             1,
             "#f0f921"
            ]
           ],
           "sequentialminus": [
            [
             0,
             "#0d0887"
            ],
            [
             0.1111111111111111,
             "#46039f"
            ],
            [
             0.2222222222222222,
             "#7201a8"
            ],
            [
             0.3333333333333333,
             "#9c179e"
            ],
            [
             0.4444444444444444,
             "#bd3786"
            ],
            [
             0.5555555555555556,
             "#d8576b"
            ],
            [
             0.6666666666666666,
             "#ed7953"
            ],
            [
             0.7777777777777778,
             "#fb9f3a"
            ],
            [
             0.8888888888888888,
             "#fdca26"
            ],
            [
             1,
             "#f0f921"
            ]
           ]
          },
          "colorway": [
           "#636efa",
           "#EF553B",
           "#00cc96",
           "#ab63fa",
           "#FFA15A",
           "#19d3f3",
           "#FF6692",
           "#B6E880",
           "#FF97FF",
           "#FECB52"
          ],
          "font": {
           "color": "#2a3f5f"
          },
          "geo": {
           "bgcolor": "white",
           "lakecolor": "white",
           "landcolor": "#E5ECF6",
           "showlakes": true,
           "showland": true,
           "subunitcolor": "white"
          },
          "hoverlabel": {
           "align": "left"
          },
          "hovermode": "closest",
          "mapbox": {
           "style": "light"
          },
          "paper_bgcolor": "white",
          "plot_bgcolor": "#E5ECF6",
          "polar": {
           "angularaxis": {
            "gridcolor": "white",
            "linecolor": "white",
            "ticks": ""
           },
           "bgcolor": "#E5ECF6",
           "radialaxis": {
            "gridcolor": "white",
            "linecolor": "white",
            "ticks": ""
           }
          },
          "scene": {
           "xaxis": {
            "backgroundcolor": "#E5ECF6",
            "gridcolor": "white",
            "gridwidth": 2,
            "linecolor": "white",
            "showbackground": true,
            "ticks": "",
            "zerolinecolor": "white"
           },
           "yaxis": {
            "backgroundcolor": "#E5ECF6",
            "gridcolor": "white",
            "gridwidth": 2,
            "linecolor": "white",
            "showbackground": true,
            "ticks": "",
            "zerolinecolor": "white"
           },
           "zaxis": {
            "backgroundcolor": "#E5ECF6",
            "gridcolor": "white",
            "gridwidth": 2,
            "linecolor": "white",
            "showbackground": true,
            "ticks": "",
            "zerolinecolor": "white"
           }
          },
          "shapedefaults": {
           "line": {
            "color": "#2a3f5f"
           }
          },
          "ternary": {
           "aaxis": {
            "gridcolor": "white",
            "linecolor": "white",
            "ticks": ""
           },
           "baxis": {
            "gridcolor": "white",
            "linecolor": "white",
            "ticks": ""
           },
           "bgcolor": "#E5ECF6",
           "caxis": {
            "gridcolor": "white",
            "linecolor": "white",
            "ticks": ""
           }
          },
          "title": {
           "x": 0.05
          },
          "xaxis": {
           "automargin": true,
           "gridcolor": "white",
           "linecolor": "white",
           "ticks": "",
           "title": {
            "standoff": 15
           },
           "zerolinecolor": "white",
           "zerolinewidth": 2
          },
          "yaxis": {
           "automargin": true,
           "gridcolor": "white",
           "linecolor": "white",
           "ticks": "",
           "title": {
            "standoff": 15
           },
           "zerolinecolor": "white",
           "zerolinewidth": 2
          }
         }
        },
        "title": {
         "text": "COVID-19 case details State wise"
        },
        "xaxis": {
         "anchor": "y",
         "domain": [
          0,
          0.45
         ],
         "matches": "x3",
         "showticklabels": false
        },
        "xaxis2": {
         "anchor": "y2",
         "domain": [
          0.55,
          1
         ],
         "matches": "x4",
         "showticklabels": false
        },
        "xaxis3": {
         "anchor": "y3",
         "domain": [
          0,
          0.45
         ]
        },
        "xaxis4": {
         "anchor": "y4",
         "domain": [
          0.55,
          1
         ]
        },
        "yaxis": {
         "anchor": "x",
         "domain": [
          0.575,
          1
         ]
        },
        "yaxis2": {
         "anchor": "x2",
         "domain": [
          0.575,
          1
         ]
        },
        "yaxis3": {
         "anchor": "x3",
         "domain": [
          0,
          0.425
         ]
        },
        "yaxis4": {
         "anchor": "x4",
         "domain": [
          0,
          0.425
         ]
        }
       }
      },
      "text/html": [
       "<div>\n",
       "        \n",
       "        \n",
       "            <div id=\"ee4e2224-5572-447b-8cd4-46bb4da33c65\" class=\"plotly-graph-div\" style=\"height:525px; width:100%;\"></div>\n",
       "            <script type=\"text/javascript\">\n",
       "                require([\"plotly\"], function(Plotly) {\n",
       "                    window.PLOTLYENV=window.PLOTLYENV || {};\n",
       "                    \n",
       "                if (document.getElementById(\"ee4e2224-5572-447b-8cd4-46bb4da33c65\")) {\n",
       "                    Plotly.newPlot(\n",
       "                        'ee4e2224-5572-447b-8cd4-46bb4da33c65',\n",
       "                        [{\"name\": \"Active Cases\", \"type\": \"bar\", \"x\": [\"Andaman Nicobar\", \"Andhra Pradesh\", \"Arunachal Pradesh\", \"Assam\", \"Bihar\", \"Chandigarh\", \"Chattisgarh\", \"DN\", \"Daman & Diu\", \"Delhi\", \"Goa\", \"Gujarat\", \"Haryana\", \"Himachal Pradesh\", \"Jammu And Kashmir\", \"JH\", \"Karnataka\", \"Kerela\", \"Ladakh\", \"LD\", \"Madhya Pradesh\", \"Maharashtra\", \"Manipur\", \"Meghalaya\", \"Mizoram\", \"Nagaland\", \"Orissa\", \"Puducherry\", \"Punjab\", \"Rajasthan\", \"Sikkim\", \"Tamil Nadu\", \"Telegana\", \"Tripura\", \"Uttar Pradesh\", \"Uttarakhand\", \"West Bengal\"], \"xaxis\": \"x\", \"y\": [478, 99129, 1205, 21445, 17020, 1807, 13520, 298, 0, 14793, 3635, 15290, 10981, 1502, 7959, 11552, 88102, 23723, 847, 0, 13591, 193890, 1845, 1284, 419, 897, 27166, 4412, 15375, 14091, 416, 52721, 30774, 3993, 54666, 5974, 25657], \"yaxis\": \"y\"}, {\"name\": \"Confirmed Cases\", \"type\": \"bar\", \"x\": [\"Andaman Nicobar\", \"Andhra Pradesh\", \"Arunachal Pradesh\", \"Assam\", \"Bihar\", \"Chandigarh\", \"Chattisgarh\", \"DN\", \"Daman & Diu\", \"Delhi\", \"Goa\", \"Gujarat\", \"Haryana\", \"Himachal Pradesh\", \"Jammu And Kashmir\", \"JH\", \"Karnataka\", \"Kerela\", \"Ladakh\", \"LD\", \"Madhya Pradesh\", \"Maharashtra\", \"Manipur\", \"Meghalaya\", \"Mizoram\", \"Nagaland\", \"Orissa\", \"Puducherry\", \"Punjab\", \"Rajasthan\", \"Sikkim\", \"Tamil Nadu\", \"Telegana\", \"Tripura\", \"Uttar Pradesh\", \"Uttarakhand\", \"West Bengal\"], \"xaxis\": \"x2\", \"y\": [3100, 424767, 4034, 105673, 135013, 4155, 30092, 2342, 0, 173390, 17004, 95155, 63282, 5945, 37163, 38410, 335928, 73855, 2638, 0, 62433, 780689, 6112, 2343, 1008, 3922, 100934, 13601, 52526, 80227, 1615, 422085, 122580, 11323, 225632, 19235, 159785], \"yaxis\": \"y2\"}, {\"name\": \"Recovered Cases\", \"type\": \"bar\", \"x\": [\"Andaman Nicobar\", \"Andhra Pradesh\", \"Arunachal Pradesh\", \"Assam\", \"Bihar\", \"Chandigarh\", \"Chattisgarh\", \"DN\", \"Daman & Diu\", \"Delhi\", \"Goa\", \"Gujarat\", \"Haryana\", \"Himachal Pradesh\", \"Jammu And Kashmir\", \"JH\", \"Karnataka\", \"Kerela\", \"Ladakh\", \"LD\", \"Madhya Pradesh\", \"Maharashtra\", \"Manipur\", \"Meghalaya\", \"Mizoram\", \"Nagaland\", \"Orissa\", \"Puducherry\", \"Punjab\", \"Rajasthan\", \"Sikkim\", \"Tamil Nadu\", \"Telegana\", \"Tripura\", \"Uttar Pradesh\", \"Uttarakhand\", \"West Bengal\"], \"xaxis\": \"x3\", \"y\": [2577, 321754, 2822, 83928, 117305, 2296, 16303, 2042, 0, 154171, 13186, 76858, 51619, 4409, 28510, 26448, 242230, 49844, 1757, 0, 47467, 562401, 4239, 1049, 589, 3017, 73233, 8968, 35747, 65093, 1196, 362133, 90988, 7232, 167543, 13004, 130952], \"yaxis\": \"y3\"}, {\"name\": \"Deceased Cases\", \"type\": \"bar\", \"x\": [\"Andaman Nicobar\", \"Andhra Pradesh\", \"Arunachal Pradesh\", \"Assam\", \"Bihar\", \"Chandigarh\", \"Chattisgarh\", \"DN\", \"Daman & Diu\", \"Delhi\", \"Goa\", \"Gujarat\", \"Haryana\", \"Himachal Pradesh\", \"Jammu And Kashmir\", \"JH\", \"Karnataka\", \"Kerela\", \"Ladakh\", \"LD\", \"Madhya Pradesh\", \"Maharashtra\", \"Manipur\", \"Meghalaya\", \"Mizoram\", \"Nagaland\", \"Orissa\", \"Puducherry\", \"Punjab\", \"Rajasthan\", \"Sikkim\", \"Tamil Nadu\", \"Telegana\", \"Tripura\", \"Uttar Pradesh\", \"Uttarakhand\", \"West Bengal\"], \"xaxis\": \"x4\", \"y\": [45, 3884, 7, 300, 688, 52, 269, 2, 0, 4426, 183, 3007, 682, 34, 694, 410, 5596, 288, 34, 0, 1375, 24398, 28, 10, 0, 8, 535, 221, 1404, 1043, 3, 7231, 818, 98, 3423, 257, 3176], \"yaxis\": \"y4\"}],\n",
       "                        {\"template\": {\"data\": {\"bar\": [{\"error_x\": {\"color\": \"#2a3f5f\"}, \"error_y\": {\"color\": \"#2a3f5f\"}, \"marker\": {\"line\": {\"color\": \"#E5ECF6\", \"width\": 0.5}}, \"type\": \"bar\"}], \"barpolar\": [{\"marker\": {\"line\": {\"color\": \"#E5ECF6\", \"width\": 0.5}}, \"type\": \"barpolar\"}], \"carpet\": [{\"aaxis\": {\"endlinecolor\": \"#2a3f5f\", \"gridcolor\": \"white\", \"linecolor\": \"white\", \"minorgridcolor\": \"white\", \"startlinecolor\": \"#2a3f5f\"}, \"baxis\": {\"endlinecolor\": \"#2a3f5f\", \"gridcolor\": \"white\", \"linecolor\": \"white\", \"minorgridcolor\": \"white\", \"startlinecolor\": \"#2a3f5f\"}, \"type\": \"carpet\"}], \"choropleth\": [{\"colorbar\": {\"outlinewidth\": 0, \"ticks\": \"\"}, \"type\": \"choropleth\"}], \"contour\": [{\"colorbar\": {\"outlinewidth\": 0, \"ticks\": \"\"}, \"colorscale\": [[0.0, \"#0d0887\"], [0.1111111111111111, \"#46039f\"], [0.2222222222222222, \"#7201a8\"], [0.3333333333333333, \"#9c179e\"], [0.4444444444444444, \"#bd3786\"], [0.5555555555555556, \"#d8576b\"], [0.6666666666666666, \"#ed7953\"], [0.7777777777777778, \"#fb9f3a\"], [0.8888888888888888, \"#fdca26\"], [1.0, \"#f0f921\"]], \"type\": \"contour\"}], \"contourcarpet\": [{\"colorbar\": {\"outlinewidth\": 0, \"ticks\": \"\"}, \"type\": \"contourcarpet\"}], \"heatmap\": [{\"colorbar\": {\"outlinewidth\": 0, \"ticks\": \"\"}, \"colorscale\": [[0.0, \"#0d0887\"], [0.1111111111111111, \"#46039f\"], [0.2222222222222222, \"#7201a8\"], [0.3333333333333333, \"#9c179e\"], [0.4444444444444444, \"#bd3786\"], [0.5555555555555556, \"#d8576b\"], [0.6666666666666666, \"#ed7953\"], [0.7777777777777778, \"#fb9f3a\"], [0.8888888888888888, \"#fdca26\"], [1.0, \"#f0f921\"]], \"type\": \"heatmap\"}], \"heatmapgl\": [{\"colorbar\": {\"outlinewidth\": 0, \"ticks\": \"\"}, \"colorscale\": [[0.0, \"#0d0887\"], [0.1111111111111111, \"#46039f\"], [0.2222222222222222, \"#7201a8\"], [0.3333333333333333, \"#9c179e\"], [0.4444444444444444, \"#bd3786\"], [0.5555555555555556, \"#d8576b\"], [0.6666666666666666, \"#ed7953\"], [0.7777777777777778, \"#fb9f3a\"], [0.8888888888888888, \"#fdca26\"], [1.0, \"#f0f921\"]], \"type\": \"heatmapgl\"}], \"histogram\": [{\"marker\": {\"colorbar\": {\"outlinewidth\": 0, \"ticks\": \"\"}}, \"type\": \"histogram\"}], \"histogram2d\": [{\"colorbar\": {\"outlinewidth\": 0, \"ticks\": \"\"}, \"colorscale\": [[0.0, \"#0d0887\"], [0.1111111111111111, \"#46039f\"], [0.2222222222222222, \"#7201a8\"], [0.3333333333333333, \"#9c179e\"], [0.4444444444444444, \"#bd3786\"], [0.5555555555555556, \"#d8576b\"], [0.6666666666666666, \"#ed7953\"], [0.7777777777777778, \"#fb9f3a\"], [0.8888888888888888, \"#fdca26\"], [1.0, \"#f0f921\"]], \"type\": \"histogram2d\"}], \"histogram2dcontour\": [{\"colorbar\": {\"outlinewidth\": 0, \"ticks\": \"\"}, \"colorscale\": [[0.0, \"#0d0887\"], [0.1111111111111111, \"#46039f\"], [0.2222222222222222, \"#7201a8\"], [0.3333333333333333, \"#9c179e\"], [0.4444444444444444, \"#bd3786\"], [0.5555555555555556, \"#d8576b\"], [0.6666666666666666, \"#ed7953\"], [0.7777777777777778, \"#fb9f3a\"], [0.8888888888888888, \"#fdca26\"], [1.0, \"#f0f921\"]], \"type\": \"histogram2dcontour\"}], \"mesh3d\": [{\"colorbar\": {\"outlinewidth\": 0, \"ticks\": \"\"}, \"type\": \"mesh3d\"}], \"parcoords\": [{\"line\": {\"colorbar\": {\"outlinewidth\": 0, \"ticks\": \"\"}}, \"type\": \"parcoords\"}], \"pie\": [{\"automargin\": true, \"type\": \"pie\"}], \"scatter\": [{\"marker\": {\"colorbar\": {\"outlinewidth\": 0, \"ticks\": \"\"}}, \"type\": \"scatter\"}], \"scatter3d\": [{\"line\": {\"colorbar\": {\"outlinewidth\": 0, \"ticks\": \"\"}}, \"marker\": {\"colorbar\": {\"outlinewidth\": 0, \"ticks\": \"\"}}, \"type\": \"scatter3d\"}], \"scattercarpet\": [{\"marker\": {\"colorbar\": {\"outlinewidth\": 0, \"ticks\": \"\"}}, \"type\": \"scattercarpet\"}], \"scattergeo\": [{\"marker\": {\"colorbar\": {\"outlinewidth\": 0, \"ticks\": \"\"}}, \"type\": \"scattergeo\"}], \"scattergl\": [{\"marker\": {\"colorbar\": {\"outlinewidth\": 0, \"ticks\": \"\"}}, \"type\": \"scattergl\"}], \"scattermapbox\": [{\"marker\": {\"colorbar\": {\"outlinewidth\": 0, \"ticks\": \"\"}}, \"type\": \"scattermapbox\"}], \"scatterpolar\": [{\"marker\": {\"colorbar\": {\"outlinewidth\": 0, \"ticks\": \"\"}}, \"type\": \"scatterpolar\"}], \"scatterpolargl\": [{\"marker\": {\"colorbar\": {\"outlinewidth\": 0, \"ticks\": \"\"}}, \"type\": \"scatterpolargl\"}], \"scatterternary\": [{\"marker\": {\"colorbar\": {\"outlinewidth\": 0, \"ticks\": \"\"}}, \"type\": \"scatterternary\"}], \"surface\": [{\"colorbar\": {\"outlinewidth\": 0, \"ticks\": \"\"}, \"colorscale\": [[0.0, \"#0d0887\"], [0.1111111111111111, \"#46039f\"], [0.2222222222222222, \"#7201a8\"], [0.3333333333333333, \"#9c179e\"], [0.4444444444444444, \"#bd3786\"], [0.5555555555555556, \"#d8576b\"], [0.6666666666666666, \"#ed7953\"], [0.7777777777777778, \"#fb9f3a\"], [0.8888888888888888, \"#fdca26\"], [1.0, \"#f0f921\"]], \"type\": \"surface\"}], \"table\": [{\"cells\": {\"fill\": {\"color\": \"#EBF0F8\"}, \"line\": {\"color\": \"white\"}}, \"header\": {\"fill\": {\"color\": \"#C8D4E3\"}, \"line\": {\"color\": \"white\"}}, \"type\": \"table\"}]}, \"layout\": {\"annotationdefaults\": {\"arrowcolor\": \"#2a3f5f\", \"arrowhead\": 0, \"arrowwidth\": 1}, \"coloraxis\": {\"colorbar\": {\"outlinewidth\": 0, \"ticks\": \"\"}}, \"colorscale\": {\"diverging\": [[0, \"#8e0152\"], [0.1, \"#c51b7d\"], [0.2, \"#de77ae\"], [0.3, \"#f1b6da\"], [0.4, \"#fde0ef\"], [0.5, \"#f7f7f7\"], [0.6, \"#e6f5d0\"], [0.7, \"#b8e186\"], [0.8, \"#7fbc41\"], [0.9, \"#4d9221\"], [1, \"#276419\"]], \"sequential\": [[0.0, \"#0d0887\"], [0.1111111111111111, \"#46039f\"], [0.2222222222222222, \"#7201a8\"], [0.3333333333333333, \"#9c179e\"], [0.4444444444444444, \"#bd3786\"], [0.5555555555555556, \"#d8576b\"], [0.6666666666666666, \"#ed7953\"], [0.7777777777777778, \"#fb9f3a\"], [0.8888888888888888, \"#fdca26\"], [1.0, \"#f0f921\"]], \"sequentialminus\": [[0.0, \"#0d0887\"], [0.1111111111111111, \"#46039f\"], [0.2222222222222222, \"#7201a8\"], [0.3333333333333333, \"#9c179e\"], [0.4444444444444444, \"#bd3786\"], [0.5555555555555556, \"#d8576b\"], [0.6666666666666666, \"#ed7953\"], [0.7777777777777778, \"#fb9f3a\"], [0.8888888888888888, \"#fdca26\"], [1.0, \"#f0f921\"]]}, \"colorway\": [\"#636efa\", \"#EF553B\", \"#00cc96\", \"#ab63fa\", \"#FFA15A\", \"#19d3f3\", \"#FF6692\", \"#B6E880\", \"#FF97FF\", \"#FECB52\"], \"font\": {\"color\": \"#2a3f5f\"}, \"geo\": {\"bgcolor\": \"white\", \"lakecolor\": \"white\", \"landcolor\": \"#E5ECF6\", \"showlakes\": true, \"showland\": true, \"subunitcolor\": \"white\"}, \"hoverlabel\": {\"align\": \"left\"}, \"hovermode\": \"closest\", \"mapbox\": {\"style\": \"light\"}, \"paper_bgcolor\": \"white\", \"plot_bgcolor\": \"#E5ECF6\", \"polar\": {\"angularaxis\": {\"gridcolor\": \"white\", \"linecolor\": \"white\", \"ticks\": \"\"}, \"bgcolor\": \"#E5ECF6\", \"radialaxis\": {\"gridcolor\": \"white\", \"linecolor\": \"white\", \"ticks\": \"\"}}, \"scene\": {\"xaxis\": {\"backgroundcolor\": \"#E5ECF6\", \"gridcolor\": \"white\", \"gridwidth\": 2, \"linecolor\": \"white\", \"showbackground\": true, \"ticks\": \"\", \"zerolinecolor\": \"white\"}, \"yaxis\": {\"backgroundcolor\": \"#E5ECF6\", \"gridcolor\": \"white\", \"gridwidth\": 2, \"linecolor\": \"white\", \"showbackground\": true, \"ticks\": \"\", \"zerolinecolor\": \"white\"}, \"zaxis\": {\"backgroundcolor\": \"#E5ECF6\", \"gridcolor\": \"white\", \"gridwidth\": 2, \"linecolor\": \"white\", \"showbackground\": true, \"ticks\": \"\", \"zerolinecolor\": \"white\"}}, \"shapedefaults\": {\"line\": {\"color\": \"#2a3f5f\"}}, \"ternary\": {\"aaxis\": {\"gridcolor\": \"white\", \"linecolor\": \"white\", \"ticks\": \"\"}, \"baxis\": {\"gridcolor\": \"white\", \"linecolor\": \"white\", \"ticks\": \"\"}, \"bgcolor\": \"#E5ECF6\", \"caxis\": {\"gridcolor\": \"white\", \"linecolor\": \"white\", \"ticks\": \"\"}}, \"title\": {\"x\": 0.05}, \"xaxis\": {\"automargin\": true, \"gridcolor\": \"white\", \"linecolor\": \"white\", \"ticks\": \"\", \"title\": {\"standoff\": 15}, \"zerolinecolor\": \"white\", \"zerolinewidth\": 2}, \"yaxis\": {\"automargin\": true, \"gridcolor\": \"white\", \"linecolor\": \"white\", \"ticks\": \"\", \"title\": {\"standoff\": 15}, \"zerolinecolor\": \"white\", \"zerolinewidth\": 2}}}, \"title\": {\"text\": \"COVID-19 case details State wise\"}, \"xaxis\": {\"anchor\": \"y\", \"domain\": [0.0, 0.45], \"matches\": \"x3\", \"showticklabels\": false}, \"xaxis2\": {\"anchor\": \"y2\", \"domain\": [0.55, 1.0], \"matches\": \"x4\", \"showticklabels\": false}, \"xaxis3\": {\"anchor\": \"y3\", \"domain\": [0.0, 0.45]}, \"xaxis4\": {\"anchor\": \"y4\", \"domain\": [0.55, 1.0]}, \"yaxis\": {\"anchor\": \"x\", \"domain\": [0.575, 1.0]}, \"yaxis2\": {\"anchor\": \"x2\", \"domain\": [0.575, 1.0]}, \"yaxis3\": {\"anchor\": \"x3\", \"domain\": [0.0, 0.425]}, \"yaxis4\": {\"anchor\": \"x4\", \"domain\": [0.0, 0.425]}},\n",
       "                        {\"responsive\": true}\n",
       "                    ).then(function(){\n",
       "                            \n",
       "var gd = document.getElementById('ee4e2224-5572-447b-8cd4-46bb4da33c65');\n",
       "var x = new MutationObserver(function (mutations, observer) {{\n",
       "        var display = window.getComputedStyle(gd).display;\n",
       "        if (!display || display === 'none') {{\n",
       "            console.log([gd, 'removed!']);\n",
       "            Plotly.purge(gd);\n",
       "            observer.disconnect();\n",
       "        }}\n",
       "}});\n",
       "\n",
       "// Listen for the removal of the full notebook cells\n",
       "var notebookContainer = gd.closest('#notebook-container');\n",
       "if (notebookContainer) {{\n",
       "    x.observe(notebookContainer, {childList: true});\n",
       "}}\n",
       "\n",
       "// Listen for the clearing of the current output cell\n",
       "var outputEl = gd.closest('.output');\n",
       "if (outputEl) {{\n",
       "    x.observe(outputEl, {childList: true});\n",
       "}}\n",
       "\n",
       "                        })\n",
       "                };\n",
       "                });\n",
       "            </script>\n",
       "        </div>"
      ]
     },
     "metadata": {},
     "output_type": "display_data"
    }
   ],
   "source": [
    "fig=make_subplots(rows=2,cols=2,shared_xaxes=True)\n",
    "barchart1=go.Bar(x=final_df.index,y=final_df['Confirmed Cases'],name='Confirmed Cases')\n",
    "barchart2=go.Bar(x=final_df.index,y=final_df['Recovered Cases'],name='Recovered Cases')\n",
    "barchart3=go.Bar(x=final_df.index,y=final_df['Deceased Cases'],name='Deceased Cases')\n",
    "barchart4 = go.Bar(x=final_df.index, y=final_df['Active Cases'], name='Active Cases')\n",
    "layout=go.Layout(title='Total Confirmed Cases in Each State')\n",
    "fig.add_trace(barchart4,1,1)\n",
    "fig.add_trace(barchart1, 1, 2)\n",
    "fig.add_trace(barchart2, 2, 1)\n",
    "fig.add_trace(barchart3, 2, 2)\n",
    "fig.update_layout( title_text=\"COVID-19 case details State wise\")\n",
    "fig.show()\n"
   ]
  },
  {
   "cell_type": "markdown",
   "metadata": {},
   "source": [
    "#### The output is shown in the covid19_project.pdf as the plotly output is not supported in github"
   ]
  },
  {
   "cell_type": "markdown",
   "metadata": {},
   "source": [
    "## COVID-19 Cases/million"
   ]
  },
  {
   "cell_type": "markdown",
   "metadata": {},
   "source": [
    "So, now we will see the number of Confirmed Cases per million(i.e. 10 Lakh) population. The data is arranged in such a manner that States having the highest Cases/million ratio are on the top i.e the data is arranged in a descending manner."
   ]
  },
  {
   "cell_type": "code",
   "execution_count": 34,
   "metadata": {},
   "outputs": [
    {
     "data": {
      "text/html": [
       "<div>\n",
       "<style scoped>\n",
       "    .dataframe tbody tr th:only-of-type {\n",
       "        vertical-align: middle;\n",
       "    }\n",
       "\n",
       "    .dataframe tbody tr th {\n",
       "        vertical-align: top;\n",
       "    }\n",
       "\n",
       "    .dataframe thead th {\n",
       "        text-align: right;\n",
       "    }\n",
       "</style>\n",
       "<table border=\"1\" class=\"dataframe\">\n",
       "  <thead>\n",
       "    <tr style=\"text-align: right;\">\n",
       "      <th></th>\n",
       "      <th>State</th>\n",
       "      <th>Confirmed Cases</th>\n",
       "      <th>Recovered Cases</th>\n",
       "      <th>Deceased Cases</th>\n",
       "      <th>Active Cases</th>\n",
       "      <th>Recovered Ratio(in %)</th>\n",
       "      <th>Active Ratio(in %)</th>\n",
       "      <th>Deceased Ratio(in %)</th>\n",
       "      <th>Population</th>\n",
       "      <th>Area (per sq km)</th>\n",
       "      <th>Cases/million</th>\n",
       "    </tr>\n",
       "  </thead>\n",
       "  <tbody>\n",
       "    <tr>\n",
       "      <th>8</th>\n",
       "      <td>Assam</td>\n",
       "      <td>105673</td>\n",
       "      <td>83928</td>\n",
       "      <td>300</td>\n",
       "      <td>21445</td>\n",
       "      <td>79.4</td>\n",
       "      <td>20.3</td>\n",
       "      <td>0.3</td>\n",
       "      <td>6755448</td>\n",
       "      <td>78438</td>\n",
       "      <td>15,642.6</td>\n",
       "    </tr>\n",
       "    <tr>\n",
       "      <th>23</th>\n",
       "      <td>Ladakh</td>\n",
       "      <td>2638</td>\n",
       "      <td>1757</td>\n",
       "      <td>34</td>\n",
       "      <td>847</td>\n",
       "      <td>66.6</td>\n",
       "      <td>32.1</td>\n",
       "      <td>1.3</td>\n",
       "      <td>210156</td>\n",
       "      <td>59146</td>\n",
       "      <td>12,552.6</td>\n",
       "    </tr>\n",
       "    <tr>\n",
       "      <th>15</th>\n",
       "      <td>Goa</td>\n",
       "      <td>17004</td>\n",
       "      <td>13186</td>\n",
       "      <td>183</td>\n",
       "      <td>3635</td>\n",
       "      <td>77.5</td>\n",
       "      <td>21.4</td>\n",
       "      <td>1.1</td>\n",
       "      <td>1587012</td>\n",
       "      <td>3702</td>\n",
       "      <td>10,714.5</td>\n",
       "    </tr>\n",
       "    <tr>\n",
       "      <th>16</th>\n",
       "      <td>Puducherry</td>\n",
       "      <td>13601</td>\n",
       "      <td>8968</td>\n",
       "      <td>221</td>\n",
       "      <td>4412</td>\n",
       "      <td>65.9</td>\n",
       "      <td>32.4</td>\n",
       "      <td>1.6</td>\n",
       "      <td>1286189</td>\n",
       "      <td>490</td>\n",
       "      <td>10,574.7</td>\n",
       "    </tr>\n",
       "    <tr>\n",
       "      <th>1</th>\n",
       "      <td>Andhra Pradesh</td>\n",
       "      <td>424767</td>\n",
       "      <td>321754</td>\n",
       "      <td>3884</td>\n",
       "      <td>99129</td>\n",
       "      <td>75.7</td>\n",
       "      <td>23.3</td>\n",
       "      <td>0.9</td>\n",
       "      <td>49145456</td>\n",
       "      <td>162970</td>\n",
       "      <td>8,643.1</td>\n",
       "    </tr>\n",
       "    <tr>\n",
       "      <th>5</th>\n",
       "      <td>Delhi</td>\n",
       "      <td>173390</td>\n",
       "      <td>154171</td>\n",
       "      <td>4426</td>\n",
       "      <td>14793</td>\n",
       "      <td>88.9</td>\n",
       "      <td>8.5</td>\n",
       "      <td>2.6</td>\n",
       "      <td>21763471</td>\n",
       "      <td>1483</td>\n",
       "      <td>7,967.0</td>\n",
       "    </tr>\n",
       "    <tr>\n",
       "      <th>0</th>\n",
       "      <td>Maharashtra</td>\n",
       "      <td>780689</td>\n",
       "      <td>562401</td>\n",
       "      <td>24398</td>\n",
       "      <td>193890</td>\n",
       "      <td>72.0</td>\n",
       "      <td>24.8</td>\n",
       "      <td>3.1</td>\n",
       "      <td>114063427</td>\n",
       "      <td>307713</td>\n",
       "      <td>6,844.3</td>\n",
       "    </tr>\n",
       "    <tr>\n",
       "      <th>2</th>\n",
       "      <td>Tamil Nadu</td>\n",
       "      <td>422085</td>\n",
       "      <td>362133</td>\n",
       "      <td>7231</td>\n",
       "      <td>52721</td>\n",
       "      <td>85.8</td>\n",
       "      <td>12.5</td>\n",
       "      <td>1.7</td>\n",
       "      <td>72344821</td>\n",
       "      <td>130060</td>\n",
       "      <td>5,834.3</td>\n",
       "    </tr>\n",
       "    <tr>\n",
       "      <th>3</th>\n",
       "      <td>Karnataka</td>\n",
       "      <td>335928</td>\n",
       "      <td>242230</td>\n",
       "      <td>5596</td>\n",
       "      <td>88102</td>\n",
       "      <td>72.1</td>\n",
       "      <td>26.2</td>\n",
       "      <td>1.7</td>\n",
       "      <td>62462743</td>\n",
       "      <td>191791</td>\n",
       "      <td>5,378.1</td>\n",
       "    </tr>\n",
       "    <tr>\n",
       "      <th>20</th>\n",
       "      <td>Chandigarh</td>\n",
       "      <td>4155</td>\n",
       "      <td>2296</td>\n",
       "      <td>52</td>\n",
       "      <td>1807</td>\n",
       "      <td>55.3</td>\n",
       "      <td>43.5</td>\n",
       "      <td>1.3</td>\n",
       "      <td>1131522</td>\n",
       "      <td>114</td>\n",
       "      <td>3,672.0</td>\n",
       "    </tr>\n",
       "    <tr>\n",
       "      <th>21</th>\n",
       "      <td>Arunachal Pradesh</td>\n",
       "      <td>4034</td>\n",
       "      <td>2822</td>\n",
       "      <td>7</td>\n",
       "      <td>1205</td>\n",
       "      <td>70.0</td>\n",
       "      <td>29.9</td>\n",
       "      <td>0.2</td>\n",
       "      <td>1229964</td>\n",
       "      <td>83743</td>\n",
       "      <td>3,279.8</td>\n",
       "    </tr>\n",
       "    <tr>\n",
       "      <th>22</th>\n",
       "      <td>Nagaland</td>\n",
       "      <td>3922</td>\n",
       "      <td>3017</td>\n",
       "      <td>8</td>\n",
       "      <td>897</td>\n",
       "      <td>76.9</td>\n",
       "      <td>22.9</td>\n",
       "      <td>0.2</td>\n",
       "      <td>1262729</td>\n",
       "      <td>16579</td>\n",
       "      <td>3,106.0</td>\n",
       "    </tr>\n",
       "    <tr>\n",
       "      <th>17</th>\n",
       "      <td>Tripura</td>\n",
       "      <td>11323</td>\n",
       "      <td>7232</td>\n",
       "      <td>98</td>\n",
       "      <td>3993</td>\n",
       "      <td>63.9</td>\n",
       "      <td>35.3</td>\n",
       "      <td>0.9</td>\n",
       "      <td>3672693</td>\n",
       "      <td>10486</td>\n",
       "      <td>3,083.0</td>\n",
       "    </tr>\n",
       "    <tr>\n",
       "      <th>25</th>\n",
       "      <td>Sikkim</td>\n",
       "      <td>1615</td>\n",
       "      <td>1196</td>\n",
       "      <td>3</td>\n",
       "      <td>416</td>\n",
       "      <td>74.1</td>\n",
       "      <td>25.8</td>\n",
       "      <td>0.2</td>\n",
       "      <td>578914</td>\n",
       "      <td>7096</td>\n",
       "      <td>2,789.7</td>\n",
       "    </tr>\n",
       "    <tr>\n",
       "      <th>18</th>\n",
       "      <td>Manipur</td>\n",
       "      <td>6112</td>\n",
       "      <td>4239</td>\n",
       "      <td>28</td>\n",
       "      <td>1845</td>\n",
       "      <td>69.4</td>\n",
       "      <td>30.2</td>\n",
       "      <td>0.5</td>\n",
       "      <td>2515724</td>\n",
       "      <td>22327</td>\n",
       "      <td>2,429.5</td>\n",
       "    </tr>\n",
       "    <tr>\n",
       "      <th>24</th>\n",
       "      <td>Meghalaya</td>\n",
       "      <td>2343</td>\n",
       "      <td>1049</td>\n",
       "      <td>10</td>\n",
       "      <td>1284</td>\n",
       "      <td>44.8</td>\n",
       "      <td>54.8</td>\n",
       "      <td>0.4</td>\n",
       "      <td>978281</td>\n",
       "      <td>22429</td>\n",
       "      <td>2,395.0</td>\n",
       "    </tr>\n",
       "    <tr>\n",
       "      <th>11</th>\n",
       "      <td>Haryana</td>\n",
       "      <td>63282</td>\n",
       "      <td>51619</td>\n",
       "      <td>682</td>\n",
       "      <td>10981</td>\n",
       "      <td>81.6</td>\n",
       "      <td>17.4</td>\n",
       "      <td>1.1</td>\n",
       "      <td>28941133</td>\n",
       "      <td>44212</td>\n",
       "      <td>2,186.6</td>\n",
       "    </tr>\n",
       "    <tr>\n",
       "      <th>6</th>\n",
       "      <td>West Bengal</td>\n",
       "      <td>159785</td>\n",
       "      <td>130952</td>\n",
       "      <td>3176</td>\n",
       "      <td>25657</td>\n",
       "      <td>82.0</td>\n",
       "      <td>16.1</td>\n",
       "      <td>2.0</td>\n",
       "      <td>91928327</td>\n",
       "      <td>88752</td>\n",
       "      <td>1,738.1</td>\n",
       "    </tr>\n",
       "    <tr>\n",
       "      <th>14</th>\n",
       "      <td>Uttarakhand</td>\n",
       "      <td>19235</td>\n",
       "      <td>13004</td>\n",
       "      <td>257</td>\n",
       "      <td>5974</td>\n",
       "      <td>67.6</td>\n",
       "      <td>31.1</td>\n",
       "      <td>1.3</td>\n",
       "      <td>11082791</td>\n",
       "      <td>53483</td>\n",
       "      <td>1,735.6</td>\n",
       "    </tr>\n",
       "    <tr>\n",
       "      <th>13</th>\n",
       "      <td>Punjab</td>\n",
       "      <td>52526</td>\n",
       "      <td>35747</td>\n",
       "      <td>1404</td>\n",
       "      <td>15375</td>\n",
       "      <td>68.1</td>\n",
       "      <td>29.3</td>\n",
       "      <td>2.7</td>\n",
       "      <td>30355185</td>\n",
       "      <td>50362</td>\n",
       "      <td>1,730.4</td>\n",
       "    </tr>\n",
       "    <tr>\n",
       "      <th>9</th>\n",
       "      <td>Gujarat</td>\n",
       "      <td>95155</td>\n",
       "      <td>76858</td>\n",
       "      <td>3007</td>\n",
       "      <td>15290</td>\n",
       "      <td>80.8</td>\n",
       "      <td>16.1</td>\n",
       "      <td>3.2</td>\n",
       "      <td>62097024</td>\n",
       "      <td>196244</td>\n",
       "      <td>1,532.4</td>\n",
       "    </tr>\n",
       "    <tr>\n",
       "      <th>7</th>\n",
       "      <td>Bihar</td>\n",
       "      <td>135013</td>\n",
       "      <td>117305</td>\n",
       "      <td>688</td>\n",
       "      <td>17020</td>\n",
       "      <td>86.9</td>\n",
       "      <td>12.6</td>\n",
       "      <td>0.5</td>\n",
       "      <td>102714667</td>\n",
       "      <td>94163</td>\n",
       "      <td>1,314.4</td>\n",
       "    </tr>\n",
       "    <tr>\n",
       "      <th>10</th>\n",
       "      <td>Rajasthan</td>\n",
       "      <td>80227</td>\n",
       "      <td>65093</td>\n",
       "      <td>1043</td>\n",
       "      <td>14091</td>\n",
       "      <td>81.1</td>\n",
       "      <td>17.6</td>\n",
       "      <td>1.3</td>\n",
       "      <td>68936999</td>\n",
       "      <td>342239</td>\n",
       "      <td>1,163.8</td>\n",
       "    </tr>\n",
       "    <tr>\n",
       "      <th>4</th>\n",
       "      <td>Uttar Pradesh</td>\n",
       "      <td>225632</td>\n",
       "      <td>167543</td>\n",
       "      <td>3423</td>\n",
       "      <td>54666</td>\n",
       "      <td>74.3</td>\n",
       "      <td>24.2</td>\n",
       "      <td>1.5</td>\n",
       "      <td>203757489</td>\n",
       "      <td>240928</td>\n",
       "      <td>1,107.4</td>\n",
       "    </tr>\n",
       "    <tr>\n",
       "      <th>26</th>\n",
       "      <td>Mizoram</td>\n",
       "      <td>1008</td>\n",
       "      <td>589</td>\n",
       "      <td>0</td>\n",
       "      <td>419</td>\n",
       "      <td>58.4</td>\n",
       "      <td>41.6</td>\n",
       "      <td>0.0</td>\n",
       "      <td>1089577</td>\n",
       "      <td>21081</td>\n",
       "      <td>925.1</td>\n",
       "    </tr>\n",
       "    <tr>\n",
       "      <th>12</th>\n",
       "      <td>Madhya Pradesh</td>\n",
       "      <td>62433</td>\n",
       "      <td>47467</td>\n",
       "      <td>1375</td>\n",
       "      <td>13591</td>\n",
       "      <td>76.0</td>\n",
       "      <td>21.8</td>\n",
       "      <td>2.2</td>\n",
       "      <td>74770270</td>\n",
       "      <td>308252</td>\n",
       "      <td>835.0</td>\n",
       "    </tr>\n",
       "    <tr>\n",
       "      <th>19</th>\n",
       "      <td>Himachal Pradesh</td>\n",
       "      <td>5945</td>\n",
       "      <td>4409</td>\n",
       "      <td>34</td>\n",
       "      <td>1502</td>\n",
       "      <td>74.2</td>\n",
       "      <td>25.3</td>\n",
       "      <td>0.6</td>\n",
       "      <td>7560770</td>\n",
       "      <td>55673</td>\n",
       "      <td>786.3</td>\n",
       "    </tr>\n",
       "    <tr>\n",
       "      <th>27</th>\n",
       "      <td>Daman &amp; Diu</td>\n",
       "      <td>0</td>\n",
       "      <td>0</td>\n",
       "      <td>0</td>\n",
       "      <td>0</td>\n",
       "      <td>0.0</td>\n",
       "      <td>0.0</td>\n",
       "      <td>0.0</td>\n",
       "      <td>210294</td>\n",
       "      <td>111</td>\n",
       "      <td>0.0</td>\n",
       "    </tr>\n",
       "  </tbody>\n",
       "</table>\n",
       "</div>"
      ],
      "text/plain": [
       "                State  Confirmed Cases  Recovered Cases  Deceased Cases  \\\n",
       "8               Assam           105673            83928             300   \n",
       "23             Ladakh             2638             1757              34   \n",
       "15                Goa            17004            13186             183   \n",
       "16         Puducherry            13601             8968             221   \n",
       "1      Andhra Pradesh           424767           321754            3884   \n",
       "5               Delhi           173390           154171            4426   \n",
       "0         Maharashtra           780689           562401           24398   \n",
       "2          Tamil Nadu           422085           362133            7231   \n",
       "3           Karnataka           335928           242230            5596   \n",
       "20         Chandigarh             4155             2296              52   \n",
       "21  Arunachal Pradesh             4034             2822               7   \n",
       "22           Nagaland             3922             3017               8   \n",
       "17            Tripura            11323             7232              98   \n",
       "25             Sikkim             1615             1196               3   \n",
       "18            Manipur             6112             4239              28   \n",
       "24          Meghalaya             2343             1049              10   \n",
       "11            Haryana            63282            51619             682   \n",
       "6         West Bengal           159785           130952            3176   \n",
       "14        Uttarakhand            19235            13004             257   \n",
       "13             Punjab            52526            35747            1404   \n",
       "9             Gujarat            95155            76858            3007   \n",
       "7               Bihar           135013           117305             688   \n",
       "10          Rajasthan            80227            65093            1043   \n",
       "4       Uttar Pradesh           225632           167543            3423   \n",
       "26            Mizoram             1008              589               0   \n",
       "12     Madhya Pradesh            62433            47467            1375   \n",
       "19   Himachal Pradesh             5945             4409              34   \n",
       "27        Daman & Diu                0                0               0   \n",
       "\n",
       "    Active Cases  Recovered Ratio(in %)  Active Ratio(in %)  \\\n",
       "8          21445                   79.4                20.3   \n",
       "23           847                   66.6                32.1   \n",
       "15          3635                   77.5                21.4   \n",
       "16          4412                   65.9                32.4   \n",
       "1          99129                   75.7                23.3   \n",
       "5          14793                   88.9                 8.5   \n",
       "0         193890                   72.0                24.8   \n",
       "2          52721                   85.8                12.5   \n",
       "3          88102                   72.1                26.2   \n",
       "20          1807                   55.3                43.5   \n",
       "21          1205                   70.0                29.9   \n",
       "22           897                   76.9                22.9   \n",
       "17          3993                   63.9                35.3   \n",
       "25           416                   74.1                25.8   \n",
       "18          1845                   69.4                30.2   \n",
       "24          1284                   44.8                54.8   \n",
       "11         10981                   81.6                17.4   \n",
       "6          25657                   82.0                16.1   \n",
       "14          5974                   67.6                31.1   \n",
       "13         15375                   68.1                29.3   \n",
       "9          15290                   80.8                16.1   \n",
       "7          17020                   86.9                12.6   \n",
       "10         14091                   81.1                17.6   \n",
       "4          54666                   74.3                24.2   \n",
       "26           419                   58.4                41.6   \n",
       "12         13591                   76.0                21.8   \n",
       "19          1502                   74.2                25.3   \n",
       "27             0                    0.0                 0.0   \n",
       "\n",
       "    Deceased Ratio(in %)  Population  Area (per sq km)  Cases/million  \n",
       "8                    0.3     6755448             78438       15,642.6  \n",
       "23                   1.3      210156             59146       12,552.6  \n",
       "15                   1.1     1587012              3702       10,714.5  \n",
       "16                   1.6     1286189               490       10,574.7  \n",
       "1                    0.9    49145456            162970        8,643.1  \n",
       "5                    2.6    21763471              1483        7,967.0  \n",
       "0                    3.1   114063427            307713        6,844.3  \n",
       "2                    1.7    72344821            130060        5,834.3  \n",
       "3                    1.7    62462743            191791        5,378.1  \n",
       "20                   1.3     1131522               114        3,672.0  \n",
       "21                   0.2     1229964             83743        3,279.8  \n",
       "22                   0.2     1262729             16579        3,106.0  \n",
       "17                   0.9     3672693             10486        3,083.0  \n",
       "25                   0.2      578914              7096        2,789.7  \n",
       "18                   0.5     2515724             22327        2,429.5  \n",
       "24                   0.4      978281             22429        2,395.0  \n",
       "11                   1.1    28941133             44212        2,186.6  \n",
       "6                    2.0    91928327             88752        1,738.1  \n",
       "14                   1.3    11082791             53483        1,735.6  \n",
       "13                   2.7    30355185             50362        1,730.4  \n",
       "9                    3.2    62097024            196244        1,532.4  \n",
       "7                    0.5   102714667             94163        1,314.4  \n",
       "10                   1.3    68936999            342239        1,163.8  \n",
       "4                    1.5   203757489            240928        1,107.4  \n",
       "26                   0.0     1089577             21081          925.1  \n",
       "12                   2.2    74770270            308252          835.0  \n",
       "19                   0.6     7560770             55673          786.3  \n",
       "27                   0.0      210294               111            0.0  "
      ]
     },
     "execution_count": 34,
     "metadata": {},
     "output_type": "execute_result"
    }
   ],
   "source": [
    "population = pd.read_excel('Indian States Population and Area.xlsx')\n",
    "df_population = pd.merge( final_df1,population, on='State')\n",
    "df_population.sort_values(by='Confirmed Cases',ascending=False,inplace=True)\n",
    "df_population.reset_index(inplace=True)\n",
    "df_population.drop(['index'], axis=1, inplace=True)\n",
    "df_population['Cases/million']=(df_population['Confirmed Cases']/df_population['Population'])*1000000\n",
    "df_population.sort_values(by='Cases/million',ascending=False,inplace=True)\n",
    "df_population"
   ]
  },
  {
   "cell_type": "markdown",
   "metadata": {},
   "source": [
    "## States with maximum Confirmed Cases"
   ]
  },
  {
   "cell_type": "code",
   "execution_count": 35,
   "metadata": {},
   "outputs": [
    {
     "data": {
      "text/plain": [
       "<matplotlib.axes._subplots.AxesSubplot at 0x15b9fd09248>"
      ]
     },
     "execution_count": 35,
     "metadata": {},
     "output_type": "execute_result"
    },
    {
     "data": {
      "image/png": "[encoded data removed]",
      "text/plain": [
       "<Figure size 936x360 with 1 Axes>"
      ]
     },
     "metadata": {},
     "output_type": "display_data"
    }
   ],
   "source": [
    "a=final_df.sort_values(by='Confirmed Cases',ascending=False)\n",
    "a=a.head(5)\n",
    "plt.figure(figsize=(13,5))\n",
    "plt.title('Top 5 States with Maximum Confirmed Cases')\n",
    "a['Confirmed Cases'].plot(kind='bar',color='red')"
   ]
  },
  {
   "cell_type": "markdown",
   "metadata": {},
   "source": [
    "On inspecting the above chart,currently Maharashtra is having the highest number of Confirmed Cases which has crossed 5 Lakhs Cases. Maharashtra is being followed by Tamil Nadu which is having more than 3 lakhs Cases and Karnataka and Delhi having more than 2.3 Lakhs and 1.5 Lakhs cases respectively."
   ]
  },
  {
   "cell_type": "markdown",
   "metadata": {},
   "source": [
    "## States with Maximum Recovered Cases"
   ]
  },
  {
   "cell_type": "code",
   "execution_count": 36,
   "metadata": {},
   "outputs": [
    {
     "data": {
      "text/plain": [
       "<matplotlib.axes._subplots.AxesSubplot at 0x15ba26e5708>"
      ]
     },
     "execution_count": 36,
     "metadata": {},
     "output_type": "execute_result"
    },
    {
     "data": {
      "image/png": "[encoded data removed]",
      "text/plain": [
       "<Figure size 936x360 with 1 Axes>"
      ]
     },
     "metadata": {},
     "output_type": "display_data"
    }
   ],
   "source": [
    "a=final_df.sort_values(by='Recovered Cases',ascending=False)\n",
    "a=a.head(5)\n",
    "plt.figure(figsize=(13,5))\n",
    "plt.title('Top 5 States with Maximum Recovered Cases')\n",
    "a['Recovered Cases'].plot(kind='bar',color='green')"
   ]
  },
  {
   "cell_type": "markdown",
   "metadata": {},
   "source": [
    "There is a slight change in the order of States having highest Recovery cases as compared to Confirmed Cases. As we saw earlier that Maharashtra had the Highest Confirmed Cases, simultaneously it also has the highest Recovery rate than all the other states"
   ]
  },
  {
   "cell_type": "markdown",
   "metadata": {},
   "source": [
    "## States with maximum Deceased Cases"
   ]
  },
  {
   "cell_type": "code",
   "execution_count": 37,
   "metadata": {},
   "outputs": [
    {
     "data": {
      "text/plain": [
       "<matplotlib.axes._subplots.AxesSubplot at 0x15ba26f5208>"
      ]
     },
     "execution_count": 37,
     "metadata": {},
     "output_type": "execute_result"
    },
    {
     "data": {
      "image/png": "[encoded data removed]",
      "text/plain": [
       "<Figure size 936x360 with 1 Axes>"
      ]
     },
     "metadata": {},
     "output_type": "display_data"
    }
   ],
   "source": [
    "a=final_df.sort_values(by='Deceased Cases',ascending=False)\n",
    "a=a.head(5)\n",
    "plt.figure(figsize=(13,5))\n",
    "plt.title('Top 5 States with Maximum Deceased Cases')\n",
    "a['Deceased Cases'].plot(kind='bar',color='grey')"
   ]
  },
  {
   "cell_type": "markdown",
   "metadata": {},
   "source": [
    "In the above chart, we can see that Maharashtra is have the highest number of Deceased cases as compared to the other states in India."
   ]
  },
  {
   "cell_type": "markdown",
   "metadata": {},
   "source": [
    "## States with maximum Active Cases"
   ]
  },
  {
   "cell_type": "code",
   "execution_count": 38,
   "metadata": {},
   "outputs": [
    {
     "data": {
      "text/plain": [
       "<matplotlib.axes._subplots.AxesSubplot at 0x15ba24a0708>"
      ]
     },
     "execution_count": 38,
     "metadata": {},
     "output_type": "execute_result"
    },
    {
     "data": {
      "image/png": "[encoded data removed]",
      "text/plain": [
       "<Figure size 936x360 with 1 Axes>"
      ]
     },
     "metadata": {},
     "output_type": "display_data"
    }
   ],
   "source": [
    "a=final_df.sort_values(by='Active Cases',ascending=False)\n",
    "a=a.head(5)\n",
    "plt.figure(figsize=(13,5))\n",
    "plt.title('Top 5 States with Maximum Active Cases')\n",
    "a['Active Cases'].plot(kind='bar',color='blue')"
   ]
  },
  {
   "cell_type": "markdown",
   "metadata": {},
   "source": [
    "So, we saw from the above 4 graphs that Maharashtra is currently on the top as compared with other states from all point of view."
   ]
  },
  {
   "cell_type": "markdown",
   "metadata": {},
   "source": [
    "You can also view the number of cases in the particular state on a specific date."
   ]
  },
  {
   "cell_type": "code",
   "execution_count": 39,
   "metadata": {},
   "outputs": [],
   "source": [
    "def view_date_wise(date,state_name):\n",
    "    state_df = pd.read_csv('https://api.covid19india.org/csv/latest/state_wise_daily.csv')\n",
    "    state_df['Date'] = state_df.Date.apply(lambda x: pd.to_datetime(x).strftime('%d-%m-%Y'))\n",
    "    state_df.rename(\n",
    "        columns={'AN': 'Andaman Nicobar', 'AP': 'Andhra Pradesh', 'AR': 'Arunachal Pradesh', 'AS': 'Assam',\n",
    "                 'BR': 'Bihar', 'CH': 'Chandigarh', 'CT': 'Chattisgarh', 'DD': 'Daman & Diu', 'DL': 'Delhi',\n",
    "                 'GA': 'Goa', 'GJ': 'Gujarat',\n",
    "                 'HR': 'Haryana', 'HP': 'Himachal Pradesh', 'JK': 'Jammu And Kashmir', 'KA': 'Karnataka',\n",
    "                 'KL': 'Kerela',\n",
    "                 'LA': 'Ladakh', 'MP': 'Madhya Pradesh', 'MH': 'Maharashtra', 'MN': 'Manipur', 'ML': 'Meghalaya',\n",
    "                 'MZ': 'Mizoram', 'NL': 'Nagaland', 'OR': 'Orissa', 'PY': 'Puducherry', 'PB': 'Punjab',\n",
    "                 'RJ': 'Rajasthan',\n",
    "                 'SK': 'Sikkim', 'TN': 'Tamil Nadu', 'TG': 'Telegana', 'TR': 'Tripura', 'UP': 'Uttar Pradesh',\n",
    "                 'UT': 'Uttarakhand',\n",
    "                 'WB': 'West Bengal', 'TT': 'India'}, inplace=True)\n",
    "    date_particular=state_df.loc[state_df['Date']==date]\n",
    "    state_particular=date_particular.loc[:,['Status',state_name,'India']]\n",
    "    state_particular.reset_index(inplace=True)\n",
    "    state_particular.drop('index',inplace=True,axis=1)\n",
    "    return state_particular"
   ]
  },
  {
   "cell_type": "markdown",
   "metadata": {},
   "source": [
    "You just need to add the Date in dd-mm-yyyy format and the name of the State in view_date_wise() function.\n",
    "                               \n",
    "For example: view_date_wise(date,name of the state)"
   ]
  },
  {
   "cell_type": "code",
   "execution_count": 40,
   "metadata": {},
   "outputs": [
    {
     "data": {
      "text/html": [
       "<div>\n",
       "<style scoped>\n",
       "    .dataframe tbody tr th:only-of-type {\n",
       "        vertical-align: middle;\n",
       "    }\n",
       "\n",
       "    .dataframe tbody tr th {\n",
       "        vertical-align: top;\n",
       "    }\n",
       "\n",
       "    .dataframe thead th {\n",
       "        text-align: right;\n",
       "    }\n",
       "</style>\n",
       "<table border=\"1\" class=\"dataframe\">\n",
       "  <thead>\n",
       "    <tr style=\"text-align: right;\">\n",
       "      <th></th>\n",
       "      <th>Status</th>\n",
       "      <th>Maharashtra</th>\n",
       "      <th>India</th>\n",
       "    </tr>\n",
       "  </thead>\n",
       "  <tbody>\n",
       "    <tr>\n",
       "      <th>0</th>\n",
       "      <td>Confirmed</td>\n",
       "      <td>9211</td>\n",
       "      <td>52479</td>\n",
       "    </tr>\n",
       "    <tr>\n",
       "      <th>1</th>\n",
       "      <td>Recovered</td>\n",
       "      <td>7478</td>\n",
       "      <td>32886</td>\n",
       "    </tr>\n",
       "    <tr>\n",
       "      <th>2</th>\n",
       "      <td>Deceased</td>\n",
       "      <td>298</td>\n",
       "      <td>775</td>\n",
       "    </tr>\n",
       "  </tbody>\n",
       "</table>\n",
       "</div>"
      ],
      "text/plain": [
       "      Status  Maharashtra  India\n",
       "0  Confirmed         9211  52479\n",
       "1  Recovered         7478  32886\n",
       "2   Deceased          298    775"
      ]
     },
     "execution_count": 40,
     "metadata": {},
     "output_type": "execute_result"
    }
   ],
   "source": [
    "view_date_wise('29-07-2020','Maharashtra')"
   ]
  },
  {
   "cell_type": "markdown",
   "metadata": {},
   "source": [
    "You can see the number of Cases in India and Maharashtra on that particular date."
   ]
  },
  {
   "cell_type": "code",
   "execution_count": 41,
   "metadata": {},
   "outputs": [],
   "source": [
    "def state_cases(state_name):\n",
    "    final_cases_df=pd.DataFrame()\n",
    "    ccases=state_df.loc[state_df['Status'] == 'Confirmed']\n",
    "    ccases=ccases[['Date', state_name]]\n",
    "    final_cases_df=final_cases_df.append(ccases)\n",
    "\n",
    "    rcases=state_df.loc[state_df['Status'] == 'Recovered']\n",
    "    rcases=rcases[['Date', state_name]]\n",
    "    final_cases_df=pd.merge(final_cases_df,rcases,on='Date')\n",
    "\n",
    "\n",
    "    dcases=state_df.loc[state_df['Status'] == 'Deceased']\n",
    "    dcases=dcases[['Date', state_name]]\n",
    "    final_cases_df=pd.merge(final_cases_df,dcases,on='Date')\n",
    "    final_cases_df.columns=['Date','Confirmed Cases','Recovered Cases','Deceased Cases']\n",
    "    final_cases_df=final_cases_df.tail(10)\n",
    "    final_cases_df.reset_index(inplace=True)\n",
    "    final_cases_df.drop('index',axis=1,inplace=True)\n",
    "    print('Last 10 days Case Data in ', state_name)\n",
    "    return final_cases_df\n"
   ]
  },
  {
   "cell_type": "markdown",
   "metadata": {},
   "source": [
    "Enter the Name of the State in state_cases() whose data you want to view"
   ]
  },
  {
   "cell_type": "code",
   "execution_count": 42,
   "metadata": {},
   "outputs": [
    {
     "name": "stdout",
     "output_type": "stream",
     "text": [
      "Last 10 days Case Data in  Gujarat\n"
     ]
    },
    {
     "data": {
      "text/html": [
       "<div>\n",
       "<style scoped>\n",
       "    .dataframe tbody tr th:only-of-type {\n",
       "        vertical-align: middle;\n",
       "    }\n",
       "\n",
       "    .dataframe tbody tr th {\n",
       "        vertical-align: top;\n",
       "    }\n",
       "\n",
       "    .dataframe thead th {\n",
       "        text-align: right;\n",
       "    }\n",
       "</style>\n",
       "<table border=\"1\" class=\"dataframe\">\n",
       "  <thead>\n",
       "    <tr style=\"text-align: right;\">\n",
       "      <th></th>\n",
       "      <th>Date</th>\n",
       "      <th>Confirmed Cases</th>\n",
       "      <th>Recovered Cases</th>\n",
       "      <th>Deceased Cases</th>\n",
       "    </tr>\n",
       "  </thead>\n",
       "  <tbody>\n",
       "    <tr>\n",
       "      <th>0</th>\n",
       "      <td>21-08-2020</td>\n",
       "      <td>1204</td>\n",
       "      <td>1324</td>\n",
       "      <td>14</td>\n",
       "    </tr>\n",
       "    <tr>\n",
       "      <th>1</th>\n",
       "      <td>22-08-2020</td>\n",
       "      <td>1212</td>\n",
       "      <td>980</td>\n",
       "      <td>14</td>\n",
       "    </tr>\n",
       "    <tr>\n",
       "      <th>2</th>\n",
       "      <td>23-08-2020</td>\n",
       "      <td>1101</td>\n",
       "      <td>972</td>\n",
       "      <td>14</td>\n",
       "    </tr>\n",
       "    <tr>\n",
       "      <th>3</th>\n",
       "      <td>24-08-2020</td>\n",
       "      <td>1067</td>\n",
       "      <td>1021</td>\n",
       "      <td>13</td>\n",
       "    </tr>\n",
       "    <tr>\n",
       "      <th>4</th>\n",
       "      <td>25-08-2020</td>\n",
       "      <td>1096</td>\n",
       "      <td>1011</td>\n",
       "      <td>20</td>\n",
       "    </tr>\n",
       "    <tr>\n",
       "      <th>5</th>\n",
       "      <td>26-08-2020</td>\n",
       "      <td>1197</td>\n",
       "      <td>1047</td>\n",
       "      <td>17</td>\n",
       "    </tr>\n",
       "    <tr>\n",
       "      <th>6</th>\n",
       "      <td>27-08-2020</td>\n",
       "      <td>1190</td>\n",
       "      <td>1193</td>\n",
       "      <td>17</td>\n",
       "    </tr>\n",
       "    <tr>\n",
       "      <th>7</th>\n",
       "      <td>28-08-2020</td>\n",
       "      <td>1272</td>\n",
       "      <td>1050</td>\n",
       "      <td>14</td>\n",
       "    </tr>\n",
       "    <tr>\n",
       "      <th>8</th>\n",
       "      <td>29-08-2020</td>\n",
       "      <td>1282</td>\n",
       "      <td>1111</td>\n",
       "      <td>13</td>\n",
       "    </tr>\n",
       "    <tr>\n",
       "      <th>9</th>\n",
       "      <td>30-08-2020</td>\n",
       "      <td>1272</td>\n",
       "      <td>1095</td>\n",
       "      <td>17</td>\n",
       "    </tr>\n",
       "  </tbody>\n",
       "</table>\n",
       "</div>"
      ],
      "text/plain": [
       "         Date  Confirmed Cases  Recovered Cases  Deceased Cases\n",
       "0  21-08-2020             1204             1324              14\n",
       "1  22-08-2020             1212              980              14\n",
       "2  23-08-2020             1101              972              14\n",
       "3  24-08-2020             1067             1021              13\n",
       "4  25-08-2020             1096             1011              20\n",
       "5  26-08-2020             1197             1047              17\n",
       "6  27-08-2020             1190             1193              17\n",
       "7  28-08-2020             1272             1050              14\n",
       "8  29-08-2020             1282             1111              13\n",
       "9  30-08-2020             1272             1095              17"
      ]
     },
     "execution_count": 42,
     "metadata": {},
     "output_type": "execute_result"
    }
   ],
   "source": [
    "state_cases('Gujarat')"
   ]
  },
  {
   "cell_type": "markdown",
   "metadata": {},
   "source": [
    "As shown above, you can also view the the number of cases in the particular state for the last 10 days"
   ]
  },
  {
   "cell_type": "markdown",
   "metadata": {},
   "source": [
    "# COVID-19 in WORLD"
   ]
  },
  {
   "cell_type": "markdown",
   "metadata": {},
   "source": [
    "The below part of the project comprises of the number of cases in different countries of the world.\n",
    "The Data has been sourced through a csv file whose link is added in the pd.read_csv() below."
   ]
  },
  {
   "cell_type": "code",
   "execution_count": 43,
   "metadata": {},
   "outputs": [],
   "source": [
    "def world_data(col,n):\n",
    "    world_data_df = pd.read_csv(\n",
    "        'https://raw.githubusercontent.com/imdevskp/covid_19_jhu_data_web_scrap_and_cleaning/master/worldometer_data.csv')\n",
    "    world_data_df.rename(columns={'TotalCases':'Confirmed','TotalDeaths':'Deceased','TotalRecovered':'Recovered'},inplace=True)\n",
    "    world_data_df=world_data_df.replace('',np.nan).fillna(0)\n",
    "    figure=px.bar(world_data_df.sort_values(by=col).tail(n),x=col,y='Country/Region',orientation='h',color='Continent',\n",
    "                      text=col,width=900,color_discrete_sequence=px.colors.qualitative.Dark2)\n",
    "\n",
    "    figure.update_layout(title='Top 15 Country with most '+col+' Cases in World',xaxis_title='',yaxis_title=''\n",
    "                         ,yaxis_categoryorder='total ascending')\n",
    "    figure.show()"
   ]
  },
  {
   "cell_type": "markdown",
   "metadata": {},
   "source": [
    "## Countries with Most Confirmed Cases in World"
   ]
  },
  {
   "cell_type": "code",
   "execution_count": 44,
   "metadata": {},
   "outputs": [
    {
     "data": {
      "application/vnd.plotly.v1+json": {
       "config": {
        "plotlyServerURL": "https://plot.ly"
       },
       "data": [
        {
         "alignmentgroup": "True",
         "hovertemplate": "Continent=Asia<br>Confirmed=%{text}<br>Country/Region=%{y}<extra></extra>",
         "legendgroup": "Asia",
         "marker": {
          "color": "rgb(27,158,119)"
         },
         "name": "Asia",
         "offsetgroup": "Asia",
         "orientation": "h",
         "showlegend": true,
         "text": [
          249651,
          281863,
          284226,
          320117,
          2025409
         ],
         "textposition": "auto",
         "type": "bar",
         "x": [
          249651,
          281863,
          284226,
          320117,
          2025409
         ],
         "xaxis": "x",
         "y": [
          "Bangladesh",
          "Pakistan",
          "Saudi Arabia",
          "Iran",
          "India"
         ],
         "yaxis": "y"
        },
        {
         "alignmentgroup": "True",
         "hovertemplate": "Continent=Europe<br>Confirmed=%{text}<br>Country/Region=%{y}<extra></extra>",
         "legendgroup": "Europe",
         "marker": {
          "color": "rgb(217,95,2)"
         },
         "name": "Europe",
         "offsetgroup": "Europe",
         "orientation": "h",
         "showlegend": true,
         "text": [
          308134,
          354530,
          871894
         ],
         "textposition": "auto",
         "type": "bar",
         "x": [
          308134,
          354530,
          871894
         ],
         "xaxis": "x",
         "y": [
          "UK",
          "Spain",
          "Russia"
         ],
         "yaxis": "y"
        },
        {
         "alignmentgroup": "True",
         "hovertemplate": "Continent=South America<br>Confirmed=%{text}<br>Country/Region=%{y}<extra></extra>",
         "legendgroup": "South America",
         "marker": {
          "color": "rgb(117,112,179)"
         },
         "name": "South America",
         "offsetgroup": "South America",
         "orientation": "h",
         "showlegend": true,
         "text": [
          357710,
          366671,
          455409,
          2917562
         ],
         "textposition": "auto",
         "type": "bar",
         "x": [
          357710,
          366671,
          455409,
          2917562
         ],
         "xaxis": "x",
         "y": [
          "Colombia",
          "Chile",
          "Peru",
          "Brazil"
         ],
         "yaxis": "y"
        },
        {
         "alignmentgroup": "True",
         "hovertemplate": "Continent=North America<br>Confirmed=%{text}<br>Country/Region=%{y}<extra></extra>",
         "legendgroup": "North America",
         "marker": {
          "color": "rgb(231,41,138)"
         },
         "name": "North America",
         "offsetgroup": "North America",
         "orientation": "h",
         "showlegend": true,
         "text": [
          462690,
          5032179
         ],
         "textposition": "auto",
         "type": "bar",
         "x": [
          462690,
          5032179
         ],
         "xaxis": "x",
         "y": [
          "Mexico",
          "USA"
         ],
         "yaxis": "y"
        },
        {
         "alignmentgroup": "True",
         "hovertemplate": "Continent=Africa<br>Confirmed=%{text}<br>Country/Region=%{y}<extra></extra>",
         "legendgroup": "Africa",
         "marker": {
          "color": "rgb(102,166,30)"
         },
         "name": "Africa",
         "offsetgroup": "Africa",
         "orientation": "h",
         "showlegend": true,
         "text": [
          538184
         ],
         "textposition": "auto",
         "type": "bar",
         "x": [
          538184
         ],
         "xaxis": "x",
         "y": [
          "South Africa"
         ],
         "yaxis": "y"
        }
       ],
       "layout": {
        "barmode": "relative",
        "legend": {
         "title": {
          "text": "Continent"
         },
         "tracegroupgap": 0
        },
        "margin": {
         "t": 60
        },
        "template": {
         "data": {
          "bar": [
           {
            "error_x": {
             "color": "#2a3f5f"
            },
            "error_y": {
             "color": "#2a3f5f"
            },
            "marker": {
             "line": {
              "color": "#E5ECF6",
              "width": 0.5
             }
            },
            "type": "bar"
           }
          ],
          "barpolar": [
           {
            "marker": {
             "line": {
              "color": "#E5ECF6",
              "width": 0.5
             }
            },
            "type": "barpolar"
           }
          ],
          "carpet": [
           {
            "aaxis": {
             "endlinecolor": "#2a3f5f",
             "gridcolor": "white",
             "linecolor": "white",
             "minorgridcolor": "white",
             "startlinecolor": "#2a3f5f"
            },
            "baxis": {
             "endlinecolor": "#2a3f5f",
             "gridcolor": "white",
             "linecolor": "white",
             "minorgridcolor": "white",
             "startlinecolor": "#2a3f5f"
            },
            "type": "carpet"
           }
          ],
          "choropleth": [
           {
            "colorbar": {
             "outlinewidth": 0,
             "ticks": ""
            },
            "type": "choropleth"
           }
          ],
          "contour": [
           {
            "colorbar": {
             "outlinewidth": 0,
             "ticks": ""
            },
            "colorscale": [
             [
              0,
              "#0d0887"
             ],
             [
              0.1111111111111111,
              "#46039f"
             ],
             [
              0.2222222222222222,
              "#7201a8"
             ],
             [
              0.3333333333333333,
              "#9c179e"
             ],
             [
              0.4444444444444444,
              "#bd3786"
             ],
             [
              0.5555555555555556,
              "#d8576b"
             ],
             [
              0.6666666666666666,
              "#ed7953"
             ],
             [
              0.7777777777777778,
              "#fb9f3a"
             ],
             [
              0.8888888888888888,
              "#fdca26"
             ],
             [
              1,
              "#f0f921"
             ]
            ],
            "type": "contour"
           }
          ],
          "contourcarpet": [
           {
            "colorbar": {
             "outlinewidth": 0,
             "ticks": ""
            },
            "type": "contourcarpet"
           }
          ],
          "heatmap": [
           {
            "colorbar": {
             "outlinewidth": 0,
             "ticks": ""
            },
            "colorscale": [
             [
              0,
              "#0d0887"
             ],
             [
              0.1111111111111111,
              "#46039f"
             ],
             [
              0.2222222222222222,
              "#7201a8"
             ],
             [
              0.3333333333333333,
              "#9c179e"
             ],
             [
              0.4444444444444444,
              "#bd3786"
             ],
             [
              0.5555555555555556,
              "#d8576b"
             ],
             [
              0.6666666666666666,
              "#ed7953"
             ],
             [
              0.7777777777777778,
              "#fb9f3a"
             ],
             [
              0.8888888888888888,
              "#fdca26"
             ],
             [
              1,
              "#f0f921"
             ]
            ],
            "type": "heatmap"
           }
          ],
          "heatmapgl": [
           {
            "colorbar": {
             "outlinewidth": 0,
             "ticks": ""
            },
            "colorscale": [
             [
              0,
              "#0d0887"
             ],
             [
              0.1111111111111111,
              "#46039f"
             ],
             [
              0.2222222222222222,
              "#7201a8"
             ],
             [
              0.3333333333333333,
              "#9c179e"
             ],
             [
              0.4444444444444444,
              "#bd3786"
             ],
             [
              0.5555555555555556,
              "#d8576b"
             ],
             [
              0.6666666666666666,
              "#ed7953"
             ],
             [
              0.7777777777777778,
              "#fb9f3a"
             ],
             [
              0.8888888888888888,
              "#fdca26"
             ],
             [
              1,
              "#f0f921"
             ]
            ],
            "type": "heatmapgl"
           }
          ],
          "histogram": [
           {
            "marker": {
             "colorbar": {
              "outlinewidth": 0,
              "ticks": ""
             }
            },
            "type": "histogram"
           }
          ],
          "histogram2d": [
           {
            "colorbar": {
             "outlinewidth": 0,
             "ticks": ""
            },
            "colorscale": [
             [
              0,
              "#0d0887"
             ],
             [
              0.1111111111111111,
              "#46039f"
             ],
             [
              0.2222222222222222,
              "#7201a8"
             ],
             [
              0.3333333333333333,
              "#9c179e"
             ],
             [
              0.4444444444444444,
              "#bd3786"
             ],
             [
              0.5555555555555556,
              "#d8576b"
             ],
             [
              0.6666666666666666,
              "#ed7953"
             ],
             [
              0.7777777777777778,
              "#fb9f3a"
             ],
             [
              0.8888888888888888,
              "#fdca26"
             ],
             [
              1,
              "#f0f921"
             ]
            ],
            "type": "histogram2d"
           }
          ],
          "histogram2dcontour": [
           {
            "colorbar": {
             "outlinewidth": 0,
             "ticks": ""
            },
            "colorscale": [
             [
              0,
              "#0d0887"
             ],
             [
              0.1111111111111111,
              "#46039f"
             ],
             [
              0.2222222222222222,
              "#7201a8"
             ],
             [
              0.3333333333333333,
              "#9c179e"
             ],
             [
              0.4444444444444444,
              "#bd3786"
             ],
             [
              0.5555555555555556,
              "#d8576b"
             ],
             [
              0.6666666666666666,
              "#ed7953"
             ],
             [
              0.7777777777777778,
              "#fb9f3a"
             ],
             [
              0.8888888888888888,
              "#fdca26"
             ],
             [
              1,
              "#f0f921"
             ]
            ],
            "type": "histogram2dcontour"
           }
          ],
          "mesh3d": [
           {
            "colorbar": {
             "outlinewidth": 0,
             "ticks": ""
            },
            "type": "mesh3d"
           }
          ],
          "parcoords": [
           {
            "line": {
             "colorbar": {
              "outlinewidth": 0,
              "ticks": ""
             }
            },
            "type": "parcoords"
           }
          ],
          "pie": [
           {
            "automargin": true,
            "type": "pie"
           }
          ],
          "scatter": [
           {
            "marker": {
             "colorbar": {
              "outlinewidth": 0,
              "ticks": ""
             }
            },
            "type": "scatter"
           }
          ],
          "scatter3d": [
           {
            "line": {
             "colorbar": {
              "outlinewidth": 0,
              "ticks": ""
             }
            },
            "marker": {
             "colorbar": {
              "outlinewidth": 0,
              "ticks": ""
             }
            },
            "type": "scatter3d"
           }
          ],
          "scattercarpet": [
           {
            "marker": {
             "colorbar": {
              "outlinewidth": 0,
              "ticks": ""
             }
            },
            "type": "scattercarpet"
           }
          ],
          "scattergeo": [
           {
            "marker": {
             "colorbar": {
              "outlinewidth": 0,
              "ticks": ""
             }
            },
            "type": "scattergeo"
           }
          ],
          "scattergl": [
           {
            "marker": {
             "colorbar": {
              "outlinewidth": 0,
              "ticks": ""
             }
            },
            "type": "scattergl"
           }
          ],
          "scattermapbox": [
           {
            "marker": {
             "colorbar": {
              "outlinewidth": 0,
              "ticks": ""
             }
            },
            "type": "scattermapbox"
           }
          ],
          "scatterpolar": [
           {
            "marker": {
             "colorbar": {
              "outlinewidth": 0,
              "ticks": ""
             }
            },
            "type": "scatterpolar"
           }
          ],
          "scatterpolargl": [
           {
            "marker": {
             "colorbar": {
              "outlinewidth": 0,
              "ticks": ""
             }
            },
            "type": "scatterpolargl"
           }
          ],
          "scatterternary": [
           {
            "marker": {
             "colorbar": {
              "outlinewidth": 0,
              "ticks": ""
             }
            },
            "type": "scatterternary"
           }
          ],
          "surface": [
           {
            "colorbar": {
             "outlinewidth": 0,
             "ticks": ""
            },
            "colorscale": [
             [
              0,
              "#0d0887"
             ],
             [
              0.1111111111111111,
              "#46039f"
             ],
             [
              0.2222222222222222,
              "#7201a8"
             ],
             [
              0.3333333333333333,
              "#9c179e"
             ],
             [
              0.4444444444444444,
              "#bd3786"
             ],
             [
              0.5555555555555556,
              "#d8576b"
             ],
             [
              0.6666666666666666,
              "#ed7953"
             ],
             [
              0.7777777777777778,
              "#fb9f3a"
             ],
             [
              0.8888888888888888,
              "#fdca26"
             ],
             [
              1,
              "#f0f921"
             ]
            ],
            "type": "surface"
           }
          ],
          "table": [
           {
            "cells": {
             "fill": {
              "color": "#EBF0F8"
             },
             "line": {
              "color": "white"
             }
            },
            "header": {
             "fill": {
              "color": "#C8D4E3"
             },
             "line": {
              "color": "white"
             }
            },
            "type": "table"
           }
          ]
         },
         "layout": {
          "annotationdefaults": {
           "arrowcolor": "#2a3f5f",
           "arrowhead": 0,
           "arrowwidth": 1
          },
          "coloraxis": {
           "colorbar": {
            "outlinewidth": 0,
            "ticks": ""
           }
          },
          "colorscale": {
           "diverging": [
            [
             0,
             "#8e0152"
            ],
            [
             0.1,
             "#c51b7d"
            ],
            [
             0.2,
             "#de77ae"
            ],
            [
             0.3,
             "#f1b6da"
            ],
            [
             0.4,
             "#fde0ef"
            ],
            [
             0.5,
             "#f7f7f7"
            ],
            [
             0.6,
             "#e6f5d0"
            ],
            [
             0.7,
             "#b8e186"
            ],
            [
             0.8,
             "#7fbc41"
            ],
            [
             0.9,
             "#4d9221"
            ],
            [
             1,
             "#276419"
            ]
           ],
           "sequential": [
            [
             0,
             "#0d0887"
            ],
            [
             0.1111111111111111,
             "#46039f"
            ],
            [
             0.2222222222222222,
             "#7201a8"
            ],
            [
             0.3333333333333333,
             "#9c179e"
            ],
            [
             0.4444444444444444,
             "#bd3786"
            ],
            [
             0.5555555555555556,
             "#d8576b"
            ],
            [
             0.6666666666666666,
             "#ed7953"
            ],
            [
             0.7777777777777778,
             "#fb9f3a"
            ],
            [
             0.8888888888888888,
             "#fdca26"
            ],
            [
             1,
             "#f0f921"
            ]
           ],
           "sequentialminus": [
            [
             0,
             "#0d0887"
            ],
            [
             0.1111111111111111,
             "#46039f"
            ],
            [
             0.2222222222222222,
             "#7201a8"
            ],
            [
             0.3333333333333333,
             "#9c179e"
            ],
            [
             0.4444444444444444,
             "#bd3786"
            ],
            [
             0.5555555555555556,
             "#d8576b"
            ],
            [
             0.6666666666666666,
             "#ed7953"
            ],
            [
             0.7777777777777778,
             "#fb9f3a"
            ],
            [
             0.8888888888888888,
             "#fdca26"
            ],
            [
             1,
             "#f0f921"
            ]
           ]
          },
          "colorway": [
           "#636efa",
           "#EF553B",
           "#00cc96",
           "#ab63fa",
           "#FFA15A",
           "#19d3f3",
           "#FF6692",
           "#B6E880",
           "#FF97FF",
           "#FECB52"
          ],
          "font": {
           "color": "#2a3f5f"
          },
          "geo": {
           "bgcolor": "white",
           "lakecolor": "white",
           "landcolor": "#E5ECF6",
           "showlakes": true,
           "showland": true,
           "subunitcolor": "white"
          },
          "hoverlabel": {
           "align": "left"
          },
          "hovermode": "closest",
          "mapbox": {
           "style": "light"
          },
          "paper_bgcolor": "white",
          "plot_bgcolor": "#E5ECF6",
          "polar": {
           "angularaxis": {
            "gridcolor": "white",
            "linecolor": "white",
            "ticks": ""
           },
           "bgcolor": "#E5ECF6",
           "radialaxis": {
            "gridcolor": "white",
            "linecolor": "white",
            "ticks": ""
           }
          },
          "scene": {
           "xaxis": {
            "backgroundcolor": "#E5ECF6",
            "gridcolor": "white",
            "gridwidth": 2,
            "linecolor": "white",
            "showbackground": true,
            "ticks": "",
            "zerolinecolor": "white"
           },
           "yaxis": {
            "backgroundcolor": "#E5ECF6",
            "gridcolor": "white",
            "gridwidth": 2,
            "linecolor": "white",
            "showbackground": true,
            "ticks": "",
            "zerolinecolor": "white"
           },
           "zaxis": {
            "backgroundcolor": "#E5ECF6",
            "gridcolor": "white",
            "gridwidth": 2,
            "linecolor": "white",
            "showbackground": true,
            "ticks": "",
            "zerolinecolor": "white"
           }
          },
          "shapedefaults": {
           "line": {
            "color": "#2a3f5f"
           }
          },
          "ternary": {
           "aaxis": {
            "gridcolor": "white",
            "linecolor": "white",
            "ticks": ""
           },
           "baxis": {
            "gridcolor": "white",
            "linecolor": "white",
            "ticks": ""
           },
           "bgcolor": "#E5ECF6",
           "caxis": {
            "gridcolor": "white",
            "linecolor": "white",
            "ticks": ""
           }
          },
          "title": {
           "x": 0.05
          },
          "xaxis": {
           "automargin": true,
           "gridcolor": "white",
           "linecolor": "white",
           "ticks": "",
           "title": {
            "standoff": 15
           },
           "zerolinecolor": "white",
           "zerolinewidth": 2
          },
          "yaxis": {
           "automargin": true,
           "gridcolor": "white",
           "linecolor": "white",
           "ticks": "",
           "title": {
            "standoff": 15
           },
           "zerolinecolor": "white",
           "zerolinewidth": 2
          }
         }
        },
        "title": {
         "text": "Top 15 Country with most Confirmed Cases in World"
        },
        "width": 900,
        "xaxis": {
         "anchor": "y",
         "domain": [
          0,
          1
         ],
         "title": {
          "text": ""
         }
        },
        "yaxis": {
         "anchor": "x",
         "categoryorder": "total ascending",
         "domain": [
          0,
          1
         ],
         "title": {
          "text": ""
         }
        }
       }
      },
      "text/html": [
       "<div>\n",
       "        \n",
       "        \n",
       "            <div id=\"1e731ce0-082f-4746-b060-4b37300eed30\" class=\"plotly-graph-div\" style=\"height:525px; width:900px;\"></div>\n",
       "            <script type=\"text/javascript\">\n",
       "                require([\"plotly\"], function(Plotly) {\n",
       "                    window.PLOTLYENV=window.PLOTLYENV || {};\n",
       "                    \n",
       "                if (document.getElementById(\"1e731ce0-082f-4746-b060-4b37300eed30\")) {\n",
       "                    Plotly.newPlot(\n",
       "                        '1e731ce0-082f-4746-b060-4b37300eed30',\n",
       "                        [{\"alignmentgroup\": \"True\", \"hovertemplate\": \"Continent=Asia<br>Confirmed=%{text}<br>Country/Region=%{y}<extra></extra>\", \"legendgroup\": \"Asia\", \"marker\": {\"color\": \"rgb(27,158,119)\"}, \"name\": \"Asia\", \"offsetgroup\": \"Asia\", \"orientation\": \"h\", \"showlegend\": true, \"text\": [249651.0, 281863.0, 284226.0, 320117.0, 2025409.0], \"textposition\": \"auto\", \"type\": \"bar\", \"x\": [249651, 281863, 284226, 320117, 2025409], \"xaxis\": \"x\", \"y\": [\"Bangladesh\", \"Pakistan\", \"Saudi Arabia\", \"Iran\", \"India\"], \"yaxis\": \"y\"}, {\"alignmentgroup\": \"True\", \"hovertemplate\": \"Continent=Europe<br>Confirmed=%{text}<br>Country/Region=%{y}<extra></extra>\", \"legendgroup\": \"Europe\", \"marker\": {\"color\": \"rgb(217,95,2)\"}, \"name\": \"Europe\", \"offsetgroup\": \"Europe\", \"orientation\": \"h\", \"showlegend\": true, \"text\": [308134.0, 354530.0, 871894.0], \"textposition\": \"auto\", \"type\": \"bar\", \"x\": [308134, 354530, 871894], \"xaxis\": \"x\", \"y\": [\"UK\", \"Spain\", \"Russia\"], \"yaxis\": \"y\"}, {\"alignmentgroup\": \"True\", \"hovertemplate\": \"Continent=South America<br>Confirmed=%{text}<br>Country/Region=%{y}<extra></extra>\", \"legendgroup\": \"South America\", \"marker\": {\"color\": \"rgb(117,112,179)\"}, \"name\": \"South America\", \"offsetgroup\": \"South America\", \"orientation\": \"h\", \"showlegend\": true, \"text\": [357710.0, 366671.0, 455409.0, 2917562.0], \"textposition\": \"auto\", \"type\": \"bar\", \"x\": [357710, 366671, 455409, 2917562], \"xaxis\": \"x\", \"y\": [\"Colombia\", \"Chile\", \"Peru\", \"Brazil\"], \"yaxis\": \"y\"}, {\"alignmentgroup\": \"True\", \"hovertemplate\": \"Continent=North America<br>Confirmed=%{text}<br>Country/Region=%{y}<extra></extra>\", \"legendgroup\": \"North America\", \"marker\": {\"color\": \"rgb(231,41,138)\"}, \"name\": \"North America\", \"offsetgroup\": \"North America\", \"orientation\": \"h\", \"showlegend\": true, \"text\": [462690.0, 5032179.0], \"textposition\": \"auto\", \"type\": \"bar\", \"x\": [462690, 5032179], \"xaxis\": \"x\", \"y\": [\"Mexico\", \"USA\"], \"yaxis\": \"y\"}, {\"alignmentgroup\": \"True\", \"hovertemplate\": \"Continent=Africa<br>Confirmed=%{text}<br>Country/Region=%{y}<extra></extra>\", \"legendgroup\": \"Africa\", \"marker\": {\"color\": \"rgb(102,166,30)\"}, \"name\": \"Africa\", \"offsetgroup\": \"Africa\", \"orientation\": \"h\", \"showlegend\": true, \"text\": [538184.0], \"textposition\": \"auto\", \"type\": \"bar\", \"x\": [538184], \"xaxis\": \"x\", \"y\": [\"South Africa\"], \"yaxis\": \"y\"}],\n",
       "                        {\"barmode\": \"relative\", \"legend\": {\"title\": {\"text\": \"Continent\"}, \"tracegroupgap\": 0}, \"margin\": {\"t\": 60}, \"template\": {\"data\": {\"bar\": [{\"error_x\": {\"color\": \"#2a3f5f\"}, \"error_y\": {\"color\": \"#2a3f5f\"}, \"marker\": {\"line\": {\"color\": \"#E5ECF6\", \"width\": 0.5}}, \"type\": \"bar\"}], \"barpolar\": [{\"marker\": {\"line\": {\"color\": \"#E5ECF6\", \"width\": 0.5}}, \"type\": \"barpolar\"}], \"carpet\": [{\"aaxis\": {\"endlinecolor\": \"#2a3f5f\", \"gridcolor\": \"white\", \"linecolor\": \"white\", \"minorgridcolor\": \"white\", \"startlinecolor\": \"#2a3f5f\"}, \"baxis\": {\"endlinecolor\": \"#2a3f5f\", \"gridcolor\": \"white\", \"linecolor\": \"white\", \"minorgridcolor\": \"white\", \"startlinecolor\": \"#2a3f5f\"}, \"type\": \"carpet\"}], \"choropleth\": [{\"colorbar\": {\"outlinewidth\": 0, \"ticks\": \"\"}, \"type\": \"choropleth\"}], \"contour\": [{\"colorbar\": {\"outlinewidth\": 0, \"ticks\": \"\"}, \"colorscale\": [[0.0, \"#0d0887\"], [0.1111111111111111, \"#46039f\"], [0.2222222222222222, \"#7201a8\"], [0.3333333333333333, \"#9c179e\"], [0.4444444444444444, \"#bd3786\"], [0.5555555555555556, \"#d8576b\"], [0.6666666666666666, \"#ed7953\"], [0.7777777777777778, \"#fb9f3a\"], [0.8888888888888888, \"#fdca26\"], [1.0, \"#f0f921\"]], \"type\": \"contour\"}], \"contourcarpet\": [{\"colorbar\": {\"outlinewidth\": 0, \"ticks\": \"\"}, \"type\": \"contourcarpet\"}], \"heatmap\": [{\"colorbar\": {\"outlinewidth\": 0, \"ticks\": \"\"}, \"colorscale\": [[0.0, \"#0d0887\"], [0.1111111111111111, \"#46039f\"], [0.2222222222222222, \"#7201a8\"], [0.3333333333333333, \"#9c179e\"], [0.4444444444444444, \"#bd3786\"], [0.5555555555555556, \"#d8576b\"], [0.6666666666666666, \"#ed7953\"], [0.7777777777777778, \"#fb9f3a\"], [0.8888888888888888, \"#fdca26\"], [1.0, \"#f0f921\"]], \"type\": \"heatmap\"}], \"heatmapgl\": [{\"colorbar\": {\"outlinewidth\": 0, \"ticks\": \"\"}, \"colorscale\": [[0.0, \"#0d0887\"], [0.1111111111111111, \"#46039f\"], [0.2222222222222222, \"#7201a8\"], [0.3333333333333333, \"#9c179e\"], [0.4444444444444444, \"#bd3786\"], [0.5555555555555556, \"#d8576b\"], [0.6666666666666666, \"#ed7953\"], [0.7777777777777778, \"#fb9f3a\"], [0.8888888888888888, \"#fdca26\"], [1.0, \"#f0f921\"]], \"type\": \"heatmapgl\"}], \"histogram\": [{\"marker\": {\"colorbar\": {\"outlinewidth\": 0, \"ticks\": \"\"}}, \"type\": \"histogram\"}], \"histogram2d\": [{\"colorbar\": {\"outlinewidth\": 0, \"ticks\": \"\"}, \"colorscale\": [[0.0, \"#0d0887\"], [0.1111111111111111, \"#46039f\"], [0.2222222222222222, \"#7201a8\"], [0.3333333333333333, \"#9c179e\"], [0.4444444444444444, \"#bd3786\"], [0.5555555555555556, \"#d8576b\"], [0.6666666666666666, \"#ed7953\"], [0.7777777777777778, \"#fb9f3a\"], [0.8888888888888888, \"#fdca26\"], [1.0, \"#f0f921\"]], \"type\": \"histogram2d\"}], \"histogram2dcontour\": [{\"colorbar\": {\"outlinewidth\": 0, \"ticks\": \"\"}, \"colorscale\": [[0.0, \"#0d0887\"], [0.1111111111111111, \"#46039f\"], [0.2222222222222222, \"#7201a8\"], [0.3333333333333333, \"#9c179e\"], [0.4444444444444444, \"#bd3786\"], [0.5555555555555556, \"#d8576b\"], [0.6666666666666666, \"#ed7953\"], [0.7777777777777778, \"#fb9f3a\"], [0.8888888888888888, \"#fdca26\"], [1.0, \"#f0f921\"]], \"type\": \"histogram2dcontour\"}], \"mesh3d\": [{\"colorbar\": {\"outlinewidth\": 0, \"ticks\": \"\"}, \"type\": \"mesh3d\"}], \"parcoords\": [{\"line\": {\"colorbar\": {\"outlinewidth\": 0, \"ticks\": \"\"}}, \"type\": \"parcoords\"}], \"pie\": [{\"automargin\": true, \"type\": \"pie\"}], \"scatter\": [{\"marker\": {\"colorbar\": {\"outlinewidth\": 0, \"ticks\": \"\"}}, \"type\": \"scatter\"}], \"scatter3d\": [{\"line\": {\"colorbar\": {\"outlinewidth\": 0, \"ticks\": \"\"}}, \"marker\": {\"colorbar\": {\"outlinewidth\": 0, \"ticks\": \"\"}}, \"type\": \"scatter3d\"}], \"scattercarpet\": [{\"marker\": {\"colorbar\": {\"outlinewidth\": 0, \"ticks\": \"\"}}, \"type\": \"scattercarpet\"}], \"scattergeo\": [{\"marker\": {\"colorbar\": {\"outlinewidth\": 0, \"ticks\": \"\"}}, \"type\": \"scattergeo\"}], \"scattergl\": [{\"marker\": {\"colorbar\": {\"outlinewidth\": 0, \"ticks\": \"\"}}, \"type\": \"scattergl\"}], \"scattermapbox\": [{\"marker\": {\"colorbar\": {\"outlinewidth\": 0, \"ticks\": \"\"}}, \"type\": \"scattermapbox\"}], \"scatterpolar\": [{\"marker\": {\"colorbar\": {\"outlinewidth\": 0, \"ticks\": \"\"}}, \"type\": \"scatterpolar\"}], \"scatterpolargl\": [{\"marker\": {\"colorbar\": {\"outlinewidth\": 0, \"ticks\": \"\"}}, \"type\": \"scatterpolargl\"}], \"scatterternary\": [{\"marker\": {\"colorbar\": {\"outlinewidth\": 0, \"ticks\": \"\"}}, \"type\": \"scatterternary\"}], \"surface\": [{\"colorbar\": {\"outlinewidth\": 0, \"ticks\": \"\"}, \"colorscale\": [[0.0, \"#0d0887\"], [0.1111111111111111, \"#46039f\"], [0.2222222222222222, \"#7201a8\"], [0.3333333333333333, \"#9c179e\"], [0.4444444444444444, \"#bd3786\"], [0.5555555555555556, \"#d8576b\"], [0.6666666666666666, \"#ed7953\"], [0.7777777777777778, \"#fb9f3a\"], [0.8888888888888888, \"#fdca26\"], [1.0, \"#f0f921\"]], \"type\": \"surface\"}], \"table\": [{\"cells\": {\"fill\": {\"color\": \"#EBF0F8\"}, \"line\": {\"color\": \"white\"}}, \"header\": {\"fill\": {\"color\": \"#C8D4E3\"}, \"line\": {\"color\": \"white\"}}, \"type\": \"table\"}]}, \"layout\": {\"annotationdefaults\": {\"arrowcolor\": \"#2a3f5f\", \"arrowhead\": 0, \"arrowwidth\": 1}, \"coloraxis\": {\"colorbar\": {\"outlinewidth\": 0, \"ticks\": \"\"}}, \"colorscale\": {\"diverging\": [[0, \"#8e0152\"], [0.1, \"#c51b7d\"], [0.2, \"#de77ae\"], [0.3, \"#f1b6da\"], [0.4, \"#fde0ef\"], [0.5, \"#f7f7f7\"], [0.6, \"#e6f5d0\"], [0.7, \"#b8e186\"], [0.8, \"#7fbc41\"], [0.9, \"#4d9221\"], [1, \"#276419\"]], \"sequential\": [[0.0, \"#0d0887\"], [0.1111111111111111, \"#46039f\"], [0.2222222222222222, \"#7201a8\"], [0.3333333333333333, \"#9c179e\"], [0.4444444444444444, \"#bd3786\"], [0.5555555555555556, \"#d8576b\"], [0.6666666666666666, \"#ed7953\"], [0.7777777777777778, \"#fb9f3a\"], [0.8888888888888888, \"#fdca26\"], [1.0, \"#f0f921\"]], \"sequentialminus\": [[0.0, \"#0d0887\"], [0.1111111111111111, \"#46039f\"], [0.2222222222222222, \"#7201a8\"], [0.3333333333333333, \"#9c179e\"], [0.4444444444444444, \"#bd3786\"], [0.5555555555555556, \"#d8576b\"], [0.6666666666666666, \"#ed7953\"], [0.7777777777777778, \"#fb9f3a\"], [0.8888888888888888, \"#fdca26\"], [1.0, \"#f0f921\"]]}, \"colorway\": [\"#636efa\", \"#EF553B\", \"#00cc96\", \"#ab63fa\", \"#FFA15A\", \"#19d3f3\", \"#FF6692\", \"#B6E880\", \"#FF97FF\", \"#FECB52\"], \"font\": {\"color\": \"#2a3f5f\"}, \"geo\": {\"bgcolor\": \"white\", \"lakecolor\": \"white\", \"landcolor\": \"#E5ECF6\", \"showlakes\": true, \"showland\": true, \"subunitcolor\": \"white\"}, \"hoverlabel\": {\"align\": \"left\"}, \"hovermode\": \"closest\", \"mapbox\": {\"style\": \"light\"}, \"paper_bgcolor\": \"white\", \"plot_bgcolor\": \"#E5ECF6\", \"polar\": {\"angularaxis\": {\"gridcolor\": \"white\", \"linecolor\": \"white\", \"ticks\": \"\"}, \"bgcolor\": \"#E5ECF6\", \"radialaxis\": {\"gridcolor\": \"white\", \"linecolor\": \"white\", \"ticks\": \"\"}}, \"scene\": {\"xaxis\": {\"backgroundcolor\": \"#E5ECF6\", \"gridcolor\": \"white\", \"gridwidth\": 2, \"linecolor\": \"white\", \"showbackground\": true, \"ticks\": \"\", \"zerolinecolor\": \"white\"}, \"yaxis\": {\"backgroundcolor\": \"#E5ECF6\", \"gridcolor\": \"white\", \"gridwidth\": 2, \"linecolor\": \"white\", \"showbackground\": true, \"ticks\": \"\", \"zerolinecolor\": \"white\"}, \"zaxis\": {\"backgroundcolor\": \"#E5ECF6\", \"gridcolor\": \"white\", \"gridwidth\": 2, \"linecolor\": \"white\", \"showbackground\": true, \"ticks\": \"\", \"zerolinecolor\": \"white\"}}, \"shapedefaults\": {\"line\": {\"color\": \"#2a3f5f\"}}, \"ternary\": {\"aaxis\": {\"gridcolor\": \"white\", \"linecolor\": \"white\", \"ticks\": \"\"}, \"baxis\": {\"gridcolor\": \"white\", \"linecolor\": \"white\", \"ticks\": \"\"}, \"bgcolor\": \"#E5ECF6\", \"caxis\": {\"gridcolor\": \"white\", \"linecolor\": \"white\", \"ticks\": \"\"}}, \"title\": {\"x\": 0.05}, \"xaxis\": {\"automargin\": true, \"gridcolor\": \"white\", \"linecolor\": \"white\", \"ticks\": \"\", \"title\": {\"standoff\": 15}, \"zerolinecolor\": \"white\", \"zerolinewidth\": 2}, \"yaxis\": {\"automargin\": true, \"gridcolor\": \"white\", \"linecolor\": \"white\", \"ticks\": \"\", \"title\": {\"standoff\": 15}, \"zerolinecolor\": \"white\", \"zerolinewidth\": 2}}}, \"title\": {\"text\": \"Top 15 Country with most Confirmed Cases in World\"}, \"width\": 900, \"xaxis\": {\"anchor\": \"y\", \"domain\": [0.0, 1.0], \"title\": {\"text\": \"\"}}, \"yaxis\": {\"anchor\": \"x\", \"categoryorder\": \"total ascending\", \"domain\": [0.0, 1.0], \"title\": {\"text\": \"\"}}},\n",
       "                        {\"responsive\": true}\n",
       "                    ).then(function(){\n",
       "                            \n",
       "var gd = document.getElementById('1e731ce0-082f-4746-b060-4b37300eed30');\n",
       "var x = new MutationObserver(function (mutations, observer) {{\n",
       "        var display = window.getComputedStyle(gd).display;\n",
       "        if (!display || display === 'none') {{\n",
       "            console.log([gd, 'removed!']);\n",
       "            Plotly.purge(gd);\n",
       "            observer.disconnect();\n",
       "        }}\n",
       "}});\n",
       "\n",
       "// Listen for the removal of the full notebook cells\n",
       "var notebookContainer = gd.closest('#notebook-container');\n",
       "if (notebookContainer) {{\n",
       "    x.observe(notebookContainer, {childList: true});\n",
       "}}\n",
       "\n",
       "// Listen for the clearing of the current output cell\n",
       "var outputEl = gd.closest('.output');\n",
       "if (outputEl) {{\n",
       "    x.observe(outputEl, {childList: true});\n",
       "}}\n",
       "\n",
       "                        })\n",
       "                };\n",
       "                });\n",
       "            </script>\n",
       "        </div>"
      ]
     },
     "metadata": {},
     "output_type": "display_data"
    }
   ],
   "source": [
    "world_data('Confirmed',15)"
   ]
  },
  {
   "cell_type": "markdown",
   "metadata": {},
   "source": [
    "#### The output is shown in the covid19_project.pdf as the plotly output is not supported in github"
   ]
  },
  {
   "cell_type": "markdown",
   "metadata": {},
   "source": [
    "## Countries with Most Recovered Cases in World"
   ]
  },
  {
   "cell_type": "code",
   "execution_count": 45,
   "metadata": {},
   "outputs": [
    {
     "data": {
      "application/vnd.plotly.v1+json": {
       "config": {
        "plotlyServerURL": "https://plot.ly"
       },
       "data": [
        {
         "alignmentgroup": "True",
         "hovertemplate": "Continent=South America<br>Recovered=%{text}<br>Country/Region=%{y}<extra></extra>",
         "legendgroup": "South America",
         "marker": {
          "color": "rgb(27,158,119)"
         },
         "name": "South America",
         "offsetgroup": "South America",
         "orientation": "h",
         "showlegend": true,
         "text": [
          192355,
          310337,
          340168,
          2047660
         ],
         "textposition": "auto",
         "type": "bar",
         "x": [
          192355,
          310337,
          340168,
          2047660
         ],
         "xaxis": "x",
         "y": [
          "Colombia",
          "Peru",
          "Chile",
          "Brazil"
         ],
         "yaxis": "y"
        },
        {
         "alignmentgroup": "True",
         "hovertemplate": "Continent=Europe<br>Recovered=%{text}<br>Country/Region=%{y}<extra></extra>",
         "legendgroup": "Europe",
         "marker": {
          "color": "rgb(217,95,2)"
         },
         "name": "Europe",
         "offsetgroup": "Europe",
         "orientation": "h",
         "showlegend": true,
         "text": [
          196200,
          201323,
          676357
         ],
         "textposition": "auto",
         "type": "bar",
         "x": [
          196200,
          201323,
          676357
         ],
         "xaxis": "x",
         "y": [
          "Germany",
          "Italy",
          "Russia"
         ],
         "yaxis": "y"
        },
        {
         "alignmentgroup": "True",
         "hovertemplate": "Continent=Asia<br>Recovered=%{text}<br>Country/Region=%{y}<extra></extra>",
         "legendgroup": "Asia",
         "marker": {
          "color": "rgb(117,112,179)"
         },
         "name": "Asia",
         "offsetgroup": "Asia",
         "orientation": "h",
         "showlegend": true,
         "text": [
          220546,
          247089,
          256058,
          277463,
          1377384
         ],
         "textposition": "auto",
         "type": "bar",
         "x": [
          220546,
          247089,
          256058,
          277463,
          1377384
         ],
         "xaxis": "x",
         "y": [
          "Turkey",
          "Saudi Arabia",
          "Pakistan",
          "Iran",
          "India"
         ],
         "yaxis": "y"
        },
        {
         "alignmentgroup": "True",
         "hovertemplate": "Continent=North America<br>Recovered=%{text}<br>Country/Region=%{y}<extra></extra>",
         "legendgroup": "North America",
         "marker": {
          "color": "rgb(231,41,138)"
         },
         "name": "North America",
         "offsetgroup": "North America",
         "orientation": "h",
         "showlegend": true,
         "text": [
          308848,
          2576668
         ],
         "textposition": "auto",
         "type": "bar",
         "x": [
          308848,
          2576668
         ],
         "xaxis": "x",
         "y": [
          "Mexico",
          "USA"
         ],
         "yaxis": "y"
        },
        {
         "alignmentgroup": "True",
         "hovertemplate": "Continent=Africa<br>Recovered=%{text}<br>Country/Region=%{y}<extra></extra>",
         "legendgroup": "Africa",
         "marker": {
          "color": "rgb(102,166,30)"
         },
         "name": "Africa",
         "offsetgroup": "Africa",
         "orientation": "h",
         "showlegend": true,
         "text": [
          387316
         ],
         "textposition": "auto",
         "type": "bar",
         "x": [
          387316
         ],
         "xaxis": "x",
         "y": [
          "South Africa"
         ],
         "yaxis": "y"
        }
       ],
       "layout": {
        "barmode": "relative",
        "legend": {
         "title": {
          "text": "Continent"
         },
         "tracegroupgap": 0
        },
        "margin": {
         "t": 60
        },
        "template": {
         "data": {
          "bar": [
           {
            "error_x": {
             "color": "#2a3f5f"
            },
            "error_y": {
             "color": "#2a3f5f"
            },
            "marker": {
             "line": {
              "color": "#E5ECF6",
              "width": 0.5
             }
            },
            "type": "bar"
           }
          ],
          "barpolar": [
           {
            "marker": {
             "line": {
              "color": "#E5ECF6",
              "width": 0.5
             }
            },
            "type": "barpolar"
           }
          ],
          "carpet": [
           {
            "aaxis": {
             "endlinecolor": "#2a3f5f",
             "gridcolor": "white",
             "linecolor": "white",
             "minorgridcolor": "white",
             "startlinecolor": "#2a3f5f"
            },
            "baxis": {
             "endlinecolor": "#2a3f5f",
             "gridcolor": "white",
             "linecolor": "white",
             "minorgridcolor": "white",
             "startlinecolor": "#2a3f5f"
            },
            "type": "carpet"
           }
          ],
          "choropleth": [
           {
            "colorbar": {
             "outlinewidth": 0,
             "ticks": ""
            },
            "type": "choropleth"
           }
          ],
          "contour": [
           {
            "colorbar": {
             "outlinewidth": 0,
             "ticks": ""
            },
            "colorscale": [
             [
              0,
              "#0d0887"
             ],
             [
              0.1111111111111111,
              "#46039f"
             ],
             [
              0.2222222222222222,
              "#7201a8"
             ],
             [
              0.3333333333333333,
              "#9c179e"
             ],
             [
              0.4444444444444444,
              "#bd3786"
             ],
             [
              0.5555555555555556,
              "#d8576b"
             ],
             [
              0.6666666666666666,
              "#ed7953"
             ],
             [
              0.7777777777777778,
              "#fb9f3a"
             ],
             [
              0.8888888888888888,
              "#fdca26"
             ],
             [
              1,
              "#f0f921"
             ]
            ],
            "type": "contour"
           }
          ],
          "contourcarpet": [
           {
            "colorbar": {
             "outlinewidth": 0,
             "ticks": ""
            },
            "type": "contourcarpet"
           }
          ],
          "heatmap": [
           {
            "colorbar": {
             "outlinewidth": 0,
             "ticks": ""
            },
            "colorscale": [
             [
              0,
              "#0d0887"
             ],
             [
              0.1111111111111111,
              "#46039f"
             ],
             [
              0.2222222222222222,
              "#7201a8"
             ],
             [
              0.3333333333333333,
              "#9c179e"
             ],
             [
              0.4444444444444444,
              "#bd3786"
             ],
             [
              0.5555555555555556,
              "#d8576b"
             ],
             [
              0.6666666666666666,
              "#ed7953"
             ],
             [
              0.7777777777777778,
              "#fb9f3a"
             ],
             [
              0.8888888888888888,
              "#fdca26"
             ],
             [
              1,
              "#f0f921"
             ]
            ],
            "type": "heatmap"
           }
          ],
          "heatmapgl": [
           {
            "colorbar": {
             "outlinewidth": 0,
             "ticks": ""
            },
            "colorscale": [
             [
              0,
              "#0d0887"
             ],
             [
              0.1111111111111111,
              "#46039f"
             ],
             [
              0.2222222222222222,
              "#7201a8"
             ],
             [
              0.3333333333333333,
              "#9c179e"
             ],
             [
              0.4444444444444444,
              "#bd3786"
             ],
             [
              0.5555555555555556,
              "#d8576b"
             ],
             [
              0.6666666666666666,
              "#ed7953"
             ],
             [
              0.7777777777777778,
              "#fb9f3a"
             ],
             [
              0.8888888888888888,
              "#fdca26"
             ],
             [
              1,
              "#f0f921"
             ]
            ],
            "type": "heatmapgl"
           }
          ],
          "histogram": [
           {
            "marker": {
             "colorbar": {
              "outlinewidth": 0,
              "ticks": ""
             }
            },
            "type": "histogram"
           }
          ],
          "histogram2d": [
           {
            "colorbar": {
             "outlinewidth": 0,
             "ticks": ""
            },
            "colorscale": [
             [
              0,
              "#0d0887"
             ],
             [
              0.1111111111111111,
              "#46039f"
             ],
             [
              0.2222222222222222,
              "#7201a8"
             ],
             [
              0.3333333333333333,
              "#9c179e"
             ],
             [
              0.4444444444444444,
              "#bd3786"
             ],
             [
              0.5555555555555556,
              "#d8576b"
             ],
             [
              0.6666666666666666,
              "#ed7953"
             ],
             [
              0.7777777777777778,
              "#fb9f3a"
             ],
             [
              0.8888888888888888,
              "#fdca26"
             ],
             [
              1,
              "#f0f921"
             ]
            ],
            "type": "histogram2d"
           }
          ],
          "histogram2dcontour": [
           {
            "colorbar": {
             "outlinewidth": 0,
             "ticks": ""
            },
            "colorscale": [
             [
              0,
              "#0d0887"
             ],
             [
              0.1111111111111111,
              "#46039f"
             ],
             [
              0.2222222222222222,
              "#7201a8"
             ],
             [
              0.3333333333333333,
              "#9c179e"
             ],
             [
              0.4444444444444444,
              "#bd3786"
             ],
             [
              0.5555555555555556,
              "#d8576b"
             ],
             [
              0.6666666666666666,
              "#ed7953"
             ],
             [
              0.7777777777777778,
              "#fb9f3a"
             ],
             [
              0.8888888888888888,
              "#fdca26"
             ],
             [
              1,
              "#f0f921"
             ]
            ],
            "type": "histogram2dcontour"
           }
          ],
          "mesh3d": [
           {
            "colorbar": {
             "outlinewidth": 0,
             "ticks": ""
            },
            "type": "mesh3d"
           }
          ],
          "parcoords": [
           {
            "line": {
             "colorbar": {
              "outlinewidth": 0,
              "ticks": ""
             }
            },
            "type": "parcoords"
           }
          ],
          "pie": [
           {
            "automargin": true,
            "type": "pie"
           }
          ],
          "scatter": [
           {
            "marker": {
             "colorbar": {
              "outlinewidth": 0,
              "ticks": ""
             }
            },
            "type": "scatter"
           }
          ],
          "scatter3d": [
           {
            "line": {
             "colorbar": {
              "outlinewidth": 0,
              "ticks": ""
             }
            },
            "marker": {
             "colorbar": {
              "outlinewidth": 0,
              "ticks": ""
             }
            },
            "type": "scatter3d"
           }
          ],
          "scattercarpet": [
           {
            "marker": {
             "colorbar": {
              "outlinewidth": 0,
              "ticks": ""
             }
            },
            "type": "scattercarpet"
           }
          ],
          "scattergeo": [
           {
            "marker": {
             "colorbar": {
              "outlinewidth": 0,
              "ticks": ""
             }
            },
            "type": "scattergeo"
           }
          ],
          "scattergl": [
           {
            "marker": {
             "colorbar": {
              "outlinewidth": 0,
              "ticks": ""
             }
            },
            "type": "scattergl"
           }
          ],
          "scattermapbox": [
           {
            "marker": {
             "colorbar": {
              "outlinewidth": 0,
              "ticks": ""
             }
            },
            "type": "scattermapbox"
           }
          ],
          "scatterpolar": [
           {
            "marker": {
             "colorbar": {
              "outlinewidth": 0,
              "ticks": ""
             }
            },
            "type": "scatterpolar"
           }
          ],
          "scatterpolargl": [
           {
            "marker": {
             "colorbar": {
              "outlinewidth": 0,
              "ticks": ""
             }
            },
            "type": "scatterpolargl"
           }
          ],
          "scatterternary": [
           {
            "marker": {
             "colorbar": {
              "outlinewidth": 0,
              "ticks": ""
             }
            },
            "type": "scatterternary"
           }
          ],
          "surface": [
           {
            "colorbar": {
             "outlinewidth": 0,
             "ticks": ""
            },
            "colorscale": [
             [
              0,
              "#0d0887"
             ],
             [
              0.1111111111111111,
              "#46039f"
             ],
             [
              0.2222222222222222,
              "#7201a8"
             ],
             [
              0.3333333333333333,
              "#9c179e"
             ],
             [
              0.4444444444444444,
              "#bd3786"
             ],
             [
              0.5555555555555556,
              "#d8576b"
             ],
             [
              0.6666666666666666,
              "#ed7953"
             ],
             [
              0.7777777777777778,
              "#fb9f3a"
             ],
             [
              0.8888888888888888,
              "#fdca26"
             ],
             [
              1,
              "#f0f921"
             ]
            ],
            "type": "surface"
           }
          ],
          "table": [
           {
            "cells": {
             "fill": {
              "color": "#EBF0F8"
             },
             "line": {
              "color": "white"
             }
            },
            "header": {
             "fill": {
              "color": "#C8D4E3"
             },
             "line": {
              "color": "white"
             }
            },
            "type": "table"
           }
          ]
         },
         "layout": {
          "annotationdefaults": {
           "arrowcolor": "#2a3f5f",
           "arrowhead": 0,
           "arrowwidth": 1
          },
          "coloraxis": {
           "colorbar": {
            "outlinewidth": 0,
            "ticks": ""
           }
          },
          "colorscale": {
           "diverging": [
            [
             0,
             "#8e0152"
            ],
            [
             0.1,
             "#c51b7d"
            ],
            [
             0.2,
             "#de77ae"
            ],
            [
             0.3,
             "#f1b6da"
            ],
            [
             0.4,
             "#fde0ef"
            ],
            [
             0.5,
             "#f7f7f7"
            ],
            [
             0.6,
             "#e6f5d0"
            ],
            [
             0.7,
             "#b8e186"
            ],
            [
             0.8,
             "#7fbc41"
            ],
            [
             0.9,
             "#4d9221"
            ],
            [
             1,
             "#276419"
            ]
           ],
           "sequential": [
            [
             0,
             "#0d0887"
            ],
            [
             0.1111111111111111,
             "#46039f"
            ],
            [
             0.2222222222222222,
             "#7201a8"
            ],
            [
             0.3333333333333333,
             "#9c179e"
            ],
            [
             0.4444444444444444,
             "#bd3786"
            ],
            [
             0.5555555555555556,
             "#d8576b"
            ],
            [
             0.6666666666666666,
             "#ed7953"
            ],
            [
             0.7777777777777778,
             "#fb9f3a"
            ],
            [
             0.8888888888888888,
             "#fdca26"
            ],
            [
             1,
             "#f0f921"
            ]
           ],
           "sequentialminus": [
            [
             0,
             "#0d0887"
            ],
            [
             0.1111111111111111,
             "#46039f"
            ],
            [
             0.2222222222222222,
             "#7201a8"
            ],
            [
             0.3333333333333333,
             "#9c179e"
            ],
            [
             0.4444444444444444,
             "#bd3786"
            ],
            [
             0.5555555555555556,
             "#d8576b"
            ],
            [
             0.6666666666666666,
             "#ed7953"
            ],
            [
             0.7777777777777778,
             "#fb9f3a"
            ],
            [
             0.8888888888888888,
             "#fdca26"
            ],
            [
             1,
             "#f0f921"
            ]
           ]
          },
          "colorway": [
           "#636efa",
           "#EF553B",
           "#00cc96",
           "#ab63fa",
           "#FFA15A",
           "#19d3f3",
           "#FF6692",
           "#B6E880",
           "#FF97FF",
           "#FECB52"
          ],
          "font": {
           "color": "#2a3f5f"
          },
          "geo": {
           "bgcolor": "white",
           "lakecolor": "white",
           "landcolor": "#E5ECF6",
           "showlakes": true,
           "showland": true,
           "subunitcolor": "white"
          },
          "hoverlabel": {
           "align": "left"
          },
          "hovermode": "closest",
          "mapbox": {
           "style": "light"
          },
          "paper_bgcolor": "white",
          "plot_bgcolor": "#E5ECF6",
          "polar": {
           "angularaxis": {
            "gridcolor": "white",
            "linecolor": "white",
            "ticks": ""
           },
           "bgcolor": "#E5ECF6",
           "radialaxis": {
            "gridcolor": "white",
            "linecolor": "white",
            "ticks": ""
           }
          },
          "scene": {
           "xaxis": {
            "backgroundcolor": "#E5ECF6",
            "gridcolor": "white",
            "gridwidth": 2,
            "linecolor": "white",
            "showbackground": true,
            "ticks": "",
            "zerolinecolor": "white"
           },
           "yaxis": {
            "backgroundcolor": "#E5ECF6",
            "gridcolor": "white",
            "gridwidth": 2,
            "linecolor": "white",
            "showbackground": true,
            "ticks": "",
            "zerolinecolor": "white"
           },
           "zaxis": {
            "backgroundcolor": "#E5ECF6",
            "gridcolor": "white",
            "gridwidth": 2,
            "linecolor": "white",
            "showbackground": true,
            "ticks": "",
            "zerolinecolor": "white"
           }
          },
          "shapedefaults": {
           "line": {
            "color": "#2a3f5f"
           }
          },
          "ternary": {
           "aaxis": {
            "gridcolor": "white",
            "linecolor": "white",
            "ticks": ""
           },
           "baxis": {
            "gridcolor": "white",
            "linecolor": "white",
            "ticks": ""
           },
           "bgcolor": "#E5ECF6",
           "caxis": {
            "gridcolor": "white",
            "linecolor": "white",
            "ticks": ""
           }
          },
          "title": {
           "x": 0.05
          },
          "xaxis": {
           "automargin": true,
           "gridcolor": "white",
           "linecolor": "white",
           "ticks": "",
           "title": {
            "standoff": 15
           },
           "zerolinecolor": "white",
           "zerolinewidth": 2
          },
          "yaxis": {
           "automargin": true,
           "gridcolor": "white",
           "linecolor": "white",
           "ticks": "",
           "title": {
            "standoff": 15
           },
           "zerolinecolor": "white",
           "zerolinewidth": 2
          }
         }
        },
        "title": {
         "text": "Top 15 Country with most Recovered Cases in World"
        },
        "width": 900,
        "xaxis": {
         "anchor": "y",
         "domain": [
          0,
          1
         ],
         "title": {
          "text": ""
         }
        },
        "yaxis": {
         "anchor": "x",
         "categoryorder": "total ascending",
         "domain": [
          0,
          1
         ],
         "title": {
          "text": ""
         }
        }
       }
      },
      "text/html": [
       "<div>\n",
       "        \n",
       "        \n",
       "            <div id=\"b86cc3a9-b12b-43a5-9817-a80cc311c766\" class=\"plotly-graph-div\" style=\"height:525px; width:900px;\"></div>\n",
       "            <script type=\"text/javascript\">\n",
       "                require([\"plotly\"], function(Plotly) {\n",
       "                    window.PLOTLYENV=window.PLOTLYENV || {};\n",
       "                    \n",
       "                if (document.getElementById(\"b86cc3a9-b12b-43a5-9817-a80cc311c766\")) {\n",
       "                    Plotly.newPlot(\n",
       "                        'b86cc3a9-b12b-43a5-9817-a80cc311c766',\n",
       "                        [{\"alignmentgroup\": \"True\", \"hovertemplate\": \"Continent=South America<br>Recovered=%{text}<br>Country/Region=%{y}<extra></extra>\", \"legendgroup\": \"South America\", \"marker\": {\"color\": \"rgb(27,158,119)\"}, \"name\": \"South America\", \"offsetgroup\": \"South America\", \"orientation\": \"h\", \"showlegend\": true, \"text\": [192355.0, 310337.0, 340168.0, 2047660.0], \"textposition\": \"auto\", \"type\": \"bar\", \"x\": [192355.0, 310337.0, 340168.0, 2047660.0], \"xaxis\": \"x\", \"y\": [\"Colombia\", \"Peru\", \"Chile\", \"Brazil\"], \"yaxis\": \"y\"}, {\"alignmentgroup\": \"True\", \"hovertemplate\": \"Continent=Europe<br>Recovered=%{text}<br>Country/Region=%{y}<extra></extra>\", \"legendgroup\": \"Europe\", \"marker\": {\"color\": \"rgb(217,95,2)\"}, \"name\": \"Europe\", \"offsetgroup\": \"Europe\", \"orientation\": \"h\", \"showlegend\": true, \"text\": [196200.0, 201323.0, 676357.0], \"textposition\": \"auto\", \"type\": \"bar\", \"x\": [196200.0, 201323.0, 676357.0], \"xaxis\": \"x\", \"y\": [\"Germany\", \"Italy\", \"Russia\"], \"yaxis\": \"y\"}, {\"alignmentgroup\": \"True\", \"hovertemplate\": \"Continent=Asia<br>Recovered=%{text}<br>Country/Region=%{y}<extra></extra>\", \"legendgroup\": \"Asia\", \"marker\": {\"color\": \"rgb(117,112,179)\"}, \"name\": \"Asia\", \"offsetgroup\": \"Asia\", \"orientation\": \"h\", \"showlegend\": true, \"text\": [220546.0, 247089.0, 256058.0, 277463.0, 1377384.0], \"textposition\": \"auto\", \"type\": \"bar\", \"x\": [220546.0, 247089.0, 256058.0, 277463.0, 1377384.0], \"xaxis\": \"x\", \"y\": [\"Turkey\", \"Saudi Arabia\", \"Pakistan\", \"Iran\", \"India\"], \"yaxis\": \"y\"}, {\"alignmentgroup\": \"True\", \"hovertemplate\": \"Continent=North America<br>Recovered=%{text}<br>Country/Region=%{y}<extra></extra>\", \"legendgroup\": \"North America\", \"marker\": {\"color\": \"rgb(231,41,138)\"}, \"name\": \"North America\", \"offsetgroup\": \"North America\", \"orientation\": \"h\", \"showlegend\": true, \"text\": [308848.0, 2576668.0], \"textposition\": \"auto\", \"type\": \"bar\", \"x\": [308848.0, 2576668.0], \"xaxis\": \"x\", \"y\": [\"Mexico\", \"USA\"], \"yaxis\": \"y\"}, {\"alignmentgroup\": \"True\", \"hovertemplate\": \"Continent=Africa<br>Recovered=%{text}<br>Country/Region=%{y}<extra></extra>\", \"legendgroup\": \"Africa\", \"marker\": {\"color\": \"rgb(102,166,30)\"}, \"name\": \"Africa\", \"offsetgroup\": \"Africa\", \"orientation\": \"h\", \"showlegend\": true, \"text\": [387316.0], \"textposition\": \"auto\", \"type\": \"bar\", \"x\": [387316.0], \"xaxis\": \"x\", \"y\": [\"South Africa\"], \"yaxis\": \"y\"}],\n",
       "                        {\"barmode\": \"relative\", \"legend\": {\"title\": {\"text\": \"Continent\"}, \"tracegroupgap\": 0}, \"margin\": {\"t\": 60}, \"template\": {\"data\": {\"bar\": [{\"error_x\": {\"color\": \"#2a3f5f\"}, \"error_y\": {\"color\": \"#2a3f5f\"}, \"marker\": {\"line\": {\"color\": \"#E5ECF6\", \"width\": 0.5}}, \"type\": \"bar\"}], \"barpolar\": [{\"marker\": {\"line\": {\"color\": \"#E5ECF6\", \"width\": 0.5}}, \"type\": \"barpolar\"}], \"carpet\": [{\"aaxis\": {\"endlinecolor\": \"#2a3f5f\", \"gridcolor\": \"white\", \"linecolor\": \"white\", \"minorgridcolor\": \"white\", \"startlinecolor\": \"#2a3f5f\"}, \"baxis\": {\"endlinecolor\": \"#2a3f5f\", \"gridcolor\": \"white\", \"linecolor\": \"white\", \"minorgridcolor\": \"white\", \"startlinecolor\": \"#2a3f5f\"}, \"type\": \"carpet\"}], \"choropleth\": [{\"colorbar\": {\"outlinewidth\": 0, \"ticks\": \"\"}, \"type\": \"choropleth\"}], \"contour\": [{\"colorbar\": {\"outlinewidth\": 0, \"ticks\": \"\"}, \"colorscale\": [[0.0, \"#0d0887\"], [0.1111111111111111, \"#46039f\"], [0.2222222222222222, \"#7201a8\"], [0.3333333333333333, \"#9c179e\"], [0.4444444444444444, \"#bd3786\"], [0.5555555555555556, \"#d8576b\"], [0.6666666666666666, \"#ed7953\"], [0.7777777777777778, \"#fb9f3a\"], [0.8888888888888888, \"#fdca26\"], [1.0, \"#f0f921\"]], \"type\": \"contour\"}], \"contourcarpet\": [{\"colorbar\": {\"outlinewidth\": 0, \"ticks\": \"\"}, \"type\": \"contourcarpet\"}], \"heatmap\": [{\"colorbar\": {\"outlinewidth\": 0, \"ticks\": \"\"}, \"colorscale\": [[0.0, \"#0d0887\"], [0.1111111111111111, \"#46039f\"], [0.2222222222222222, \"#7201a8\"], [0.3333333333333333, \"#9c179e\"], [0.4444444444444444, \"#bd3786\"], [0.5555555555555556, \"#d8576b\"], [0.6666666666666666, \"#ed7953\"], [0.7777777777777778, \"#fb9f3a\"], [0.8888888888888888, \"#fdca26\"], [1.0, \"#f0f921\"]], \"type\": \"heatmap\"}], \"heatmapgl\": [{\"colorbar\": {\"outlinewidth\": 0, \"ticks\": \"\"}, \"colorscale\": [[0.0, \"#0d0887\"], [0.1111111111111111, \"#46039f\"], [0.2222222222222222, \"#7201a8\"], [0.3333333333333333, \"#9c179e\"], [0.4444444444444444, \"#bd3786\"], [0.5555555555555556, \"#d8576b\"], [0.6666666666666666, \"#ed7953\"], [0.7777777777777778, \"#fb9f3a\"], [0.8888888888888888, \"#fdca26\"], [1.0, \"#f0f921\"]], \"type\": \"heatmapgl\"}], \"histogram\": [{\"marker\": {\"colorbar\": {\"outlinewidth\": 0, \"ticks\": \"\"}}, \"type\": \"histogram\"}], \"histogram2d\": [{\"colorbar\": {\"outlinewidth\": 0, \"ticks\": \"\"}, \"colorscale\": [[0.0, \"#0d0887\"], [0.1111111111111111, \"#46039f\"], [0.2222222222222222, \"#7201a8\"], [0.3333333333333333, \"#9c179e\"], [0.4444444444444444, \"#bd3786\"], [0.5555555555555556, \"#d8576b\"], [0.6666666666666666, \"#ed7953\"], [0.7777777777777778, \"#fb9f3a\"], [0.8888888888888888, \"#fdca26\"], [1.0, \"#f0f921\"]], \"type\": \"histogram2d\"}], \"histogram2dcontour\": [{\"colorbar\": {\"outlinewidth\": 0, \"ticks\": \"\"}, \"colorscale\": [[0.0, \"#0d0887\"], [0.1111111111111111, \"#46039f\"], [0.2222222222222222, \"#7201a8\"], [0.3333333333333333, \"#9c179e\"], [0.4444444444444444, \"#bd3786\"], [0.5555555555555556, \"#d8576b\"], [0.6666666666666666, \"#ed7953\"], [0.7777777777777778, \"#fb9f3a\"], [0.8888888888888888, \"#fdca26\"], [1.0, \"#f0f921\"]], \"type\": \"histogram2dcontour\"}], \"mesh3d\": [{\"colorbar\": {\"outlinewidth\": 0, \"ticks\": \"\"}, \"type\": \"mesh3d\"}], \"parcoords\": [{\"line\": {\"colorbar\": {\"outlinewidth\": 0, \"ticks\": \"\"}}, \"type\": \"parcoords\"}], \"pie\": [{\"automargin\": true, \"type\": \"pie\"}], \"scatter\": [{\"marker\": {\"colorbar\": {\"outlinewidth\": 0, \"ticks\": \"\"}}, \"type\": \"scatter\"}], \"scatter3d\": [{\"line\": {\"colorbar\": {\"outlinewidth\": 0, \"ticks\": \"\"}}, \"marker\": {\"colorbar\": {\"outlinewidth\": 0, \"ticks\": \"\"}}, \"type\": \"scatter3d\"}], \"scattercarpet\": [{\"marker\": {\"colorbar\": {\"outlinewidth\": 0, \"ticks\": \"\"}}, \"type\": \"scattercarpet\"}], \"scattergeo\": [{\"marker\": {\"colorbar\": {\"outlinewidth\": 0, \"ticks\": \"\"}}, \"type\": \"scattergeo\"}], \"scattergl\": [{\"marker\": {\"colorbar\": {\"outlinewidth\": 0, \"ticks\": \"\"}}, \"type\": \"scattergl\"}], \"scattermapbox\": [{\"marker\": {\"colorbar\": {\"outlinewidth\": 0, \"ticks\": \"\"}}, \"type\": \"scattermapbox\"}], \"scatterpolar\": [{\"marker\": {\"colorbar\": {\"outlinewidth\": 0, \"ticks\": \"\"}}, \"type\": \"scatterpolar\"}], \"scatterpolargl\": [{\"marker\": {\"colorbar\": {\"outlinewidth\": 0, \"ticks\": \"\"}}, \"type\": \"scatterpolargl\"}], \"scatterternary\": [{\"marker\": {\"colorbar\": {\"outlinewidth\": 0, \"ticks\": \"\"}}, \"type\": \"scatterternary\"}], \"surface\": [{\"colorbar\": {\"outlinewidth\": 0, \"ticks\": \"\"}, \"colorscale\": [[0.0, \"#0d0887\"], [0.1111111111111111, \"#46039f\"], [0.2222222222222222, \"#7201a8\"], [0.3333333333333333, \"#9c179e\"], [0.4444444444444444, \"#bd3786\"], [0.5555555555555556, \"#d8576b\"], [0.6666666666666666, \"#ed7953\"], [0.7777777777777778, \"#fb9f3a\"], [0.8888888888888888, \"#fdca26\"], [1.0, \"#f0f921\"]], \"type\": \"surface\"}], \"table\": [{\"cells\": {\"fill\": {\"color\": \"#EBF0F8\"}, \"line\": {\"color\": \"white\"}}, \"header\": {\"fill\": {\"color\": \"#C8D4E3\"}, \"line\": {\"color\": \"white\"}}, \"type\": \"table\"}]}, \"layout\": {\"annotationdefaults\": {\"arrowcolor\": \"#2a3f5f\", \"arrowhead\": 0, \"arrowwidth\": 1}, \"coloraxis\": {\"colorbar\": {\"outlinewidth\": 0, \"ticks\": \"\"}}, \"colorscale\": {\"diverging\": [[0, \"#8e0152\"], [0.1, \"#c51b7d\"], [0.2, \"#de77ae\"], [0.3, \"#f1b6da\"], [0.4, \"#fde0ef\"], [0.5, \"#f7f7f7\"], [0.6, \"#e6f5d0\"], [0.7, \"#b8e186\"], [0.8, \"#7fbc41\"], [0.9, \"#4d9221\"], [1, \"#276419\"]], \"sequential\": [[0.0, \"#0d0887\"], [0.1111111111111111, \"#46039f\"], [0.2222222222222222, \"#7201a8\"], [0.3333333333333333, \"#9c179e\"], [0.4444444444444444, \"#bd3786\"], [0.5555555555555556, \"#d8576b\"], [0.6666666666666666, \"#ed7953\"], [0.7777777777777778, \"#fb9f3a\"], [0.8888888888888888, \"#fdca26\"], [1.0, \"#f0f921\"]], \"sequentialminus\": [[0.0, \"#0d0887\"], [0.1111111111111111, \"#46039f\"], [0.2222222222222222, \"#7201a8\"], [0.3333333333333333, \"#9c179e\"], [0.4444444444444444, \"#bd3786\"], [0.5555555555555556, \"#d8576b\"], [0.6666666666666666, \"#ed7953\"], [0.7777777777777778, \"#fb9f3a\"], [0.8888888888888888, \"#fdca26\"], [1.0, \"#f0f921\"]]}, \"colorway\": [\"#636efa\", \"#EF553B\", \"#00cc96\", \"#ab63fa\", \"#FFA15A\", \"#19d3f3\", \"#FF6692\", \"#B6E880\", \"#FF97FF\", \"#FECB52\"], \"font\": {\"color\": \"#2a3f5f\"}, \"geo\": {\"bgcolor\": \"white\", \"lakecolor\": \"white\", \"landcolor\": \"#E5ECF6\", \"showlakes\": true, \"showland\": true, \"subunitcolor\": \"white\"}, \"hoverlabel\": {\"align\": \"left\"}, \"hovermode\": \"closest\", \"mapbox\": {\"style\": \"light\"}, \"paper_bgcolor\": \"white\", \"plot_bgcolor\": \"#E5ECF6\", \"polar\": {\"angularaxis\": {\"gridcolor\": \"white\", \"linecolor\": \"white\", \"ticks\": \"\"}, \"bgcolor\": \"#E5ECF6\", \"radialaxis\": {\"gridcolor\": \"white\", \"linecolor\": \"white\", \"ticks\": \"\"}}, \"scene\": {\"xaxis\": {\"backgroundcolor\": \"#E5ECF6\", \"gridcolor\": \"white\", \"gridwidth\": 2, \"linecolor\": \"white\", \"showbackground\": true, \"ticks\": \"\", \"zerolinecolor\": \"white\"}, \"yaxis\": {\"backgroundcolor\": \"#E5ECF6\", \"gridcolor\": \"white\", \"gridwidth\": 2, \"linecolor\": \"white\", \"showbackground\": true, \"ticks\": \"\", \"zerolinecolor\": \"white\"}, \"zaxis\": {\"backgroundcolor\": \"#E5ECF6\", \"gridcolor\": \"white\", \"gridwidth\": 2, \"linecolor\": \"white\", \"showbackground\": true, \"ticks\": \"\", \"zerolinecolor\": \"white\"}}, \"shapedefaults\": {\"line\": {\"color\": \"#2a3f5f\"}}, \"ternary\": {\"aaxis\": {\"gridcolor\": \"white\", \"linecolor\": \"white\", \"ticks\": \"\"}, \"baxis\": {\"gridcolor\": \"white\", \"linecolor\": \"white\", \"ticks\": \"\"}, \"bgcolor\": \"#E5ECF6\", \"caxis\": {\"gridcolor\": \"white\", \"linecolor\": \"white\", \"ticks\": \"\"}}, \"title\": {\"x\": 0.05}, \"xaxis\": {\"automargin\": true, \"gridcolor\": \"white\", \"linecolor\": \"white\", \"ticks\": \"\", \"title\": {\"standoff\": 15}, \"zerolinecolor\": \"white\", \"zerolinewidth\": 2}, \"yaxis\": {\"automargin\": true, \"gridcolor\": \"white\", \"linecolor\": \"white\", \"ticks\": \"\", \"title\": {\"standoff\": 15}, \"zerolinecolor\": \"white\", \"zerolinewidth\": 2}}}, \"title\": {\"text\": \"Top 15 Country with most Recovered Cases in World\"}, \"width\": 900, \"xaxis\": {\"anchor\": \"y\", \"domain\": [0.0, 1.0], \"title\": {\"text\": \"\"}}, \"yaxis\": {\"anchor\": \"x\", \"categoryorder\": \"total ascending\", \"domain\": [0.0, 1.0], \"title\": {\"text\": \"\"}}},\n",
       "                        {\"responsive\": true}\n",
       "                    ).then(function(){\n",
       "                            \n",
       "var gd = document.getElementById('b86cc3a9-b12b-43a5-9817-a80cc311c766');\n",
       "var x = new MutationObserver(function (mutations, observer) {{\n",
       "        var display = window.getComputedStyle(gd).display;\n",
       "        if (!display || display === 'none') {{\n",
       "            console.log([gd, 'removed!']);\n",
       "            Plotly.purge(gd);\n",
       "            observer.disconnect();\n",
       "        }}\n",
       "}});\n",
       "\n",
       "// Listen for the removal of the full notebook cells\n",
       "var notebookContainer = gd.closest('#notebook-container');\n",
       "if (notebookContainer) {{\n",
       "    x.observe(notebookContainer, {childList: true});\n",
       "}}\n",
       "\n",
       "// Listen for the clearing of the current output cell\n",
       "var outputEl = gd.closest('.output');\n",
       "if (outputEl) {{\n",
       "    x.observe(outputEl, {childList: true});\n",
       "}}\n",
       "\n",
       "                        })\n",
       "                };\n",
       "                });\n",
       "            </script>\n",
       "        </div>"
      ]
     },
     "metadata": {},
     "output_type": "display_data"
    }
   ],
   "source": [
    "world_data('Recovered',15)"
   ]
  },
  {
   "cell_type": "markdown",
   "metadata": {},
   "source": [
    "#### The output is shown in the covid19_project.pdf as the plotly output is not supported in github"
   ]
  },
  {
   "cell_type": "markdown",
   "metadata": {
    "scrolled": true
   },
   "source": [
    "## Countries with Most Deceased Cases in World"
   ]
  },
  {
   "cell_type": "code",
   "execution_count": 46,
   "metadata": {},
   "outputs": [
    {
     "data": {
      "application/vnd.plotly.v1+json": {
       "config": {
        "plotlyServerURL": "https://plot.ly"
       },
       "data": [
        {
         "alignmentgroup": "True",
         "hovertemplate": "Continent=Africa<br>Deceased=%{text}<br>Country/Region=%{y}<extra></extra>",
         "legendgroup": "Africa",
         "marker": {
          "color": "rgb(27,158,119)"
         },
         "name": "Africa",
         "offsetgroup": "Africa",
         "orientation": "h",
         "showlegend": true,
         "text": [
          9604
         ],
         "textposition": "auto",
         "type": "bar",
         "x": [
          9604
         ],
         "xaxis": "x",
         "y": [
          "South Africa"
         ],
         "yaxis": "y"
        },
        {
         "alignmentgroup": "True",
         "hovertemplate": "Continent=Europe<br>Deceased=%{text}<br>Country/Region=%{y}<extra></extra>",
         "legendgroup": "Europe",
         "marker": {
          "color": "rgb(217,95,2)"
         },
         "name": "Europe",
         "offsetgroup": "Europe",
         "orientation": "h",
         "showlegend": true,
         "text": [
          9859,
          14606,
          28500,
          30312,
          35187,
          46413
         ],
         "textposition": "auto",
         "type": "bar",
         "x": [
          9859,
          14606,
          28500,
          30312,
          35187,
          46413
         ],
         "xaxis": "x",
         "y": [
          "Belgium",
          "Russia",
          "Spain",
          "France",
          "Italy",
          "UK"
         ],
         "yaxis": "y"
        },
        {
         "alignmentgroup": "True",
         "hovertemplate": "Continent=South America<br>Deceased=%{text}<br>Country/Region=%{y}<extra></extra>",
         "legendgroup": "South America",
         "marker": {
          "color": "rgb(117,112,179)"
         },
         "name": "South America",
         "offsetgroup": "South America",
         "orientation": "h",
         "showlegend": true,
         "text": [
          9889,
          11939,
          20424,
          98644
         ],
         "textposition": "auto",
         "type": "bar",
         "x": [
          9889,
          11939,
          20424,
          98644
         ],
         "xaxis": "x",
         "y": [
          "Chile",
          "Colombia",
          "Peru",
          "Brazil"
         ],
         "yaxis": "y"
        },
        {
         "alignmentgroup": "True",
         "hovertemplate": "Continent=Asia<br>Deceased=%{text}<br>Country/Region=%{y}<extra></extra>",
         "legendgroup": "Asia",
         "marker": {
          "color": "rgb(231,41,138)"
         },
         "name": "Asia",
         "offsetgroup": "Asia",
         "orientation": "h",
         "showlegend": true,
         "text": [
          17976,
          41638
         ],
         "textposition": "auto",
         "type": "bar",
         "x": [
          17976,
          41638
         ],
         "xaxis": "x",
         "y": [
          "Iran",
          "India"
         ],
         "yaxis": "y"
        },
        {
         "alignmentgroup": "True",
         "hovertemplate": "Continent=North America<br>Deceased=%{text}<br>Country/Region=%{y}<extra></extra>",
         "legendgroup": "North America",
         "marker": {
          "color": "rgb(102,166,30)"
         },
         "name": "North America",
         "offsetgroup": "North America",
         "orientation": "h",
         "showlegend": true,
         "text": [
          50517,
          162804
         ],
         "textposition": "auto",
         "type": "bar",
         "x": [
          50517,
          162804
         ],
         "xaxis": "x",
         "y": [
          "Mexico",
          "USA"
         ],
         "yaxis": "y"
        }
       ],
       "layout": {
        "barmode": "relative",
        "legend": {
         "title": {
          "text": "Continent"
         },
         "tracegroupgap": 0
        },
        "margin": {
         "t": 60
        },
        "template": {
         "data": {
          "bar": [
           {
            "error_x": {
             "color": "#2a3f5f"
            },
            "error_y": {
             "color": "#2a3f5f"
            },
            "marker": {
             "line": {
              "color": "#E5ECF6",
              "width": 0.5
             }
            },
            "type": "bar"
           }
          ],
          "barpolar": [
           {
            "marker": {
             "line": {
              "color": "#E5ECF6",
              "width": 0.5
             }
            },
            "type": "barpolar"
           }
          ],
          "carpet": [
           {
            "aaxis": {
             "endlinecolor": "#2a3f5f",
             "gridcolor": "white",
             "linecolor": "white",
             "minorgridcolor": "white",
             "startlinecolor": "#2a3f5f"
            },
            "baxis": {
             "endlinecolor": "#2a3f5f",
             "gridcolor": "white",
             "linecolor": "white",
             "minorgridcolor": "white",
             "startlinecolor": "#2a3f5f"
            },
            "type": "carpet"
           }
          ],
          "choropleth": [
           {
            "colorbar": {
             "outlinewidth": 0,
             "ticks": ""
            },
            "type": "choropleth"
           }
          ],
          "contour": [
           {
            "colorbar": {
             "outlinewidth": 0,
             "ticks": ""
            },
            "colorscale": [
             [
              0,
              "#0d0887"
             ],
             [
              0.1111111111111111,
              "#46039f"
             ],
             [
              0.2222222222222222,
              "#7201a8"
             ],
             [
              0.3333333333333333,
              "#9c179e"
             ],
             [
              0.4444444444444444,
              "#bd3786"
             ],
             [
              0.5555555555555556,
              "#d8576b"
             ],
             [
              0.6666666666666666,
              "#ed7953"
             ],
             [
              0.7777777777777778,
              "#fb9f3a"
             ],
             [
              0.8888888888888888,
              "#fdca26"
             ],
             [
              1,
              "#f0f921"
             ]
            ],
            "type": "contour"
           }
          ],
          "contourcarpet": [
           {
            "colorbar": {
             "outlinewidth": 0,
             "ticks": ""
            },
            "type": "contourcarpet"
           }
          ],
          "heatmap": [
           {
            "colorbar": {
             "outlinewidth": 0,
             "ticks": ""
            },
            "colorscale": [
             [
              0,
              "#0d0887"
             ],
             [
              0.1111111111111111,
              "#46039f"
             ],
             [
              0.2222222222222222,
              "#7201a8"
             ],
             [
              0.3333333333333333,
              "#9c179e"
             ],
             [
              0.4444444444444444,
              "#bd3786"
             ],
             [
              0.5555555555555556,
              "#d8576b"
             ],
             [
              0.6666666666666666,
              "#ed7953"
             ],
             [
              0.7777777777777778,
              "#fb9f3a"
             ],
             [
              0.8888888888888888,
              "#fdca26"
             ],
             [
              1,
              "#f0f921"
             ]
            ],
            "type": "heatmap"
           }
          ],
          "heatmapgl": [
           {
            "colorbar": {
             "outlinewidth": 0,
             "ticks": ""
            },
            "colorscale": [
             [
              0,
              "#0d0887"
             ],
             [
              0.1111111111111111,
              "#46039f"
             ],
             [
              0.2222222222222222,
              "#7201a8"
             ],
             [
              0.3333333333333333,
              "#9c179e"
             ],
             [
              0.4444444444444444,
              "#bd3786"
             ],
             [
              0.5555555555555556,
              "#d8576b"
             ],
             [
              0.6666666666666666,
              "#ed7953"
             ],
             [
              0.7777777777777778,
              "#fb9f3a"
             ],
             [
              0.8888888888888888,
              "#fdca26"
             ],
             [
              1,
              "#f0f921"
             ]
            ],
            "type": "heatmapgl"
           }
          ],
          "histogram": [
           {
            "marker": {
             "colorbar": {
              "outlinewidth": 0,
              "ticks": ""
             }
            },
            "type": "histogram"
           }
          ],
          "histogram2d": [
           {
            "colorbar": {
             "outlinewidth": 0,
             "ticks": ""
            },
            "colorscale": [
             [
              0,
              "#0d0887"
             ],
             [
              0.1111111111111111,
              "#46039f"
             ],
             [
              0.2222222222222222,
              "#7201a8"
             ],
             [
              0.3333333333333333,
              "#9c179e"
             ],
             [
              0.4444444444444444,
              "#bd3786"
             ],
             [
              0.5555555555555556,
              "#d8576b"
             ],
             [
              0.6666666666666666,
              "#ed7953"
             ],
             [
              0.7777777777777778,
              "#fb9f3a"
             ],
             [
              0.8888888888888888,
              "#fdca26"
             ],
             [
              1,
              "#f0f921"
             ]
            ],
            "type": "histogram2d"
           }
          ],
          "histogram2dcontour": [
           {
            "colorbar": {
             "outlinewidth": 0,
             "ticks": ""
            },
            "colorscale": [
             [
              0,
              "#0d0887"
             ],
             [
              0.1111111111111111,
              "#46039f"
             ],
             [
              0.2222222222222222,
              "#7201a8"
             ],
             [
              0.3333333333333333,
              "#9c179e"
             ],
             [
              0.4444444444444444,
              "#bd3786"
             ],
             [
              0.5555555555555556,
              "#d8576b"
             ],
             [
              0.6666666666666666,
              "#ed7953"
             ],
             [
              0.7777777777777778,
              "#fb9f3a"
             ],
             [
              0.8888888888888888,
              "#fdca26"
             ],
             [
              1,
              "#f0f921"
             ]
            ],
            "type": "histogram2dcontour"
           }
          ],
          "mesh3d": [
           {
            "colorbar": {
             "outlinewidth": 0,
             "ticks": ""
            },
            "type": "mesh3d"
           }
          ],
          "parcoords": [
           {
            "line": {
             "colorbar": {
              "outlinewidth": 0,
              "ticks": ""
             }
            },
            "type": "parcoords"
           }
          ],
          "pie": [
           {
            "automargin": true,
            "type": "pie"
           }
          ],
          "scatter": [
           {
            "marker": {
             "colorbar": {
              "outlinewidth": 0,
              "ticks": ""
             }
            },
            "type": "scatter"
           }
          ],
          "scatter3d": [
           {
            "line": {
             "colorbar": {
              "outlinewidth": 0,
              "ticks": ""
             }
            },
            "marker": {
             "colorbar": {
              "outlinewidth": 0,
              "ticks": ""
             }
            },
            "type": "scatter3d"
           }
          ],
          "scattercarpet": [
           {
            "marker": {
             "colorbar": {
              "outlinewidth": 0,
              "ticks": ""
             }
            },
            "type": "scattercarpet"
           }
          ],
          "scattergeo": [
           {
            "marker": {
             "colorbar": {
              "outlinewidth": 0,
              "ticks": ""
             }
            },
            "type": "scattergeo"
           }
          ],
          "scattergl": [
           {
            "marker": {
             "colorbar": {
              "outlinewidth": 0,
              "ticks": ""
             }
            },
            "type": "scattergl"
           }
          ],
          "scattermapbox": [
           {
            "marker": {
             "colorbar": {
              "outlinewidth": 0,
              "ticks": ""
             }
            },
            "type": "scattermapbox"
           }
          ],
          "scatterpolar": [
           {
            "marker": {
             "colorbar": {
              "outlinewidth": 0,
              "ticks": ""
             }
            },
            "type": "scatterpolar"
           }
          ],
          "scatterpolargl": [
           {
            "marker": {
             "colorbar": {
              "outlinewidth": 0,
              "ticks": ""
             }
            },
            "type": "scatterpolargl"
           }
          ],
          "scatterternary": [
           {
            "marker": {
             "colorbar": {
              "outlinewidth": 0,
              "ticks": ""
             }
            },
            "type": "scatterternary"
           }
          ],
          "surface": [
           {
            "colorbar": {
             "outlinewidth": 0,
             "ticks": ""
            },
            "colorscale": [
             [
              0,
              "#0d0887"
             ],
             [
              0.1111111111111111,
              "#46039f"
             ],
             [
              0.2222222222222222,
              "#7201a8"
             ],
             [
              0.3333333333333333,
              "#9c179e"
             ],
             [
              0.4444444444444444,
              "#bd3786"
             ],
             [
              0.5555555555555556,
              "#d8576b"
             ],
             [
              0.6666666666666666,
              "#ed7953"
             ],
             [
              0.7777777777777778,
              "#fb9f3a"
             ],
             [
              0.8888888888888888,
              "#fdca26"
             ],
             [
              1,
              "#f0f921"
             ]
            ],
            "type": "surface"
           }
          ],
          "table": [
           {
            "cells": {
             "fill": {
              "color": "#EBF0F8"
             },
             "line": {
              "color": "white"
             }
            },
            "header": {
             "fill": {
              "color": "#C8D4E3"
             },
             "line": {
              "color": "white"
             }
            },
            "type": "table"
           }
          ]
         },
         "layout": {
          "annotationdefaults": {
           "arrowcolor": "#2a3f5f",
           "arrowhead": 0,
           "arrowwidth": 1
          },
          "coloraxis": {
           "colorbar": {
            "outlinewidth": 0,
            "ticks": ""
           }
          },
          "colorscale": {
           "diverging": [
            [
             0,
             "#8e0152"
            ],
            [
             0.1,
             "#c51b7d"
            ],
            [
             0.2,
             "#de77ae"
            ],
            [
             0.3,
             "#f1b6da"
            ],
            [
             0.4,
             "#fde0ef"
            ],
            [
             0.5,
             "#f7f7f7"
            ],
            [
             0.6,
             "#e6f5d0"
            ],
            [
             0.7,
             "#b8e186"
            ],
            [
             0.8,
             "#7fbc41"
            ],
            [
             0.9,
             "#4d9221"
            ],
            [
             1,
             "#276419"
            ]
           ],
           "sequential": [
            [
             0,
             "#0d0887"
            ],
            [
             0.1111111111111111,
             "#46039f"
            ],
            [
             0.2222222222222222,
             "#7201a8"
            ],
            [
             0.3333333333333333,
             "#9c179e"
            ],
            [
             0.4444444444444444,
             "#bd3786"
            ],
            [
             0.5555555555555556,
             "#d8576b"
            ],
            [
             0.6666666666666666,
             "#ed7953"
            ],
            [
             0.7777777777777778,
             "#fb9f3a"
            ],
            [
             0.8888888888888888,
             "#fdca26"
            ],
            [
             1,
             "#f0f921"
            ]
           ],
           "sequentialminus": [
            [
             0,
             "#0d0887"
            ],
            [
             0.1111111111111111,
             "#46039f"
            ],
            [
             0.2222222222222222,
             "#7201a8"
            ],
            [
             0.3333333333333333,
             "#9c179e"
            ],
            [
             0.4444444444444444,
             "#bd3786"
            ],
            [
             0.5555555555555556,
             "#d8576b"
            ],
            [
             0.6666666666666666,
             "#ed7953"
            ],
            [
             0.7777777777777778,
             "#fb9f3a"
            ],
            [
             0.8888888888888888,
             "#fdca26"
            ],
            [
             1,
             "#f0f921"
            ]
           ]
          },
          "colorway": [
           "#636efa",
           "#EF553B",
           "#00cc96",
           "#ab63fa",
           "#FFA15A",
           "#19d3f3",
           "#FF6692",
           "#B6E880",
           "#FF97FF",
           "#FECB52"
          ],
          "font": {
           "color": "#2a3f5f"
          },
          "geo": {
           "bgcolor": "white",
           "lakecolor": "white",
           "landcolor": "#E5ECF6",
           "showlakes": true,
           "showland": true,
           "subunitcolor": "white"
          },
          "hoverlabel": {
           "align": "left"
          },
          "hovermode": "closest",
          "mapbox": {
           "style": "light"
          },
          "paper_bgcolor": "white",
          "plot_bgcolor": "#E5ECF6",
          "polar": {
           "angularaxis": {
            "gridcolor": "white",
            "linecolor": "white",
            "ticks": ""
           },
           "bgcolor": "#E5ECF6",
           "radialaxis": {
            "gridcolor": "white",
            "linecolor": "white",
            "ticks": ""
           }
          },
          "scene": {
           "xaxis": {
            "backgroundcolor": "#E5ECF6",
            "gridcolor": "white",
            "gridwidth": 2,
            "linecolor": "white",
            "showbackground": true,
            "ticks": "",
            "zerolinecolor": "white"
           },
           "yaxis": {
            "backgroundcolor": "#E5ECF6",
            "gridcolor": "white",
            "gridwidth": 2,
            "linecolor": "white",
            "showbackground": true,
            "ticks": "",
            "zerolinecolor": "white"
           },
           "zaxis": {
            "backgroundcolor": "#E5ECF6",
            "gridcolor": "white",
            "gridwidth": 2,
            "linecolor": "white",
            "showbackground": true,
            "ticks": "",
            "zerolinecolor": "white"
           }
          },
          "shapedefaults": {
           "line": {
            "color": "#2a3f5f"
           }
          },
          "ternary": {
           "aaxis": {
            "gridcolor": "white",
            "linecolor": "white",
            "ticks": ""
           },
           "baxis": {
            "gridcolor": "white",
            "linecolor": "white",
            "ticks": ""
           },
           "bgcolor": "#E5ECF6",
           "caxis": {
            "gridcolor": "white",
            "linecolor": "white",
            "ticks": ""
           }
          },
          "title": {
           "x": 0.05
          },
          "xaxis": {
           "automargin": true,
           "gridcolor": "white",
           "linecolor": "white",
           "ticks": "",
           "title": {
            "standoff": 15
           },
           "zerolinecolor": "white",
           "zerolinewidth": 2
          },
          "yaxis": {
           "automargin": true,
           "gridcolor": "white",
           "linecolor": "white",
           "ticks": "",
           "title": {
            "standoff": 15
           },
           "zerolinecolor": "white",
           "zerolinewidth": 2
          }
         }
        },
        "title": {
         "text": "Top 15 Country with most Deceased Cases in World"
        },
        "width": 900,
        "xaxis": {
         "anchor": "y",
         "domain": [
          0,
          1
         ],
         "title": {
          "text": ""
         }
        },
        "yaxis": {
         "anchor": "x",
         "categoryorder": "total ascending",
         "domain": [
          0,
          1
         ],
         "title": {
          "text": ""
         }
        }
       }
      },
      "text/html": [
       "<div>\n",
       "        \n",
       "        \n",
       "            <div id=\"743752a7-aa71-4813-b0ea-3559d3760b55\" class=\"plotly-graph-div\" style=\"height:525px; width:900px;\"></div>\n",
       "            <script type=\"text/javascript\">\n",
       "                require([\"plotly\"], function(Plotly) {\n",
       "                    window.PLOTLYENV=window.PLOTLYENV || {};\n",
       "                    \n",
       "                if (document.getElementById(\"743752a7-aa71-4813-b0ea-3559d3760b55\")) {\n",
       "                    Plotly.newPlot(\n",
       "                        '743752a7-aa71-4813-b0ea-3559d3760b55',\n",
       "                        [{\"alignmentgroup\": \"True\", \"hovertemplate\": \"Continent=Africa<br>Deceased=%{text}<br>Country/Region=%{y}<extra></extra>\", \"legendgroup\": \"Africa\", \"marker\": {\"color\": \"rgb(27,158,119)\"}, \"name\": \"Africa\", \"offsetgroup\": \"Africa\", \"orientation\": \"h\", \"showlegend\": true, \"text\": [9604.0], \"textposition\": \"auto\", \"type\": \"bar\", \"x\": [9604.0], \"xaxis\": \"x\", \"y\": [\"South Africa\"], \"yaxis\": \"y\"}, {\"alignmentgroup\": \"True\", \"hovertemplate\": \"Continent=Europe<br>Deceased=%{text}<br>Country/Region=%{y}<extra></extra>\", \"legendgroup\": \"Europe\", \"marker\": {\"color\": \"rgb(217,95,2)\"}, \"name\": \"Europe\", \"offsetgroup\": \"Europe\", \"orientation\": \"h\", \"showlegend\": true, \"text\": [9859.0, 14606.0, 28500.0, 30312.0, 35187.0, 46413.0], \"textposition\": \"auto\", \"type\": \"bar\", \"x\": [9859.0, 14606.0, 28500.0, 30312.0, 35187.0, 46413.0], \"xaxis\": \"x\", \"y\": [\"Belgium\", \"Russia\", \"Spain\", \"France\", \"Italy\", \"UK\"], \"yaxis\": \"y\"}, {\"alignmentgroup\": \"True\", \"hovertemplate\": \"Continent=South America<br>Deceased=%{text}<br>Country/Region=%{y}<extra></extra>\", \"legendgroup\": \"South America\", \"marker\": {\"color\": \"rgb(117,112,179)\"}, \"name\": \"South America\", \"offsetgroup\": \"South America\", \"orientation\": \"h\", \"showlegend\": true, \"text\": [9889.0, 11939.0, 20424.0, 98644.0], \"textposition\": \"auto\", \"type\": \"bar\", \"x\": [9889.0, 11939.0, 20424.0, 98644.0], \"xaxis\": \"x\", \"y\": [\"Chile\", \"Colombia\", \"Peru\", \"Brazil\"], \"yaxis\": \"y\"}, {\"alignmentgroup\": \"True\", \"hovertemplate\": \"Continent=Asia<br>Deceased=%{text}<br>Country/Region=%{y}<extra></extra>\", \"legendgroup\": \"Asia\", \"marker\": {\"color\": \"rgb(231,41,138)\"}, \"name\": \"Asia\", \"offsetgroup\": \"Asia\", \"orientation\": \"h\", \"showlegend\": true, \"text\": [17976.0, 41638.0], \"textposition\": \"auto\", \"type\": \"bar\", \"x\": [17976.0, 41638.0], \"xaxis\": \"x\", \"y\": [\"Iran\", \"India\"], \"yaxis\": \"y\"}, {\"alignmentgroup\": \"True\", \"hovertemplate\": \"Continent=North America<br>Deceased=%{text}<br>Country/Region=%{y}<extra></extra>\", \"legendgroup\": \"North America\", \"marker\": {\"color\": \"rgb(102,166,30)\"}, \"name\": \"North America\", \"offsetgroup\": \"North America\", \"orientation\": \"h\", \"showlegend\": true, \"text\": [50517.0, 162804.0], \"textposition\": \"auto\", \"type\": \"bar\", \"x\": [50517.0, 162804.0], \"xaxis\": \"x\", \"y\": [\"Mexico\", \"USA\"], \"yaxis\": \"y\"}],\n",
       "                        {\"barmode\": \"relative\", \"legend\": {\"title\": {\"text\": \"Continent\"}, \"tracegroupgap\": 0}, \"margin\": {\"t\": 60}, \"template\": {\"data\": {\"bar\": [{\"error_x\": {\"color\": \"#2a3f5f\"}, \"error_y\": {\"color\": \"#2a3f5f\"}, \"marker\": {\"line\": {\"color\": \"#E5ECF6\", \"width\": 0.5}}, \"type\": \"bar\"}], \"barpolar\": [{\"marker\": {\"line\": {\"color\": \"#E5ECF6\", \"width\": 0.5}}, \"type\": \"barpolar\"}], \"carpet\": [{\"aaxis\": {\"endlinecolor\": \"#2a3f5f\", \"gridcolor\": \"white\", \"linecolor\": \"white\", \"minorgridcolor\": \"white\", \"startlinecolor\": \"#2a3f5f\"}, \"baxis\": {\"endlinecolor\": \"#2a3f5f\", \"gridcolor\": \"white\", \"linecolor\": \"white\", \"minorgridcolor\": \"white\", \"startlinecolor\": \"#2a3f5f\"}, \"type\": \"carpet\"}], \"choropleth\": [{\"colorbar\": {\"outlinewidth\": 0, \"ticks\": \"\"}, \"type\": \"choropleth\"}], \"contour\": [{\"colorbar\": {\"outlinewidth\": 0, \"ticks\": \"\"}, \"colorscale\": [[0.0, \"#0d0887\"], [0.1111111111111111, \"#46039f\"], [0.2222222222222222, \"#7201a8\"], [0.3333333333333333, \"#9c179e\"], [0.4444444444444444, \"#bd3786\"], [0.5555555555555556, \"#d8576b\"], [0.6666666666666666, \"#ed7953\"], [0.7777777777777778, \"#fb9f3a\"], [0.8888888888888888, \"#fdca26\"], [1.0, \"#f0f921\"]], \"type\": \"contour\"}], \"contourcarpet\": [{\"colorbar\": {\"outlinewidth\": 0, \"ticks\": \"\"}, \"type\": \"contourcarpet\"}], \"heatmap\": [{\"colorbar\": {\"outlinewidth\": 0, \"ticks\": \"\"}, \"colorscale\": [[0.0, \"#0d0887\"], [0.1111111111111111, \"#46039f\"], [0.2222222222222222, \"#7201a8\"], [0.3333333333333333, \"#9c179e\"], [0.4444444444444444, \"#bd3786\"], [0.5555555555555556, \"#d8576b\"], [0.6666666666666666, \"#ed7953\"], [0.7777777777777778, \"#fb9f3a\"], [0.8888888888888888, \"#fdca26\"], [1.0, \"#f0f921\"]], \"type\": \"heatmap\"}], \"heatmapgl\": [{\"colorbar\": {\"outlinewidth\": 0, \"ticks\": \"\"}, \"colorscale\": [[0.0, \"#0d0887\"], [0.1111111111111111, \"#46039f\"], [0.2222222222222222, \"#7201a8\"], [0.3333333333333333, \"#9c179e\"], [0.4444444444444444, \"#bd3786\"], [0.5555555555555556, \"#d8576b\"], [0.6666666666666666, \"#ed7953\"], [0.7777777777777778, \"#fb9f3a\"], [0.8888888888888888, \"#fdca26\"], [1.0, \"#f0f921\"]], \"type\": \"heatmapgl\"}], \"histogram\": [{\"marker\": {\"colorbar\": {\"outlinewidth\": 0, \"ticks\": \"\"}}, \"type\": \"histogram\"}], \"histogram2d\": [{\"colorbar\": {\"outlinewidth\": 0, \"ticks\": \"\"}, \"colorscale\": [[0.0, \"#0d0887\"], [0.1111111111111111, \"#46039f\"], [0.2222222222222222, \"#7201a8\"], [0.3333333333333333, \"#9c179e\"], [0.4444444444444444, \"#bd3786\"], [0.5555555555555556, \"#d8576b\"], [0.6666666666666666, \"#ed7953\"], [0.7777777777777778, \"#fb9f3a\"], [0.8888888888888888, \"#fdca26\"], [1.0, \"#f0f921\"]], \"type\": \"histogram2d\"}], \"histogram2dcontour\": [{\"colorbar\": {\"outlinewidth\": 0, \"ticks\": \"\"}, \"colorscale\": [[0.0, \"#0d0887\"], [0.1111111111111111, \"#46039f\"], [0.2222222222222222, \"#7201a8\"], [0.3333333333333333, \"#9c179e\"], [0.4444444444444444, \"#bd3786\"], [0.5555555555555556, \"#d8576b\"], [0.6666666666666666, \"#ed7953\"], [0.7777777777777778, \"#fb9f3a\"], [0.8888888888888888, \"#fdca26\"], [1.0, \"#f0f921\"]], \"type\": \"histogram2dcontour\"}], \"mesh3d\": [{\"colorbar\": {\"outlinewidth\": 0, \"ticks\": \"\"}, \"type\": \"mesh3d\"}], \"parcoords\": [{\"line\": {\"colorbar\": {\"outlinewidth\": 0, \"ticks\": \"\"}}, \"type\": \"parcoords\"}], \"pie\": [{\"automargin\": true, \"type\": \"pie\"}], \"scatter\": [{\"marker\": {\"colorbar\": {\"outlinewidth\": 0, \"ticks\": \"\"}}, \"type\": \"scatter\"}], \"scatter3d\": [{\"line\": {\"colorbar\": {\"outlinewidth\": 0, \"ticks\": \"\"}}, \"marker\": {\"colorbar\": {\"outlinewidth\": 0, \"ticks\": \"\"}}, \"type\": \"scatter3d\"}], \"scattercarpet\": [{\"marker\": {\"colorbar\": {\"outlinewidth\": 0, \"ticks\": \"\"}}, \"type\": \"scattercarpet\"}], \"scattergeo\": [{\"marker\": {\"colorbar\": {\"outlinewidth\": 0, \"ticks\": \"\"}}, \"type\": \"scattergeo\"}], \"scattergl\": [{\"marker\": {\"colorbar\": {\"outlinewidth\": 0, \"ticks\": \"\"}}, \"type\": \"scattergl\"}], \"scattermapbox\": [{\"marker\": {\"colorbar\": {\"outlinewidth\": 0, \"ticks\": \"\"}}, \"type\": \"scattermapbox\"}], \"scatterpolar\": [{\"marker\": {\"colorbar\": {\"outlinewidth\": 0, \"ticks\": \"\"}}, \"type\": \"scatterpolar\"}], \"scatterpolargl\": [{\"marker\": {\"colorbar\": {\"outlinewidth\": 0, \"ticks\": \"\"}}, \"type\": \"scatterpolargl\"}], \"scatterternary\": [{\"marker\": {\"colorbar\": {\"outlinewidth\": 0, \"ticks\": \"\"}}, \"type\": \"scatterternary\"}], \"surface\": [{\"colorbar\": {\"outlinewidth\": 0, \"ticks\": \"\"}, \"colorscale\": [[0.0, \"#0d0887\"], [0.1111111111111111, \"#46039f\"], [0.2222222222222222, \"#7201a8\"], [0.3333333333333333, \"#9c179e\"], [0.4444444444444444, \"#bd3786\"], [0.5555555555555556, \"#d8576b\"], [0.6666666666666666, \"#ed7953\"], [0.7777777777777778, \"#fb9f3a\"], [0.8888888888888888, \"#fdca26\"], [1.0, \"#f0f921\"]], \"type\": \"surface\"}], \"table\": [{\"cells\": {\"fill\": {\"color\": \"#EBF0F8\"}, \"line\": {\"color\": \"white\"}}, \"header\": {\"fill\": {\"color\": \"#C8D4E3\"}, \"line\": {\"color\": \"white\"}}, \"type\": \"table\"}]}, \"layout\": {\"annotationdefaults\": {\"arrowcolor\": \"#2a3f5f\", \"arrowhead\": 0, \"arrowwidth\": 1}, \"coloraxis\": {\"colorbar\": {\"outlinewidth\": 0, \"ticks\": \"\"}}, \"colorscale\": {\"diverging\": [[0, \"#8e0152\"], [0.1, \"#c51b7d\"], [0.2, \"#de77ae\"], [0.3, \"#f1b6da\"], [0.4, \"#fde0ef\"], [0.5, \"#f7f7f7\"], [0.6, \"#e6f5d0\"], [0.7, \"#b8e186\"], [0.8, \"#7fbc41\"], [0.9, \"#4d9221\"], [1, \"#276419\"]], \"sequential\": [[0.0, \"#0d0887\"], [0.1111111111111111, \"#46039f\"], [0.2222222222222222, \"#7201a8\"], [0.3333333333333333, \"#9c179e\"], [0.4444444444444444, \"#bd3786\"], [0.5555555555555556, \"#d8576b\"], [0.6666666666666666, \"#ed7953\"], [0.7777777777777778, \"#fb9f3a\"], [0.8888888888888888, \"#fdca26\"], [1.0, \"#f0f921\"]], \"sequentialminus\": [[0.0, \"#0d0887\"], [0.1111111111111111, \"#46039f\"], [0.2222222222222222, \"#7201a8\"], [0.3333333333333333, \"#9c179e\"], [0.4444444444444444, \"#bd3786\"], [0.5555555555555556, \"#d8576b\"], [0.6666666666666666, \"#ed7953\"], [0.7777777777777778, \"#fb9f3a\"], [0.8888888888888888, \"#fdca26\"], [1.0, \"#f0f921\"]]}, \"colorway\": [\"#636efa\", \"#EF553B\", \"#00cc96\", \"#ab63fa\", \"#FFA15A\", \"#19d3f3\", \"#FF6692\", \"#B6E880\", \"#FF97FF\", \"#FECB52\"], \"font\": {\"color\": \"#2a3f5f\"}, \"geo\": {\"bgcolor\": \"white\", \"lakecolor\": \"white\", \"landcolor\": \"#E5ECF6\", \"showlakes\": true, \"showland\": true, \"subunitcolor\": \"white\"}, \"hoverlabel\": {\"align\": \"left\"}, \"hovermode\": \"closest\", \"mapbox\": {\"style\": \"light\"}, \"paper_bgcolor\": \"white\", \"plot_bgcolor\": \"#E5ECF6\", \"polar\": {\"angularaxis\": {\"gridcolor\": \"white\", \"linecolor\": \"white\", \"ticks\": \"\"}, \"bgcolor\": \"#E5ECF6\", \"radialaxis\": {\"gridcolor\": \"white\", \"linecolor\": \"white\", \"ticks\": \"\"}}, \"scene\": {\"xaxis\": {\"backgroundcolor\": \"#E5ECF6\", \"gridcolor\": \"white\", \"gridwidth\": 2, \"linecolor\": \"white\", \"showbackground\": true, \"ticks\": \"\", \"zerolinecolor\": \"white\"}, \"yaxis\": {\"backgroundcolor\": \"#E5ECF6\", \"gridcolor\": \"white\", \"gridwidth\": 2, \"linecolor\": \"white\", \"showbackground\": true, \"ticks\": \"\", \"zerolinecolor\": \"white\"}, \"zaxis\": {\"backgroundcolor\": \"#E5ECF6\", \"gridcolor\": \"white\", \"gridwidth\": 2, \"linecolor\": \"white\", \"showbackground\": true, \"ticks\": \"\", \"zerolinecolor\": \"white\"}}, \"shapedefaults\": {\"line\": {\"color\": \"#2a3f5f\"}}, \"ternary\": {\"aaxis\": {\"gridcolor\": \"white\", \"linecolor\": \"white\", \"ticks\": \"\"}, \"baxis\": {\"gridcolor\": \"white\", \"linecolor\": \"white\", \"ticks\": \"\"}, \"bgcolor\": \"#E5ECF6\", \"caxis\": {\"gridcolor\": \"white\", \"linecolor\": \"white\", \"ticks\": \"\"}}, \"title\": {\"x\": 0.05}, \"xaxis\": {\"automargin\": true, \"gridcolor\": \"white\", \"linecolor\": \"white\", \"ticks\": \"\", \"title\": {\"standoff\": 15}, \"zerolinecolor\": \"white\", \"zerolinewidth\": 2}, \"yaxis\": {\"automargin\": true, \"gridcolor\": \"white\", \"linecolor\": \"white\", \"ticks\": \"\", \"title\": {\"standoff\": 15}, \"zerolinecolor\": \"white\", \"zerolinewidth\": 2}}}, \"title\": {\"text\": \"Top 15 Country with most Deceased Cases in World\"}, \"width\": 900, \"xaxis\": {\"anchor\": \"y\", \"domain\": [0.0, 1.0], \"title\": {\"text\": \"\"}}, \"yaxis\": {\"anchor\": \"x\", \"categoryorder\": \"total ascending\", \"domain\": [0.0, 1.0], \"title\": {\"text\": \"\"}}},\n",
       "                        {\"responsive\": true}\n",
       "                    ).then(function(){\n",
       "                            \n",
       "var gd = document.getElementById('743752a7-aa71-4813-b0ea-3559d3760b55');\n",
       "var x = new MutationObserver(function (mutations, observer) {{\n",
       "        var display = window.getComputedStyle(gd).display;\n",
       "        if (!display || display === 'none') {{\n",
       "            console.log([gd, 'removed!']);\n",
       "            Plotly.purge(gd);\n",
       "            observer.disconnect();\n",
       "        }}\n",
       "}});\n",
       "\n",
       "// Listen for the removal of the full notebook cells\n",
       "var notebookContainer = gd.closest('#notebook-container');\n",
       "if (notebookContainer) {{\n",
       "    x.observe(notebookContainer, {childList: true});\n",
       "}}\n",
       "\n",
       "// Listen for the clearing of the current output cell\n",
       "var outputEl = gd.closest('.output');\n",
       "if (outputEl) {{\n",
       "    x.observe(outputEl, {childList: true});\n",
       "}}\n",
       "\n",
       "                        })\n",
       "                };\n",
       "                });\n",
       "            </script>\n",
       "        </div>"
      ]
     },
     "metadata": {},
     "output_type": "display_data"
    }
   ],
   "source": [
    "world_data('Deceased',15)"
   ]
  },
  {
   "cell_type": "markdown",
   "metadata": {},
   "source": [
    "#### The output is shown in the covid19_project.pdf as the plotly output is not supported in github"
   ]
  }
 ],
 "metadata": {
  "kernelspec": {
   "display_name": "Python 3",
   "language": "python",
   "name": "python3"
  },
  "language_info": {
   "codemirror_mode": {
    "name": "ipython",
    "version": 3
   },
   "file_extension": ".py",
   "mimetype": "text/x-python",
   "name": "python",
   "nbconvert_exporter": "python",
   "pygments_lexer": "ipython3",
   "version": "3.7.6"
  }
 },
 "nbformat": 4,
 "nbformat_minor": 4
}
