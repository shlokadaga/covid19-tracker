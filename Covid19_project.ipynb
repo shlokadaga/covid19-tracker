{
 "cells": [
  {
   "cell_type": "markdown",
   "metadata": {},
   "source": [
    "# COVID-19 in INDIA"
   ]
  },
  {
   "cell_type": "markdown",
   "metadata": {},
   "source": [
    "Coronavirus disease (COVID-19) is an infectious disease caused by a newly discovered coronavirus.\n",
    "\n",
    "Most people infected with the COVID-19 virus will experience mild to moderate respiratory illness and recover without requiring special treatment.  Older people, and those with underlying medical problems like cardiovascular disease, diabetes, chronic respiratory disease, and cancer are more likely to develop serious illness.\n",
    "\n",
    "The best way to prevent and slow down transmission is be well informed about the COVID-19 virus, the disease it causes and how it spreads. Protect yourself and others from infection by washing your hands or using an alcohol based rub frequently and not touching your face. \n",
    "\n",
    "The COVID-19 virus spreads primarily through droplets of saliva or discharge from the nose when an infected person coughs or sneezes, so it’s important that you also practice respiratory etiquette (for example, by coughing into a flexed elbow)."
   ]
  },
  {
   "cell_type": "markdown",
   "metadata": {},
   "source": [
    "To start-off the project, we need to import some necessary libraries which will be needed in our project"
   ]
  },
  {
   "cell_type": "code",
   "execution_count": 37,
   "metadata": {},
   "outputs": [],
   "source": [
    "import pandas as pd\n",
    "import matplotlib.pyplot as plt\n",
    "import numpy as np\n",
    "from covid import Covid\n",
    "import plotly.graph_objects as go\n",
    "from plotly.subplots import make_subplots\n",
    "import plotly.express as px\n",
    "import datetime\n",
    "\n",
    "pd.set_option('display.width', 400)\n",
    "pd.set_option('display.max_columns', 30)\n",
    "\n",
    "pd.set_option('display.max_columns', None)\n",
    "pd.set_option('display.width', None)\n"
   ]
  },
  {
   "cell_type": "markdown",
   "metadata": {},
   "source": [
    "## COVID-19 Cases Date-wise"
   ]
  },
  {
   "cell_type": "markdown",
   "metadata": {},
   "source": [
    "Here, you can view the number of Confirmed, Recovered, Deceased, Active cases on each Day."
   ]
  },
  {
   "cell_type": "code",
   "execution_count": 38,
   "metadata": {
    "scrolled": true
   },
   "outputs": [
    {
     "name": "stdout",
     "output_type": "stream",
     "text": [
      "\n",
      "\n"
     ]
    },
    {
     "data": {
      "text/html": [
       "<div>\n",
       "<style scoped>\n",
       "    .dataframe tbody tr th:only-of-type {\n",
       "        vertical-align: middle;\n",
       "    }\n",
       "\n",
       "    .dataframe tbody tr th {\n",
       "        vertical-align: top;\n",
       "    }\n",
       "\n",
       "    .dataframe thead th {\n",
       "        text-align: right;\n",
       "    }\n",
       "</style>\n",
       "<table border=\"1\" class=\"dataframe\">\n",
       "  <thead>\n",
       "    <tr style=\"text-align: right;\">\n",
       "      <th></th>\n",
       "      <th>Date</th>\n",
       "      <th>Confirmed_Cases</th>\n",
       "      <th>Recovered_Cases</th>\n",
       "      <th>Deceased_Cases</th>\n",
       "      <th>Active_Cases</th>\n",
       "    </tr>\n",
       "  </thead>\n",
       "  <tbody>\n",
       "    <tr>\n",
       "      <th>0</th>\n",
       "      <td>30 January</td>\n",
       "      <td>1</td>\n",
       "      <td>0</td>\n",
       "      <td>0</td>\n",
       "      <td>1</td>\n",
       "    </tr>\n",
       "    <tr>\n",
       "      <th>1</th>\n",
       "      <td>31 January</td>\n",
       "      <td>0</td>\n",
       "      <td>0</td>\n",
       "      <td>0</td>\n",
       "      <td>0</td>\n",
       "    </tr>\n",
       "    <tr>\n",
       "      <th>2</th>\n",
       "      <td>01 February</td>\n",
       "      <td>0</td>\n",
       "      <td>0</td>\n",
       "      <td>0</td>\n",
       "      <td>0</td>\n",
       "    </tr>\n",
       "    <tr>\n",
       "      <th>3</th>\n",
       "      <td>02 February</td>\n",
       "      <td>1</td>\n",
       "      <td>0</td>\n",
       "      <td>0</td>\n",
       "      <td>1</td>\n",
       "    </tr>\n",
       "    <tr>\n",
       "      <th>4</th>\n",
       "      <td>03 February</td>\n",
       "      <td>1</td>\n",
       "      <td>0</td>\n",
       "      <td>0</td>\n",
       "      <td>1</td>\n",
       "    </tr>\n",
       "    <tr>\n",
       "      <th>...</th>\n",
       "      <td>...</td>\n",
       "      <td>...</td>\n",
       "      <td>...</td>\n",
       "      <td>...</td>\n",
       "      <td>...</td>\n",
       "    </tr>\n",
       "    <tr>\n",
       "      <th>190</th>\n",
       "      <td>07 August</td>\n",
       "      <td>61455</td>\n",
       "      <td>50387</td>\n",
       "      <td>937</td>\n",
       "      <td>10131</td>\n",
       "    </tr>\n",
       "    <tr>\n",
       "      <th>191</th>\n",
       "      <td>08 August</td>\n",
       "      <td>65156</td>\n",
       "      <td>52135</td>\n",
       "      <td>875</td>\n",
       "      <td>12146</td>\n",
       "    </tr>\n",
       "    <tr>\n",
       "      <th>192</th>\n",
       "      <td>09 August</td>\n",
       "      <td>62117</td>\n",
       "      <td>54474</td>\n",
       "      <td>1013</td>\n",
       "      <td>6630</td>\n",
       "    </tr>\n",
       "    <tr>\n",
       "      <th>193</th>\n",
       "      <td>10 August</td>\n",
       "      <td>53016</td>\n",
       "      <td>47362</td>\n",
       "      <td>887</td>\n",
       "      <td>4767</td>\n",
       "    </tr>\n",
       "    <tr>\n",
       "      <th>194</th>\n",
       "      <td>11 August</td>\n",
       "      <td>61252</td>\n",
       "      <td>56461</td>\n",
       "      <td>835</td>\n",
       "      <td>3956</td>\n",
       "    </tr>\n",
       "  </tbody>\n",
       "</table>\n",
       "<p>195 rows × 5 columns</p>\n",
       "</div>"
      ],
      "text/plain": [
       "             Date  Confirmed_Cases  Recovered_Cases  Deceased_Cases  \\\n",
       "0     30 January                 1                0               0   \n",
       "1     31 January                 0                0               0   \n",
       "2    01 February                 0                0               0   \n",
       "3    02 February                 1                0               0   \n",
       "4    03 February                 1                0               0   \n",
       "..            ...              ...              ...             ...   \n",
       "190    07 August             61455            50387             937   \n",
       "191    08 August             65156            52135             875   \n",
       "192    09 August             62117            54474            1013   \n",
       "193    10 August             53016            47362             887   \n",
       "194    11 August             61252            56461             835   \n",
       "\n",
       "     Active_Cases  \n",
       "0               1  \n",
       "1               0  \n",
       "2               0  \n",
       "3               1  \n",
       "4               1  \n",
       "..            ...  \n",
       "190         10131  \n",
       "191         12146  \n",
       "192          6630  \n",
       "193          4767  \n",
       "194          3956  \n",
       "\n",
       "[195 rows x 5 columns]"
      ]
     },
     "execution_count": 38,
     "metadata": {},
     "output_type": "execute_result"
    }
   ],
   "source": [
    "pd.options.display.float_format = '{:,.1f}'.format\n",
    "df=pd.read_csv('https://api.covid19india.org/csv/latest/case_time_series.csv')\n",
    "df.rename(columns={'Daily Confirmed':'Confirmed_Cases','Daily Recovered':'Recovered_Cases','Daily Deceased':'Deceased_Cases'},inplace=True)\n",
    "df['Active_Cases']=df['Confirmed_Cases']-(df['Recovered_Cases']+df['Deceased_Cases'])\n",
    "print('\\n')\n",
    "abc=df.iloc[:,[0,1,3,5,7]]\n",
    "abc"
   ]
  },
  {
   "cell_type": "markdown",
   "metadata": {},
   "source": [
    "## Daily COVID-19 Tracker (Graph 1)"
   ]
  },
  {
   "cell_type": "markdown",
   "metadata": {},
   "source": [
    "Here is a barchart which shows the number of cases in India date-wise.\n",
    "You can also hover over the bar-graph, to view the number of Cases on each Date or Zoom the Graph.\n",
    "In the graph below, the X-axes has been shared between subplots."
   ]
  },
  {
   "cell_type": "code",
   "execution_count": 39,
   "metadata": {},
   "outputs": [
    {
     "data": {
      "application/vnd.plotly.v1+json": {
       "config": {
        "plotlyServerURL": "https://plot.ly"
       },
       "data": [
        {
         "name": "Active Cases",
         "type": "bar",
         "x": [
          "29 April ",
          "30 April ",
          "01 May ",
          "02 May ",
          "03 May ",
          "04 May ",
          "05 May ",
          "06 May ",
          "07 May ",
          "08 May ",
          "09 May ",
          "10 May ",
          "11 May ",
          "12 May ",
          "13 May ",
          "14 May ",
          "15 May ",
          "16 May ",
          "17 May ",
          "18 May ",
          "19 May ",
          "20 May ",
          "21 May ",
          "22 May ",
          "23 May ",
          "24 May ",
          "25 May ",
          "26 May ",
          "27 May ",
          "28 May ",
          "29 May ",
          "30 May ",
          "31 May ",
          "01 June ",
          "02 June ",
          "03 June ",
          "04 June ",
          "05 June ",
          "06 June ",
          "07 June ",
          "08 June ",
          "09 June ",
          "10 June ",
          "11 June ",
          "12 June ",
          "13 June ",
          "14 June ",
          "15 June ",
          "16 June ",
          "17 June ",
          "18 June ",
          "19 June ",
          "20 June ",
          "21 June ",
          "22 June ",
          "23 June ",
          "24 June ",
          "25 June ",
          "26 June ",
          "27 June ",
          "28 June ",
          "29 June ",
          "30 June ",
          "01 July ",
          "02 July ",
          "03 July ",
          "04 July ",
          "05 July ",
          "06 July ",
          "07 July ",
          "08 July ",
          "09 July ",
          "10 July ",
          "11 July ",
          "12 July ",
          "13 July ",
          "14 July ",
          "15 July ",
          "16 July ",
          "17 July ",
          "18 July ",
          "19 July ",
          "20 July ",
          "21 July ",
          "22 July ",
          "23 July ",
          "24 July ",
          "25 July ",
          "26 July ",
          "27 July ",
          "28 July ",
          "29 July ",
          "30 July ",
          "31 July ",
          "01 August ",
          "02 August ",
          "03 August ",
          "04 August ",
          "05 August ",
          "06 August ",
          "07 August ",
          "08 August ",
          "09 August ",
          "10 August ",
          "11 August "
         ],
         "xaxis": "x",
         "y": [
          944,
          1096,
          1357,
          1641,
          1901,
          2471,
          1548,
          2350,
          1765,
          2131,
          1646,
          2530,
          1932,
          1537,
          1626,
          2300,
          1470,
          662,
          2359,
          2015,
          2976,
          2473,
          2744,
          3114,
          3949,
          3670,
          3252,
          2149,
          3624,
          3907,
          -3866,
          3856,
          3639,
          3640,
          4059,
          5641,
          5183,
          4416,
          4678,
          5430,
          3094,
          4075,
          4523,
          4697,
          3655,
          3638,
          3723,
          -1003,
          1856,
          5877,
          2745,
          5347,
          1636,
          5650,
          2369,
          4726,
          3355,
          3821,
          7628,
          5499,
          7595,
          4425,
          5185,
          6927,
          1570,
          7857,
          8661,
          7692,
          6712,
          5832,
          5561,
          5903,
          6953,
          7233,
          10408,
          9954,
          8353,
          11347,
          11921,
          16668,
          13285,
          16830,
          11907,
          10910,
          12596,
          14362,
          15611,
          12244,
          16716,
          11488,
          13174,
          18818,
          16759,
          20168,
          2895,
          11557,
          6612,
          -787,
          10124,
          11130,
          10131,
          12146,
          6630,
          4767,
          3956
         ],
         "yaxis": "y"
        },
        {
         "name": "Confirmed Cases",
         "type": "bar",
         "x": [
          "29 April ",
          "30 April ",
          "01 May ",
          "02 May ",
          "03 May ",
          "04 May ",
          "05 May ",
          "06 May ",
          "07 May ",
          "08 May ",
          "09 May ",
          "10 May ",
          "11 May ",
          "12 May ",
          "13 May ",
          "14 May ",
          "15 May ",
          "16 May ",
          "17 May ",
          "18 May ",
          "19 May ",
          "20 May ",
          "21 May ",
          "22 May ",
          "23 May ",
          "24 May ",
          "25 May ",
          "26 May ",
          "27 May ",
          "28 May ",
          "29 May ",
          "30 May ",
          "31 May ",
          "01 June ",
          "02 June ",
          "03 June ",
          "04 June ",
          "05 June ",
          "06 June ",
          "07 June ",
          "08 June ",
          "09 June ",
          "10 June ",
          "11 June ",
          "12 June ",
          "13 June ",
          "14 June ",
          "15 June ",
          "16 June ",
          "17 June ",
          "18 June ",
          "19 June ",
          "20 June ",
          "21 June ",
          "22 June ",
          "23 June ",
          "24 June ",
          "25 June ",
          "26 June ",
          "27 June ",
          "28 June ",
          "29 June ",
          "30 June ",
          "01 July ",
          "02 July ",
          "03 July ",
          "04 July ",
          "05 July ",
          "06 July ",
          "07 July ",
          "08 July ",
          "09 July ",
          "10 July ",
          "11 July ",
          "12 July ",
          "13 July ",
          "14 July ",
          "15 July ",
          "16 July ",
          "17 July ",
          "18 July ",
          "19 July ",
          "20 July ",
          "21 July ",
          "22 July ",
          "23 July ",
          "24 July ",
          "25 July ",
          "26 July ",
          "27 July ",
          "28 July ",
          "29 July ",
          "30 July ",
          "31 July ",
          "01 August ",
          "02 August ",
          "03 August ",
          "04 August ",
          "05 August ",
          "06 August ",
          "07 August ",
          "08 August ",
          "09 August ",
          "10 August ",
          "11 August "
         ],
         "xaxis": "x2",
         "y": [
          1705,
          1801,
          2396,
          2564,
          2952,
          3656,
          2971,
          3602,
          3344,
          3339,
          3175,
          4311,
          3592,
          3562,
          3726,
          3991,
          3808,
          4794,
          5049,
          4628,
          6154,
          5720,
          6023,
          6536,
          6667,
          7111,
          6414,
          5907,
          7246,
          7254,
          8138,
          8364,
          8789,
          7723,
          8812,
          9689,
          9847,
          9472,
          10408,
          10882,
          8536,
          9981,
          11156,
          11135,
          11306,
          12039,
          11405,
          10032,
          11086,
          13108,
          13829,
          14740,
          15918,
          15151,
          13560,
          15656,
          16868,
          18205,
          18255,
          20142,
          19610,
          18339,
          18256,
          19429,
          21947,
          22718,
          24018,
          23942,
          22500,
          23147,
          25561,
          25790,
          27762,
          27757,
          29106,
          28178,
          29917,
          32607,
          35468,
          34820,
          37411,
          40235,
          36806,
          39170,
          45601,
          48443,
          48888,
          50072,
          48932,
          46484,
          49631,
          52479,
          54968,
          57486,
          55117,
          52672,
          50488,
          51282,
          56626,
          62170,
          61455,
          65156,
          62117,
          53016,
          61252
         ],
         "yaxis": "y2"
        },
        {
         "name": "Recovered Cases",
         "type": "bar",
         "x": [
          "29 April ",
          "30 April ",
          "01 May ",
          "02 May ",
          "03 May ",
          "04 May ",
          "05 May ",
          "06 May ",
          "07 May ",
          "08 May ",
          "09 May ",
          "10 May ",
          "11 May ",
          "12 May ",
          "13 May ",
          "14 May ",
          "15 May ",
          "16 May ",
          "17 May ",
          "18 May ",
          "19 May ",
          "20 May ",
          "21 May ",
          "22 May ",
          "23 May ",
          "24 May ",
          "25 May ",
          "26 May ",
          "27 May ",
          "28 May ",
          "29 May ",
          "30 May ",
          "31 May ",
          "01 June ",
          "02 June ",
          "03 June ",
          "04 June ",
          "05 June ",
          "06 June ",
          "07 June ",
          "08 June ",
          "09 June ",
          "10 June ",
          "11 June ",
          "12 June ",
          "13 June ",
          "14 June ",
          "15 June ",
          "16 June ",
          "17 June ",
          "18 June ",
          "19 June ",
          "20 June ",
          "21 June ",
          "22 June ",
          "23 June ",
          "24 June ",
          "25 June ",
          "26 June ",
          "27 June ",
          "28 June ",
          "29 June ",
          "30 June ",
          "01 July ",
          "02 July ",
          "03 July ",
          "04 July ",
          "05 July ",
          "06 July ",
          "07 July ",
          "08 July ",
          "09 July ",
          "10 July ",
          "11 July ",
          "12 July ",
          "13 July ",
          "14 July ",
          "15 July ",
          "16 July ",
          "17 July ",
          "18 July ",
          "19 July ",
          "20 July ",
          "21 July ",
          "22 July ",
          "23 July ",
          "24 July ",
          "25 July ",
          "26 July ",
          "27 July ",
          "28 July ",
          "29 July ",
          "30 July ",
          "31 July ",
          "01 August ",
          "02 August ",
          "03 August ",
          "04 August ",
          "05 August ",
          "06 August ",
          "07 August ",
          "08 August ",
          "09 August ",
          "10 August ",
          "11 August "
         ],
         "xaxis": "x3",
         "y": [
          690,
          630,
          962,
          831,
          911,
          1082,
          1295,
          1161,
          1475,
          1111,
          1414,
          1669,
          1579,
          1905,
          1963,
          1594,
          2234,
          4012,
          2538,
          2482,
          3032,
          3113,
          3131,
          3280,
          2576,
          3285,
          3012,
          3585,
          3434,
          3171,
          11735,
          4303,
          4928,
          3882,
          4531,
          3789,
          4390,
          4770,
          5433,
          5191,
          5171,
          5634,
          6275,
          6044,
          7263,
          8092,
          7358,
          10639,
          7226,
          6890,
          10741,
          9029,
          13974,
          9075,
          10879,
          10462,
          13089,
          13983,
          10246,
          14229,
          11631,
          13497,
          12565,
          12064,
          19999,
          14417,
          14746,
          15829,
          15315,
          16836,
          19508,
          19408,
          20289,
          19981,
          18198,
          17683,
          20977,
          20646,
          22867,
          17476,
          23583,
          22730,
          24303,
          27589,
          31875,
          33326,
          32514,
          37125,
          31512,
          34354,
          35683,
          32886,
          37425,
          36554,
          51368,
          40355,
          43070,
          51220,
          45583,
          50141,
          50387,
          52135,
          54474,
          47362,
          56461
         ],
         "yaxis": "y3"
        },
        {
         "name": "Deceased Cases",
         "type": "bar",
         "x": [
          "29 April ",
          "30 April ",
          "01 May ",
          "02 May ",
          "03 May ",
          "04 May ",
          "05 May ",
          "06 May ",
          "07 May ",
          "08 May ",
          "09 May ",
          "10 May ",
          "11 May ",
          "12 May ",
          "13 May ",
          "14 May ",
          "15 May ",
          "16 May ",
          "17 May ",
          "18 May ",
          "19 May ",
          "20 May ",
          "21 May ",
          "22 May ",
          "23 May ",
          "24 May ",
          "25 May ",
          "26 May ",
          "27 May ",
          "28 May ",
          "29 May ",
          "30 May ",
          "31 May ",
          "01 June ",
          "02 June ",
          "03 June ",
          "04 June ",
          "05 June ",
          "06 June ",
          "07 June ",
          "08 June ",
          "09 June ",
          "10 June ",
          "11 June ",
          "12 June ",
          "13 June ",
          "14 June ",
          "15 June ",
          "16 June ",
          "17 June ",
          "18 June ",
          "19 June ",
          "20 June ",
          "21 June ",
          "22 June ",
          "23 June ",
          "24 June ",
          "25 June ",
          "26 June ",
          "27 June ",
          "28 June ",
          "29 June ",
          "30 June ",
          "01 July ",
          "02 July ",
          "03 July ",
          "04 July ",
          "05 July ",
          "06 July ",
          "07 July ",
          "08 July ",
          "09 July ",
          "10 July ",
          "11 July ",
          "12 July ",
          "13 July ",
          "14 July ",
          "15 July ",
          "16 July ",
          "17 July ",
          "18 July ",
          "19 July ",
          "20 July ",
          "21 July ",
          "22 July ",
          "23 July ",
          "24 July ",
          "25 July ",
          "26 July ",
          "27 July ",
          "28 July ",
          "29 July ",
          "30 July ",
          "31 July ",
          "01 August ",
          "02 August ",
          "03 August ",
          "04 August ",
          "05 August ",
          "06 August ",
          "07 August ",
          "08 August ",
          "09 August ",
          "10 August ",
          "11 August "
         ],
         "xaxis": "x4",
         "y": [
          71,
          75,
          77,
          92,
          140,
          103,
          128,
          91,
          104,
          97,
          115,
          112,
          81,
          120,
          137,
          97,
          104,
          120,
          152,
          131,
          146,
          134,
          148,
          142,
          142,
          156,
          150,
          173,
          188,
          176,
          269,
          205,
          222,
          201,
          222,
          259,
          274,
          286,
          297,
          261,
          271,
          272,
          358,
          394,
          388,
          309,
          324,
          396,
          2004,
          341,
          343,
          364,
          308,
          426,
          312,
          468,
          424,
          401,
          381,
          414,
          384,
          417,
          506,
          438,
          378,
          444,
          611,
          421,
          473,
          479,
          492,
          479,
          520,
          543,
          500,
          541,
          587,
          614,
          680,
          676,
          543,
          675,
          596,
          671,
          1130,
          755,
          763,
          703,
          704,
          642,
          774,
          775,
          784,
          764,
          854,
          760,
          806,
          849,
          919,
          899,
          937,
          875,
          1013,
          887,
          835
         ],
         "yaxis": "y4"
        }
       ],
       "layout": {
        "template": {
         "data": {
          "bar": [
           {
            "error_x": {
             "color": "#2a3f5f"
            },
            "error_y": {
             "color": "#2a3f5f"
            },
            "marker": {
             "line": {
              "color": "#E5ECF6",
              "width": 0.5
             }
            },
            "type": "bar"
           }
          ],
          "barpolar": [
           {
            "marker": {
             "line": {
              "color": "#E5ECF6",
              "width": 0.5
             }
            },
            "type": "barpolar"
           }
          ],
          "carpet": [
           {
            "aaxis": {
             "endlinecolor": "#2a3f5f",
             "gridcolor": "white",
             "linecolor": "white",
             "minorgridcolor": "white",
             "startlinecolor": "#2a3f5f"
            },
            "baxis": {
             "endlinecolor": "#2a3f5f",
             "gridcolor": "white",
             "linecolor": "white",
             "minorgridcolor": "white",
             "startlinecolor": "#2a3f5f"
            },
            "type": "carpet"
           }
          ],
          "choropleth": [
           {
            "colorbar": {
             "outlinewidth": 0,
             "ticks": ""
            },
            "type": "choropleth"
           }
          ],
          "contour": [
           {
            "colorbar": {
             "outlinewidth": 0,
             "ticks": ""
            },
            "colorscale": [
             [
              0,
              "#0d0887"
             ],
             [
              0.1111111111111111,
              "#46039f"
             ],
             [
              0.2222222222222222,
              "#7201a8"
             ],
             [
              0.3333333333333333,
              "#9c179e"
             ],
             [
              0.4444444444444444,
              "#bd3786"
             ],
             [
              0.5555555555555556,
              "#d8576b"
             ],
             [
              0.6666666666666666,
              "#ed7953"
             ],
             [
              0.7777777777777778,
              "#fb9f3a"
             ],
             [
              0.8888888888888888,
              "#fdca26"
             ],
             [
              1,
              "#f0f921"
             ]
            ],
            "type": "contour"
           }
          ],
          "contourcarpet": [
           {
            "colorbar": {
             "outlinewidth": 0,
             "ticks": ""
            },
            "type": "contourcarpet"
           }
          ],
          "heatmap": [
           {
            "colorbar": {
             "outlinewidth": 0,
             "ticks": ""
            },
            "colorscale": [
             [
              0,
              "#0d0887"
             ],
             [
              0.1111111111111111,
              "#46039f"
             ],
             [
              0.2222222222222222,
              "#7201a8"
             ],
             [
              0.3333333333333333,
              "#9c179e"
             ],
             [
              0.4444444444444444,
              "#bd3786"
             ],
             [
              0.5555555555555556,
              "#d8576b"
             ],
             [
              0.6666666666666666,
              "#ed7953"
             ],
             [
              0.7777777777777778,
              "#fb9f3a"
             ],
             [
              0.8888888888888888,
              "#fdca26"
             ],
             [
              1,
              "#f0f921"
             ]
            ],
            "type": "heatmap"
           }
          ],
          "heatmapgl": [
           {
            "colorbar": {
             "outlinewidth": 0,
             "ticks": ""
            },
            "colorscale": [
             [
              0,
              "#0d0887"
             ],
             [
              0.1111111111111111,
              "#46039f"
             ],
             [
              0.2222222222222222,
              "#7201a8"
             ],
             [
              0.3333333333333333,
              "#9c179e"
             ],
             [
              0.4444444444444444,
              "#bd3786"
             ],
             [
              0.5555555555555556,
              "#d8576b"
             ],
             [
              0.6666666666666666,
              "#ed7953"
             ],
             [
              0.7777777777777778,
              "#fb9f3a"
             ],
             [
              0.8888888888888888,
              "#fdca26"
             ],
             [
              1,
              "#f0f921"
             ]
            ],
            "type": "heatmapgl"
           }
          ],
          "histogram": [
           {
            "marker": {
             "colorbar": {
              "outlinewidth": 0,
              "ticks": ""
             }
            },
            "type": "histogram"
           }
          ],
          "histogram2d": [
           {
            "colorbar": {
             "outlinewidth": 0,
             "ticks": ""
            },
            "colorscale": [
             [
              0,
              "#0d0887"
             ],
             [
              0.1111111111111111,
              "#46039f"
             ],
             [
              0.2222222222222222,
              "#7201a8"
             ],
             [
              0.3333333333333333,
              "#9c179e"
             ],
             [
              0.4444444444444444,
              "#bd3786"
             ],
             [
              0.5555555555555556,
              "#d8576b"
             ],
             [
              0.6666666666666666,
              "#ed7953"
             ],
             [
              0.7777777777777778,
              "#fb9f3a"
             ],
             [
              0.8888888888888888,
              "#fdca26"
             ],
             [
              1,
              "#f0f921"
             ]
            ],
            "type": "histogram2d"
           }
          ],
          "histogram2dcontour": [
           {
            "colorbar": {
             "outlinewidth": 0,
             "ticks": ""
            },
            "colorscale": [
             [
              0,
              "#0d0887"
             ],
             [
              0.1111111111111111,
              "#46039f"
             ],
             [
              0.2222222222222222,
              "#7201a8"
             ],
             [
              0.3333333333333333,
              "#9c179e"
             ],
             [
              0.4444444444444444,
              "#bd3786"
             ],
             [
              0.5555555555555556,
              "#d8576b"
             ],
             [
              0.6666666666666666,
              "#ed7953"
             ],
             [
              0.7777777777777778,
              "#fb9f3a"
             ],
             [
              0.8888888888888888,
              "#fdca26"
             ],
             [
              1,
              "#f0f921"
             ]
            ],
            "type": "histogram2dcontour"
           }
          ],
          "mesh3d": [
           {
            "colorbar": {
             "outlinewidth": 0,
             "ticks": ""
            },
            "type": "mesh3d"
           }
          ],
          "parcoords": [
           {
            "line": {
             "colorbar": {
              "outlinewidth": 0,
              "ticks": ""
             }
            },
            "type": "parcoords"
           }
          ],
          "pie": [
           {
            "automargin": true,
            "type": "pie"
           }
          ],
          "scatter": [
           {
            "marker": {
             "colorbar": {
              "outlinewidth": 0,
              "ticks": ""
             }
            },
            "type": "scatter"
           }
          ],
          "scatter3d": [
           {
            "line": {
             "colorbar": {
              "outlinewidth": 0,
              "ticks": ""
             }
            },
            "marker": {
             "colorbar": {
              "outlinewidth": 0,
              "ticks": ""
             }
            },
            "type": "scatter3d"
           }
          ],
          "scattercarpet": [
           {
            "marker": {
             "colorbar": {
              "outlinewidth": 0,
              "ticks": ""
             }
            },
            "type": "scattercarpet"
           }
          ],
          "scattergeo": [
           {
            "marker": {
             "colorbar": {
              "outlinewidth": 0,
              "ticks": ""
             }
            },
            "type": "scattergeo"
           }
          ],
          "scattergl": [
           {
            "marker": {
             "colorbar": {
              "outlinewidth": 0,
              "ticks": ""
             }
            },
            "type": "scattergl"
           }
          ],
          "scattermapbox": [
           {
            "marker": {
             "colorbar": {
              "outlinewidth": 0,
              "ticks": ""
             }
            },
            "type": "scattermapbox"
           }
          ],
          "scatterpolar": [
           {
            "marker": {
             "colorbar": {
              "outlinewidth": 0,
              "ticks": ""
             }
            },
            "type": "scatterpolar"
           }
          ],
          "scatterpolargl": [
           {
            "marker": {
             "colorbar": {
              "outlinewidth": 0,
              "ticks": ""
             }
            },
            "type": "scatterpolargl"
           }
          ],
          "scatterternary": [
           {
            "marker": {
             "colorbar": {
              "outlinewidth": 0,
              "ticks": ""
             }
            },
            "type": "scatterternary"
           }
          ],
          "surface": [
           {
            "colorbar": {
             "outlinewidth": 0,
             "ticks": ""
            },
            "colorscale": [
             [
              0,
              "#0d0887"
             ],
             [
              0.1111111111111111,
              "#46039f"
             ],
             [
              0.2222222222222222,
              "#7201a8"
             ],
             [
              0.3333333333333333,
              "#9c179e"
             ],
             [
              0.4444444444444444,
              "#bd3786"
             ],
             [
              0.5555555555555556,
              "#d8576b"
             ],
             [
              0.6666666666666666,
              "#ed7953"
             ],
             [
              0.7777777777777778,
              "#fb9f3a"
             ],
             [
              0.8888888888888888,
              "#fdca26"
             ],
             [
              1,
              "#f0f921"
             ]
            ],
            "type": "surface"
           }
          ],
          "table": [
           {
            "cells": {
             "fill": {
              "color": "#EBF0F8"
             },
             "line": {
              "color": "white"
             }
            },
            "header": {
             "fill": {
              "color": "#C8D4E3"
             },
             "line": {
              "color": "white"
             }
            },
            "type": "table"
           }
          ]
         },
         "layout": {
          "annotationdefaults": {
           "arrowcolor": "#2a3f5f",
           "arrowhead": 0,
           "arrowwidth": 1
          },
          "coloraxis": {
           "colorbar": {
            "outlinewidth": 0,
            "ticks": ""
           }
          },
          "colorscale": {
           "diverging": [
            [
             0,
             "#8e0152"
            ],
            [
             0.1,
             "#c51b7d"
            ],
            [
             0.2,
             "#de77ae"
            ],
            [
             0.3,
             "#f1b6da"
            ],
            [
             0.4,
             "#fde0ef"
            ],
            [
             0.5,
             "#f7f7f7"
            ],
            [
             0.6,
             "#e6f5d0"
            ],
            [
             0.7,
             "#b8e186"
            ],
            [
             0.8,
             "#7fbc41"
            ],
            [
             0.9,
             "#4d9221"
            ],
            [
             1,
             "#276419"
            ]
           ],
           "sequential": [
            [
             0,
             "#0d0887"
            ],
            [
             0.1111111111111111,
             "#46039f"
            ],
            [
             0.2222222222222222,
             "#7201a8"
            ],
            [
             0.3333333333333333,
             "#9c179e"
            ],
            [
             0.4444444444444444,
             "#bd3786"
            ],
            [
             0.5555555555555556,
             "#d8576b"
            ],
            [
             0.6666666666666666,
             "#ed7953"
            ],
            [
             0.7777777777777778,
             "#fb9f3a"
            ],
            [
             0.8888888888888888,
             "#fdca26"
            ],
            [
             1,
             "#f0f921"
            ]
           ],
           "sequentialminus": [
            [
             0,
             "#0d0887"
            ],
            [
             0.1111111111111111,
             "#46039f"
            ],
            [
             0.2222222222222222,
             "#7201a8"
            ],
            [
             0.3333333333333333,
             "#9c179e"
            ],
            [
             0.4444444444444444,
             "#bd3786"
            ],
            [
             0.5555555555555556,
             "#d8576b"
            ],
            [
             0.6666666666666666,
             "#ed7953"
            ],
            [
             0.7777777777777778,
             "#fb9f3a"
            ],
            [
             0.8888888888888888,
             "#fdca26"
            ],
            [
             1,
             "#f0f921"
            ]
           ]
          },
          "colorway": [
           "#636efa",
           "#EF553B",
           "#00cc96",
           "#ab63fa",
           "#FFA15A",
           "#19d3f3",
           "#FF6692",
           "#B6E880",
           "#FF97FF",
           "#FECB52"
          ],
          "font": {
           "color": "#2a3f5f"
          },
          "geo": {
           "bgcolor": "white",
           "lakecolor": "white",
           "landcolor": "#E5ECF6",
           "showlakes": true,
           "showland": true,
           "subunitcolor": "white"
          },
          "hoverlabel": {
           "align": "left"
          },
          "hovermode": "closest",
          "mapbox": {
           "style": "light"
          },
          "paper_bgcolor": "white",
          "plot_bgcolor": "#E5ECF6",
          "polar": {
           "angularaxis": {
            "gridcolor": "white",
            "linecolor": "white",
            "ticks": ""
           },
           "bgcolor": "#E5ECF6",
           "radialaxis": {
            "gridcolor": "white",
            "linecolor": "white",
            "ticks": ""
           }
          },
          "scene": {
           "xaxis": {
            "backgroundcolor": "#E5ECF6",
            "gridcolor": "white",
            "gridwidth": 2,
            "linecolor": "white",
            "showbackground": true,
            "ticks": "",
            "zerolinecolor": "white"
           },
           "yaxis": {
            "backgroundcolor": "#E5ECF6",
            "gridcolor": "white",
            "gridwidth": 2,
            "linecolor": "white",
            "showbackground": true,
            "ticks": "",
            "zerolinecolor": "white"
           },
           "zaxis": {
            "backgroundcolor": "#E5ECF6",
            "gridcolor": "white",
            "gridwidth": 2,
            "linecolor": "white",
            "showbackground": true,
            "ticks": "",
            "zerolinecolor": "white"
           }
          },
          "shapedefaults": {
           "line": {
            "color": "#2a3f5f"
           }
          },
          "ternary": {
           "aaxis": {
            "gridcolor": "white",
            "linecolor": "white",
            "ticks": ""
           },
           "baxis": {
            "gridcolor": "white",
            "linecolor": "white",
            "ticks": ""
           },
           "bgcolor": "#E5ECF6",
           "caxis": {
            "gridcolor": "white",
            "linecolor": "white",
            "ticks": ""
           }
          },
          "title": {
           "x": 0.05
          },
          "xaxis": {
           "automargin": true,
           "gridcolor": "white",
           "linecolor": "white",
           "ticks": "",
           "title": {
            "standoff": 15
           },
           "zerolinecolor": "white",
           "zerolinewidth": 2
          },
          "yaxis": {
           "automargin": true,
           "gridcolor": "white",
           "linecolor": "white",
           "ticks": "",
           "title": {
            "standoff": 15
           },
           "zerolinecolor": "white",
           "zerolinewidth": 2
          }
         }
        },
        "title": {
         "text": "Daily COVID-19 Tracker"
        },
        "xaxis": {
         "anchor": "y",
         "domain": [
          0,
          0.45
         ],
         "matches": "x3",
         "showticklabels": false
        },
        "xaxis2": {
         "anchor": "y2",
         "domain": [
          0.55,
          1
         ],
         "matches": "x4",
         "showticklabels": false
        },
        "xaxis3": {
         "anchor": "y3",
         "domain": [
          0,
          0.45
         ]
        },
        "xaxis4": {
         "anchor": "y4",
         "domain": [
          0.55,
          1
         ]
        },
        "yaxis": {
         "anchor": "x",
         "domain": [
          0.575,
          1
         ]
        },
        "yaxis2": {
         "anchor": "x2",
         "domain": [
          0.575,
          1
         ]
        },
        "yaxis3": {
         "anchor": "x3",
         "domain": [
          0,
          0.425
         ]
        },
        "yaxis4": {
         "anchor": "x4",
         "domain": [
          0,
          0.425
         ]
        }
       }
      },
      "text/html": [
       "<div>\n",
       "        \n",
       "        \n",
       "            <div id=\"6ac3df47-daca-4bdc-939a-08b11a0bdd9e\" class=\"plotly-graph-div\" style=\"height:525px; width:100%;\"></div>\n",
       "            <script type=\"text/javascript\">\n",
       "                require([\"plotly\"], function(Plotly) {\n",
       "                    window.PLOTLYENV=window.PLOTLYENV || {};\n",
       "                    \n",
       "                if (document.getElementById(\"6ac3df47-daca-4bdc-939a-08b11a0bdd9e\")) {\n",
       "                    Plotly.newPlot(\n",
       "                        '6ac3df47-daca-4bdc-939a-08b11a0bdd9e',\n",
       "                        [{\"name\": \"Active Cases\", \"type\": \"bar\", \"x\": [\"29 April \", \"30 April \", \"01 May \", \"02 May \", \"03 May \", \"04 May \", \"05 May \", \"06 May \", \"07 May \", \"08 May \", \"09 May \", \"10 May \", \"11 May \", \"12 May \", \"13 May \", \"14 May \", \"15 May \", \"16 May \", \"17 May \", \"18 May \", \"19 May \", \"20 May \", \"21 May \", \"22 May \", \"23 May \", \"24 May \", \"25 May \", \"26 May \", \"27 May \", \"28 May \", \"29 May \", \"30 May \", \"31 May \", \"01 June \", \"02 June \", \"03 June \", \"04 June \", \"05 June \", \"06 June \", \"07 June \", \"08 June \", \"09 June \", \"10 June \", \"11 June \", \"12 June \", \"13 June \", \"14 June \", \"15 June \", \"16 June \", \"17 June \", \"18 June \", \"19 June \", \"20 June \", \"21 June \", \"22 June \", \"23 June \", \"24 June \", \"25 June \", \"26 June \", \"27 June \", \"28 June \", \"29 June \", \"30 June \", \"01 July \", \"02 July \", \"03 July \", \"04 July \", \"05 July \", \"06 July \", \"07 July \", \"08 July \", \"09 July \", \"10 July \", \"11 July \", \"12 July \", \"13 July \", \"14 July \", \"15 July \", \"16 July \", \"17 July \", \"18 July \", \"19 July \", \"20 July \", \"21 July \", \"22 July \", \"23 July \", \"24 July \", \"25 July \", \"26 July \", \"27 July \", \"28 July \", \"29 July \", \"30 July \", \"31 July \", \"01 August \", \"02 August \", \"03 August \", \"04 August \", \"05 August \", \"06 August \", \"07 August \", \"08 August \", \"09 August \", \"10 August \", \"11 August \"], \"xaxis\": \"x\", \"y\": [944, 1096, 1357, 1641, 1901, 2471, 1548, 2350, 1765, 2131, 1646, 2530, 1932, 1537, 1626, 2300, 1470, 662, 2359, 2015, 2976, 2473, 2744, 3114, 3949, 3670, 3252, 2149, 3624, 3907, -3866, 3856, 3639, 3640, 4059, 5641, 5183, 4416, 4678, 5430, 3094, 4075, 4523, 4697, 3655, 3638, 3723, -1003, 1856, 5877, 2745, 5347, 1636, 5650, 2369, 4726, 3355, 3821, 7628, 5499, 7595, 4425, 5185, 6927, 1570, 7857, 8661, 7692, 6712, 5832, 5561, 5903, 6953, 7233, 10408, 9954, 8353, 11347, 11921, 16668, 13285, 16830, 11907, 10910, 12596, 14362, 15611, 12244, 16716, 11488, 13174, 18818, 16759, 20168, 2895, 11557, 6612, -787, 10124, 11130, 10131, 12146, 6630, 4767, 3956], \"yaxis\": \"y\"}, {\"name\": \"Confirmed Cases\", \"type\": \"bar\", \"x\": [\"29 April \", \"30 April \", \"01 May \", \"02 May \", \"03 May \", \"04 May \", \"05 May \", \"06 May \", \"07 May \", \"08 May \", \"09 May \", \"10 May \", \"11 May \", \"12 May \", \"13 May \", \"14 May \", \"15 May \", \"16 May \", \"17 May \", \"18 May \", \"19 May \", \"20 May \", \"21 May \", \"22 May \", \"23 May \", \"24 May \", \"25 May \", \"26 May \", \"27 May \", \"28 May \", \"29 May \", \"30 May \", \"31 May \", \"01 June \", \"02 June \", \"03 June \", \"04 June \", \"05 June \", \"06 June \", \"07 June \", \"08 June \", \"09 June \", \"10 June \", \"11 June \", \"12 June \", \"13 June \", \"14 June \", \"15 June \", \"16 June \", \"17 June \", \"18 June \", \"19 June \", \"20 June \", \"21 June \", \"22 June \", \"23 June \", \"24 June \", \"25 June \", \"26 June \", \"27 June \", \"28 June \", \"29 June \", \"30 June \", \"01 July \", \"02 July \", \"03 July \", \"04 July \", \"05 July \", \"06 July \", \"07 July \", \"08 July \", \"09 July \", \"10 July \", \"11 July \", \"12 July \", \"13 July \", \"14 July \", \"15 July \", \"16 July \", \"17 July \", \"18 July \", \"19 July \", \"20 July \", \"21 July \", \"22 July \", \"23 July \", \"24 July \", \"25 July \", \"26 July \", \"27 July \", \"28 July \", \"29 July \", \"30 July \", \"31 July \", \"01 August \", \"02 August \", \"03 August \", \"04 August \", \"05 August \", \"06 August \", \"07 August \", \"08 August \", \"09 August \", \"10 August \", \"11 August \"], \"xaxis\": \"x2\", \"y\": [1705, 1801, 2396, 2564, 2952, 3656, 2971, 3602, 3344, 3339, 3175, 4311, 3592, 3562, 3726, 3991, 3808, 4794, 5049, 4628, 6154, 5720, 6023, 6536, 6667, 7111, 6414, 5907, 7246, 7254, 8138, 8364, 8789, 7723, 8812, 9689, 9847, 9472, 10408, 10882, 8536, 9981, 11156, 11135, 11306, 12039, 11405, 10032, 11086, 13108, 13829, 14740, 15918, 15151, 13560, 15656, 16868, 18205, 18255, 20142, 19610, 18339, 18256, 19429, 21947, 22718, 24018, 23942, 22500, 23147, 25561, 25790, 27762, 27757, 29106, 28178, 29917, 32607, 35468, 34820, 37411, 40235, 36806, 39170, 45601, 48443, 48888, 50072, 48932, 46484, 49631, 52479, 54968, 57486, 55117, 52672, 50488, 51282, 56626, 62170, 61455, 65156, 62117, 53016, 61252], \"yaxis\": \"y2\"}, {\"name\": \"Recovered Cases\", \"type\": \"bar\", \"x\": [\"29 April \", \"30 April \", \"01 May \", \"02 May \", \"03 May \", \"04 May \", \"05 May \", \"06 May \", \"07 May \", \"08 May \", \"09 May \", \"10 May \", \"11 May \", \"12 May \", \"13 May \", \"14 May \", \"15 May \", \"16 May \", \"17 May \", \"18 May \", \"19 May \", \"20 May \", \"21 May \", \"22 May \", \"23 May \", \"24 May \", \"25 May \", \"26 May \", \"27 May \", \"28 May \", \"29 May \", \"30 May \", \"31 May \", \"01 June \", \"02 June \", \"03 June \", \"04 June \", \"05 June \", \"06 June \", \"07 June \", \"08 June \", \"09 June \", \"10 June \", \"11 June \", \"12 June \", \"13 June \", \"14 June \", \"15 June \", \"16 June \", \"17 June \", \"18 June \", \"19 June \", \"20 June \", \"21 June \", \"22 June \", \"23 June \", \"24 June \", \"25 June \", \"26 June \", \"27 June \", \"28 June \", \"29 June \", \"30 June \", \"01 July \", \"02 July \", \"03 July \", \"04 July \", \"05 July \", \"06 July \", \"07 July \", \"08 July \", \"09 July \", \"10 July \", \"11 July \", \"12 July \", \"13 July \", \"14 July \", \"15 July \", \"16 July \", \"17 July \", \"18 July \", \"19 July \", \"20 July \", \"21 July \", \"22 July \", \"23 July \", \"24 July \", \"25 July \", \"26 July \", \"27 July \", \"28 July \", \"29 July \", \"30 July \", \"31 July \", \"01 August \", \"02 August \", \"03 August \", \"04 August \", \"05 August \", \"06 August \", \"07 August \", \"08 August \", \"09 August \", \"10 August \", \"11 August \"], \"xaxis\": \"x3\", \"y\": [690, 630, 962, 831, 911, 1082, 1295, 1161, 1475, 1111, 1414, 1669, 1579, 1905, 1963, 1594, 2234, 4012, 2538, 2482, 3032, 3113, 3131, 3280, 2576, 3285, 3012, 3585, 3434, 3171, 11735, 4303, 4928, 3882, 4531, 3789, 4390, 4770, 5433, 5191, 5171, 5634, 6275, 6044, 7263, 8092, 7358, 10639, 7226, 6890, 10741, 9029, 13974, 9075, 10879, 10462, 13089, 13983, 10246, 14229, 11631, 13497, 12565, 12064, 19999, 14417, 14746, 15829, 15315, 16836, 19508, 19408, 20289, 19981, 18198, 17683, 20977, 20646, 22867, 17476, 23583, 22730, 24303, 27589, 31875, 33326, 32514, 37125, 31512, 34354, 35683, 32886, 37425, 36554, 51368, 40355, 43070, 51220, 45583, 50141, 50387, 52135, 54474, 47362, 56461], \"yaxis\": \"y3\"}, {\"name\": \"Deceased Cases\", \"type\": \"bar\", \"x\": [\"29 April \", \"30 April \", \"01 May \", \"02 May \", \"03 May \", \"04 May \", \"05 May \", \"06 May \", \"07 May \", \"08 May \", \"09 May \", \"10 May \", \"11 May \", \"12 May \", \"13 May \", \"14 May \", \"15 May \", \"16 May \", \"17 May \", \"18 May \", \"19 May \", \"20 May \", \"21 May \", \"22 May \", \"23 May \", \"24 May \", \"25 May \", \"26 May \", \"27 May \", \"28 May \", \"29 May \", \"30 May \", \"31 May \", \"01 June \", \"02 June \", \"03 June \", \"04 June \", \"05 June \", \"06 June \", \"07 June \", \"08 June \", \"09 June \", \"10 June \", \"11 June \", \"12 June \", \"13 June \", \"14 June \", \"15 June \", \"16 June \", \"17 June \", \"18 June \", \"19 June \", \"20 June \", \"21 June \", \"22 June \", \"23 June \", \"24 June \", \"25 June \", \"26 June \", \"27 June \", \"28 June \", \"29 June \", \"30 June \", \"01 July \", \"02 July \", \"03 July \", \"04 July \", \"05 July \", \"06 July \", \"07 July \", \"08 July \", \"09 July \", \"10 July \", \"11 July \", \"12 July \", \"13 July \", \"14 July \", \"15 July \", \"16 July \", \"17 July \", \"18 July \", \"19 July \", \"20 July \", \"21 July \", \"22 July \", \"23 July \", \"24 July \", \"25 July \", \"26 July \", \"27 July \", \"28 July \", \"29 July \", \"30 July \", \"31 July \", \"01 August \", \"02 August \", \"03 August \", \"04 August \", \"05 August \", \"06 August \", \"07 August \", \"08 August \", \"09 August \", \"10 August \", \"11 August \"], \"xaxis\": \"x4\", \"y\": [71, 75, 77, 92, 140, 103, 128, 91, 104, 97, 115, 112, 81, 120, 137, 97, 104, 120, 152, 131, 146, 134, 148, 142, 142, 156, 150, 173, 188, 176, 269, 205, 222, 201, 222, 259, 274, 286, 297, 261, 271, 272, 358, 394, 388, 309, 324, 396, 2004, 341, 343, 364, 308, 426, 312, 468, 424, 401, 381, 414, 384, 417, 506, 438, 378, 444, 611, 421, 473, 479, 492, 479, 520, 543, 500, 541, 587, 614, 680, 676, 543, 675, 596, 671, 1130, 755, 763, 703, 704, 642, 774, 775, 784, 764, 854, 760, 806, 849, 919, 899, 937, 875, 1013, 887, 835], \"yaxis\": \"y4\"}],\n",
       "                        {\"template\": {\"data\": {\"bar\": [{\"error_x\": {\"color\": \"#2a3f5f\"}, \"error_y\": {\"color\": \"#2a3f5f\"}, \"marker\": {\"line\": {\"color\": \"#E5ECF6\", \"width\": 0.5}}, \"type\": \"bar\"}], \"barpolar\": [{\"marker\": {\"line\": {\"color\": \"#E5ECF6\", \"width\": 0.5}}, \"type\": \"barpolar\"}], \"carpet\": [{\"aaxis\": {\"endlinecolor\": \"#2a3f5f\", \"gridcolor\": \"white\", \"linecolor\": \"white\", \"minorgridcolor\": \"white\", \"startlinecolor\": \"#2a3f5f\"}, \"baxis\": {\"endlinecolor\": \"#2a3f5f\", \"gridcolor\": \"white\", \"linecolor\": \"white\", \"minorgridcolor\": \"white\", \"startlinecolor\": \"#2a3f5f\"}, \"type\": \"carpet\"}], \"choropleth\": [{\"colorbar\": {\"outlinewidth\": 0, \"ticks\": \"\"}, \"type\": \"choropleth\"}], \"contour\": [{\"colorbar\": {\"outlinewidth\": 0, \"ticks\": \"\"}, \"colorscale\": [[0.0, \"#0d0887\"], [0.1111111111111111, \"#46039f\"], [0.2222222222222222, \"#7201a8\"], [0.3333333333333333, \"#9c179e\"], [0.4444444444444444, \"#bd3786\"], [0.5555555555555556, \"#d8576b\"], [0.6666666666666666, \"#ed7953\"], [0.7777777777777778, \"#fb9f3a\"], [0.8888888888888888, \"#fdca26\"], [1.0, \"#f0f921\"]], \"type\": \"contour\"}], \"contourcarpet\": [{\"colorbar\": {\"outlinewidth\": 0, \"ticks\": \"\"}, \"type\": \"contourcarpet\"}], \"heatmap\": [{\"colorbar\": {\"outlinewidth\": 0, \"ticks\": \"\"}, \"colorscale\": [[0.0, \"#0d0887\"], [0.1111111111111111, \"#46039f\"], [0.2222222222222222, \"#7201a8\"], [0.3333333333333333, \"#9c179e\"], [0.4444444444444444, \"#bd3786\"], [0.5555555555555556, \"#d8576b\"], [0.6666666666666666, \"#ed7953\"], [0.7777777777777778, \"#fb9f3a\"], [0.8888888888888888, \"#fdca26\"], [1.0, \"#f0f921\"]], \"type\": \"heatmap\"}], \"heatmapgl\": [{\"colorbar\": {\"outlinewidth\": 0, \"ticks\": \"\"}, \"colorscale\": [[0.0, \"#0d0887\"], [0.1111111111111111, \"#46039f\"], [0.2222222222222222, \"#7201a8\"], [0.3333333333333333, \"#9c179e\"], [0.4444444444444444, \"#bd3786\"], [0.5555555555555556, \"#d8576b\"], [0.6666666666666666, \"#ed7953\"], [0.7777777777777778, \"#fb9f3a\"], [0.8888888888888888, \"#fdca26\"], [1.0, \"#f0f921\"]], \"type\": \"heatmapgl\"}], \"histogram\": [{\"marker\": {\"colorbar\": {\"outlinewidth\": 0, \"ticks\": \"\"}}, \"type\": \"histogram\"}], \"histogram2d\": [{\"colorbar\": {\"outlinewidth\": 0, \"ticks\": \"\"}, \"colorscale\": [[0.0, \"#0d0887\"], [0.1111111111111111, \"#46039f\"], [0.2222222222222222, \"#7201a8\"], [0.3333333333333333, \"#9c179e\"], [0.4444444444444444, \"#bd3786\"], [0.5555555555555556, \"#d8576b\"], [0.6666666666666666, \"#ed7953\"], [0.7777777777777778, \"#fb9f3a\"], [0.8888888888888888, \"#fdca26\"], [1.0, \"#f0f921\"]], \"type\": \"histogram2d\"}], \"histogram2dcontour\": [{\"colorbar\": {\"outlinewidth\": 0, \"ticks\": \"\"}, \"colorscale\": [[0.0, \"#0d0887\"], [0.1111111111111111, \"#46039f\"], [0.2222222222222222, \"#7201a8\"], [0.3333333333333333, \"#9c179e\"], [0.4444444444444444, \"#bd3786\"], [0.5555555555555556, \"#d8576b\"], [0.6666666666666666, \"#ed7953\"], [0.7777777777777778, \"#fb9f3a\"], [0.8888888888888888, \"#fdca26\"], [1.0, \"#f0f921\"]], \"type\": \"histogram2dcontour\"}], \"mesh3d\": [{\"colorbar\": {\"outlinewidth\": 0, \"ticks\": \"\"}, \"type\": \"mesh3d\"}], \"parcoords\": [{\"line\": {\"colorbar\": {\"outlinewidth\": 0, \"ticks\": \"\"}}, \"type\": \"parcoords\"}], \"pie\": [{\"automargin\": true, \"type\": \"pie\"}], \"scatter\": [{\"marker\": {\"colorbar\": {\"outlinewidth\": 0, \"ticks\": \"\"}}, \"type\": \"scatter\"}], \"scatter3d\": [{\"line\": {\"colorbar\": {\"outlinewidth\": 0, \"ticks\": \"\"}}, \"marker\": {\"colorbar\": {\"outlinewidth\": 0, \"ticks\": \"\"}}, \"type\": \"scatter3d\"}], \"scattercarpet\": [{\"marker\": {\"colorbar\": {\"outlinewidth\": 0, \"ticks\": \"\"}}, \"type\": \"scattercarpet\"}], \"scattergeo\": [{\"marker\": {\"colorbar\": {\"outlinewidth\": 0, \"ticks\": \"\"}}, \"type\": \"scattergeo\"}], \"scattergl\": [{\"marker\": {\"colorbar\": {\"outlinewidth\": 0, \"ticks\": \"\"}}, \"type\": \"scattergl\"}], \"scattermapbox\": [{\"marker\": {\"colorbar\": {\"outlinewidth\": 0, \"ticks\": \"\"}}, \"type\": \"scattermapbox\"}], \"scatterpolar\": [{\"marker\": {\"colorbar\": {\"outlinewidth\": 0, \"ticks\": \"\"}}, \"type\": \"scatterpolar\"}], \"scatterpolargl\": [{\"marker\": {\"colorbar\": {\"outlinewidth\": 0, \"ticks\": \"\"}}, \"type\": \"scatterpolargl\"}], \"scatterternary\": [{\"marker\": {\"colorbar\": {\"outlinewidth\": 0, \"ticks\": \"\"}}, \"type\": \"scatterternary\"}], \"surface\": [{\"colorbar\": {\"outlinewidth\": 0, \"ticks\": \"\"}, \"colorscale\": [[0.0, \"#0d0887\"], [0.1111111111111111, \"#46039f\"], [0.2222222222222222, \"#7201a8\"], [0.3333333333333333, \"#9c179e\"], [0.4444444444444444, \"#bd3786\"], [0.5555555555555556, \"#d8576b\"], [0.6666666666666666, \"#ed7953\"], [0.7777777777777778, \"#fb9f3a\"], [0.8888888888888888, \"#fdca26\"], [1.0, \"#f0f921\"]], \"type\": \"surface\"}], \"table\": [{\"cells\": {\"fill\": {\"color\": \"#EBF0F8\"}, \"line\": {\"color\": \"white\"}}, \"header\": {\"fill\": {\"color\": \"#C8D4E3\"}, \"line\": {\"color\": \"white\"}}, \"type\": \"table\"}]}, \"layout\": {\"annotationdefaults\": {\"arrowcolor\": \"#2a3f5f\", \"arrowhead\": 0, \"arrowwidth\": 1}, \"coloraxis\": {\"colorbar\": {\"outlinewidth\": 0, \"ticks\": \"\"}}, \"colorscale\": {\"diverging\": [[0, \"#8e0152\"], [0.1, \"#c51b7d\"], [0.2, \"#de77ae\"], [0.3, \"#f1b6da\"], [0.4, \"#fde0ef\"], [0.5, \"#f7f7f7\"], [0.6, \"#e6f5d0\"], [0.7, \"#b8e186\"], [0.8, \"#7fbc41\"], [0.9, \"#4d9221\"], [1, \"#276419\"]], \"sequential\": [[0.0, \"#0d0887\"], [0.1111111111111111, \"#46039f\"], [0.2222222222222222, \"#7201a8\"], [0.3333333333333333, \"#9c179e\"], [0.4444444444444444, \"#bd3786\"], [0.5555555555555556, \"#d8576b\"], [0.6666666666666666, \"#ed7953\"], [0.7777777777777778, \"#fb9f3a\"], [0.8888888888888888, \"#fdca26\"], [1.0, \"#f0f921\"]], \"sequentialminus\": [[0.0, \"#0d0887\"], [0.1111111111111111, \"#46039f\"], [0.2222222222222222, \"#7201a8\"], [0.3333333333333333, \"#9c179e\"], [0.4444444444444444, \"#bd3786\"], [0.5555555555555556, \"#d8576b\"], [0.6666666666666666, \"#ed7953\"], [0.7777777777777778, \"#fb9f3a\"], [0.8888888888888888, \"#fdca26\"], [1.0, \"#f0f921\"]]}, \"colorway\": [\"#636efa\", \"#EF553B\", \"#00cc96\", \"#ab63fa\", \"#FFA15A\", \"#19d3f3\", \"#FF6692\", \"#B6E880\", \"#FF97FF\", \"#FECB52\"], \"font\": {\"color\": \"#2a3f5f\"}, \"geo\": {\"bgcolor\": \"white\", \"lakecolor\": \"white\", \"landcolor\": \"#E5ECF6\", \"showlakes\": true, \"showland\": true, \"subunitcolor\": \"white\"}, \"hoverlabel\": {\"align\": \"left\"}, \"hovermode\": \"closest\", \"mapbox\": {\"style\": \"light\"}, \"paper_bgcolor\": \"white\", \"plot_bgcolor\": \"#E5ECF6\", \"polar\": {\"angularaxis\": {\"gridcolor\": \"white\", \"linecolor\": \"white\", \"ticks\": \"\"}, \"bgcolor\": \"#E5ECF6\", \"radialaxis\": {\"gridcolor\": \"white\", \"linecolor\": \"white\", \"ticks\": \"\"}}, \"scene\": {\"xaxis\": {\"backgroundcolor\": \"#E5ECF6\", \"gridcolor\": \"white\", \"gridwidth\": 2, \"linecolor\": \"white\", \"showbackground\": true, \"ticks\": \"\", \"zerolinecolor\": \"white\"}, \"yaxis\": {\"backgroundcolor\": \"#E5ECF6\", \"gridcolor\": \"white\", \"gridwidth\": 2, \"linecolor\": \"white\", \"showbackground\": true, \"ticks\": \"\", \"zerolinecolor\": \"white\"}, \"zaxis\": {\"backgroundcolor\": \"#E5ECF6\", \"gridcolor\": \"white\", \"gridwidth\": 2, \"linecolor\": \"white\", \"showbackground\": true, \"ticks\": \"\", \"zerolinecolor\": \"white\"}}, \"shapedefaults\": {\"line\": {\"color\": \"#2a3f5f\"}}, \"ternary\": {\"aaxis\": {\"gridcolor\": \"white\", \"linecolor\": \"white\", \"ticks\": \"\"}, \"baxis\": {\"gridcolor\": \"white\", \"linecolor\": \"white\", \"ticks\": \"\"}, \"bgcolor\": \"#E5ECF6\", \"caxis\": {\"gridcolor\": \"white\", \"linecolor\": \"white\", \"ticks\": \"\"}}, \"title\": {\"x\": 0.05}, \"xaxis\": {\"automargin\": true, \"gridcolor\": \"white\", \"linecolor\": \"white\", \"ticks\": \"\", \"title\": {\"standoff\": 15}, \"zerolinecolor\": \"white\", \"zerolinewidth\": 2}, \"yaxis\": {\"automargin\": true, \"gridcolor\": \"white\", \"linecolor\": \"white\", \"ticks\": \"\", \"title\": {\"standoff\": 15}, \"zerolinecolor\": \"white\", \"zerolinewidth\": 2}}}, \"title\": {\"text\": \"Daily COVID-19 Tracker\"}, \"xaxis\": {\"anchor\": \"y\", \"domain\": [0.0, 0.45], \"matches\": \"x3\", \"showticklabels\": false}, \"xaxis2\": {\"anchor\": \"y2\", \"domain\": [0.55, 1.0], \"matches\": \"x4\", \"showticklabels\": false}, \"xaxis3\": {\"anchor\": \"y3\", \"domain\": [0.0, 0.45]}, \"xaxis4\": {\"anchor\": \"y4\", \"domain\": [0.55, 1.0]}, \"yaxis\": {\"anchor\": \"x\", \"domain\": [0.575, 1.0]}, \"yaxis2\": {\"anchor\": \"x2\", \"domain\": [0.575, 1.0]}, \"yaxis3\": {\"anchor\": \"x3\", \"domain\": [0.0, 0.425]}, \"yaxis4\": {\"anchor\": \"x4\", \"domain\": [0.0, 0.425]}},\n",
       "                        {\"responsive\": true}\n",
       "                    ).then(function(){\n",
       "                            \n",
       "var gd = document.getElementById('6ac3df47-daca-4bdc-939a-08b11a0bdd9e');\n",
       "var x = new MutationObserver(function (mutations, observer) {{\n",
       "        var display = window.getComputedStyle(gd).display;\n",
       "        if (!display || display === 'none') {{\n",
       "            console.log([gd, 'removed!']);\n",
       "            Plotly.purge(gd);\n",
       "            observer.disconnect();\n",
       "        }}\n",
       "}});\n",
       "\n",
       "// Listen for the removal of the full notebook cells\n",
       "var notebookContainer = gd.closest('#notebook-container');\n",
       "if (notebookContainer) {{\n",
       "    x.observe(notebookContainer, {childList: true});\n",
       "}}\n",
       "\n",
       "// Listen for the clearing of the current output cell\n",
       "var outputEl = gd.closest('.output');\n",
       "if (outputEl) {{\n",
       "    x.observe(outputEl, {childList: true});\n",
       "}}\n",
       "\n",
       "                        })\n",
       "                };\n",
       "                });\n",
       "            </script>\n",
       "        </div>"
      ]
     },
     "metadata": {},
     "output_type": "display_data"
    }
   ],
   "source": [
    "df=df.tail(105)\n",
    "fig=make_subplots(rows=2,cols=2,shared_xaxes=True)\n",
    "\n",
    "data1=go.Bar(x=df['Date'],y=df['Confirmed_Cases'],name='Confirmed Cases')\n",
    "data2=go.Bar(x=df['Date'],y=df['Recovered_Cases'],name='Recovered Cases')\n",
    "data3=go.Bar(x=df['Date'],y=df['Active_Cases'],name='Active Cases')\n",
    "data4=go.Bar(x=df['Date'],y=df['Deceased_Cases'],name='Deceased Cases')\n",
    "\n",
    "fig.add_trace(data3, 1, 1)\n",
    "fig.add_trace(data1, 1, 2)\n",
    "fig.add_trace(data2, 2, 1)\n",
    "fig.add_trace(data4, 2, 2)\n",
    "fig.update_layout(title_text='Daily COVID-19 Tracker')\n",
    "fig.show()"
   ]
  },
  {
   "cell_type": "markdown",
   "metadata": {},
   "source": [
    "## COVID-19 Tracker (Graph 2)"
   ]
  },
  {
   "cell_type": "markdown",
   "metadata": {},
   "source": [
    "The below graph is a scatter plot along with lines which comprises of daily cases in India. This graph helps to properly track the number of cases which makes it easy to find when the cases were high or low. It also tells the case trend in India. "
   ]
  },
  {
   "cell_type": "code",
   "execution_count": 40,
   "metadata": {},
   "outputs": [
    {
     "data": {
      "application/vnd.plotly.v1+json": {
       "config": {
        "plotlyServerURL": "https://plot.ly"
       },
       "data": [
        {
         "mode": "markers+lines",
         "name": "Deceased Cases",
         "type": "scatter",
         "x": [
          "29 April ",
          "30 April ",
          "01 May ",
          "02 May ",
          "03 May ",
          "04 May ",
          "05 May ",
          "06 May ",
          "07 May ",
          "08 May ",
          "09 May ",
          "10 May ",
          "11 May ",
          "12 May ",
          "13 May ",
          "14 May ",
          "15 May ",
          "16 May ",
          "17 May ",
          "18 May ",
          "19 May ",
          "20 May ",
          "21 May ",
          "22 May ",
          "23 May ",
          "24 May ",
          "25 May ",
          "26 May ",
          "27 May ",
          "28 May ",
          "29 May ",
          "30 May ",
          "31 May ",
          "01 June ",
          "02 June ",
          "03 June ",
          "04 June ",
          "05 June ",
          "06 June ",
          "07 June ",
          "08 June ",
          "09 June ",
          "10 June ",
          "11 June ",
          "12 June ",
          "13 June ",
          "14 June ",
          "15 June ",
          "16 June ",
          "17 June ",
          "18 June ",
          "19 June ",
          "20 June ",
          "21 June ",
          "22 June ",
          "23 June ",
          "24 June ",
          "25 June ",
          "26 June ",
          "27 June ",
          "28 June ",
          "29 June ",
          "30 June ",
          "01 July ",
          "02 July ",
          "03 July ",
          "04 July ",
          "05 July ",
          "06 July ",
          "07 July ",
          "08 July ",
          "09 July ",
          "10 July ",
          "11 July ",
          "12 July ",
          "13 July ",
          "14 July ",
          "15 July ",
          "16 July ",
          "17 July ",
          "18 July ",
          "19 July ",
          "20 July ",
          "21 July ",
          "22 July ",
          "23 July ",
          "24 July ",
          "25 July ",
          "26 July ",
          "27 July ",
          "28 July ",
          "29 July ",
          "30 July ",
          "31 July ",
          "01 August ",
          "02 August ",
          "03 August ",
          "04 August ",
          "05 August ",
          "06 August ",
          "07 August ",
          "08 August ",
          "09 August ",
          "10 August ",
          "11 August "
         ],
         "y": [
          71,
          75,
          77,
          92,
          140,
          103,
          128,
          91,
          104,
          97,
          115,
          112,
          81,
          120,
          137,
          97,
          104,
          120,
          152,
          131,
          146,
          134,
          148,
          142,
          142,
          156,
          150,
          173,
          188,
          176,
          269,
          205,
          222,
          201,
          222,
          259,
          274,
          286,
          297,
          261,
          271,
          272,
          358,
          394,
          388,
          309,
          324,
          396,
          2004,
          341,
          343,
          364,
          308,
          426,
          312,
          468,
          424,
          401,
          381,
          414,
          384,
          417,
          506,
          438,
          378,
          444,
          611,
          421,
          473,
          479,
          492,
          479,
          520,
          543,
          500,
          541,
          587,
          614,
          680,
          676,
          543,
          675,
          596,
          671,
          1130,
          755,
          763,
          703,
          704,
          642,
          774,
          775,
          784,
          764,
          854,
          760,
          806,
          849,
          919,
          899,
          937,
          875,
          1013,
          887,
          835
         ]
        },
        {
         "mode": "markers+lines",
         "name": "Confirmed Cases",
         "type": "scatter",
         "x": [
          "29 April ",
          "30 April ",
          "01 May ",
          "02 May ",
          "03 May ",
          "04 May ",
          "05 May ",
          "06 May ",
          "07 May ",
          "08 May ",
          "09 May ",
          "10 May ",
          "11 May ",
          "12 May ",
          "13 May ",
          "14 May ",
          "15 May ",
          "16 May ",
          "17 May ",
          "18 May ",
          "19 May ",
          "20 May ",
          "21 May ",
          "22 May ",
          "23 May ",
          "24 May ",
          "25 May ",
          "26 May ",
          "27 May ",
          "28 May ",
          "29 May ",
          "30 May ",
          "31 May ",
          "01 June ",
          "02 June ",
          "03 June ",
          "04 June ",
          "05 June ",
          "06 June ",
          "07 June ",
          "08 June ",
          "09 June ",
          "10 June ",
          "11 June ",
          "12 June ",
          "13 June ",
          "14 June ",
          "15 June ",
          "16 June ",
          "17 June ",
          "18 June ",
          "19 June ",
          "20 June ",
          "21 June ",
          "22 June ",
          "23 June ",
          "24 June ",
          "25 June ",
          "26 June ",
          "27 June ",
          "28 June ",
          "29 June ",
          "30 June ",
          "01 July ",
          "02 July ",
          "03 July ",
          "04 July ",
          "05 July ",
          "06 July ",
          "07 July ",
          "08 July ",
          "09 July ",
          "10 July ",
          "11 July ",
          "12 July ",
          "13 July ",
          "14 July ",
          "15 July ",
          "16 July ",
          "17 July ",
          "18 July ",
          "19 July ",
          "20 July ",
          "21 July ",
          "22 July ",
          "23 July ",
          "24 July ",
          "25 July ",
          "26 July ",
          "27 July ",
          "28 July ",
          "29 July ",
          "30 July ",
          "31 July ",
          "01 August ",
          "02 August ",
          "03 August ",
          "04 August ",
          "05 August ",
          "06 August ",
          "07 August ",
          "08 August ",
          "09 August ",
          "10 August ",
          "11 August "
         ],
         "y": [
          1705,
          1801,
          2396,
          2564,
          2952,
          3656,
          2971,
          3602,
          3344,
          3339,
          3175,
          4311,
          3592,
          3562,
          3726,
          3991,
          3808,
          4794,
          5049,
          4628,
          6154,
          5720,
          6023,
          6536,
          6667,
          7111,
          6414,
          5907,
          7246,
          7254,
          8138,
          8364,
          8789,
          7723,
          8812,
          9689,
          9847,
          9472,
          10408,
          10882,
          8536,
          9981,
          11156,
          11135,
          11306,
          12039,
          11405,
          10032,
          11086,
          13108,
          13829,
          14740,
          15918,
          15151,
          13560,
          15656,
          16868,
          18205,
          18255,
          20142,
          19610,
          18339,
          18256,
          19429,
          21947,
          22718,
          24018,
          23942,
          22500,
          23147,
          25561,
          25790,
          27762,
          27757,
          29106,
          28178,
          29917,
          32607,
          35468,
          34820,
          37411,
          40235,
          36806,
          39170,
          45601,
          48443,
          48888,
          50072,
          48932,
          46484,
          49631,
          52479,
          54968,
          57486,
          55117,
          52672,
          50488,
          51282,
          56626,
          62170,
          61455,
          65156,
          62117,
          53016,
          61252
         ]
        },
        {
         "mode": "markers+lines",
         "name": "Recovered Cases",
         "type": "scatter",
         "x": [
          "29 April ",
          "30 April ",
          "01 May ",
          "02 May ",
          "03 May ",
          "04 May ",
          "05 May ",
          "06 May ",
          "07 May ",
          "08 May ",
          "09 May ",
          "10 May ",
          "11 May ",
          "12 May ",
          "13 May ",
          "14 May ",
          "15 May ",
          "16 May ",
          "17 May ",
          "18 May ",
          "19 May ",
          "20 May ",
          "21 May ",
          "22 May ",
          "23 May ",
          "24 May ",
          "25 May ",
          "26 May ",
          "27 May ",
          "28 May ",
          "29 May ",
          "30 May ",
          "31 May ",
          "01 June ",
          "02 June ",
          "03 June ",
          "04 June ",
          "05 June ",
          "06 June ",
          "07 June ",
          "08 June ",
          "09 June ",
          "10 June ",
          "11 June ",
          "12 June ",
          "13 June ",
          "14 June ",
          "15 June ",
          "16 June ",
          "17 June ",
          "18 June ",
          "19 June ",
          "20 June ",
          "21 June ",
          "22 June ",
          "23 June ",
          "24 June ",
          "25 June ",
          "26 June ",
          "27 June ",
          "28 June ",
          "29 June ",
          "30 June ",
          "01 July ",
          "02 July ",
          "03 July ",
          "04 July ",
          "05 July ",
          "06 July ",
          "07 July ",
          "08 July ",
          "09 July ",
          "10 July ",
          "11 July ",
          "12 July ",
          "13 July ",
          "14 July ",
          "15 July ",
          "16 July ",
          "17 July ",
          "18 July ",
          "19 July ",
          "20 July ",
          "21 July ",
          "22 July ",
          "23 July ",
          "24 July ",
          "25 July ",
          "26 July ",
          "27 July ",
          "28 July ",
          "29 July ",
          "30 July ",
          "31 July ",
          "01 August ",
          "02 August ",
          "03 August ",
          "04 August ",
          "05 August ",
          "06 August ",
          "07 August ",
          "08 August ",
          "09 August ",
          "10 August ",
          "11 August "
         ],
         "y": [
          690,
          630,
          962,
          831,
          911,
          1082,
          1295,
          1161,
          1475,
          1111,
          1414,
          1669,
          1579,
          1905,
          1963,
          1594,
          2234,
          4012,
          2538,
          2482,
          3032,
          3113,
          3131,
          3280,
          2576,
          3285,
          3012,
          3585,
          3434,
          3171,
          11735,
          4303,
          4928,
          3882,
          4531,
          3789,
          4390,
          4770,
          5433,
          5191,
          5171,
          5634,
          6275,
          6044,
          7263,
          8092,
          7358,
          10639,
          7226,
          6890,
          10741,
          9029,
          13974,
          9075,
          10879,
          10462,
          13089,
          13983,
          10246,
          14229,
          11631,
          13497,
          12565,
          12064,
          19999,
          14417,
          14746,
          15829,
          15315,
          16836,
          19508,
          19408,
          20289,
          19981,
          18198,
          17683,
          20977,
          20646,
          22867,
          17476,
          23583,
          22730,
          24303,
          27589,
          31875,
          33326,
          32514,
          37125,
          31512,
          34354,
          35683,
          32886,
          37425,
          36554,
          51368,
          40355,
          43070,
          51220,
          45583,
          50141,
          50387,
          52135,
          54474,
          47362,
          56461
         ]
        }
       ],
       "layout": {
        "template": {
         "data": {
          "bar": [
           {
            "error_x": {
             "color": "#2a3f5f"
            },
            "error_y": {
             "color": "#2a3f5f"
            },
            "marker": {
             "line": {
              "color": "#E5ECF6",
              "width": 0.5
             }
            },
            "type": "bar"
           }
          ],
          "barpolar": [
           {
            "marker": {
             "line": {
              "color": "#E5ECF6",
              "width": 0.5
             }
            },
            "type": "barpolar"
           }
          ],
          "carpet": [
           {
            "aaxis": {
             "endlinecolor": "#2a3f5f",
             "gridcolor": "white",
             "linecolor": "white",
             "minorgridcolor": "white",
             "startlinecolor": "#2a3f5f"
            },
            "baxis": {
             "endlinecolor": "#2a3f5f",
             "gridcolor": "white",
             "linecolor": "white",
             "minorgridcolor": "white",
             "startlinecolor": "#2a3f5f"
            },
            "type": "carpet"
           }
          ],
          "choropleth": [
           {
            "colorbar": {
             "outlinewidth": 0,
             "ticks": ""
            },
            "type": "choropleth"
           }
          ],
          "contour": [
           {
            "colorbar": {
             "outlinewidth": 0,
             "ticks": ""
            },
            "colorscale": [
             [
              0,
              "#0d0887"
             ],
             [
              0.1111111111111111,
              "#46039f"
             ],
             [
              0.2222222222222222,
              "#7201a8"
             ],
             [
              0.3333333333333333,
              "#9c179e"
             ],
             [
              0.4444444444444444,
              "#bd3786"
             ],
             [
              0.5555555555555556,
              "#d8576b"
             ],
             [
              0.6666666666666666,
              "#ed7953"
             ],
             [
              0.7777777777777778,
              "#fb9f3a"
             ],
             [
              0.8888888888888888,
              "#fdca26"
             ],
             [
              1,
              "#f0f921"
             ]
            ],
            "type": "contour"
           }
          ],
          "contourcarpet": [
           {
            "colorbar": {
             "outlinewidth": 0,
             "ticks": ""
            },
            "type": "contourcarpet"
           }
          ],
          "heatmap": [
           {
            "colorbar": {
             "outlinewidth": 0,
             "ticks": ""
            },
            "colorscale": [
             [
              0,
              "#0d0887"
             ],
             [
              0.1111111111111111,
              "#46039f"
             ],
             [
              0.2222222222222222,
              "#7201a8"
             ],
             [
              0.3333333333333333,
              "#9c179e"
             ],
             [
              0.4444444444444444,
              "#bd3786"
             ],
             [
              0.5555555555555556,
              "#d8576b"
             ],
             [
              0.6666666666666666,
              "#ed7953"
             ],
             [
              0.7777777777777778,
              "#fb9f3a"
             ],
             [
              0.8888888888888888,
              "#fdca26"
             ],
             [
              1,
              "#f0f921"
             ]
            ],
            "type": "heatmap"
           }
          ],
          "heatmapgl": [
           {
            "colorbar": {
             "outlinewidth": 0,
             "ticks": ""
            },
            "colorscale": [
             [
              0,
              "#0d0887"
             ],
             [
              0.1111111111111111,
              "#46039f"
             ],
             [
              0.2222222222222222,
              "#7201a8"
             ],
             [
              0.3333333333333333,
              "#9c179e"
             ],
             [
              0.4444444444444444,
              "#bd3786"
             ],
             [
              0.5555555555555556,
              "#d8576b"
             ],
             [
              0.6666666666666666,
              "#ed7953"
             ],
             [
              0.7777777777777778,
              "#fb9f3a"
             ],
             [
              0.8888888888888888,
              "#fdca26"
             ],
             [
              1,
              "#f0f921"
             ]
            ],
            "type": "heatmapgl"
           }
          ],
          "histogram": [
           {
            "marker": {
             "colorbar": {
              "outlinewidth": 0,
              "ticks": ""
             }
            },
            "type": "histogram"
           }
          ],
          "histogram2d": [
           {
            "colorbar": {
             "outlinewidth": 0,
             "ticks": ""
            },
            "colorscale": [
             [
              0,
              "#0d0887"
             ],
             [
              0.1111111111111111,
              "#46039f"
             ],
             [
              0.2222222222222222,
              "#7201a8"
             ],
             [
              0.3333333333333333,
              "#9c179e"
             ],
             [
              0.4444444444444444,
              "#bd3786"
             ],
             [
              0.5555555555555556,
              "#d8576b"
             ],
             [
              0.6666666666666666,
              "#ed7953"
             ],
             [
              0.7777777777777778,
              "#fb9f3a"
             ],
             [
              0.8888888888888888,
              "#fdca26"
             ],
             [
              1,
              "#f0f921"
             ]
            ],
            "type": "histogram2d"
           }
          ],
          "histogram2dcontour": [
           {
            "colorbar": {
             "outlinewidth": 0,
             "ticks": ""
            },
            "colorscale": [
             [
              0,
              "#0d0887"
             ],
             [
              0.1111111111111111,
              "#46039f"
             ],
             [
              0.2222222222222222,
              "#7201a8"
             ],
             [
              0.3333333333333333,
              "#9c179e"
             ],
             [
              0.4444444444444444,
              "#bd3786"
             ],
             [
              0.5555555555555556,
              "#d8576b"
             ],
             [
              0.6666666666666666,
              "#ed7953"
             ],
             [
              0.7777777777777778,
              "#fb9f3a"
             ],
             [
              0.8888888888888888,
              "#fdca26"
             ],
             [
              1,
              "#f0f921"
             ]
            ],
            "type": "histogram2dcontour"
           }
          ],
          "mesh3d": [
           {
            "colorbar": {
             "outlinewidth": 0,
             "ticks": ""
            },
            "type": "mesh3d"
           }
          ],
          "parcoords": [
           {
            "line": {
             "colorbar": {
              "outlinewidth": 0,
              "ticks": ""
             }
            },
            "type": "parcoords"
           }
          ],
          "pie": [
           {
            "automargin": true,
            "type": "pie"
           }
          ],
          "scatter": [
           {
            "marker": {
             "colorbar": {
              "outlinewidth": 0,
              "ticks": ""
             }
            },
            "type": "scatter"
           }
          ],
          "scatter3d": [
           {
            "line": {
             "colorbar": {
              "outlinewidth": 0,
              "ticks": ""
             }
            },
            "marker": {
             "colorbar": {
              "outlinewidth": 0,
              "ticks": ""
             }
            },
            "type": "scatter3d"
           }
          ],
          "scattercarpet": [
           {
            "marker": {
             "colorbar": {
              "outlinewidth": 0,
              "ticks": ""
             }
            },
            "type": "scattercarpet"
           }
          ],
          "scattergeo": [
           {
            "marker": {
             "colorbar": {
              "outlinewidth": 0,
              "ticks": ""
             }
            },
            "type": "scattergeo"
           }
          ],
          "scattergl": [
           {
            "marker": {
             "colorbar": {
              "outlinewidth": 0,
              "ticks": ""
             }
            },
            "type": "scattergl"
           }
          ],
          "scattermapbox": [
           {
            "marker": {
             "colorbar": {
              "outlinewidth": 0,
              "ticks": ""
             }
            },
            "type": "scattermapbox"
           }
          ],
          "scatterpolar": [
           {
            "marker": {
             "colorbar": {
              "outlinewidth": 0,
              "ticks": ""
             }
            },
            "type": "scatterpolar"
           }
          ],
          "scatterpolargl": [
           {
            "marker": {
             "colorbar": {
              "outlinewidth": 0,
              "ticks": ""
             }
            },
            "type": "scatterpolargl"
           }
          ],
          "scatterternary": [
           {
            "marker": {
             "colorbar": {
              "outlinewidth": 0,
              "ticks": ""
             }
            },
            "type": "scatterternary"
           }
          ],
          "surface": [
           {
            "colorbar": {
             "outlinewidth": 0,
             "ticks": ""
            },
            "colorscale": [
             [
              0,
              "#0d0887"
             ],
             [
              0.1111111111111111,
              "#46039f"
             ],
             [
              0.2222222222222222,
              "#7201a8"
             ],
             [
              0.3333333333333333,
              "#9c179e"
             ],
             [
              0.4444444444444444,
              "#bd3786"
             ],
             [
              0.5555555555555556,
              "#d8576b"
             ],
             [
              0.6666666666666666,
              "#ed7953"
             ],
             [
              0.7777777777777778,
              "#fb9f3a"
             ],
             [
              0.8888888888888888,
              "#fdca26"
             ],
             [
              1,
              "#f0f921"
             ]
            ],
            "type": "surface"
           }
          ],
          "table": [
           {
            "cells": {
             "fill": {
              "color": "#EBF0F8"
             },
             "line": {
              "color": "white"
             }
            },
            "header": {
             "fill": {
              "color": "#C8D4E3"
             },
             "line": {
              "color": "white"
             }
            },
            "type": "table"
           }
          ]
         },
         "layout": {
          "annotationdefaults": {
           "arrowcolor": "#2a3f5f",
           "arrowhead": 0,
           "arrowwidth": 1
          },
          "coloraxis": {
           "colorbar": {
            "outlinewidth": 0,
            "ticks": ""
           }
          },
          "colorscale": {
           "diverging": [
            [
             0,
             "#8e0152"
            ],
            [
             0.1,
             "#c51b7d"
            ],
            [
             0.2,
             "#de77ae"
            ],
            [
             0.3,
             "#f1b6da"
            ],
            [
             0.4,
             "#fde0ef"
            ],
            [
             0.5,
             "#f7f7f7"
            ],
            [
             0.6,
             "#e6f5d0"
            ],
            [
             0.7,
             "#b8e186"
            ],
            [
             0.8,
             "#7fbc41"
            ],
            [
             0.9,
             "#4d9221"
            ],
            [
             1,
             "#276419"
            ]
           ],
           "sequential": [
            [
             0,
             "#0d0887"
            ],
            [
             0.1111111111111111,
             "#46039f"
            ],
            [
             0.2222222222222222,
             "#7201a8"
            ],
            [
             0.3333333333333333,
             "#9c179e"
            ],
            [
             0.4444444444444444,
             "#bd3786"
            ],
            [
             0.5555555555555556,
             "#d8576b"
            ],
            [
             0.6666666666666666,
             "#ed7953"
            ],
            [
             0.7777777777777778,
             "#fb9f3a"
            ],
            [
             0.8888888888888888,
             "#fdca26"
            ],
            [
             1,
             "#f0f921"
            ]
           ],
           "sequentialminus": [
            [
             0,
             "#0d0887"
            ],
            [
             0.1111111111111111,
             "#46039f"
            ],
            [
             0.2222222222222222,
             "#7201a8"
            ],
            [
             0.3333333333333333,
             "#9c179e"
            ],
            [
             0.4444444444444444,
             "#bd3786"
            ],
            [
             0.5555555555555556,
             "#d8576b"
            ],
            [
             0.6666666666666666,
             "#ed7953"
            ],
            [
             0.7777777777777778,
             "#fb9f3a"
            ],
            [
             0.8888888888888888,
             "#fdca26"
            ],
            [
             1,
             "#f0f921"
            ]
           ]
          },
          "colorway": [
           "#636efa",
           "#EF553B",
           "#00cc96",
           "#ab63fa",
           "#FFA15A",
           "#19d3f3",
           "#FF6692",
           "#B6E880",
           "#FF97FF",
           "#FECB52"
          ],
          "font": {
           "color": "#2a3f5f"
          },
          "geo": {
           "bgcolor": "white",
           "lakecolor": "white",
           "landcolor": "#E5ECF6",
           "showlakes": true,
           "showland": true,
           "subunitcolor": "white"
          },
          "hoverlabel": {
           "align": "left"
          },
          "hovermode": "closest",
          "mapbox": {
           "style": "light"
          },
          "paper_bgcolor": "white",
          "plot_bgcolor": "#E5ECF6",
          "polar": {
           "angularaxis": {
            "gridcolor": "white",
            "linecolor": "white",
            "ticks": ""
           },
           "bgcolor": "#E5ECF6",
           "radialaxis": {
            "gridcolor": "white",
            "linecolor": "white",
            "ticks": ""
           }
          },
          "scene": {
           "xaxis": {
            "backgroundcolor": "#E5ECF6",
            "gridcolor": "white",
            "gridwidth": 2,
            "linecolor": "white",
            "showbackground": true,
            "ticks": "",
            "zerolinecolor": "white"
           },
           "yaxis": {
            "backgroundcolor": "#E5ECF6",
            "gridcolor": "white",
            "gridwidth": 2,
            "linecolor": "white",
            "showbackground": true,
            "ticks": "",
            "zerolinecolor": "white"
           },
           "zaxis": {
            "backgroundcolor": "#E5ECF6",
            "gridcolor": "white",
            "gridwidth": 2,
            "linecolor": "white",
            "showbackground": true,
            "ticks": "",
            "zerolinecolor": "white"
           }
          },
          "shapedefaults": {
           "line": {
            "color": "#2a3f5f"
           }
          },
          "ternary": {
           "aaxis": {
            "gridcolor": "white",
            "linecolor": "white",
            "ticks": ""
           },
           "baxis": {
            "gridcolor": "white",
            "linecolor": "white",
            "ticks": ""
           },
           "bgcolor": "#E5ECF6",
           "caxis": {
            "gridcolor": "white",
            "linecolor": "white",
            "ticks": ""
           }
          },
          "title": {
           "x": 0.05
          },
          "xaxis": {
           "automargin": true,
           "gridcolor": "white",
           "linecolor": "white",
           "ticks": "",
           "title": {
            "standoff": 15
           },
           "zerolinecolor": "white",
           "zerolinewidth": 2
          },
          "yaxis": {
           "automargin": true,
           "gridcolor": "white",
           "linecolor": "white",
           "ticks": "",
           "title": {
            "standoff": 15
           },
           "zerolinecolor": "white",
           "zerolinewidth": 2
          }
         }
        },
        "title": {
         "text": "COVID-19 Cases Tracker",
         "x": 0.5,
         "xanchor": "center",
         "y": 0.9,
         "yanchor": "top"
        }
       }
      },
      "text/html": [
       "<div>\n",
       "        \n",
       "        \n",
       "            <div id=\"8932aec1-b8b9-42da-a43c-b7ae9580bff5\" class=\"plotly-graph-div\" style=\"height:525px; width:100%;\"></div>\n",
       "            <script type=\"text/javascript\">\n",
       "                require([\"plotly\"], function(Plotly) {\n",
       "                    window.PLOTLYENV=window.PLOTLYENV || {};\n",
       "                    \n",
       "                if (document.getElementById(\"8932aec1-b8b9-42da-a43c-b7ae9580bff5\")) {\n",
       "                    Plotly.newPlot(\n",
       "                        '8932aec1-b8b9-42da-a43c-b7ae9580bff5',\n",
       "                        [{\"mode\": \"markers+lines\", \"name\": \"Deceased Cases\", \"type\": \"scatter\", \"x\": [\"29 April \", \"30 April \", \"01 May \", \"02 May \", \"03 May \", \"04 May \", \"05 May \", \"06 May \", \"07 May \", \"08 May \", \"09 May \", \"10 May \", \"11 May \", \"12 May \", \"13 May \", \"14 May \", \"15 May \", \"16 May \", \"17 May \", \"18 May \", \"19 May \", \"20 May \", \"21 May \", \"22 May \", \"23 May \", \"24 May \", \"25 May \", \"26 May \", \"27 May \", \"28 May \", \"29 May \", \"30 May \", \"31 May \", \"01 June \", \"02 June \", \"03 June \", \"04 June \", \"05 June \", \"06 June \", \"07 June \", \"08 June \", \"09 June \", \"10 June \", \"11 June \", \"12 June \", \"13 June \", \"14 June \", \"15 June \", \"16 June \", \"17 June \", \"18 June \", \"19 June \", \"20 June \", \"21 June \", \"22 June \", \"23 June \", \"24 June \", \"25 June \", \"26 June \", \"27 June \", \"28 June \", \"29 June \", \"30 June \", \"01 July \", \"02 July \", \"03 July \", \"04 July \", \"05 July \", \"06 July \", \"07 July \", \"08 July \", \"09 July \", \"10 July \", \"11 July \", \"12 July \", \"13 July \", \"14 July \", \"15 July \", \"16 July \", \"17 July \", \"18 July \", \"19 July \", \"20 July \", \"21 July \", \"22 July \", \"23 July \", \"24 July \", \"25 July \", \"26 July \", \"27 July \", \"28 July \", \"29 July \", \"30 July \", \"31 July \", \"01 August \", \"02 August \", \"03 August \", \"04 August \", \"05 August \", \"06 August \", \"07 August \", \"08 August \", \"09 August \", \"10 August \", \"11 August \"], \"y\": [71, 75, 77, 92, 140, 103, 128, 91, 104, 97, 115, 112, 81, 120, 137, 97, 104, 120, 152, 131, 146, 134, 148, 142, 142, 156, 150, 173, 188, 176, 269, 205, 222, 201, 222, 259, 274, 286, 297, 261, 271, 272, 358, 394, 388, 309, 324, 396, 2004, 341, 343, 364, 308, 426, 312, 468, 424, 401, 381, 414, 384, 417, 506, 438, 378, 444, 611, 421, 473, 479, 492, 479, 520, 543, 500, 541, 587, 614, 680, 676, 543, 675, 596, 671, 1130, 755, 763, 703, 704, 642, 774, 775, 784, 764, 854, 760, 806, 849, 919, 899, 937, 875, 1013, 887, 835]}, {\"mode\": \"markers+lines\", \"name\": \"Confirmed Cases\", \"type\": \"scatter\", \"x\": [\"29 April \", \"30 April \", \"01 May \", \"02 May \", \"03 May \", \"04 May \", \"05 May \", \"06 May \", \"07 May \", \"08 May \", \"09 May \", \"10 May \", \"11 May \", \"12 May \", \"13 May \", \"14 May \", \"15 May \", \"16 May \", \"17 May \", \"18 May \", \"19 May \", \"20 May \", \"21 May \", \"22 May \", \"23 May \", \"24 May \", \"25 May \", \"26 May \", \"27 May \", \"28 May \", \"29 May \", \"30 May \", \"31 May \", \"01 June \", \"02 June \", \"03 June \", \"04 June \", \"05 June \", \"06 June \", \"07 June \", \"08 June \", \"09 June \", \"10 June \", \"11 June \", \"12 June \", \"13 June \", \"14 June \", \"15 June \", \"16 June \", \"17 June \", \"18 June \", \"19 June \", \"20 June \", \"21 June \", \"22 June \", \"23 June \", \"24 June \", \"25 June \", \"26 June \", \"27 June \", \"28 June \", \"29 June \", \"30 June \", \"01 July \", \"02 July \", \"03 July \", \"04 July \", \"05 July \", \"06 July \", \"07 July \", \"08 July \", \"09 July \", \"10 July \", \"11 July \", \"12 July \", \"13 July \", \"14 July \", \"15 July \", \"16 July \", \"17 July \", \"18 July \", \"19 July \", \"20 July \", \"21 July \", \"22 July \", \"23 July \", \"24 July \", \"25 July \", \"26 July \", \"27 July \", \"28 July \", \"29 July \", \"30 July \", \"31 July \", \"01 August \", \"02 August \", \"03 August \", \"04 August \", \"05 August \", \"06 August \", \"07 August \", \"08 August \", \"09 August \", \"10 August \", \"11 August \"], \"y\": [1705, 1801, 2396, 2564, 2952, 3656, 2971, 3602, 3344, 3339, 3175, 4311, 3592, 3562, 3726, 3991, 3808, 4794, 5049, 4628, 6154, 5720, 6023, 6536, 6667, 7111, 6414, 5907, 7246, 7254, 8138, 8364, 8789, 7723, 8812, 9689, 9847, 9472, 10408, 10882, 8536, 9981, 11156, 11135, 11306, 12039, 11405, 10032, 11086, 13108, 13829, 14740, 15918, 15151, 13560, 15656, 16868, 18205, 18255, 20142, 19610, 18339, 18256, 19429, 21947, 22718, 24018, 23942, 22500, 23147, 25561, 25790, 27762, 27757, 29106, 28178, 29917, 32607, 35468, 34820, 37411, 40235, 36806, 39170, 45601, 48443, 48888, 50072, 48932, 46484, 49631, 52479, 54968, 57486, 55117, 52672, 50488, 51282, 56626, 62170, 61455, 65156, 62117, 53016, 61252]}, {\"mode\": \"markers+lines\", \"name\": \"Recovered Cases\", \"type\": \"scatter\", \"x\": [\"29 April \", \"30 April \", \"01 May \", \"02 May \", \"03 May \", \"04 May \", \"05 May \", \"06 May \", \"07 May \", \"08 May \", \"09 May \", \"10 May \", \"11 May \", \"12 May \", \"13 May \", \"14 May \", \"15 May \", \"16 May \", \"17 May \", \"18 May \", \"19 May \", \"20 May \", \"21 May \", \"22 May \", \"23 May \", \"24 May \", \"25 May \", \"26 May \", \"27 May \", \"28 May \", \"29 May \", \"30 May \", \"31 May \", \"01 June \", \"02 June \", \"03 June \", \"04 June \", \"05 June \", \"06 June \", \"07 June \", \"08 June \", \"09 June \", \"10 June \", \"11 June \", \"12 June \", \"13 June \", \"14 June \", \"15 June \", \"16 June \", \"17 June \", \"18 June \", \"19 June \", \"20 June \", \"21 June \", \"22 June \", \"23 June \", \"24 June \", \"25 June \", \"26 June \", \"27 June \", \"28 June \", \"29 June \", \"30 June \", \"01 July \", \"02 July \", \"03 July \", \"04 July \", \"05 July \", \"06 July \", \"07 July \", \"08 July \", \"09 July \", \"10 July \", \"11 July \", \"12 July \", \"13 July \", \"14 July \", \"15 July \", \"16 July \", \"17 July \", \"18 July \", \"19 July \", \"20 July \", \"21 July \", \"22 July \", \"23 July \", \"24 July \", \"25 July \", \"26 July \", \"27 July \", \"28 July \", \"29 July \", \"30 July \", \"31 July \", \"01 August \", \"02 August \", \"03 August \", \"04 August \", \"05 August \", \"06 August \", \"07 August \", \"08 August \", \"09 August \", \"10 August \", \"11 August \"], \"y\": [690, 630, 962, 831, 911, 1082, 1295, 1161, 1475, 1111, 1414, 1669, 1579, 1905, 1963, 1594, 2234, 4012, 2538, 2482, 3032, 3113, 3131, 3280, 2576, 3285, 3012, 3585, 3434, 3171, 11735, 4303, 4928, 3882, 4531, 3789, 4390, 4770, 5433, 5191, 5171, 5634, 6275, 6044, 7263, 8092, 7358, 10639, 7226, 6890, 10741, 9029, 13974, 9075, 10879, 10462, 13089, 13983, 10246, 14229, 11631, 13497, 12565, 12064, 19999, 14417, 14746, 15829, 15315, 16836, 19508, 19408, 20289, 19981, 18198, 17683, 20977, 20646, 22867, 17476, 23583, 22730, 24303, 27589, 31875, 33326, 32514, 37125, 31512, 34354, 35683, 32886, 37425, 36554, 51368, 40355, 43070, 51220, 45583, 50141, 50387, 52135, 54474, 47362, 56461]}],\n",
       "                        {\"template\": {\"data\": {\"bar\": [{\"error_x\": {\"color\": \"#2a3f5f\"}, \"error_y\": {\"color\": \"#2a3f5f\"}, \"marker\": {\"line\": {\"color\": \"#E5ECF6\", \"width\": 0.5}}, \"type\": \"bar\"}], \"barpolar\": [{\"marker\": {\"line\": {\"color\": \"#E5ECF6\", \"width\": 0.5}}, \"type\": \"barpolar\"}], \"carpet\": [{\"aaxis\": {\"endlinecolor\": \"#2a3f5f\", \"gridcolor\": \"white\", \"linecolor\": \"white\", \"minorgridcolor\": \"white\", \"startlinecolor\": \"#2a3f5f\"}, \"baxis\": {\"endlinecolor\": \"#2a3f5f\", \"gridcolor\": \"white\", \"linecolor\": \"white\", \"minorgridcolor\": \"white\", \"startlinecolor\": \"#2a3f5f\"}, \"type\": \"carpet\"}], \"choropleth\": [{\"colorbar\": {\"outlinewidth\": 0, \"ticks\": \"\"}, \"type\": \"choropleth\"}], \"contour\": [{\"colorbar\": {\"outlinewidth\": 0, \"ticks\": \"\"}, \"colorscale\": [[0.0, \"#0d0887\"], [0.1111111111111111, \"#46039f\"], [0.2222222222222222, \"#7201a8\"], [0.3333333333333333, \"#9c179e\"], [0.4444444444444444, \"#bd3786\"], [0.5555555555555556, \"#d8576b\"], [0.6666666666666666, \"#ed7953\"], [0.7777777777777778, \"#fb9f3a\"], [0.8888888888888888, \"#fdca26\"], [1.0, \"#f0f921\"]], \"type\": \"contour\"}], \"contourcarpet\": [{\"colorbar\": {\"outlinewidth\": 0, \"ticks\": \"\"}, \"type\": \"contourcarpet\"}], \"heatmap\": [{\"colorbar\": {\"outlinewidth\": 0, \"ticks\": \"\"}, \"colorscale\": [[0.0, \"#0d0887\"], [0.1111111111111111, \"#46039f\"], [0.2222222222222222, \"#7201a8\"], [0.3333333333333333, \"#9c179e\"], [0.4444444444444444, \"#bd3786\"], [0.5555555555555556, \"#d8576b\"], [0.6666666666666666, \"#ed7953\"], [0.7777777777777778, \"#fb9f3a\"], [0.8888888888888888, \"#fdca26\"], [1.0, \"#f0f921\"]], \"type\": \"heatmap\"}], \"heatmapgl\": [{\"colorbar\": {\"outlinewidth\": 0, \"ticks\": \"\"}, \"colorscale\": [[0.0, \"#0d0887\"], [0.1111111111111111, \"#46039f\"], [0.2222222222222222, \"#7201a8\"], [0.3333333333333333, \"#9c179e\"], [0.4444444444444444, \"#bd3786\"], [0.5555555555555556, \"#d8576b\"], [0.6666666666666666, \"#ed7953\"], [0.7777777777777778, \"#fb9f3a\"], [0.8888888888888888, \"#fdca26\"], [1.0, \"#f0f921\"]], \"type\": \"heatmapgl\"}], \"histogram\": [{\"marker\": {\"colorbar\": {\"outlinewidth\": 0, \"ticks\": \"\"}}, \"type\": \"histogram\"}], \"histogram2d\": [{\"colorbar\": {\"outlinewidth\": 0, \"ticks\": \"\"}, \"colorscale\": [[0.0, \"#0d0887\"], [0.1111111111111111, \"#46039f\"], [0.2222222222222222, \"#7201a8\"], [0.3333333333333333, \"#9c179e\"], [0.4444444444444444, \"#bd3786\"], [0.5555555555555556, \"#d8576b\"], [0.6666666666666666, \"#ed7953\"], [0.7777777777777778, \"#fb9f3a\"], [0.8888888888888888, \"#fdca26\"], [1.0, \"#f0f921\"]], \"type\": \"histogram2d\"}], \"histogram2dcontour\": [{\"colorbar\": {\"outlinewidth\": 0, \"ticks\": \"\"}, \"colorscale\": [[0.0, \"#0d0887\"], [0.1111111111111111, \"#46039f\"], [0.2222222222222222, \"#7201a8\"], [0.3333333333333333, \"#9c179e\"], [0.4444444444444444, \"#bd3786\"], [0.5555555555555556, \"#d8576b\"], [0.6666666666666666, \"#ed7953\"], [0.7777777777777778, \"#fb9f3a\"], [0.8888888888888888, \"#fdca26\"], [1.0, \"#f0f921\"]], \"type\": \"histogram2dcontour\"}], \"mesh3d\": [{\"colorbar\": {\"outlinewidth\": 0, \"ticks\": \"\"}, \"type\": \"mesh3d\"}], \"parcoords\": [{\"line\": {\"colorbar\": {\"outlinewidth\": 0, \"ticks\": \"\"}}, \"type\": \"parcoords\"}], \"pie\": [{\"automargin\": true, \"type\": \"pie\"}], \"scatter\": [{\"marker\": {\"colorbar\": {\"outlinewidth\": 0, \"ticks\": \"\"}}, \"type\": \"scatter\"}], \"scatter3d\": [{\"line\": {\"colorbar\": {\"outlinewidth\": 0, \"ticks\": \"\"}}, \"marker\": {\"colorbar\": {\"outlinewidth\": 0, \"ticks\": \"\"}}, \"type\": \"scatter3d\"}], \"scattercarpet\": [{\"marker\": {\"colorbar\": {\"outlinewidth\": 0, \"ticks\": \"\"}}, \"type\": \"scattercarpet\"}], \"scattergeo\": [{\"marker\": {\"colorbar\": {\"outlinewidth\": 0, \"ticks\": \"\"}}, \"type\": \"scattergeo\"}], \"scattergl\": [{\"marker\": {\"colorbar\": {\"outlinewidth\": 0, \"ticks\": \"\"}}, \"type\": \"scattergl\"}], \"scattermapbox\": [{\"marker\": {\"colorbar\": {\"outlinewidth\": 0, \"ticks\": \"\"}}, \"type\": \"scattermapbox\"}], \"scatterpolar\": [{\"marker\": {\"colorbar\": {\"outlinewidth\": 0, \"ticks\": \"\"}}, \"type\": \"scatterpolar\"}], \"scatterpolargl\": [{\"marker\": {\"colorbar\": {\"outlinewidth\": 0, \"ticks\": \"\"}}, \"type\": \"scatterpolargl\"}], \"scatterternary\": [{\"marker\": {\"colorbar\": {\"outlinewidth\": 0, \"ticks\": \"\"}}, \"type\": \"scatterternary\"}], \"surface\": [{\"colorbar\": {\"outlinewidth\": 0, \"ticks\": \"\"}, \"colorscale\": [[0.0, \"#0d0887\"], [0.1111111111111111, \"#46039f\"], [0.2222222222222222, \"#7201a8\"], [0.3333333333333333, \"#9c179e\"], [0.4444444444444444, \"#bd3786\"], [0.5555555555555556, \"#d8576b\"], [0.6666666666666666, \"#ed7953\"], [0.7777777777777778, \"#fb9f3a\"], [0.8888888888888888, \"#fdca26\"], [1.0, \"#f0f921\"]], \"type\": \"surface\"}], \"table\": [{\"cells\": {\"fill\": {\"color\": \"#EBF0F8\"}, \"line\": {\"color\": \"white\"}}, \"header\": {\"fill\": {\"color\": \"#C8D4E3\"}, \"line\": {\"color\": \"white\"}}, \"type\": \"table\"}]}, \"layout\": {\"annotationdefaults\": {\"arrowcolor\": \"#2a3f5f\", \"arrowhead\": 0, \"arrowwidth\": 1}, \"coloraxis\": {\"colorbar\": {\"outlinewidth\": 0, \"ticks\": \"\"}}, \"colorscale\": {\"diverging\": [[0, \"#8e0152\"], [0.1, \"#c51b7d\"], [0.2, \"#de77ae\"], [0.3, \"#f1b6da\"], [0.4, \"#fde0ef\"], [0.5, \"#f7f7f7\"], [0.6, \"#e6f5d0\"], [0.7, \"#b8e186\"], [0.8, \"#7fbc41\"], [0.9, \"#4d9221\"], [1, \"#276419\"]], \"sequential\": [[0.0, \"#0d0887\"], [0.1111111111111111, \"#46039f\"], [0.2222222222222222, \"#7201a8\"], [0.3333333333333333, \"#9c179e\"], [0.4444444444444444, \"#bd3786\"], [0.5555555555555556, \"#d8576b\"], [0.6666666666666666, \"#ed7953\"], [0.7777777777777778, \"#fb9f3a\"], [0.8888888888888888, \"#fdca26\"], [1.0, \"#f0f921\"]], \"sequentialminus\": [[0.0, \"#0d0887\"], [0.1111111111111111, \"#46039f\"], [0.2222222222222222, \"#7201a8\"], [0.3333333333333333, \"#9c179e\"], [0.4444444444444444, \"#bd3786\"], [0.5555555555555556, \"#d8576b\"], [0.6666666666666666, \"#ed7953\"], [0.7777777777777778, \"#fb9f3a\"], [0.8888888888888888, \"#fdca26\"], [1.0, \"#f0f921\"]]}, \"colorway\": [\"#636efa\", \"#EF553B\", \"#00cc96\", \"#ab63fa\", \"#FFA15A\", \"#19d3f3\", \"#FF6692\", \"#B6E880\", \"#FF97FF\", \"#FECB52\"], \"font\": {\"color\": \"#2a3f5f\"}, \"geo\": {\"bgcolor\": \"white\", \"lakecolor\": \"white\", \"landcolor\": \"#E5ECF6\", \"showlakes\": true, \"showland\": true, \"subunitcolor\": \"white\"}, \"hoverlabel\": {\"align\": \"left\"}, \"hovermode\": \"closest\", \"mapbox\": {\"style\": \"light\"}, \"paper_bgcolor\": \"white\", \"plot_bgcolor\": \"#E5ECF6\", \"polar\": {\"angularaxis\": {\"gridcolor\": \"white\", \"linecolor\": \"white\", \"ticks\": \"\"}, \"bgcolor\": \"#E5ECF6\", \"radialaxis\": {\"gridcolor\": \"white\", \"linecolor\": \"white\", \"ticks\": \"\"}}, \"scene\": {\"xaxis\": {\"backgroundcolor\": \"#E5ECF6\", \"gridcolor\": \"white\", \"gridwidth\": 2, \"linecolor\": \"white\", \"showbackground\": true, \"ticks\": \"\", \"zerolinecolor\": \"white\"}, \"yaxis\": {\"backgroundcolor\": \"#E5ECF6\", \"gridcolor\": \"white\", \"gridwidth\": 2, \"linecolor\": \"white\", \"showbackground\": true, \"ticks\": \"\", \"zerolinecolor\": \"white\"}, \"zaxis\": {\"backgroundcolor\": \"#E5ECF6\", \"gridcolor\": \"white\", \"gridwidth\": 2, \"linecolor\": \"white\", \"showbackground\": true, \"ticks\": \"\", \"zerolinecolor\": \"white\"}}, \"shapedefaults\": {\"line\": {\"color\": \"#2a3f5f\"}}, \"ternary\": {\"aaxis\": {\"gridcolor\": \"white\", \"linecolor\": \"white\", \"ticks\": \"\"}, \"baxis\": {\"gridcolor\": \"white\", \"linecolor\": \"white\", \"ticks\": \"\"}, \"bgcolor\": \"#E5ECF6\", \"caxis\": {\"gridcolor\": \"white\", \"linecolor\": \"white\", \"ticks\": \"\"}}, \"title\": {\"x\": 0.05}, \"xaxis\": {\"automargin\": true, \"gridcolor\": \"white\", \"linecolor\": \"white\", \"ticks\": \"\", \"title\": {\"standoff\": 15}, \"zerolinecolor\": \"white\", \"zerolinewidth\": 2}, \"yaxis\": {\"automargin\": true, \"gridcolor\": \"white\", \"linecolor\": \"white\", \"ticks\": \"\", \"title\": {\"standoff\": 15}, \"zerolinecolor\": \"white\", \"zerolinewidth\": 2}}}, \"title\": {\"text\": \"COVID-19 Cases Tracker\", \"x\": 0.5, \"xanchor\": \"center\", \"y\": 0.9, \"yanchor\": \"top\"}},\n",
       "                        {\"responsive\": true}\n",
       "                    ).then(function(){\n",
       "                            \n",
       "var gd = document.getElementById('8932aec1-b8b9-42da-a43c-b7ae9580bff5');\n",
       "var x = new MutationObserver(function (mutations, observer) {{\n",
       "        var display = window.getComputedStyle(gd).display;\n",
       "        if (!display || display === 'none') {{\n",
       "            console.log([gd, 'removed!']);\n",
       "            Plotly.purge(gd);\n",
       "            observer.disconnect();\n",
       "        }}\n",
       "}});\n",
       "\n",
       "// Listen for the removal of the full notebook cells\n",
       "var notebookContainer = gd.closest('#notebook-container');\n",
       "if (notebookContainer) {{\n",
       "    x.observe(notebookContainer, {childList: true});\n",
       "}}\n",
       "\n",
       "// Listen for the clearing of the current output cell\n",
       "var outputEl = gd.closest('.output');\n",
       "if (outputEl) {{\n",
       "    x.observe(outputEl, {childList: true});\n",
       "}}\n",
       "\n",
       "                        })\n",
       "                };\n",
       "                });\n",
       "            </script>\n",
       "        </div>"
      ]
     },
     "metadata": {},
     "output_type": "display_data"
    }
   ],
   "source": [
    "graph1 = go.Scatter(x=df['Date'],y=df['Confirmed_Cases'],name='Confirmed Cases',mode='markers+lines')\n",
    "graph2 = go.Scatter(x=df['Date'], y=df['Recovered_Cases'], name='Recovered Cases',mode='markers+lines')\n",
    "graph3 = go.Scatter(x=df['Date'], y=df['Deceased_Cases'], name='Deceased Cases',mode='markers+lines')\n",
    "data=[graph3,graph1,graph2]\n",
    "layout=go.Layout(title='COVID-19 Cases Tracker')\n",
    "figure=go.Figure(data=data,layout=layout)\n",
    "figure.update_layout(\n",
    "            title={\n",
    "                'y': 0.9,\n",
    "                'x': 0.5,\n",
    "                'xanchor':'center',\n",
    "                'yanchor':'top'\n",
    "            }\n",
    "        )\n",
    "figure.show()"
   ]
  },
  {
   "cell_type": "markdown",
   "metadata": {},
   "source": [
    "By looking at the chart, we can see that the number of Confirmed Cases in India is increasing Day by Day but the good thing is that the number of Recovered Cases is also increasing which is a sense of relief. Also, we can see that the number of deceased \n",
    "cases is not having any spike which means there is a slight difference in the number of cases betweem any two days"
   ]
  },
  {
   "cell_type": "markdown",
   "metadata": {},
   "source": [
    "## COVID-19 Donut Chart"
   ]
  },
  {
   "cell_type": "markdown",
   "metadata": {},
   "source": [
    "The Donut Chart is divided into three section- Recovered Cases, Active Cases, Deceased Cases. The chart helps us to determine how much percentage of a particular type of cases are there in present in comparison of the other types of cases.  "
   ]
  },
  {
   "cell_type": "code",
   "execution_count": 41,
   "metadata": {},
   "outputs": [
    {
     "data": {
      "application/vnd.plotly.v1+json": {
       "config": {
        "plotlyServerURL": "https://plot.ly"
       },
       "data": [
        {
         "hole": 0.2,
         "labels": [
          "Deceased_Cases",
          "Active Cases",
          "Recovered Cases"
         ],
         "marker": {
          "colors": [
           "grey",
           "navyblue",
           "greenyellow"
          ],
          "line": {
           "color": "#000000",
           "width": 4
          }
         },
         "textfont": {
          "size": 18
         },
         "textinfo": "percent+label",
         "type": "pie",
         "values": [
          45192,
          621512,
          1630355
         ]
        }
       ],
       "layout": {
        "template": {
         "data": {
          "bar": [
           {
            "error_x": {
             "color": "#2a3f5f"
            },
            "error_y": {
             "color": "#2a3f5f"
            },
            "marker": {
             "line": {
              "color": "#E5ECF6",
              "width": 0.5
             }
            },
            "type": "bar"
           }
          ],
          "barpolar": [
           {
            "marker": {
             "line": {
              "color": "#E5ECF6",
              "width": 0.5
             }
            },
            "type": "barpolar"
           }
          ],
          "carpet": [
           {
            "aaxis": {
             "endlinecolor": "#2a3f5f",
             "gridcolor": "white",
             "linecolor": "white",
             "minorgridcolor": "white",
             "startlinecolor": "#2a3f5f"
            },
            "baxis": {
             "endlinecolor": "#2a3f5f",
             "gridcolor": "white",
             "linecolor": "white",
             "minorgridcolor": "white",
             "startlinecolor": "#2a3f5f"
            },
            "type": "carpet"
           }
          ],
          "choropleth": [
           {
            "colorbar": {
             "outlinewidth": 0,
             "ticks": ""
            },
            "type": "choropleth"
           }
          ],
          "contour": [
           {
            "colorbar": {
             "outlinewidth": 0,
             "ticks": ""
            },
            "colorscale": [
             [
              0,
              "#0d0887"
             ],
             [
              0.1111111111111111,
              "#46039f"
             ],
             [
              0.2222222222222222,
              "#7201a8"
             ],
             [
              0.3333333333333333,
              "#9c179e"
             ],
             [
              0.4444444444444444,
              "#bd3786"
             ],
             [
              0.5555555555555556,
              "#d8576b"
             ],
             [
              0.6666666666666666,
              "#ed7953"
             ],
             [
              0.7777777777777778,
              "#fb9f3a"
             ],
             [
              0.8888888888888888,
              "#fdca26"
             ],
             [
              1,
              "#f0f921"
             ]
            ],
            "type": "contour"
           }
          ],
          "contourcarpet": [
           {
            "colorbar": {
             "outlinewidth": 0,
             "ticks": ""
            },
            "type": "contourcarpet"
           }
          ],
          "heatmap": [
           {
            "colorbar": {
             "outlinewidth": 0,
             "ticks": ""
            },
            "colorscale": [
             [
              0,
              "#0d0887"
             ],
             [
              0.1111111111111111,
              "#46039f"
             ],
             [
              0.2222222222222222,
              "#7201a8"
             ],
             [
              0.3333333333333333,
              "#9c179e"
             ],
             [
              0.4444444444444444,
              "#bd3786"
             ],
             [
              0.5555555555555556,
              "#d8576b"
             ],
             [
              0.6666666666666666,
              "#ed7953"
             ],
             [
              0.7777777777777778,
              "#fb9f3a"
             ],
             [
              0.8888888888888888,
              "#fdca26"
             ],
             [
              1,
              "#f0f921"
             ]
            ],
            "type": "heatmap"
           }
          ],
          "heatmapgl": [
           {
            "colorbar": {
             "outlinewidth": 0,
             "ticks": ""
            },
            "colorscale": [
             [
              0,
              "#0d0887"
             ],
             [
              0.1111111111111111,
              "#46039f"
             ],
             [
              0.2222222222222222,
              "#7201a8"
             ],
             [
              0.3333333333333333,
              "#9c179e"
             ],
             [
              0.4444444444444444,
              "#bd3786"
             ],
             [
              0.5555555555555556,
              "#d8576b"
             ],
             [
              0.6666666666666666,
              "#ed7953"
             ],
             [
              0.7777777777777778,
              "#fb9f3a"
             ],
             [
              0.8888888888888888,
              "#fdca26"
             ],
             [
              1,
              "#f0f921"
             ]
            ],
            "type": "heatmapgl"
           }
          ],
          "histogram": [
           {
            "marker": {
             "colorbar": {
              "outlinewidth": 0,
              "ticks": ""
             }
            },
            "type": "histogram"
           }
          ],
          "histogram2d": [
           {
            "colorbar": {
             "outlinewidth": 0,
             "ticks": ""
            },
            "colorscale": [
             [
              0,
              "#0d0887"
             ],
             [
              0.1111111111111111,
              "#46039f"
             ],
             [
              0.2222222222222222,
              "#7201a8"
             ],
             [
              0.3333333333333333,
              "#9c179e"
             ],
             [
              0.4444444444444444,
              "#bd3786"
             ],
             [
              0.5555555555555556,
              "#d8576b"
             ],
             [
              0.6666666666666666,
              "#ed7953"
             ],
             [
              0.7777777777777778,
              "#fb9f3a"
             ],
             [
              0.8888888888888888,
              "#fdca26"
             ],
             [
              1,
              "#f0f921"
             ]
            ],
            "type": "histogram2d"
           }
          ],
          "histogram2dcontour": [
           {
            "colorbar": {
             "outlinewidth": 0,
             "ticks": ""
            },
            "colorscale": [
             [
              0,
              "#0d0887"
             ],
             [
              0.1111111111111111,
              "#46039f"
             ],
             [
              0.2222222222222222,
              "#7201a8"
             ],
             [
              0.3333333333333333,
              "#9c179e"
             ],
             [
              0.4444444444444444,
              "#bd3786"
             ],
             [
              0.5555555555555556,
              "#d8576b"
             ],
             [
              0.6666666666666666,
              "#ed7953"
             ],
             [
              0.7777777777777778,
              "#fb9f3a"
             ],
             [
              0.8888888888888888,
              "#fdca26"
             ],
             [
              1,
              "#f0f921"
             ]
            ],
            "type": "histogram2dcontour"
           }
          ],
          "mesh3d": [
           {
            "colorbar": {
             "outlinewidth": 0,
             "ticks": ""
            },
            "type": "mesh3d"
           }
          ],
          "parcoords": [
           {
            "line": {
             "colorbar": {
              "outlinewidth": 0,
              "ticks": ""
             }
            },
            "type": "parcoords"
           }
          ],
          "pie": [
           {
            "automargin": true,
            "type": "pie"
           }
          ],
          "scatter": [
           {
            "marker": {
             "colorbar": {
              "outlinewidth": 0,
              "ticks": ""
             }
            },
            "type": "scatter"
           }
          ],
          "scatter3d": [
           {
            "line": {
             "colorbar": {
              "outlinewidth": 0,
              "ticks": ""
             }
            },
            "marker": {
             "colorbar": {
              "outlinewidth": 0,
              "ticks": ""
             }
            },
            "type": "scatter3d"
           }
          ],
          "scattercarpet": [
           {
            "marker": {
             "colorbar": {
              "outlinewidth": 0,
              "ticks": ""
             }
            },
            "type": "scattercarpet"
           }
          ],
          "scattergeo": [
           {
            "marker": {
             "colorbar": {
              "outlinewidth": 0,
              "ticks": ""
             }
            },
            "type": "scattergeo"
           }
          ],
          "scattergl": [
           {
            "marker": {
             "colorbar": {
              "outlinewidth": 0,
              "ticks": ""
             }
            },
            "type": "scattergl"
           }
          ],
          "scattermapbox": [
           {
            "marker": {
             "colorbar": {
              "outlinewidth": 0,
              "ticks": ""
             }
            },
            "type": "scattermapbox"
           }
          ],
          "scatterpolar": [
           {
            "marker": {
             "colorbar": {
              "outlinewidth": 0,
              "ticks": ""
             }
            },
            "type": "scatterpolar"
           }
          ],
          "scatterpolargl": [
           {
            "marker": {
             "colorbar": {
              "outlinewidth": 0,
              "ticks": ""
             }
            },
            "type": "scatterpolargl"
           }
          ],
          "scatterternary": [
           {
            "marker": {
             "colorbar": {
              "outlinewidth": 0,
              "ticks": ""
             }
            },
            "type": "scatterternary"
           }
          ],
          "surface": [
           {
            "colorbar": {
             "outlinewidth": 0,
             "ticks": ""
            },
            "colorscale": [
             [
              0,
              "#0d0887"
             ],
             [
              0.1111111111111111,
              "#46039f"
             ],
             [
              0.2222222222222222,
              "#7201a8"
             ],
             [
              0.3333333333333333,
              "#9c179e"
             ],
             [
              0.4444444444444444,
              "#bd3786"
             ],
             [
              0.5555555555555556,
              "#d8576b"
             ],
             [
              0.6666666666666666,
              "#ed7953"
             ],
             [
              0.7777777777777778,
              "#fb9f3a"
             ],
             [
              0.8888888888888888,
              "#fdca26"
             ],
             [
              1,
              "#f0f921"
             ]
            ],
            "type": "surface"
           }
          ],
          "table": [
           {
            "cells": {
             "fill": {
              "color": "#EBF0F8"
             },
             "line": {
              "color": "white"
             }
            },
            "header": {
             "fill": {
              "color": "#C8D4E3"
             },
             "line": {
              "color": "white"
             }
            },
            "type": "table"
           }
          ]
         },
         "layout": {
          "annotationdefaults": {
           "arrowcolor": "#2a3f5f",
           "arrowhead": 0,
           "arrowwidth": 1
          },
          "coloraxis": {
           "colorbar": {
            "outlinewidth": 0,
            "ticks": ""
           }
          },
          "colorscale": {
           "diverging": [
            [
             0,
             "#8e0152"
            ],
            [
             0.1,
             "#c51b7d"
            ],
            [
             0.2,
             "#de77ae"
            ],
            [
             0.3,
             "#f1b6da"
            ],
            [
             0.4,
             "#fde0ef"
            ],
            [
             0.5,
             "#f7f7f7"
            ],
            [
             0.6,
             "#e6f5d0"
            ],
            [
             0.7,
             "#b8e186"
            ],
            [
             0.8,
             "#7fbc41"
            ],
            [
             0.9,
             "#4d9221"
            ],
            [
             1,
             "#276419"
            ]
           ],
           "sequential": [
            [
             0,
             "#0d0887"
            ],
            [
             0.1111111111111111,
             "#46039f"
            ],
            [
             0.2222222222222222,
             "#7201a8"
            ],
            [
             0.3333333333333333,
             "#9c179e"
            ],
            [
             0.4444444444444444,
             "#bd3786"
            ],
            [
             0.5555555555555556,
             "#d8576b"
            ],
            [
             0.6666666666666666,
             "#ed7953"
            ],
            [
             0.7777777777777778,
             "#fb9f3a"
            ],
            [
             0.8888888888888888,
             "#fdca26"
            ],
            [
             1,
             "#f0f921"
            ]
           ],
           "sequentialminus": [
            [
             0,
             "#0d0887"
            ],
            [
             0.1111111111111111,
             "#46039f"
            ],
            [
             0.2222222222222222,
             "#7201a8"
            ],
            [
             0.3333333333333333,
             "#9c179e"
            ],
            [
             0.4444444444444444,
             "#bd3786"
            ],
            [
             0.5555555555555556,
             "#d8576b"
            ],
            [
             0.6666666666666666,
             "#ed7953"
            ],
            [
             0.7777777777777778,
             "#fb9f3a"
            ],
            [
             0.8888888888888888,
             "#fdca26"
            ],
            [
             1,
             "#f0f921"
            ]
           ]
          },
          "colorway": [
           "#636efa",
           "#EF553B",
           "#00cc96",
           "#ab63fa",
           "#FFA15A",
           "#19d3f3",
           "#FF6692",
           "#B6E880",
           "#FF97FF",
           "#FECB52"
          ],
          "font": {
           "color": "#2a3f5f"
          },
          "geo": {
           "bgcolor": "white",
           "lakecolor": "white",
           "landcolor": "#E5ECF6",
           "showlakes": true,
           "showland": true,
           "subunitcolor": "white"
          },
          "hoverlabel": {
           "align": "left"
          },
          "hovermode": "closest",
          "mapbox": {
           "style": "light"
          },
          "paper_bgcolor": "white",
          "plot_bgcolor": "#E5ECF6",
          "polar": {
           "angularaxis": {
            "gridcolor": "white",
            "linecolor": "white",
            "ticks": ""
           },
           "bgcolor": "#E5ECF6",
           "radialaxis": {
            "gridcolor": "white",
            "linecolor": "white",
            "ticks": ""
           }
          },
          "scene": {
           "xaxis": {
            "backgroundcolor": "#E5ECF6",
            "gridcolor": "white",
            "gridwidth": 2,
            "linecolor": "white",
            "showbackground": true,
            "ticks": "",
            "zerolinecolor": "white"
           },
           "yaxis": {
            "backgroundcolor": "#E5ECF6",
            "gridcolor": "white",
            "gridwidth": 2,
            "linecolor": "white",
            "showbackground": true,
            "ticks": "",
            "zerolinecolor": "white"
           },
           "zaxis": {
            "backgroundcolor": "#E5ECF6",
            "gridcolor": "white",
            "gridwidth": 2,
            "linecolor": "white",
            "showbackground": true,
            "ticks": "",
            "zerolinecolor": "white"
           }
          },
          "shapedefaults": {
           "line": {
            "color": "#2a3f5f"
           }
          },
          "ternary": {
           "aaxis": {
            "gridcolor": "white",
            "linecolor": "white",
            "ticks": ""
           },
           "baxis": {
            "gridcolor": "white",
            "linecolor": "white",
            "ticks": ""
           },
           "bgcolor": "#E5ECF6",
           "caxis": {
            "gridcolor": "white",
            "linecolor": "white",
            "ticks": ""
           }
          },
          "title": {
           "x": 0.05
          },
          "xaxis": {
           "automargin": true,
           "gridcolor": "white",
           "linecolor": "white",
           "ticks": "",
           "title": {
            "standoff": 15
           },
           "zerolinecolor": "white",
           "zerolinewidth": 2
          },
          "yaxis": {
           "automargin": true,
           "gridcolor": "white",
           "linecolor": "white",
           "ticks": "",
           "title": {
            "standoff": 15
           },
           "zerolinecolor": "white",
           "zerolinewidth": 2
          }
         }
        },
        "title": {
         "text": "COVID-19 Donut chart"
        }
       }
      },
      "text/html": [
       "<div>\n",
       "        \n",
       "        \n",
       "            <div id=\"44f684e6-0ee1-4378-a857-1d50fefb77f6\" class=\"plotly-graph-div\" style=\"height:525px; width:100%;\"></div>\n",
       "            <script type=\"text/javascript\">\n",
       "                require([\"plotly\"], function(Plotly) {\n",
       "                    window.PLOTLYENV=window.PLOTLYENV || {};\n",
       "                    \n",
       "                if (document.getElementById(\"44f684e6-0ee1-4378-a857-1d50fefb77f6\")) {\n",
       "                    Plotly.newPlot(\n",
       "                        '44f684e6-0ee1-4378-a857-1d50fefb77f6',\n",
       "                        [{\"hole\": 0.2, \"labels\": [\"Deceased_Cases\", \"Active Cases\", \"Recovered Cases\"], \"marker\": {\"colors\": [\"grey\", \"navyblue\", \"greenyellow\"], \"line\": {\"color\": \"#000000\", \"width\": 4}}, \"textfont\": {\"size\": 18}, \"textinfo\": \"percent+label\", \"type\": \"pie\", \"values\": [45192, 621512, 1630355]}],\n",
       "                        {\"template\": {\"data\": {\"bar\": [{\"error_x\": {\"color\": \"#2a3f5f\"}, \"error_y\": {\"color\": \"#2a3f5f\"}, \"marker\": {\"line\": {\"color\": \"#E5ECF6\", \"width\": 0.5}}, \"type\": \"bar\"}], \"barpolar\": [{\"marker\": {\"line\": {\"color\": \"#E5ECF6\", \"width\": 0.5}}, \"type\": \"barpolar\"}], \"carpet\": [{\"aaxis\": {\"endlinecolor\": \"#2a3f5f\", \"gridcolor\": \"white\", \"linecolor\": \"white\", \"minorgridcolor\": \"white\", \"startlinecolor\": \"#2a3f5f\"}, \"baxis\": {\"endlinecolor\": \"#2a3f5f\", \"gridcolor\": \"white\", \"linecolor\": \"white\", \"minorgridcolor\": \"white\", \"startlinecolor\": \"#2a3f5f\"}, \"type\": \"carpet\"}], \"choropleth\": [{\"colorbar\": {\"outlinewidth\": 0, \"ticks\": \"\"}, \"type\": \"choropleth\"}], \"contour\": [{\"colorbar\": {\"outlinewidth\": 0, \"ticks\": \"\"}, \"colorscale\": [[0.0, \"#0d0887\"], [0.1111111111111111, \"#46039f\"], [0.2222222222222222, \"#7201a8\"], [0.3333333333333333, \"#9c179e\"], [0.4444444444444444, \"#bd3786\"], [0.5555555555555556, \"#d8576b\"], [0.6666666666666666, \"#ed7953\"], [0.7777777777777778, \"#fb9f3a\"], [0.8888888888888888, \"#fdca26\"], [1.0, \"#f0f921\"]], \"type\": \"contour\"}], \"contourcarpet\": [{\"colorbar\": {\"outlinewidth\": 0, \"ticks\": \"\"}, \"type\": \"contourcarpet\"}], \"heatmap\": [{\"colorbar\": {\"outlinewidth\": 0, \"ticks\": \"\"}, \"colorscale\": [[0.0, \"#0d0887\"], [0.1111111111111111, \"#46039f\"], [0.2222222222222222, \"#7201a8\"], [0.3333333333333333, \"#9c179e\"], [0.4444444444444444, \"#bd3786\"], [0.5555555555555556, \"#d8576b\"], [0.6666666666666666, \"#ed7953\"], [0.7777777777777778, \"#fb9f3a\"], [0.8888888888888888, \"#fdca26\"], [1.0, \"#f0f921\"]], \"type\": \"heatmap\"}], \"heatmapgl\": [{\"colorbar\": {\"outlinewidth\": 0, \"ticks\": \"\"}, \"colorscale\": [[0.0, \"#0d0887\"], [0.1111111111111111, \"#46039f\"], [0.2222222222222222, \"#7201a8\"], [0.3333333333333333, \"#9c179e\"], [0.4444444444444444, \"#bd3786\"], [0.5555555555555556, \"#d8576b\"], [0.6666666666666666, \"#ed7953\"], [0.7777777777777778, \"#fb9f3a\"], [0.8888888888888888, \"#fdca26\"], [1.0, \"#f0f921\"]], \"type\": \"heatmapgl\"}], \"histogram\": [{\"marker\": {\"colorbar\": {\"outlinewidth\": 0, \"ticks\": \"\"}}, \"type\": \"histogram\"}], \"histogram2d\": [{\"colorbar\": {\"outlinewidth\": 0, \"ticks\": \"\"}, \"colorscale\": [[0.0, \"#0d0887\"], [0.1111111111111111, \"#46039f\"], [0.2222222222222222, \"#7201a8\"], [0.3333333333333333, \"#9c179e\"], [0.4444444444444444, \"#bd3786\"], [0.5555555555555556, \"#d8576b\"], [0.6666666666666666, \"#ed7953\"], [0.7777777777777778, \"#fb9f3a\"], [0.8888888888888888, \"#fdca26\"], [1.0, \"#f0f921\"]], \"type\": \"histogram2d\"}], \"histogram2dcontour\": [{\"colorbar\": {\"outlinewidth\": 0, \"ticks\": \"\"}, \"colorscale\": [[0.0, \"#0d0887\"], [0.1111111111111111, \"#46039f\"], [0.2222222222222222, \"#7201a8\"], [0.3333333333333333, \"#9c179e\"], [0.4444444444444444, \"#bd3786\"], [0.5555555555555556, \"#d8576b\"], [0.6666666666666666, \"#ed7953\"], [0.7777777777777778, \"#fb9f3a\"], [0.8888888888888888, \"#fdca26\"], [1.0, \"#f0f921\"]], \"type\": \"histogram2dcontour\"}], \"mesh3d\": [{\"colorbar\": {\"outlinewidth\": 0, \"ticks\": \"\"}, \"type\": \"mesh3d\"}], \"parcoords\": [{\"line\": {\"colorbar\": {\"outlinewidth\": 0, \"ticks\": \"\"}}, \"type\": \"parcoords\"}], \"pie\": [{\"automargin\": true, \"type\": \"pie\"}], \"scatter\": [{\"marker\": {\"colorbar\": {\"outlinewidth\": 0, \"ticks\": \"\"}}, \"type\": \"scatter\"}], \"scatter3d\": [{\"line\": {\"colorbar\": {\"outlinewidth\": 0, \"ticks\": \"\"}}, \"marker\": {\"colorbar\": {\"outlinewidth\": 0, \"ticks\": \"\"}}, \"type\": \"scatter3d\"}], \"scattercarpet\": [{\"marker\": {\"colorbar\": {\"outlinewidth\": 0, \"ticks\": \"\"}}, \"type\": \"scattercarpet\"}], \"scattergeo\": [{\"marker\": {\"colorbar\": {\"outlinewidth\": 0, \"ticks\": \"\"}}, \"type\": \"scattergeo\"}], \"scattergl\": [{\"marker\": {\"colorbar\": {\"outlinewidth\": 0, \"ticks\": \"\"}}, \"type\": \"scattergl\"}], \"scattermapbox\": [{\"marker\": {\"colorbar\": {\"outlinewidth\": 0, \"ticks\": \"\"}}, \"type\": \"scattermapbox\"}], \"scatterpolar\": [{\"marker\": {\"colorbar\": {\"outlinewidth\": 0, \"ticks\": \"\"}}, \"type\": \"scatterpolar\"}], \"scatterpolargl\": [{\"marker\": {\"colorbar\": {\"outlinewidth\": 0, \"ticks\": \"\"}}, \"type\": \"scatterpolargl\"}], \"scatterternary\": [{\"marker\": {\"colorbar\": {\"outlinewidth\": 0, \"ticks\": \"\"}}, \"type\": \"scatterternary\"}], \"surface\": [{\"colorbar\": {\"outlinewidth\": 0, \"ticks\": \"\"}, \"colorscale\": [[0.0, \"#0d0887\"], [0.1111111111111111, \"#46039f\"], [0.2222222222222222, \"#7201a8\"], [0.3333333333333333, \"#9c179e\"], [0.4444444444444444, \"#bd3786\"], [0.5555555555555556, \"#d8576b\"], [0.6666666666666666, \"#ed7953\"], [0.7777777777777778, \"#fb9f3a\"], [0.8888888888888888, \"#fdca26\"], [1.0, \"#f0f921\"]], \"type\": \"surface\"}], \"table\": [{\"cells\": {\"fill\": {\"color\": \"#EBF0F8\"}, \"line\": {\"color\": \"white\"}}, \"header\": {\"fill\": {\"color\": \"#C8D4E3\"}, \"line\": {\"color\": \"white\"}}, \"type\": \"table\"}]}, \"layout\": {\"annotationdefaults\": {\"arrowcolor\": \"#2a3f5f\", \"arrowhead\": 0, \"arrowwidth\": 1}, \"coloraxis\": {\"colorbar\": {\"outlinewidth\": 0, \"ticks\": \"\"}}, \"colorscale\": {\"diverging\": [[0, \"#8e0152\"], [0.1, \"#c51b7d\"], [0.2, \"#de77ae\"], [0.3, \"#f1b6da\"], [0.4, \"#fde0ef\"], [0.5, \"#f7f7f7\"], [0.6, \"#e6f5d0\"], [0.7, \"#b8e186\"], [0.8, \"#7fbc41\"], [0.9, \"#4d9221\"], [1, \"#276419\"]], \"sequential\": [[0.0, \"#0d0887\"], [0.1111111111111111, \"#46039f\"], [0.2222222222222222, \"#7201a8\"], [0.3333333333333333, \"#9c179e\"], [0.4444444444444444, \"#bd3786\"], [0.5555555555555556, \"#d8576b\"], [0.6666666666666666, \"#ed7953\"], [0.7777777777777778, \"#fb9f3a\"], [0.8888888888888888, \"#fdca26\"], [1.0, \"#f0f921\"]], \"sequentialminus\": [[0.0, \"#0d0887\"], [0.1111111111111111, \"#46039f\"], [0.2222222222222222, \"#7201a8\"], [0.3333333333333333, \"#9c179e\"], [0.4444444444444444, \"#bd3786\"], [0.5555555555555556, \"#d8576b\"], [0.6666666666666666, \"#ed7953\"], [0.7777777777777778, \"#fb9f3a\"], [0.8888888888888888, \"#fdca26\"], [1.0, \"#f0f921\"]]}, \"colorway\": [\"#636efa\", \"#EF553B\", \"#00cc96\", \"#ab63fa\", \"#FFA15A\", \"#19d3f3\", \"#FF6692\", \"#B6E880\", \"#FF97FF\", \"#FECB52\"], \"font\": {\"color\": \"#2a3f5f\"}, \"geo\": {\"bgcolor\": \"white\", \"lakecolor\": \"white\", \"landcolor\": \"#E5ECF6\", \"showlakes\": true, \"showland\": true, \"subunitcolor\": \"white\"}, \"hoverlabel\": {\"align\": \"left\"}, \"hovermode\": \"closest\", \"mapbox\": {\"style\": \"light\"}, \"paper_bgcolor\": \"white\", \"plot_bgcolor\": \"#E5ECF6\", \"polar\": {\"angularaxis\": {\"gridcolor\": \"white\", \"linecolor\": \"white\", \"ticks\": \"\"}, \"bgcolor\": \"#E5ECF6\", \"radialaxis\": {\"gridcolor\": \"white\", \"linecolor\": \"white\", \"ticks\": \"\"}}, \"scene\": {\"xaxis\": {\"backgroundcolor\": \"#E5ECF6\", \"gridcolor\": \"white\", \"gridwidth\": 2, \"linecolor\": \"white\", \"showbackground\": true, \"ticks\": \"\", \"zerolinecolor\": \"white\"}, \"yaxis\": {\"backgroundcolor\": \"#E5ECF6\", \"gridcolor\": \"white\", \"gridwidth\": 2, \"linecolor\": \"white\", \"showbackground\": true, \"ticks\": \"\", \"zerolinecolor\": \"white\"}, \"zaxis\": {\"backgroundcolor\": \"#E5ECF6\", \"gridcolor\": \"white\", \"gridwidth\": 2, \"linecolor\": \"white\", \"showbackground\": true, \"ticks\": \"\", \"zerolinecolor\": \"white\"}}, \"shapedefaults\": {\"line\": {\"color\": \"#2a3f5f\"}}, \"ternary\": {\"aaxis\": {\"gridcolor\": \"white\", \"linecolor\": \"white\", \"ticks\": \"\"}, \"baxis\": {\"gridcolor\": \"white\", \"linecolor\": \"white\", \"ticks\": \"\"}, \"bgcolor\": \"#E5ECF6\", \"caxis\": {\"gridcolor\": \"white\", \"linecolor\": \"white\", \"ticks\": \"\"}}, \"title\": {\"x\": 0.05}, \"xaxis\": {\"automargin\": true, \"gridcolor\": \"white\", \"linecolor\": \"white\", \"ticks\": \"\", \"title\": {\"standoff\": 15}, \"zerolinecolor\": \"white\", \"zerolinewidth\": 2}, \"yaxis\": {\"automargin\": true, \"gridcolor\": \"white\", \"linecolor\": \"white\", \"ticks\": \"\", \"title\": {\"standoff\": 15}, \"zerolinecolor\": \"white\", \"zerolinewidth\": 2}}}, \"title\": {\"text\": \"COVID-19 Donut chart\"}},\n",
       "                        {\"responsive\": true}\n",
       "                    ).then(function(){\n",
       "                            \n",
       "var gd = document.getElementById('44f684e6-0ee1-4378-a857-1d50fefb77f6');\n",
       "var x = new MutationObserver(function (mutations, observer) {{\n",
       "        var display = window.getComputedStyle(gd).display;\n",
       "        if (!display || display === 'none') {{\n",
       "            console.log([gd, 'removed!']);\n",
       "            Plotly.purge(gd);\n",
       "            observer.disconnect();\n",
       "        }}\n",
       "}});\n",
       "\n",
       "// Listen for the removal of the full notebook cells\n",
       "var notebookContainer = gd.closest('#notebook-container');\n",
       "if (notebookContainer) {{\n",
       "    x.observe(notebookContainer, {childList: true});\n",
       "}}\n",
       "\n",
       "// Listen for the clearing of the current output cell\n",
       "var outputEl = gd.closest('.output');\n",
       "if (outputEl) {{\n",
       "    x.observe(outputEl, {childList: true});\n",
       "}}\n",
       "\n",
       "                        })\n",
       "                };\n",
       "                });\n",
       "            </script>\n",
       "        </div>"
      ]
     },
     "metadata": {},
     "output_type": "display_data"
    }
   ],
   "source": [
    "colors = ['grey', 'navyblue', 'greenyellow']\n",
    "names=['Deceased_Cases','Active Cases','Recovered Cases']\n",
    "pie_graph=go.Pie(values=[df['Deceased_Cases'].sum(),df['Active_Cases'].sum(),df['Recovered_Cases'].sum()],labels=names,\n",
    "                         hole=.2)\n",
    "layout=go.Layout(title='COVID-19 Donut chart',)\n",
    "figure=go.Figure(data=pie_graph,layout=layout)\n",
    "figure.update_traces(textinfo='percent+label',textfont_size=18,marker=dict(colors=colors,line=dict(color='#000000',width=4)))\n",
    "figure.show()"
   ]
  },
  {
   "cell_type": "markdown",
   "metadata": {},
   "source": [
    "Currently, the recovery percentage is more than the Active and Deceased percentage."
   ]
  },
  {
   "cell_type": "markdown",
   "metadata": {},
   "source": [
    "## STATE wise COVID-19 Cases"
   ]
  },
  {
   "cell_type": "markdown",
   "metadata": {},
   "source": [
    "So, now we will see COVID-19 cases state wise which will help us to find the total number of cases in each state."
   ]
  },
  {
   "cell_type": "code",
   "execution_count": 42,
   "metadata": {},
   "outputs": [
    {
     "data": {
      "text/html": [
       "<div>\n",
       "<style scoped>\n",
       "    .dataframe tbody tr th:only-of-type {\n",
       "        vertical-align: middle;\n",
       "    }\n",
       "\n",
       "    .dataframe tbody tr th {\n",
       "        vertical-align: top;\n",
       "    }\n",
       "\n",
       "    .dataframe thead th {\n",
       "        text-align: right;\n",
       "    }\n",
       "</style>\n",
       "<table border=\"1\" class=\"dataframe\">\n",
       "  <thead>\n",
       "    <tr style=\"text-align: right;\">\n",
       "      <th></th>\n",
       "      <th>Confirmed Cases</th>\n",
       "      <th>Recovered Cases</th>\n",
       "      <th>Deceased Cases</th>\n",
       "      <th>Active Cases</th>\n",
       "      <th>Recovered Ratio(in %)</th>\n",
       "      <th>Active Ratio(in %)</th>\n",
       "      <th>Deceased Ratio(in %)</th>\n",
       "    </tr>\n",
       "    <tr>\n",
       "      <th>State</th>\n",
       "      <th></th>\n",
       "      <th></th>\n",
       "      <th></th>\n",
       "      <th></th>\n",
       "      <th></th>\n",
       "      <th></th>\n",
       "      <th></th>\n",
       "    </tr>\n",
       "  </thead>\n",
       "  <tbody>\n",
       "    <tr>\n",
       "      <th>Maharashtra</th>\n",
       "      <td>535601</td>\n",
       "      <td>368435</td>\n",
       "      <td>18305</td>\n",
       "      <td>148861</td>\n",
       "      <td>68.8</td>\n",
       "      <td>27.8</td>\n",
       "      <td>3.4</td>\n",
       "    </tr>\n",
       "    <tr>\n",
       "      <th>Tamil Nadu</th>\n",
       "      <td>308649</td>\n",
       "      <td>250680</td>\n",
       "      <td>5159</td>\n",
       "      <td>52810</td>\n",
       "      <td>81.2</td>\n",
       "      <td>17.1</td>\n",
       "      <td>1.7</td>\n",
       "    </tr>\n",
       "    <tr>\n",
       "      <th>Andhra Pradesh</th>\n",
       "      <td>244549</td>\n",
       "      <td>154749</td>\n",
       "      <td>2203</td>\n",
       "      <td>87597</td>\n",
       "      <td>63.3</td>\n",
       "      <td>35.8</td>\n",
       "      <td>0.9</td>\n",
       "    </tr>\n",
       "    <tr>\n",
       "      <th>Karnataka</th>\n",
       "      <td>188611</td>\n",
       "      <td>105600</td>\n",
       "      <td>3405</td>\n",
       "      <td>79606</td>\n",
       "      <td>56.0</td>\n",
       "      <td>42.2</td>\n",
       "      <td>1.8</td>\n",
       "    </tr>\n",
       "    <tr>\n",
       "      <th>Delhi</th>\n",
       "      <td>147391</td>\n",
       "      <td>132384</td>\n",
       "      <td>4139</td>\n",
       "      <td>10868</td>\n",
       "      <td>89.8</td>\n",
       "      <td>7.4</td>\n",
       "      <td>2.8</td>\n",
       "    </tr>\n",
       "    <tr>\n",
       "      <th>Uttar Pradesh</th>\n",
       "      <td>131763</td>\n",
       "      <td>80589</td>\n",
       "      <td>2176</td>\n",
       "      <td>48998</td>\n",
       "      <td>61.2</td>\n",
       "      <td>37.2</td>\n",
       "      <td>1.7</td>\n",
       "    </tr>\n",
       "    <tr>\n",
       "      <th>West Bengal</th>\n",
       "      <td>101390</td>\n",
       "      <td>73395</td>\n",
       "      <td>2149</td>\n",
       "      <td>25846</td>\n",
       "      <td>72.4</td>\n",
       "      <td>25.5</td>\n",
       "      <td>2.1</td>\n",
       "    </tr>\n",
       "    <tr>\n",
       "      <th>Bihar</th>\n",
       "      <td>86812</td>\n",
       "      <td>57039</td>\n",
       "      <td>465</td>\n",
       "      <td>29308</td>\n",
       "      <td>65.7</td>\n",
       "      <td>33.8</td>\n",
       "      <td>0.5</td>\n",
       "    </tr>\n",
       "    <tr>\n",
       "      <th>Telegana</th>\n",
       "      <td>82647</td>\n",
       "      <td>59374</td>\n",
       "      <td>645</td>\n",
       "      <td>22628</td>\n",
       "      <td>71.8</td>\n",
       "      <td>27.4</td>\n",
       "      <td>0.8</td>\n",
       "    </tr>\n",
       "    <tr>\n",
       "      <th>Gujarat</th>\n",
       "      <td>73238</td>\n",
       "      <td>56517</td>\n",
       "      <td>2696</td>\n",
       "      <td>14025</td>\n",
       "      <td>77.2</td>\n",
       "      <td>19.1</td>\n",
       "      <td>3.7</td>\n",
       "    </tr>\n",
       "    <tr>\n",
       "      <th>Assam</th>\n",
       "      <td>64305</td>\n",
       "      <td>45074</td>\n",
       "      <td>159</td>\n",
       "      <td>19072</td>\n",
       "      <td>70.1</td>\n",
       "      <td>29.7</td>\n",
       "      <td>0.2</td>\n",
       "    </tr>\n",
       "    <tr>\n",
       "      <th>Rajasthan</th>\n",
       "      <td>54887</td>\n",
       "      <td>40399</td>\n",
       "      <td>811</td>\n",
       "      <td>13677</td>\n",
       "      <td>73.6</td>\n",
       "      <td>24.9</td>\n",
       "      <td>1.5</td>\n",
       "    </tr>\n",
       "    <tr>\n",
       "      <th>Orissa</th>\n",
       "      <td>48796</td>\n",
       "      <td>34806</td>\n",
       "      <td>349</td>\n",
       "      <td>13641</td>\n",
       "      <td>71.3</td>\n",
       "      <td>28.0</td>\n",
       "      <td>0.7</td>\n",
       "    </tr>\n",
       "    <tr>\n",
       "      <th>Haryana</th>\n",
       "      <td>43227</td>\n",
       "      <td>36081</td>\n",
       "      <td>500</td>\n",
       "      <td>6646</td>\n",
       "      <td>83.5</td>\n",
       "      <td>15.4</td>\n",
       "      <td>1.2</td>\n",
       "    </tr>\n",
       "    <tr>\n",
       "      <th>Madhya Pradesh</th>\n",
       "      <td>40734</td>\n",
       "      <td>30596</td>\n",
       "      <td>1034</td>\n",
       "      <td>9104</td>\n",
       "      <td>75.1</td>\n",
       "      <td>22.3</td>\n",
       "      <td>2.5</td>\n",
       "    </tr>\n",
       "    <tr>\n",
       "      <th>Kerela</th>\n",
       "      <td>36932</td>\n",
       "      <td>24041</td>\n",
       "      <td>121</td>\n",
       "      <td>12770</td>\n",
       "      <td>65.1</td>\n",
       "      <td>34.6</td>\n",
       "      <td>0.3</td>\n",
       "    </tr>\n",
       "    <tr>\n",
       "      <th>Jammu And Kashmir</th>\n",
       "      <td>25931</td>\n",
       "      <td>17979</td>\n",
       "      <td>490</td>\n",
       "      <td>7462</td>\n",
       "      <td>69.3</td>\n",
       "      <td>28.8</td>\n",
       "      <td>1.9</td>\n",
       "    </tr>\n",
       "    <tr>\n",
       "      <th>Punjab</th>\n",
       "      <td>25889</td>\n",
       "      <td>16790</td>\n",
       "      <td>636</td>\n",
       "      <td>8463</td>\n",
       "      <td>64.9</td>\n",
       "      <td>32.7</td>\n",
       "      <td>2.5</td>\n",
       "    </tr>\n",
       "    <tr>\n",
       "      <th>JH</th>\n",
       "      <td>19469</td>\n",
       "      <td>10555</td>\n",
       "      <td>194</td>\n",
       "      <td>8720</td>\n",
       "      <td>54.2</td>\n",
       "      <td>44.8</td>\n",
       "      <td>1.0</td>\n",
       "    </tr>\n",
       "    <tr>\n",
       "      <th>Chattisgarh</th>\n",
       "      <td>12985</td>\n",
       "      <td>9239</td>\n",
       "      <td>104</td>\n",
       "      <td>3642</td>\n",
       "      <td>71.2</td>\n",
       "      <td>28.0</td>\n",
       "      <td>0.8</td>\n",
       "    </tr>\n",
       "    <tr>\n",
       "      <th>Uttarakhand</th>\n",
       "      <td>10432</td>\n",
       "      <td>6470</td>\n",
       "      <td>136</td>\n",
       "      <td>3826</td>\n",
       "      <td>62.0</td>\n",
       "      <td>36.7</td>\n",
       "      <td>1.3</td>\n",
       "    </tr>\n",
       "    <tr>\n",
       "      <th>Goa</th>\n",
       "      <td>9444</td>\n",
       "      <td>6480</td>\n",
       "      <td>86</td>\n",
       "      <td>2878</td>\n",
       "      <td>68.6</td>\n",
       "      <td>30.5</td>\n",
       "      <td>0.9</td>\n",
       "    </tr>\n",
       "    <tr>\n",
       "      <th>Tripura</th>\n",
       "      <td>6387</td>\n",
       "      <td>4656</td>\n",
       "      <td>43</td>\n",
       "      <td>1688</td>\n",
       "      <td>72.9</td>\n",
       "      <td>26.4</td>\n",
       "      <td>0.7</td>\n",
       "    </tr>\n",
       "    <tr>\n",
       "      <th>Puducherry</th>\n",
       "      <td>5902</td>\n",
       "      <td>3532</td>\n",
       "      <td>91</td>\n",
       "      <td>2279</td>\n",
       "      <td>59.8</td>\n",
       "      <td>38.6</td>\n",
       "      <td>1.5</td>\n",
       "    </tr>\n",
       "    <tr>\n",
       "      <th>Manipur</th>\n",
       "      <td>3941</td>\n",
       "      <td>2155</td>\n",
       "      <td>12</td>\n",
       "      <td>1774</td>\n",
       "      <td>54.7</td>\n",
       "      <td>45.0</td>\n",
       "      <td>0.3</td>\n",
       "    </tr>\n",
       "    <tr>\n",
       "      <th>Himachal Pradesh</th>\n",
       "      <td>3497</td>\n",
       "      <td>2274</td>\n",
       "      <td>17</td>\n",
       "      <td>1206</td>\n",
       "      <td>65.0</td>\n",
       "      <td>34.5</td>\n",
       "      <td>0.5</td>\n",
       "    </tr>\n",
       "    <tr>\n",
       "      <th>Nagaland</th>\n",
       "      <td>3031</td>\n",
       "      <td>985</td>\n",
       "      <td>7</td>\n",
       "      <td>2039</td>\n",
       "      <td>32.5</td>\n",
       "      <td>67.3</td>\n",
       "      <td>0.2</td>\n",
       "    </tr>\n",
       "    <tr>\n",
       "      <th>Arunachal Pradesh</th>\n",
       "      <td>2327</td>\n",
       "      <td>1634</td>\n",
       "      <td>3</td>\n",
       "      <td>690</td>\n",
       "      <td>70.2</td>\n",
       "      <td>29.7</td>\n",
       "      <td>0.1</td>\n",
       "    </tr>\n",
       "    <tr>\n",
       "      <th>Ladakh</th>\n",
       "      <td>1770</td>\n",
       "      <td>1255</td>\n",
       "      <td>9</td>\n",
       "      <td>506</td>\n",
       "      <td>70.9</td>\n",
       "      <td>28.6</td>\n",
       "      <td>0.5</td>\n",
       "    </tr>\n",
       "    <tr>\n",
       "      <th>Andaman Nicobar</th>\n",
       "      <td>1760</td>\n",
       "      <td>740</td>\n",
       "      <td>21</td>\n",
       "      <td>999</td>\n",
       "      <td>42.0</td>\n",
       "      <td>56.8</td>\n",
       "      <td>1.2</td>\n",
       "    </tr>\n",
       "    <tr>\n",
       "      <th>Chandigarh</th>\n",
       "      <td>1670</td>\n",
       "      <td>1015</td>\n",
       "      <td>26</td>\n",
       "      <td>629</td>\n",
       "      <td>60.8</td>\n",
       "      <td>37.7</td>\n",
       "      <td>1.6</td>\n",
       "    </tr>\n",
       "    <tr>\n",
       "      <th>DN</th>\n",
       "      <td>1658</td>\n",
       "      <td>1208</td>\n",
       "      <td>2</td>\n",
       "      <td>448</td>\n",
       "      <td>72.9</td>\n",
       "      <td>27.0</td>\n",
       "      <td>0.1</td>\n",
       "    </tr>\n",
       "    <tr>\n",
       "      <th>Meghalaya</th>\n",
       "      <td>1142</td>\n",
       "      <td>510</td>\n",
       "      <td>6</td>\n",
       "      <td>626</td>\n",
       "      <td>44.7</td>\n",
       "      <td>54.8</td>\n",
       "      <td>0.5</td>\n",
       "    </tr>\n",
       "    <tr>\n",
       "      <th>Sikkim</th>\n",
       "      <td>926</td>\n",
       "      <td>535</td>\n",
       "      <td>1</td>\n",
       "      <td>390</td>\n",
       "      <td>57.8</td>\n",
       "      <td>42.1</td>\n",
       "      <td>0.1</td>\n",
       "    </tr>\n",
       "    <tr>\n",
       "      <th>Mizoram</th>\n",
       "      <td>623</td>\n",
       "      <td>323</td>\n",
       "      <td>0</td>\n",
       "      <td>300</td>\n",
       "      <td>51.8</td>\n",
       "      <td>48.2</td>\n",
       "      <td>0.0</td>\n",
       "    </tr>\n",
       "    <tr>\n",
       "      <th>LD</th>\n",
       "      <td>0</td>\n",
       "      <td>0</td>\n",
       "      <td>0</td>\n",
       "      <td>0</td>\n",
       "      <td>0.0</td>\n",
       "      <td>0.0</td>\n",
       "      <td>0.0</td>\n",
       "    </tr>\n",
       "    <tr>\n",
       "      <th>Daman &amp; Diu</th>\n",
       "      <td>0</td>\n",
       "      <td>0</td>\n",
       "      <td>0</td>\n",
       "      <td>0</td>\n",
       "      <td>0.0</td>\n",
       "      <td>0.0</td>\n",
       "      <td>0.0</td>\n",
       "    </tr>\n",
       "  </tbody>\n",
       "</table>\n",
       "</div>"
      ],
      "text/plain": [
       "                   Confirmed Cases  Recovered Cases  Deceased Cases  \\\n",
       "State                                                                 \n",
       "Maharashtra                 535601           368435           18305   \n",
       "Tamil Nadu                  308649           250680            5159   \n",
       "Andhra Pradesh              244549           154749            2203   \n",
       "Karnataka                   188611           105600            3405   \n",
       "Delhi                       147391           132384            4139   \n",
       "Uttar Pradesh               131763            80589            2176   \n",
       "West Bengal                 101390            73395            2149   \n",
       "Bihar                        86812            57039             465   \n",
       "Telegana                     82647            59374             645   \n",
       "Gujarat                      73238            56517            2696   \n",
       "Assam                        64305            45074             159   \n",
       "Rajasthan                    54887            40399             811   \n",
       "Orissa                       48796            34806             349   \n",
       "Haryana                      43227            36081             500   \n",
       "Madhya Pradesh               40734            30596            1034   \n",
       "Kerela                       36932            24041             121   \n",
       "Jammu And Kashmir            25931            17979             490   \n",
       "Punjab                       25889            16790             636   \n",
       "JH                           19469            10555             194   \n",
       "Chattisgarh                  12985             9239             104   \n",
       "Uttarakhand                  10432             6470             136   \n",
       "Goa                           9444             6480              86   \n",
       "Tripura                       6387             4656              43   \n",
       "Puducherry                    5902             3532              91   \n",
       "Manipur                       3941             2155              12   \n",
       "Himachal Pradesh              3497             2274              17   \n",
       "Nagaland                      3031              985               7   \n",
       "Arunachal Pradesh             2327             1634               3   \n",
       "Ladakh                        1770             1255               9   \n",
       "Andaman Nicobar               1760              740              21   \n",
       "Chandigarh                    1670             1015              26   \n",
       "DN                            1658             1208               2   \n",
       "Meghalaya                     1142              510               6   \n",
       "Sikkim                         926              535               1   \n",
       "Mizoram                        623              323               0   \n",
       "LD                               0                0               0   \n",
       "Daman & Diu                      0                0               0   \n",
       "\n",
       "                   Active Cases  Recovered Ratio(in %)  Active Ratio(in %)  \\\n",
       "State                                                                        \n",
       "Maharashtra              148861                   68.8                27.8   \n",
       "Tamil Nadu                52810                   81.2                17.1   \n",
       "Andhra Pradesh            87597                   63.3                35.8   \n",
       "Karnataka                 79606                   56.0                42.2   \n",
       "Delhi                     10868                   89.8                 7.4   \n",
       "Uttar Pradesh             48998                   61.2                37.2   \n",
       "West Bengal               25846                   72.4                25.5   \n",
       "Bihar                     29308                   65.7                33.8   \n",
       "Telegana                  22628                   71.8                27.4   \n",
       "Gujarat                   14025                   77.2                19.1   \n",
       "Assam                     19072                   70.1                29.7   \n",
       "Rajasthan                 13677                   73.6                24.9   \n",
       "Orissa                    13641                   71.3                28.0   \n",
       "Haryana                    6646                   83.5                15.4   \n",
       "Madhya Pradesh             9104                   75.1                22.3   \n",
       "Kerela                    12770                   65.1                34.6   \n",
       "Jammu And Kashmir          7462                   69.3                28.8   \n",
       "Punjab                     8463                   64.9                32.7   \n",
       "JH                         8720                   54.2                44.8   \n",
       "Chattisgarh                3642                   71.2                28.0   \n",
       "Uttarakhand                3826                   62.0                36.7   \n",
       "Goa                        2878                   68.6                30.5   \n",
       "Tripura                    1688                   72.9                26.4   \n",
       "Puducherry                 2279                   59.8                38.6   \n",
       "Manipur                    1774                   54.7                45.0   \n",
       "Himachal Pradesh           1206                   65.0                34.5   \n",
       "Nagaland                   2039                   32.5                67.3   \n",
       "Arunachal Pradesh           690                   70.2                29.7   \n",
       "Ladakh                      506                   70.9                28.6   \n",
       "Andaman Nicobar             999                   42.0                56.8   \n",
       "Chandigarh                  629                   60.8                37.7   \n",
       "DN                          448                   72.9                27.0   \n",
       "Meghalaya                   626                   44.7                54.8   \n",
       "Sikkim                      390                   57.8                42.1   \n",
       "Mizoram                     300                   51.8                48.2   \n",
       "LD                            0                    0.0                 0.0   \n",
       "Daman & Diu                   0                    0.0                 0.0   \n",
       "\n",
       "                   Deceased Ratio(in %)  \n",
       "State                                    \n",
       "Maharashtra                         3.4  \n",
       "Tamil Nadu                          1.7  \n",
       "Andhra Pradesh                      0.9  \n",
       "Karnataka                           1.8  \n",
       "Delhi                               2.8  \n",
       "Uttar Pradesh                       1.7  \n",
       "West Bengal                         2.1  \n",
       "Bihar                               0.5  \n",
       "Telegana                            0.8  \n",
       "Gujarat                             3.7  \n",
       "Assam                               0.2  \n",
       "Rajasthan                           1.5  \n",
       "Orissa                              0.7  \n",
       "Haryana                             1.2  \n",
       "Madhya Pradesh                      2.5  \n",
       "Kerela                              0.3  \n",
       "Jammu And Kashmir                   1.9  \n",
       "Punjab                              2.5  \n",
       "JH                                  1.0  \n",
       "Chattisgarh                         0.8  \n",
       "Uttarakhand                         1.3  \n",
       "Goa                                 0.9  \n",
       "Tripura                             0.7  \n",
       "Puducherry                          1.5  \n",
       "Manipur                             0.3  \n",
       "Himachal Pradesh                    0.5  \n",
       "Nagaland                            0.2  \n",
       "Arunachal Pradesh                   0.1  \n",
       "Ladakh                              0.5  \n",
       "Andaman Nicobar                     1.2  \n",
       "Chandigarh                          1.6  \n",
       "DN                                  0.1  \n",
       "Meghalaya                           0.5  \n",
       "Sikkim                              0.1  \n",
       "Mizoram                             0.0  \n",
       "LD                                  0.0  \n",
       "Daman & Diu                         0.0  "
      ]
     },
     "execution_count": 42,
     "metadata": {},
     "output_type": "execute_result"
    }
   ],
   "source": [
    "state_df = pd.read_csv('https://api.covid19india.org/csv/latest/state_wise_daily.csv')\n",
    "state_df['Date'] = state_df.Date.apply(lambda x: pd.to_datetime(x).strftime('%d-%m-%Y'))\n",
    "state_df.rename(columns={'AN': 'Andaman Nicobar', 'AP': 'Andhra Pradesh', 'AR': 'Arunachal Pradesh', 'AS': 'Assam',\n",
    "                             'BR': 'Bihar', 'CH': 'Chandigarh', 'CT': 'Chattisgarh', 'DD': 'Daman & Diu', 'DL': 'Delhi',\n",
    "                             'GA': 'Goa', 'GJ': 'Gujarat',\n",
    "                             'HR': 'Haryana', 'HP': 'Himachal Pradesh', 'JK': 'Jammu And Kashmir', 'KA': 'Karnataka',\n",
    "                             'KL': 'Kerela',\n",
    "                             'LA': 'Ladakh', 'MP': 'Madhya Pradesh', 'MH': 'Maharashtra', 'MN': 'Manipur',\n",
    "                             'ML': 'Meghalaya',\n",
    "                             'MZ': 'Mizoram', 'NL': 'Nagaland', 'OR': 'Orissa', 'PY': 'Puducherry', 'PB': 'Punjab',\n",
    "                             'RJ': 'Rajasthan',\n",
    "                             'SK': 'Sikkim', 'TN': 'Tamil Nadu', 'TG': 'Telegana', 'TR': 'Tripura',\n",
    "                             'UP': 'Uttar Pradesh',\n",
    "                             'UT': 'Uttarakhand',\n",
    "                             'WB': 'West Bengal', 'TT': 'Total'}, inplace=True)\n",
    "\n",
    "top_affected=state_df.loc[state_df['Status']=='Confirmed']\n",
    "top_affected=top_affected.iloc[:,3:-1]\n",
    "top_affected=top_affected.reset_index()\n",
    "top_affected.drop(['index'],axis=1,inplace=True)\n",
    "confirmed=top_affected.sum(axis=0)\n",
    "confirmed_df=pd.DataFrame(confirmed,columns=['Confirmed Cases'])\n",
    "\n",
    "recovered_state=state_df.loc[state_df['Status']=='Recovered']\n",
    "recovered_state=recovered_state.iloc[:,3:-1]\n",
    "recovered_state=recovered_state.reset_index()\n",
    "recovered_state.drop(['index'],axis=1,inplace=True)\n",
    "recovered=recovered_state.sum(axis=0)\n",
    "recovered_df=pd.DataFrame(recovered,columns=['Recovered Cases'])\n",
    "\n",
    "final_part1=confirmed_df.merge(recovered_df,left_index=True,right_index=True)\n",
    "\n",
    "deceased_state = state_df.loc[state_df['Status'] == 'Deceased']\n",
    "deceased_state = deceased_state.iloc[:, 3:-1]\n",
    "deceased_state = deceased_state.reset_index()\n",
    "deceased_state.drop(['index'], axis=1, inplace=True)\n",
    "deceased = deceased_state.sum(axis=0)\n",
    "deceased_df = pd.DataFrame(deceased, columns=['Deceased Cases'])\n",
    "\n",
    "final_df=final_part1.merge(deceased_df,left_index=True,right_index=True)\n",
    "final_df['Active Cases']=final_df['Confirmed Cases']-(final_df['Recovered Cases']+final_df['Deceased Cases'])\n",
    "final_df.index.name='State'\n",
    "final_df1=final_df.sort_values(by='Confirmed Cases',ascending=False)\n",
    "final_df1['Recovered Ratio(in %)']=(final_df1['Recovered Cases']/final_df1['Confirmed Cases'])*100\n",
    "final_df1['Active Ratio(in %)']=(final_df1['Active Cases']/final_df1['Confirmed Cases'])*100\n",
    "final_df1['Deceased Ratio(in %)']=(final_df1['Deceased Cases']/final_df1['Confirmed Cases'])*100\n",
    "final_df1=final_df1.rename(columns={'JH':'Jharkhand'})\n",
    "final_df1.replace(np.nan,0,inplace=True)\n",
    "\n",
    "\n",
    "final_df1"
   ]
  },
  {
   "cell_type": "code",
   "execution_count": 43,
   "metadata": {},
   "outputs": [
    {
     "data": {
      "application/vnd.plotly.v1+json": {
       "config": {
        "plotlyServerURL": "https://plot.ly"
       },
       "data": [
        {
         "name": "Active Cases",
         "type": "bar",
         "x": [
          "Andaman Nicobar",
          "Andhra Pradesh",
          "Arunachal Pradesh",
          "Assam",
          "Bihar",
          "Chandigarh",
          "Chattisgarh",
          "DN",
          "Daman & Diu",
          "Delhi",
          "Goa",
          "Gujarat",
          "Haryana",
          "Himachal Pradesh",
          "Jammu And Kashmir",
          "JH",
          "Karnataka",
          "Kerela",
          "Ladakh",
          "LD",
          "Madhya Pradesh",
          "Maharashtra",
          "Manipur",
          "Meghalaya",
          "Mizoram",
          "Nagaland",
          "Orissa",
          "Puducherry",
          "Punjab",
          "Rajasthan",
          "Sikkim",
          "Tamil Nadu",
          "Telegana",
          "Tripura",
          "Uttar Pradesh",
          "Uttarakhand",
          "West Bengal"
         ],
         "xaxis": "x",
         "y": [
          999,
          87597,
          690,
          19072,
          29308,
          629,
          3642,
          448,
          0,
          10868,
          2878,
          14025,
          6646,
          1206,
          7462,
          8720,
          79606,
          12770,
          506,
          0,
          9104,
          148861,
          1774,
          626,
          300,
          2039,
          13641,
          2279,
          8463,
          13677,
          390,
          52810,
          22628,
          1688,
          48998,
          3826,
          25846
         ],
         "yaxis": "y"
        },
        {
         "name": "Confirmed Cases",
         "type": "bar",
         "x": [
          "Andaman Nicobar",
          "Andhra Pradesh",
          "Arunachal Pradesh",
          "Assam",
          "Bihar",
          "Chandigarh",
          "Chattisgarh",
          "DN",
          "Daman & Diu",
          "Delhi",
          "Goa",
          "Gujarat",
          "Haryana",
          "Himachal Pradesh",
          "Jammu And Kashmir",
          "JH",
          "Karnataka",
          "Kerela",
          "Ladakh",
          "LD",
          "Madhya Pradesh",
          "Maharashtra",
          "Manipur",
          "Meghalaya",
          "Mizoram",
          "Nagaland",
          "Orissa",
          "Puducherry",
          "Punjab",
          "Rajasthan",
          "Sikkim",
          "Tamil Nadu",
          "Telegana",
          "Tripura",
          "Uttar Pradesh",
          "Uttarakhand",
          "West Bengal"
         ],
         "xaxis": "x2",
         "y": [
          1760,
          244549,
          2327,
          64305,
          86812,
          1670,
          12985,
          1658,
          0,
          147391,
          9444,
          73238,
          43227,
          3497,
          25931,
          19469,
          188611,
          36932,
          1770,
          0,
          40734,
          535601,
          3941,
          1142,
          623,
          3031,
          48796,
          5902,
          25889,
          54887,
          926,
          308649,
          82647,
          6387,
          131763,
          10432,
          101390
         ],
         "yaxis": "y2"
        },
        {
         "name": "Recovered Cases",
         "type": "bar",
         "x": [
          "Andaman Nicobar",
          "Andhra Pradesh",
          "Arunachal Pradesh",
          "Assam",
          "Bihar",
          "Chandigarh",
          "Chattisgarh",
          "DN",
          "Daman & Diu",
          "Delhi",
          "Goa",
          "Gujarat",
          "Haryana",
          "Himachal Pradesh",
          "Jammu And Kashmir",
          "JH",
          "Karnataka",
          "Kerela",
          "Ladakh",
          "LD",
          "Madhya Pradesh",
          "Maharashtra",
          "Manipur",
          "Meghalaya",
          "Mizoram",
          "Nagaland",
          "Orissa",
          "Puducherry",
          "Punjab",
          "Rajasthan",
          "Sikkim",
          "Tamil Nadu",
          "Telegana",
          "Tripura",
          "Uttar Pradesh",
          "Uttarakhand",
          "West Bengal"
         ],
         "xaxis": "x3",
         "y": [
          740,
          154749,
          1634,
          45074,
          57039,
          1015,
          9239,
          1208,
          0,
          132384,
          6480,
          56517,
          36081,
          2274,
          17979,
          10555,
          105600,
          24041,
          1255,
          0,
          30596,
          368435,
          2155,
          510,
          323,
          985,
          34806,
          3532,
          16790,
          40399,
          535,
          250680,
          59374,
          4656,
          80589,
          6470,
          73395
         ],
         "yaxis": "y3"
        },
        {
         "name": "Deceased Cases",
         "type": "bar",
         "x": [
          "Andaman Nicobar",
          "Andhra Pradesh",
          "Arunachal Pradesh",
          "Assam",
          "Bihar",
          "Chandigarh",
          "Chattisgarh",
          "DN",
          "Daman & Diu",
          "Delhi",
          "Goa",
          "Gujarat",
          "Haryana",
          "Himachal Pradesh",
          "Jammu And Kashmir",
          "JH",
          "Karnataka",
          "Kerela",
          "Ladakh",
          "LD",
          "Madhya Pradesh",
          "Maharashtra",
          "Manipur",
          "Meghalaya",
          "Mizoram",
          "Nagaland",
          "Orissa",
          "Puducherry",
          "Punjab",
          "Rajasthan",
          "Sikkim",
          "Tamil Nadu",
          "Telegana",
          "Tripura",
          "Uttar Pradesh",
          "Uttarakhand",
          "West Bengal"
         ],
         "xaxis": "x4",
         "y": [
          21,
          2203,
          3,
          159,
          465,
          26,
          104,
          2,
          0,
          4139,
          86,
          2696,
          500,
          17,
          490,
          194,
          3405,
          121,
          9,
          0,
          1034,
          18305,
          12,
          6,
          0,
          7,
          349,
          91,
          636,
          811,
          1,
          5159,
          645,
          43,
          2176,
          136,
          2149
         ],
         "yaxis": "y4"
        }
       ],
       "layout": {
        "template": {
         "data": {
          "bar": [
           {
            "error_x": {
             "color": "#2a3f5f"
            },
            "error_y": {
             "color": "#2a3f5f"
            },
            "marker": {
             "line": {
              "color": "#E5ECF6",
              "width": 0.5
             }
            },
            "type": "bar"
           }
          ],
          "barpolar": [
           {
            "marker": {
             "line": {
              "color": "#E5ECF6",
              "width": 0.5
             }
            },
            "type": "barpolar"
           }
          ],
          "carpet": [
           {
            "aaxis": {
             "endlinecolor": "#2a3f5f",
             "gridcolor": "white",
             "linecolor": "white",
             "minorgridcolor": "white",
             "startlinecolor": "#2a3f5f"
            },
            "baxis": {
             "endlinecolor": "#2a3f5f",
             "gridcolor": "white",
             "linecolor": "white",
             "minorgridcolor": "white",
             "startlinecolor": "#2a3f5f"
            },
            "type": "carpet"
           }
          ],
          "choropleth": [
           {
            "colorbar": {
             "outlinewidth": 0,
             "ticks": ""
            },
            "type": "choropleth"
           }
          ],
          "contour": [
           {
            "colorbar": {
             "outlinewidth": 0,
             "ticks": ""
            },
            "colorscale": [
             [
              0,
              "#0d0887"
             ],
             [
              0.1111111111111111,
              "#46039f"
             ],
             [
              0.2222222222222222,
              "#7201a8"
             ],
             [
              0.3333333333333333,
              "#9c179e"
             ],
             [
              0.4444444444444444,
              "#bd3786"
             ],
             [
              0.5555555555555556,
              "#d8576b"
             ],
             [
              0.6666666666666666,
              "#ed7953"
             ],
             [
              0.7777777777777778,
              "#fb9f3a"
             ],
             [
              0.8888888888888888,
              "#fdca26"
             ],
             [
              1,
              "#f0f921"
             ]
            ],
            "type": "contour"
           }
          ],
          "contourcarpet": [
           {
            "colorbar": {
             "outlinewidth": 0,
             "ticks": ""
            },
            "type": "contourcarpet"
           }
          ],
          "heatmap": [
           {
            "colorbar": {
             "outlinewidth": 0,
             "ticks": ""
            },
            "colorscale": [
             [
              0,
              "#0d0887"
             ],
             [
              0.1111111111111111,
              "#46039f"
             ],
             [
              0.2222222222222222,
              "#7201a8"
             ],
             [
              0.3333333333333333,
              "#9c179e"
             ],
             [
              0.4444444444444444,
              "#bd3786"
             ],
             [
              0.5555555555555556,
              "#d8576b"
             ],
             [
              0.6666666666666666,
              "#ed7953"
             ],
             [
              0.7777777777777778,
              "#fb9f3a"
             ],
             [
              0.8888888888888888,
              "#fdca26"
             ],
             [
              1,
              "#f0f921"
             ]
            ],
            "type": "heatmap"
           }
          ],
          "heatmapgl": [
           {
            "colorbar": {
             "outlinewidth": 0,
             "ticks": ""
            },
            "colorscale": [
             [
              0,
              "#0d0887"
             ],
             [
              0.1111111111111111,
              "#46039f"
             ],
             [
              0.2222222222222222,
              "#7201a8"
             ],
             [
              0.3333333333333333,
              "#9c179e"
             ],
             [
              0.4444444444444444,
              "#bd3786"
             ],
             [
              0.5555555555555556,
              "#d8576b"
             ],
             [
              0.6666666666666666,
              "#ed7953"
             ],
             [
              0.7777777777777778,
              "#fb9f3a"
             ],
             [
              0.8888888888888888,
              "#fdca26"
             ],
             [
              1,
              "#f0f921"
             ]
            ],
            "type": "heatmapgl"
           }
          ],
          "histogram": [
           {
            "marker": {
             "colorbar": {
              "outlinewidth": 0,
              "ticks": ""
             }
            },
            "type": "histogram"
           }
          ],
          "histogram2d": [
           {
            "colorbar": {
             "outlinewidth": 0,
             "ticks": ""
            },
            "colorscale": [
             [
              0,
              "#0d0887"
             ],
             [
              0.1111111111111111,
              "#46039f"
             ],
             [
              0.2222222222222222,
              "#7201a8"
             ],
             [
              0.3333333333333333,
              "#9c179e"
             ],
             [
              0.4444444444444444,
              "#bd3786"
             ],
             [
              0.5555555555555556,
              "#d8576b"
             ],
             [
              0.6666666666666666,
              "#ed7953"
             ],
             [
              0.7777777777777778,
              "#fb9f3a"
             ],
             [
              0.8888888888888888,
              "#fdca26"
             ],
             [
              1,
              "#f0f921"
             ]
            ],
            "type": "histogram2d"
           }
          ],
          "histogram2dcontour": [
           {
            "colorbar": {
             "outlinewidth": 0,
             "ticks": ""
            },
            "colorscale": [
             [
              0,
              "#0d0887"
             ],
             [
              0.1111111111111111,
              "#46039f"
             ],
             [
              0.2222222222222222,
              "#7201a8"
             ],
             [
              0.3333333333333333,
              "#9c179e"
             ],
             [
              0.4444444444444444,
              "#bd3786"
             ],
             [
              0.5555555555555556,
              "#d8576b"
             ],
             [
              0.6666666666666666,
              "#ed7953"
             ],
             [
              0.7777777777777778,
              "#fb9f3a"
             ],
             [
              0.8888888888888888,
              "#fdca26"
             ],
             [
              1,
              "#f0f921"
             ]
            ],
            "type": "histogram2dcontour"
           }
          ],
          "mesh3d": [
           {
            "colorbar": {
             "outlinewidth": 0,
             "ticks": ""
            },
            "type": "mesh3d"
           }
          ],
          "parcoords": [
           {
            "line": {
             "colorbar": {
              "outlinewidth": 0,
              "ticks": ""
             }
            },
            "type": "parcoords"
           }
          ],
          "pie": [
           {
            "automargin": true,
            "type": "pie"
           }
          ],
          "scatter": [
           {
            "marker": {
             "colorbar": {
              "outlinewidth": 0,
              "ticks": ""
             }
            },
            "type": "scatter"
           }
          ],
          "scatter3d": [
           {
            "line": {
             "colorbar": {
              "outlinewidth": 0,
              "ticks": ""
             }
            },
            "marker": {
             "colorbar": {
              "outlinewidth": 0,
              "ticks": ""
             }
            },
            "type": "scatter3d"
           }
          ],
          "scattercarpet": [
           {
            "marker": {
             "colorbar": {
              "outlinewidth": 0,
              "ticks": ""
             }
            },
            "type": "scattercarpet"
           }
          ],
          "scattergeo": [
           {
            "marker": {
             "colorbar": {
              "outlinewidth": 0,
              "ticks": ""
             }
            },
            "type": "scattergeo"
           }
          ],
          "scattergl": [
           {
            "marker": {
             "colorbar": {
              "outlinewidth": 0,
              "ticks": ""
             }
            },
            "type": "scattergl"
           }
          ],
          "scattermapbox": [
           {
            "marker": {
             "colorbar": {
              "outlinewidth": 0,
              "ticks": ""
             }
            },
            "type": "scattermapbox"
           }
          ],
          "scatterpolar": [
           {
            "marker": {
             "colorbar": {
              "outlinewidth": 0,
              "ticks": ""
             }
            },
            "type": "scatterpolar"
           }
          ],
          "scatterpolargl": [
           {
            "marker": {
             "colorbar": {
              "outlinewidth": 0,
              "ticks": ""
             }
            },
            "type": "scatterpolargl"
           }
          ],
          "scatterternary": [
           {
            "marker": {
             "colorbar": {
              "outlinewidth": 0,
              "ticks": ""
             }
            },
            "type": "scatterternary"
           }
          ],
          "surface": [
           {
            "colorbar": {
             "outlinewidth": 0,
             "ticks": ""
            },
            "colorscale": [
             [
              0,
              "#0d0887"
             ],
             [
              0.1111111111111111,
              "#46039f"
             ],
             [
              0.2222222222222222,
              "#7201a8"
             ],
             [
              0.3333333333333333,
              "#9c179e"
             ],
             [
              0.4444444444444444,
              "#bd3786"
             ],
             [
              0.5555555555555556,
              "#d8576b"
             ],
             [
              0.6666666666666666,
              "#ed7953"
             ],
             [
              0.7777777777777778,
              "#fb9f3a"
             ],
             [
              0.8888888888888888,
              "#fdca26"
             ],
             [
              1,
              "#f0f921"
             ]
            ],
            "type": "surface"
           }
          ],
          "table": [
           {
            "cells": {
             "fill": {
              "color": "#EBF0F8"
             },
             "line": {
              "color": "white"
             }
            },
            "header": {
             "fill": {
              "color": "#C8D4E3"
             },
             "line": {
              "color": "white"
             }
            },
            "type": "table"
           }
          ]
         },
         "layout": {
          "annotationdefaults": {
           "arrowcolor": "#2a3f5f",
           "arrowhead": 0,
           "arrowwidth": 1
          },
          "coloraxis": {
           "colorbar": {
            "outlinewidth": 0,
            "ticks": ""
           }
          },
          "colorscale": {
           "diverging": [
            [
             0,
             "#8e0152"
            ],
            [
             0.1,
             "#c51b7d"
            ],
            [
             0.2,
             "#de77ae"
            ],
            [
             0.3,
             "#f1b6da"
            ],
            [
             0.4,
             "#fde0ef"
            ],
            [
             0.5,
             "#f7f7f7"
            ],
            [
             0.6,
             "#e6f5d0"
            ],
            [
             0.7,
             "#b8e186"
            ],
            [
             0.8,
             "#7fbc41"
            ],
            [
             0.9,
             "#4d9221"
            ],
            [
             1,
             "#276419"
            ]
           ],
           "sequential": [
            [
             0,
             "#0d0887"
            ],
            [
             0.1111111111111111,
             "#46039f"
            ],
            [
             0.2222222222222222,
             "#7201a8"
            ],
            [
             0.3333333333333333,
             "#9c179e"
            ],
            [
             0.4444444444444444,
             "#bd3786"
            ],
            [
             0.5555555555555556,
             "#d8576b"
            ],
            [
             0.6666666666666666,
             "#ed7953"
            ],
            [
             0.7777777777777778,
             "#fb9f3a"
            ],
            [
             0.8888888888888888,
             "#fdca26"
            ],
            [
             1,
             "#f0f921"
            ]
           ],
           "sequentialminus": [
            [
             0,
             "#0d0887"
            ],
            [
             0.1111111111111111,
             "#46039f"
            ],
            [
             0.2222222222222222,
             "#7201a8"
            ],
            [
             0.3333333333333333,
             "#9c179e"
            ],
            [
             0.4444444444444444,
             "#bd3786"
            ],
            [
             0.5555555555555556,
             "#d8576b"
            ],
            [
             0.6666666666666666,
             "#ed7953"
            ],
            [
             0.7777777777777778,
             "#fb9f3a"
            ],
            [
             0.8888888888888888,
             "#fdca26"
            ],
            [
             1,
             "#f0f921"
            ]
           ]
          },
          "colorway": [
           "#636efa",
           "#EF553B",
           "#00cc96",
           "#ab63fa",
           "#FFA15A",
           "#19d3f3",
           "#FF6692",
           "#B6E880",
           "#FF97FF",
           "#FECB52"
          ],
          "font": {
           "color": "#2a3f5f"
          },
          "geo": {
           "bgcolor": "white",
           "lakecolor": "white",
           "landcolor": "#E5ECF6",
           "showlakes": true,
           "showland": true,
           "subunitcolor": "white"
          },
          "hoverlabel": {
           "align": "left"
          },
          "hovermode": "closest",
          "mapbox": {
           "style": "light"
          },
          "paper_bgcolor": "white",
          "plot_bgcolor": "#E5ECF6",
          "polar": {
           "angularaxis": {
            "gridcolor": "white",
            "linecolor": "white",
            "ticks": ""
           },
           "bgcolor": "#E5ECF6",
           "radialaxis": {
            "gridcolor": "white",
            "linecolor": "white",
            "ticks": ""
           }
          },
          "scene": {
           "xaxis": {
            "backgroundcolor": "#E5ECF6",
            "gridcolor": "white",
            "gridwidth": 2,
            "linecolor": "white",
            "showbackground": true,
            "ticks": "",
            "zerolinecolor": "white"
           },
           "yaxis": {
            "backgroundcolor": "#E5ECF6",
            "gridcolor": "white",
            "gridwidth": 2,
            "linecolor": "white",
            "showbackground": true,
            "ticks": "",
            "zerolinecolor": "white"
           },
           "zaxis": {
            "backgroundcolor": "#E5ECF6",
            "gridcolor": "white",
            "gridwidth": 2,
            "linecolor": "white",
            "showbackground": true,
            "ticks": "",
            "zerolinecolor": "white"
           }
          },
          "shapedefaults": {
           "line": {
            "color": "#2a3f5f"
           }
          },
          "ternary": {
           "aaxis": {
            "gridcolor": "white",
            "linecolor": "white",
            "ticks": ""
           },
           "baxis": {
            "gridcolor": "white",
            "linecolor": "white",
            "ticks": ""
           },
           "bgcolor": "#E5ECF6",
           "caxis": {
            "gridcolor": "white",
            "linecolor": "white",
            "ticks": ""
           }
          },
          "title": {
           "x": 0.05
          },
          "xaxis": {
           "automargin": true,
           "gridcolor": "white",
           "linecolor": "white",
           "ticks": "",
           "title": {
            "standoff": 15
           },
           "zerolinecolor": "white",
           "zerolinewidth": 2
          },
          "yaxis": {
           "automargin": true,
           "gridcolor": "white",
           "linecolor": "white",
           "ticks": "",
           "title": {
            "standoff": 15
           },
           "zerolinecolor": "white",
           "zerolinewidth": 2
          }
         }
        },
        "title": {
         "text": "COVID-19 case details State wise"
        },
        "xaxis": {
         "anchor": "y",
         "domain": [
          0,
          0.45
         ],
         "matches": "x3",
         "showticklabels": false
        },
        "xaxis2": {
         "anchor": "y2",
         "domain": [
          0.55,
          1
         ],
         "matches": "x4",
         "showticklabels": false
        },
        "xaxis3": {
         "anchor": "y3",
         "domain": [
          0,
          0.45
         ]
        },
        "xaxis4": {
         "anchor": "y4",
         "domain": [
          0.55,
          1
         ]
        },
        "yaxis": {
         "anchor": "x",
         "domain": [
          0.575,
          1
         ]
        },
        "yaxis2": {
         "anchor": "x2",
         "domain": [
          0.575,
          1
         ]
        },
        "yaxis3": {
         "anchor": "x3",
         "domain": [
          0,
          0.425
         ]
        },
        "yaxis4": {
         "anchor": "x4",
         "domain": [
          0,
          0.425
         ]
        }
       }
      },
      "text/html": [
       "<div>\n",
       "        \n",
       "        \n",
       "            <div id=\"6453acdf-9b91-45a6-aa80-66daa1be087c\" class=\"plotly-graph-div\" style=\"height:525px; width:100%;\"></div>\n",
       "            <script type=\"text/javascript\">\n",
       "                require([\"plotly\"], function(Plotly) {\n",
       "                    window.PLOTLYENV=window.PLOTLYENV || {};\n",
       "                    \n",
       "                if (document.getElementById(\"6453acdf-9b91-45a6-aa80-66daa1be087c\")) {\n",
       "                    Plotly.newPlot(\n",
       "                        '6453acdf-9b91-45a6-aa80-66daa1be087c',\n",
       "                        [{\"name\": \"Active Cases\", \"type\": \"bar\", \"x\": [\"Andaman Nicobar\", \"Andhra Pradesh\", \"Arunachal Pradesh\", \"Assam\", \"Bihar\", \"Chandigarh\", \"Chattisgarh\", \"DN\", \"Daman & Diu\", \"Delhi\", \"Goa\", \"Gujarat\", \"Haryana\", \"Himachal Pradesh\", \"Jammu And Kashmir\", \"JH\", \"Karnataka\", \"Kerela\", \"Ladakh\", \"LD\", \"Madhya Pradesh\", \"Maharashtra\", \"Manipur\", \"Meghalaya\", \"Mizoram\", \"Nagaland\", \"Orissa\", \"Puducherry\", \"Punjab\", \"Rajasthan\", \"Sikkim\", \"Tamil Nadu\", \"Telegana\", \"Tripura\", \"Uttar Pradesh\", \"Uttarakhand\", \"West Bengal\"], \"xaxis\": \"x\", \"y\": [999, 87597, 690, 19072, 29308, 629, 3642, 448, 0, 10868, 2878, 14025, 6646, 1206, 7462, 8720, 79606, 12770, 506, 0, 9104, 148861, 1774, 626, 300, 2039, 13641, 2279, 8463, 13677, 390, 52810, 22628, 1688, 48998, 3826, 25846], \"yaxis\": \"y\"}, {\"name\": \"Confirmed Cases\", \"type\": \"bar\", \"x\": [\"Andaman Nicobar\", \"Andhra Pradesh\", \"Arunachal Pradesh\", \"Assam\", \"Bihar\", \"Chandigarh\", \"Chattisgarh\", \"DN\", \"Daman & Diu\", \"Delhi\", \"Goa\", \"Gujarat\", \"Haryana\", \"Himachal Pradesh\", \"Jammu And Kashmir\", \"JH\", \"Karnataka\", \"Kerela\", \"Ladakh\", \"LD\", \"Madhya Pradesh\", \"Maharashtra\", \"Manipur\", \"Meghalaya\", \"Mizoram\", \"Nagaland\", \"Orissa\", \"Puducherry\", \"Punjab\", \"Rajasthan\", \"Sikkim\", \"Tamil Nadu\", \"Telegana\", \"Tripura\", \"Uttar Pradesh\", \"Uttarakhand\", \"West Bengal\"], \"xaxis\": \"x2\", \"y\": [1760, 244549, 2327, 64305, 86812, 1670, 12985, 1658, 0, 147391, 9444, 73238, 43227, 3497, 25931, 19469, 188611, 36932, 1770, 0, 40734, 535601, 3941, 1142, 623, 3031, 48796, 5902, 25889, 54887, 926, 308649, 82647, 6387, 131763, 10432, 101390], \"yaxis\": \"y2\"}, {\"name\": \"Recovered Cases\", \"type\": \"bar\", \"x\": [\"Andaman Nicobar\", \"Andhra Pradesh\", \"Arunachal Pradesh\", \"Assam\", \"Bihar\", \"Chandigarh\", \"Chattisgarh\", \"DN\", \"Daman & Diu\", \"Delhi\", \"Goa\", \"Gujarat\", \"Haryana\", \"Himachal Pradesh\", \"Jammu And Kashmir\", \"JH\", \"Karnataka\", \"Kerela\", \"Ladakh\", \"LD\", \"Madhya Pradesh\", \"Maharashtra\", \"Manipur\", \"Meghalaya\", \"Mizoram\", \"Nagaland\", \"Orissa\", \"Puducherry\", \"Punjab\", \"Rajasthan\", \"Sikkim\", \"Tamil Nadu\", \"Telegana\", \"Tripura\", \"Uttar Pradesh\", \"Uttarakhand\", \"West Bengal\"], \"xaxis\": \"x3\", \"y\": [740, 154749, 1634, 45074, 57039, 1015, 9239, 1208, 0, 132384, 6480, 56517, 36081, 2274, 17979, 10555, 105600, 24041, 1255, 0, 30596, 368435, 2155, 510, 323, 985, 34806, 3532, 16790, 40399, 535, 250680, 59374, 4656, 80589, 6470, 73395], \"yaxis\": \"y3\"}, {\"name\": \"Deceased Cases\", \"type\": \"bar\", \"x\": [\"Andaman Nicobar\", \"Andhra Pradesh\", \"Arunachal Pradesh\", \"Assam\", \"Bihar\", \"Chandigarh\", \"Chattisgarh\", \"DN\", \"Daman & Diu\", \"Delhi\", \"Goa\", \"Gujarat\", \"Haryana\", \"Himachal Pradesh\", \"Jammu And Kashmir\", \"JH\", \"Karnataka\", \"Kerela\", \"Ladakh\", \"LD\", \"Madhya Pradesh\", \"Maharashtra\", \"Manipur\", \"Meghalaya\", \"Mizoram\", \"Nagaland\", \"Orissa\", \"Puducherry\", \"Punjab\", \"Rajasthan\", \"Sikkim\", \"Tamil Nadu\", \"Telegana\", \"Tripura\", \"Uttar Pradesh\", \"Uttarakhand\", \"West Bengal\"], \"xaxis\": \"x4\", \"y\": [21, 2203, 3, 159, 465, 26, 104, 2, 0, 4139, 86, 2696, 500, 17, 490, 194, 3405, 121, 9, 0, 1034, 18305, 12, 6, 0, 7, 349, 91, 636, 811, 1, 5159, 645, 43, 2176, 136, 2149], \"yaxis\": \"y4\"}],\n",
       "                        {\"template\": {\"data\": {\"bar\": [{\"error_x\": {\"color\": \"#2a3f5f\"}, \"error_y\": {\"color\": \"#2a3f5f\"}, \"marker\": {\"line\": {\"color\": \"#E5ECF6\", \"width\": 0.5}}, \"type\": \"bar\"}], \"barpolar\": [{\"marker\": {\"line\": {\"color\": \"#E5ECF6\", \"width\": 0.5}}, \"type\": \"barpolar\"}], \"carpet\": [{\"aaxis\": {\"endlinecolor\": \"#2a3f5f\", \"gridcolor\": \"white\", \"linecolor\": \"white\", \"minorgridcolor\": \"white\", \"startlinecolor\": \"#2a3f5f\"}, \"baxis\": {\"endlinecolor\": \"#2a3f5f\", \"gridcolor\": \"white\", \"linecolor\": \"white\", \"minorgridcolor\": \"white\", \"startlinecolor\": \"#2a3f5f\"}, \"type\": \"carpet\"}], \"choropleth\": [{\"colorbar\": {\"outlinewidth\": 0, \"ticks\": \"\"}, \"type\": \"choropleth\"}], \"contour\": [{\"colorbar\": {\"outlinewidth\": 0, \"ticks\": \"\"}, \"colorscale\": [[0.0, \"#0d0887\"], [0.1111111111111111, \"#46039f\"], [0.2222222222222222, \"#7201a8\"], [0.3333333333333333, \"#9c179e\"], [0.4444444444444444, \"#bd3786\"], [0.5555555555555556, \"#d8576b\"], [0.6666666666666666, \"#ed7953\"], [0.7777777777777778, \"#fb9f3a\"], [0.8888888888888888, \"#fdca26\"], [1.0, \"#f0f921\"]], \"type\": \"contour\"}], \"contourcarpet\": [{\"colorbar\": {\"outlinewidth\": 0, \"ticks\": \"\"}, \"type\": \"contourcarpet\"}], \"heatmap\": [{\"colorbar\": {\"outlinewidth\": 0, \"ticks\": \"\"}, \"colorscale\": [[0.0, \"#0d0887\"], [0.1111111111111111, \"#46039f\"], [0.2222222222222222, \"#7201a8\"], [0.3333333333333333, \"#9c179e\"], [0.4444444444444444, \"#bd3786\"], [0.5555555555555556, \"#d8576b\"], [0.6666666666666666, \"#ed7953\"], [0.7777777777777778, \"#fb9f3a\"], [0.8888888888888888, \"#fdca26\"], [1.0, \"#f0f921\"]], \"type\": \"heatmap\"}], \"heatmapgl\": [{\"colorbar\": {\"outlinewidth\": 0, \"ticks\": \"\"}, \"colorscale\": [[0.0, \"#0d0887\"], [0.1111111111111111, \"#46039f\"], [0.2222222222222222, \"#7201a8\"], [0.3333333333333333, \"#9c179e\"], [0.4444444444444444, \"#bd3786\"], [0.5555555555555556, \"#d8576b\"], [0.6666666666666666, \"#ed7953\"], [0.7777777777777778, \"#fb9f3a\"], [0.8888888888888888, \"#fdca26\"], [1.0, \"#f0f921\"]], \"type\": \"heatmapgl\"}], \"histogram\": [{\"marker\": {\"colorbar\": {\"outlinewidth\": 0, \"ticks\": \"\"}}, \"type\": \"histogram\"}], \"histogram2d\": [{\"colorbar\": {\"outlinewidth\": 0, \"ticks\": \"\"}, \"colorscale\": [[0.0, \"#0d0887\"], [0.1111111111111111, \"#46039f\"], [0.2222222222222222, \"#7201a8\"], [0.3333333333333333, \"#9c179e\"], [0.4444444444444444, \"#bd3786\"], [0.5555555555555556, \"#d8576b\"], [0.6666666666666666, \"#ed7953\"], [0.7777777777777778, \"#fb9f3a\"], [0.8888888888888888, \"#fdca26\"], [1.0, \"#f0f921\"]], \"type\": \"histogram2d\"}], \"histogram2dcontour\": [{\"colorbar\": {\"outlinewidth\": 0, \"ticks\": \"\"}, \"colorscale\": [[0.0, \"#0d0887\"], [0.1111111111111111, \"#46039f\"], [0.2222222222222222, \"#7201a8\"], [0.3333333333333333, \"#9c179e\"], [0.4444444444444444, \"#bd3786\"], [0.5555555555555556, \"#d8576b\"], [0.6666666666666666, \"#ed7953\"], [0.7777777777777778, \"#fb9f3a\"], [0.8888888888888888, \"#fdca26\"], [1.0, \"#f0f921\"]], \"type\": \"histogram2dcontour\"}], \"mesh3d\": [{\"colorbar\": {\"outlinewidth\": 0, \"ticks\": \"\"}, \"type\": \"mesh3d\"}], \"parcoords\": [{\"line\": {\"colorbar\": {\"outlinewidth\": 0, \"ticks\": \"\"}}, \"type\": \"parcoords\"}], \"pie\": [{\"automargin\": true, \"type\": \"pie\"}], \"scatter\": [{\"marker\": {\"colorbar\": {\"outlinewidth\": 0, \"ticks\": \"\"}}, \"type\": \"scatter\"}], \"scatter3d\": [{\"line\": {\"colorbar\": {\"outlinewidth\": 0, \"ticks\": \"\"}}, \"marker\": {\"colorbar\": {\"outlinewidth\": 0, \"ticks\": \"\"}}, \"type\": \"scatter3d\"}], \"scattercarpet\": [{\"marker\": {\"colorbar\": {\"outlinewidth\": 0, \"ticks\": \"\"}}, \"type\": \"scattercarpet\"}], \"scattergeo\": [{\"marker\": {\"colorbar\": {\"outlinewidth\": 0, \"ticks\": \"\"}}, \"type\": \"scattergeo\"}], \"scattergl\": [{\"marker\": {\"colorbar\": {\"outlinewidth\": 0, \"ticks\": \"\"}}, \"type\": \"scattergl\"}], \"scattermapbox\": [{\"marker\": {\"colorbar\": {\"outlinewidth\": 0, \"ticks\": \"\"}}, \"type\": \"scattermapbox\"}], \"scatterpolar\": [{\"marker\": {\"colorbar\": {\"outlinewidth\": 0, \"ticks\": \"\"}}, \"type\": \"scatterpolar\"}], \"scatterpolargl\": [{\"marker\": {\"colorbar\": {\"outlinewidth\": 0, \"ticks\": \"\"}}, \"type\": \"scatterpolargl\"}], \"scatterternary\": [{\"marker\": {\"colorbar\": {\"outlinewidth\": 0, \"ticks\": \"\"}}, \"type\": \"scatterternary\"}], \"surface\": [{\"colorbar\": {\"outlinewidth\": 0, \"ticks\": \"\"}, \"colorscale\": [[0.0, \"#0d0887\"], [0.1111111111111111, \"#46039f\"], [0.2222222222222222, \"#7201a8\"], [0.3333333333333333, \"#9c179e\"], [0.4444444444444444, \"#bd3786\"], [0.5555555555555556, \"#d8576b\"], [0.6666666666666666, \"#ed7953\"], [0.7777777777777778, \"#fb9f3a\"], [0.8888888888888888, \"#fdca26\"], [1.0, \"#f0f921\"]], \"type\": \"surface\"}], \"table\": [{\"cells\": {\"fill\": {\"color\": \"#EBF0F8\"}, \"line\": {\"color\": \"white\"}}, \"header\": {\"fill\": {\"color\": \"#C8D4E3\"}, \"line\": {\"color\": \"white\"}}, \"type\": \"table\"}]}, \"layout\": {\"annotationdefaults\": {\"arrowcolor\": \"#2a3f5f\", \"arrowhead\": 0, \"arrowwidth\": 1}, \"coloraxis\": {\"colorbar\": {\"outlinewidth\": 0, \"ticks\": \"\"}}, \"colorscale\": {\"diverging\": [[0, \"#8e0152\"], [0.1, \"#c51b7d\"], [0.2, \"#de77ae\"], [0.3, \"#f1b6da\"], [0.4, \"#fde0ef\"], [0.5, \"#f7f7f7\"], [0.6, \"#e6f5d0\"], [0.7, \"#b8e186\"], [0.8, \"#7fbc41\"], [0.9, \"#4d9221\"], [1, \"#276419\"]], \"sequential\": [[0.0, \"#0d0887\"], [0.1111111111111111, \"#46039f\"], [0.2222222222222222, \"#7201a8\"], [0.3333333333333333, \"#9c179e\"], [0.4444444444444444, \"#bd3786\"], [0.5555555555555556, \"#d8576b\"], [0.6666666666666666, \"#ed7953\"], [0.7777777777777778, \"#fb9f3a\"], [0.8888888888888888, \"#fdca26\"], [1.0, \"#f0f921\"]], \"sequentialminus\": [[0.0, \"#0d0887\"], [0.1111111111111111, \"#46039f\"], [0.2222222222222222, \"#7201a8\"], [0.3333333333333333, \"#9c179e\"], [0.4444444444444444, \"#bd3786\"], [0.5555555555555556, \"#d8576b\"], [0.6666666666666666, \"#ed7953\"], [0.7777777777777778, \"#fb9f3a\"], [0.8888888888888888, \"#fdca26\"], [1.0, \"#f0f921\"]]}, \"colorway\": [\"#636efa\", \"#EF553B\", \"#00cc96\", \"#ab63fa\", \"#FFA15A\", \"#19d3f3\", \"#FF6692\", \"#B6E880\", \"#FF97FF\", \"#FECB52\"], \"font\": {\"color\": \"#2a3f5f\"}, \"geo\": {\"bgcolor\": \"white\", \"lakecolor\": \"white\", \"landcolor\": \"#E5ECF6\", \"showlakes\": true, \"showland\": true, \"subunitcolor\": \"white\"}, \"hoverlabel\": {\"align\": \"left\"}, \"hovermode\": \"closest\", \"mapbox\": {\"style\": \"light\"}, \"paper_bgcolor\": \"white\", \"plot_bgcolor\": \"#E5ECF6\", \"polar\": {\"angularaxis\": {\"gridcolor\": \"white\", \"linecolor\": \"white\", \"ticks\": \"\"}, \"bgcolor\": \"#E5ECF6\", \"radialaxis\": {\"gridcolor\": \"white\", \"linecolor\": \"white\", \"ticks\": \"\"}}, \"scene\": {\"xaxis\": {\"backgroundcolor\": \"#E5ECF6\", \"gridcolor\": \"white\", \"gridwidth\": 2, \"linecolor\": \"white\", \"showbackground\": true, \"ticks\": \"\", \"zerolinecolor\": \"white\"}, \"yaxis\": {\"backgroundcolor\": \"#E5ECF6\", \"gridcolor\": \"white\", \"gridwidth\": 2, \"linecolor\": \"white\", \"showbackground\": true, \"ticks\": \"\", \"zerolinecolor\": \"white\"}, \"zaxis\": {\"backgroundcolor\": \"#E5ECF6\", \"gridcolor\": \"white\", \"gridwidth\": 2, \"linecolor\": \"white\", \"showbackground\": true, \"ticks\": \"\", \"zerolinecolor\": \"white\"}}, \"shapedefaults\": {\"line\": {\"color\": \"#2a3f5f\"}}, \"ternary\": {\"aaxis\": {\"gridcolor\": \"white\", \"linecolor\": \"white\", \"ticks\": \"\"}, \"baxis\": {\"gridcolor\": \"white\", \"linecolor\": \"white\", \"ticks\": \"\"}, \"bgcolor\": \"#E5ECF6\", \"caxis\": {\"gridcolor\": \"white\", \"linecolor\": \"white\", \"ticks\": \"\"}}, \"title\": {\"x\": 0.05}, \"xaxis\": {\"automargin\": true, \"gridcolor\": \"white\", \"linecolor\": \"white\", \"ticks\": \"\", \"title\": {\"standoff\": 15}, \"zerolinecolor\": \"white\", \"zerolinewidth\": 2}, \"yaxis\": {\"automargin\": true, \"gridcolor\": \"white\", \"linecolor\": \"white\", \"ticks\": \"\", \"title\": {\"standoff\": 15}, \"zerolinecolor\": \"white\", \"zerolinewidth\": 2}}}, \"title\": {\"text\": \"COVID-19 case details State wise\"}, \"xaxis\": {\"anchor\": \"y\", \"domain\": [0.0, 0.45], \"matches\": \"x3\", \"showticklabels\": false}, \"xaxis2\": {\"anchor\": \"y2\", \"domain\": [0.55, 1.0], \"matches\": \"x4\", \"showticklabels\": false}, \"xaxis3\": {\"anchor\": \"y3\", \"domain\": [0.0, 0.45]}, \"xaxis4\": {\"anchor\": \"y4\", \"domain\": [0.55, 1.0]}, \"yaxis\": {\"anchor\": \"x\", \"domain\": [0.575, 1.0]}, \"yaxis2\": {\"anchor\": \"x2\", \"domain\": [0.575, 1.0]}, \"yaxis3\": {\"anchor\": \"x3\", \"domain\": [0.0, 0.425]}, \"yaxis4\": {\"anchor\": \"x4\", \"domain\": [0.0, 0.425]}},\n",
       "                        {\"responsive\": true}\n",
       "                    ).then(function(){\n",
       "                            \n",
       "var gd = document.getElementById('6453acdf-9b91-45a6-aa80-66daa1be087c');\n",
       "var x = new MutationObserver(function (mutations, observer) {{\n",
       "        var display = window.getComputedStyle(gd).display;\n",
       "        if (!display || display === 'none') {{\n",
       "            console.log([gd, 'removed!']);\n",
       "            Plotly.purge(gd);\n",
       "            observer.disconnect();\n",
       "        }}\n",
       "}});\n",
       "\n",
       "// Listen for the removal of the full notebook cells\n",
       "var notebookContainer = gd.closest('#notebook-container');\n",
       "if (notebookContainer) {{\n",
       "    x.observe(notebookContainer, {childList: true});\n",
       "}}\n",
       "\n",
       "// Listen for the clearing of the current output cell\n",
       "var outputEl = gd.closest('.output');\n",
       "if (outputEl) {{\n",
       "    x.observe(outputEl, {childList: true});\n",
       "}}\n",
       "\n",
       "                        })\n",
       "                };\n",
       "                });\n",
       "            </script>\n",
       "        </div>"
      ]
     },
     "metadata": {},
     "output_type": "display_data"
    }
   ],
   "source": [
    "fig=make_subplots(rows=2,cols=2,shared_xaxes=True)\n",
    "barchart1=go.Bar(x=final_df.index,y=final_df['Confirmed Cases'],name='Confirmed Cases')\n",
    "barchart2=go.Bar(x=final_df.index,y=final_df['Recovered Cases'],name='Recovered Cases')\n",
    "barchart3=go.Bar(x=final_df.index,y=final_df['Deceased Cases'],name='Deceased Cases')\n",
    "barchart4 = go.Bar(x=final_df.index, y=final_df['Active Cases'], name='Active Cases')\n",
    "layout=go.Layout(title='Total Confirmed Cases in Each State')\n",
    "fig.add_trace(barchart4,1,1)\n",
    "fig.add_trace(barchart1, 1, 2)\n",
    "fig.add_trace(barchart2, 2, 1)\n",
    "fig.add_trace(barchart3, 2, 2)\n",
    "fig.update_layout( title_text=\"COVID-19 case details State wise\")\n",
    "fig.show()\n"
   ]
  },
  {
   "cell_type": "markdown",
   "metadata": {},
   "source": [
    "## COVID-19 Cases/million"
   ]
  },
  {
   "cell_type": "markdown",
   "metadata": {},
   "source": [
    "So, now we will see the number of Confirmed Cases per million(i.e. 10 Lakh) population. The data is arranged in such a manner that States having the highest Cases/million ratio are on the top i.e the data is arranged in a descending manner."
   ]
  },
  {
   "cell_type": "code",
   "execution_count": 44,
   "metadata": {},
   "outputs": [
    {
     "data": {
      "text/html": [
       "<div>\n",
       "<style scoped>\n",
       "    .dataframe tbody tr th:only-of-type {\n",
       "        vertical-align: middle;\n",
       "    }\n",
       "\n",
       "    .dataframe tbody tr th {\n",
       "        vertical-align: top;\n",
       "    }\n",
       "\n",
       "    .dataframe thead th {\n",
       "        text-align: right;\n",
       "    }\n",
       "</style>\n",
       "<table border=\"1\" class=\"dataframe\">\n",
       "  <thead>\n",
       "    <tr style=\"text-align: right;\">\n",
       "      <th></th>\n",
       "      <th>State</th>\n",
       "      <th>Confirmed Cases</th>\n",
       "      <th>Recovered Cases</th>\n",
       "      <th>Deceased Cases</th>\n",
       "      <th>Active Cases</th>\n",
       "      <th>Recovered Ratio(in %)</th>\n",
       "      <th>Active Ratio(in %)</th>\n",
       "      <th>Deceased Ratio(in %)</th>\n",
       "      <th>Population</th>\n",
       "      <th>Area (per sq km)</th>\n",
       "      <th>Cases/million</th>\n",
       "    </tr>\n",
       "  </thead>\n",
       "  <tbody>\n",
       "    <tr>\n",
       "      <th>9</th>\n",
       "      <td>Assam</td>\n",
       "      <td>64305</td>\n",
       "      <td>45074</td>\n",
       "      <td>159</td>\n",
       "      <td>19072</td>\n",
       "      <td>70.1</td>\n",
       "      <td>29.7</td>\n",
       "      <td>0.2</td>\n",
       "      <td>6755448</td>\n",
       "      <td>78438</td>\n",
       "      <td>9,519.0</td>\n",
       "    </tr>\n",
       "    <tr>\n",
       "      <th>22</th>\n",
       "      <td>Ladakh</td>\n",
       "      <td>1770</td>\n",
       "      <td>1255</td>\n",
       "      <td>9</td>\n",
       "      <td>506</td>\n",
       "      <td>70.9</td>\n",
       "      <td>28.6</td>\n",
       "      <td>0.5</td>\n",
       "      <td>210156</td>\n",
       "      <td>59146</td>\n",
       "      <td>8,422.3</td>\n",
       "    </tr>\n",
       "    <tr>\n",
       "      <th>4</th>\n",
       "      <td>Delhi</td>\n",
       "      <td>147391</td>\n",
       "      <td>132384</td>\n",
       "      <td>4139</td>\n",
       "      <td>10868</td>\n",
       "      <td>89.8</td>\n",
       "      <td>7.4</td>\n",
       "      <td>2.8</td>\n",
       "      <td>21763471</td>\n",
       "      <td>1483</td>\n",
       "      <td>6,772.4</td>\n",
       "    </tr>\n",
       "    <tr>\n",
       "      <th>15</th>\n",
       "      <td>Goa</td>\n",
       "      <td>9444</td>\n",
       "      <td>6480</td>\n",
       "      <td>86</td>\n",
       "      <td>2878</td>\n",
       "      <td>68.6</td>\n",
       "      <td>30.5</td>\n",
       "      <td>0.9</td>\n",
       "      <td>1587012</td>\n",
       "      <td>3702</td>\n",
       "      <td>5,950.8</td>\n",
       "    </tr>\n",
       "    <tr>\n",
       "      <th>2</th>\n",
       "      <td>Andhra Pradesh</td>\n",
       "      <td>244549</td>\n",
       "      <td>154749</td>\n",
       "      <td>2203</td>\n",
       "      <td>87597</td>\n",
       "      <td>63.3</td>\n",
       "      <td>35.8</td>\n",
       "      <td>0.9</td>\n",
       "      <td>49145456</td>\n",
       "      <td>162970</td>\n",
       "      <td>4,976.0</td>\n",
       "    </tr>\n",
       "    <tr>\n",
       "      <th>0</th>\n",
       "      <td>Maharashtra</td>\n",
       "      <td>535601</td>\n",
       "      <td>368435</td>\n",
       "      <td>18305</td>\n",
       "      <td>148861</td>\n",
       "      <td>68.8</td>\n",
       "      <td>27.8</td>\n",
       "      <td>3.4</td>\n",
       "      <td>114063427</td>\n",
       "      <td>307713</td>\n",
       "      <td>4,695.6</td>\n",
       "    </tr>\n",
       "    <tr>\n",
       "      <th>17</th>\n",
       "      <td>Puducherry</td>\n",
       "      <td>5902</td>\n",
       "      <td>3532</td>\n",
       "      <td>91</td>\n",
       "      <td>2279</td>\n",
       "      <td>59.8</td>\n",
       "      <td>38.6</td>\n",
       "      <td>1.5</td>\n",
       "      <td>1286189</td>\n",
       "      <td>490</td>\n",
       "      <td>4,588.8</td>\n",
       "    </tr>\n",
       "    <tr>\n",
       "      <th>1</th>\n",
       "      <td>Tamil Nadu</td>\n",
       "      <td>308649</td>\n",
       "      <td>250680</td>\n",
       "      <td>5159</td>\n",
       "      <td>52810</td>\n",
       "      <td>81.2</td>\n",
       "      <td>17.1</td>\n",
       "      <td>1.7</td>\n",
       "      <td>72344821</td>\n",
       "      <td>130060</td>\n",
       "      <td>4,266.4</td>\n",
       "    </tr>\n",
       "    <tr>\n",
       "      <th>3</th>\n",
       "      <td>Karnataka</td>\n",
       "      <td>188611</td>\n",
       "      <td>105600</td>\n",
       "      <td>3405</td>\n",
       "      <td>79606</td>\n",
       "      <td>56.0</td>\n",
       "      <td>42.2</td>\n",
       "      <td>1.8</td>\n",
       "      <td>62462743</td>\n",
       "      <td>191791</td>\n",
       "      <td>3,019.6</td>\n",
       "    </tr>\n",
       "    <tr>\n",
       "      <th>20</th>\n",
       "      <td>Nagaland</td>\n",
       "      <td>3031</td>\n",
       "      <td>985</td>\n",
       "      <td>7</td>\n",
       "      <td>2039</td>\n",
       "      <td>32.5</td>\n",
       "      <td>67.3</td>\n",
       "      <td>0.2</td>\n",
       "      <td>1262729</td>\n",
       "      <td>16579</td>\n",
       "      <td>2,400.4</td>\n",
       "    </tr>\n",
       "    <tr>\n",
       "      <th>21</th>\n",
       "      <td>Arunachal Pradesh</td>\n",
       "      <td>2327</td>\n",
       "      <td>1634</td>\n",
       "      <td>3</td>\n",
       "      <td>690</td>\n",
       "      <td>70.2</td>\n",
       "      <td>29.7</td>\n",
       "      <td>0.1</td>\n",
       "      <td>1229964</td>\n",
       "      <td>83743</td>\n",
       "      <td>1,891.9</td>\n",
       "    </tr>\n",
       "    <tr>\n",
       "      <th>16</th>\n",
       "      <td>Tripura</td>\n",
       "      <td>6387</td>\n",
       "      <td>4656</td>\n",
       "      <td>43</td>\n",
       "      <td>1688</td>\n",
       "      <td>72.9</td>\n",
       "      <td>26.4</td>\n",
       "      <td>0.7</td>\n",
       "      <td>3672693</td>\n",
       "      <td>10486</td>\n",
       "      <td>1,739.1</td>\n",
       "    </tr>\n",
       "    <tr>\n",
       "      <th>25</th>\n",
       "      <td>Sikkim</td>\n",
       "      <td>926</td>\n",
       "      <td>535</td>\n",
       "      <td>1</td>\n",
       "      <td>390</td>\n",
       "      <td>57.8</td>\n",
       "      <td>42.1</td>\n",
       "      <td>0.1</td>\n",
       "      <td>578914</td>\n",
       "      <td>7096</td>\n",
       "      <td>1,599.5</td>\n",
       "    </tr>\n",
       "    <tr>\n",
       "      <th>18</th>\n",
       "      <td>Manipur</td>\n",
       "      <td>3941</td>\n",
       "      <td>2155</td>\n",
       "      <td>12</td>\n",
       "      <td>1774</td>\n",
       "      <td>54.7</td>\n",
       "      <td>45.0</td>\n",
       "      <td>0.3</td>\n",
       "      <td>2515724</td>\n",
       "      <td>22327</td>\n",
       "      <td>1,566.5</td>\n",
       "    </tr>\n",
       "    <tr>\n",
       "      <th>11</th>\n",
       "      <td>Haryana</td>\n",
       "      <td>43227</td>\n",
       "      <td>36081</td>\n",
       "      <td>500</td>\n",
       "      <td>6646</td>\n",
       "      <td>83.5</td>\n",
       "      <td>15.4</td>\n",
       "      <td>1.2</td>\n",
       "      <td>28941133</td>\n",
       "      <td>44212</td>\n",
       "      <td>1,493.6</td>\n",
       "    </tr>\n",
       "    <tr>\n",
       "      <th>23</th>\n",
       "      <td>Chandigarh</td>\n",
       "      <td>1670</td>\n",
       "      <td>1015</td>\n",
       "      <td>26</td>\n",
       "      <td>629</td>\n",
       "      <td>60.8</td>\n",
       "      <td>37.7</td>\n",
       "      <td>1.6</td>\n",
       "      <td>1131522</td>\n",
       "      <td>114</td>\n",
       "      <td>1,475.9</td>\n",
       "    </tr>\n",
       "    <tr>\n",
       "      <th>8</th>\n",
       "      <td>Gujarat</td>\n",
       "      <td>73238</td>\n",
       "      <td>56517</td>\n",
       "      <td>2696</td>\n",
       "      <td>14025</td>\n",
       "      <td>77.2</td>\n",
       "      <td>19.1</td>\n",
       "      <td>3.7</td>\n",
       "      <td>62097024</td>\n",
       "      <td>196244</td>\n",
       "      <td>1,179.4</td>\n",
       "    </tr>\n",
       "    <tr>\n",
       "      <th>24</th>\n",
       "      <td>Meghalaya</td>\n",
       "      <td>1142</td>\n",
       "      <td>510</td>\n",
       "      <td>6</td>\n",
       "      <td>626</td>\n",
       "      <td>44.7</td>\n",
       "      <td>54.8</td>\n",
       "      <td>0.5</td>\n",
       "      <td>978281</td>\n",
       "      <td>22429</td>\n",
       "      <td>1,167.4</td>\n",
       "    </tr>\n",
       "    <tr>\n",
       "      <th>6</th>\n",
       "      <td>West Bengal</td>\n",
       "      <td>101390</td>\n",
       "      <td>73395</td>\n",
       "      <td>2149</td>\n",
       "      <td>25846</td>\n",
       "      <td>72.4</td>\n",
       "      <td>25.5</td>\n",
       "      <td>2.1</td>\n",
       "      <td>91928327</td>\n",
       "      <td>88752</td>\n",
       "      <td>1,102.9</td>\n",
       "    </tr>\n",
       "    <tr>\n",
       "      <th>14</th>\n",
       "      <td>Uttarakhand</td>\n",
       "      <td>10432</td>\n",
       "      <td>6470</td>\n",
       "      <td>136</td>\n",
       "      <td>3826</td>\n",
       "      <td>62.0</td>\n",
       "      <td>36.7</td>\n",
       "      <td>1.3</td>\n",
       "      <td>11082791</td>\n",
       "      <td>53483</td>\n",
       "      <td>941.3</td>\n",
       "    </tr>\n",
       "    <tr>\n",
       "      <th>13</th>\n",
       "      <td>Punjab</td>\n",
       "      <td>25889</td>\n",
       "      <td>16790</td>\n",
       "      <td>636</td>\n",
       "      <td>8463</td>\n",
       "      <td>64.9</td>\n",
       "      <td>32.7</td>\n",
       "      <td>2.5</td>\n",
       "      <td>30355185</td>\n",
       "      <td>50362</td>\n",
       "      <td>852.9</td>\n",
       "    </tr>\n",
       "    <tr>\n",
       "      <th>7</th>\n",
       "      <td>Bihar</td>\n",
       "      <td>86812</td>\n",
       "      <td>57039</td>\n",
       "      <td>465</td>\n",
       "      <td>29308</td>\n",
       "      <td>65.7</td>\n",
       "      <td>33.8</td>\n",
       "      <td>0.5</td>\n",
       "      <td>102714667</td>\n",
       "      <td>94163</td>\n",
       "      <td>845.2</td>\n",
       "    </tr>\n",
       "    <tr>\n",
       "      <th>10</th>\n",
       "      <td>Rajasthan</td>\n",
       "      <td>54887</td>\n",
       "      <td>40399</td>\n",
       "      <td>811</td>\n",
       "      <td>13677</td>\n",
       "      <td>73.6</td>\n",
       "      <td>24.9</td>\n",
       "      <td>1.5</td>\n",
       "      <td>68936999</td>\n",
       "      <td>342239</td>\n",
       "      <td>796.2</td>\n",
       "    </tr>\n",
       "    <tr>\n",
       "      <th>5</th>\n",
       "      <td>Uttar Pradesh</td>\n",
       "      <td>131763</td>\n",
       "      <td>80589</td>\n",
       "      <td>2176</td>\n",
       "      <td>48998</td>\n",
       "      <td>61.2</td>\n",
       "      <td>37.2</td>\n",
       "      <td>1.7</td>\n",
       "      <td>203757489</td>\n",
       "      <td>240928</td>\n",
       "      <td>646.7</td>\n",
       "    </tr>\n",
       "    <tr>\n",
       "      <th>26</th>\n",
       "      <td>Mizoram</td>\n",
       "      <td>623</td>\n",
       "      <td>323</td>\n",
       "      <td>0</td>\n",
       "      <td>300</td>\n",
       "      <td>51.8</td>\n",
       "      <td>48.2</td>\n",
       "      <td>0.0</td>\n",
       "      <td>1089577</td>\n",
       "      <td>21081</td>\n",
       "      <td>571.8</td>\n",
       "    </tr>\n",
       "    <tr>\n",
       "      <th>12</th>\n",
       "      <td>Madhya Pradesh</td>\n",
       "      <td>40734</td>\n",
       "      <td>30596</td>\n",
       "      <td>1034</td>\n",
       "      <td>9104</td>\n",
       "      <td>75.1</td>\n",
       "      <td>22.3</td>\n",
       "      <td>2.5</td>\n",
       "      <td>74770270</td>\n",
       "      <td>308252</td>\n",
       "      <td>544.8</td>\n",
       "    </tr>\n",
       "    <tr>\n",
       "      <th>19</th>\n",
       "      <td>Himachal Pradesh</td>\n",
       "      <td>3497</td>\n",
       "      <td>2274</td>\n",
       "      <td>17</td>\n",
       "      <td>1206</td>\n",
       "      <td>65.0</td>\n",
       "      <td>34.5</td>\n",
       "      <td>0.5</td>\n",
       "      <td>7560770</td>\n",
       "      <td>55673</td>\n",
       "      <td>462.5</td>\n",
       "    </tr>\n",
       "    <tr>\n",
       "      <th>27</th>\n",
       "      <td>Daman &amp; Diu</td>\n",
       "      <td>0</td>\n",
       "      <td>0</td>\n",
       "      <td>0</td>\n",
       "      <td>0</td>\n",
       "      <td>0.0</td>\n",
       "      <td>0.0</td>\n",
       "      <td>0.0</td>\n",
       "      <td>210294</td>\n",
       "      <td>111</td>\n",
       "      <td>0.0</td>\n",
       "    </tr>\n",
       "  </tbody>\n",
       "</table>\n",
       "</div>"
      ],
      "text/plain": [
       "                State  Confirmed Cases  Recovered Cases  Deceased Cases  \\\n",
       "9               Assam            64305            45074             159   \n",
       "22             Ladakh             1770             1255               9   \n",
       "4               Delhi           147391           132384            4139   \n",
       "15                Goa             9444             6480              86   \n",
       "2      Andhra Pradesh           244549           154749            2203   \n",
       "0         Maharashtra           535601           368435           18305   \n",
       "17         Puducherry             5902             3532              91   \n",
       "1          Tamil Nadu           308649           250680            5159   \n",
       "3           Karnataka           188611           105600            3405   \n",
       "20           Nagaland             3031              985               7   \n",
       "21  Arunachal Pradesh             2327             1634               3   \n",
       "16            Tripura             6387             4656              43   \n",
       "25             Sikkim              926              535               1   \n",
       "18            Manipur             3941             2155              12   \n",
       "11            Haryana            43227            36081             500   \n",
       "23         Chandigarh             1670             1015              26   \n",
       "8             Gujarat            73238            56517            2696   \n",
       "24          Meghalaya             1142              510               6   \n",
       "6         West Bengal           101390            73395            2149   \n",
       "14        Uttarakhand            10432             6470             136   \n",
       "13             Punjab            25889            16790             636   \n",
       "7               Bihar            86812            57039             465   \n",
       "10          Rajasthan            54887            40399             811   \n",
       "5       Uttar Pradesh           131763            80589            2176   \n",
       "26            Mizoram              623              323               0   \n",
       "12     Madhya Pradesh            40734            30596            1034   \n",
       "19   Himachal Pradesh             3497             2274              17   \n",
       "27        Daman & Diu                0                0               0   \n",
       "\n",
       "    Active Cases  Recovered Ratio(in %)  Active Ratio(in %)  \\\n",
       "9          19072                   70.1                29.7   \n",
       "22           506                   70.9                28.6   \n",
       "4          10868                   89.8                 7.4   \n",
       "15          2878                   68.6                30.5   \n",
       "2          87597                   63.3                35.8   \n",
       "0         148861                   68.8                27.8   \n",
       "17          2279                   59.8                38.6   \n",
       "1          52810                   81.2                17.1   \n",
       "3          79606                   56.0                42.2   \n",
       "20          2039                   32.5                67.3   \n",
       "21           690                   70.2                29.7   \n",
       "16          1688                   72.9                26.4   \n",
       "25           390                   57.8                42.1   \n",
       "18          1774                   54.7                45.0   \n",
       "11          6646                   83.5                15.4   \n",
       "23           629                   60.8                37.7   \n",
       "8          14025                   77.2                19.1   \n",
       "24           626                   44.7                54.8   \n",
       "6          25846                   72.4                25.5   \n",
       "14          3826                   62.0                36.7   \n",
       "13          8463                   64.9                32.7   \n",
       "7          29308                   65.7                33.8   \n",
       "10         13677                   73.6                24.9   \n",
       "5          48998                   61.2                37.2   \n",
       "26           300                   51.8                48.2   \n",
       "12          9104                   75.1                22.3   \n",
       "19          1206                   65.0                34.5   \n",
       "27             0                    0.0                 0.0   \n",
       "\n",
       "    Deceased Ratio(in %)  Population  Area (per sq km)  Cases/million  \n",
       "9                    0.2     6755448             78438        9,519.0  \n",
       "22                   0.5      210156             59146        8,422.3  \n",
       "4                    2.8    21763471              1483        6,772.4  \n",
       "15                   0.9     1587012              3702        5,950.8  \n",
       "2                    0.9    49145456            162970        4,976.0  \n",
       "0                    3.4   114063427            307713        4,695.6  \n",
       "17                   1.5     1286189               490        4,588.8  \n",
       "1                    1.7    72344821            130060        4,266.4  \n",
       "3                    1.8    62462743            191791        3,019.6  \n",
       "20                   0.2     1262729             16579        2,400.4  \n",
       "21                   0.1     1229964             83743        1,891.9  \n",
       "16                   0.7     3672693             10486        1,739.1  \n",
       "25                   0.1      578914              7096        1,599.5  \n",
       "18                   0.3     2515724             22327        1,566.5  \n",
       "11                   1.2    28941133             44212        1,493.6  \n",
       "23                   1.6     1131522               114        1,475.9  \n",
       "8                    3.7    62097024            196244        1,179.4  \n",
       "24                   0.5      978281             22429        1,167.4  \n",
       "6                    2.1    91928327             88752        1,102.9  \n",
       "14                   1.3    11082791             53483          941.3  \n",
       "13                   2.5    30355185             50362          852.9  \n",
       "7                    0.5   102714667             94163          845.2  \n",
       "10                   1.5    68936999            342239          796.2  \n",
       "5                    1.7   203757489            240928          646.7  \n",
       "26                   0.0     1089577             21081          571.8  \n",
       "12                   2.5    74770270            308252          544.8  \n",
       "19                   0.5     7560770             55673          462.5  \n",
       "27                   0.0      210294               111            0.0  "
      ]
     },
     "execution_count": 44,
     "metadata": {},
     "output_type": "execute_result"
    }
   ],
   "source": [
    "population = pd.read_excel('Indian States Population and Area.xlsx')\n",
    "df_population = pd.merge( final_df1,population, on='State')\n",
    "df_population.sort_values(by='Confirmed Cases',ascending=False,inplace=True)\n",
    "df_population.reset_index(inplace=True)\n",
    "df_population.drop(['index'], axis=1, inplace=True)\n",
    "df_population['Cases/million']=(df_population['Confirmed Cases']/df_population['Population'])*1000000\n",
    "df_population.sort_values(by='Cases/million',ascending=False,inplace=True)\n",
    "df_population"
   ]
  },
  {
   "cell_type": "markdown",
   "metadata": {},
   "source": [
    "## States with maximum Confirmed Cases"
   ]
  },
  {
   "cell_type": "code",
   "execution_count": 45,
   "metadata": {},
   "outputs": [
    {
     "data": {
      "text/plain": [
       "<matplotlib.axes._subplots.AxesSubplot at 0x1599f4e83c8>"
      ]
     },
     "execution_count": 45,
     "metadata": {},
     "output_type": "execute_result"
    },
    {
     "data": {
      "image/png": "[encoded data removed]",
      "text/plain": [
       "<Figure size 936x360 with 1 Axes>"
      ]
     },
     "metadata": {
      "needs_background": "light"
     },
     "output_type": "display_data"
    }
   ],
   "source": [
    "a=final_df.sort_values(by='Confirmed Cases',ascending=False)\n",
    "a=a.head(5)\n",
    "plt.figure(figsize=(13,5))\n",
    "plt.title('Top 5 States with Maximum Confirmed Cases')\n",
    "a['Confirmed Cases'].plot(kind='bar',color='red')"
   ]
  },
  {
   "cell_type": "markdown",
   "metadata": {},
   "source": [
    "On inspecting the above chart,currently Maharashtra is having the highest number of Confirmed Cases which has crossed 5 Lakhs Cases. Maharashtra is being followed by Tamil Nadu which is having more than 3 lakhs Cases and Karnataka and Delhi having more than 2.3 Lakhs and 1.5 Lakhs cases respectively."
   ]
  },
  {
   "cell_type": "markdown",
   "metadata": {},
   "source": [
    "## States with Maximum Recovered Cases"
   ]
  },
  {
   "cell_type": "code",
   "execution_count": 46,
   "metadata": {},
   "outputs": [
    {
     "data": {
      "text/plain": [
       "<matplotlib.axes._subplots.AxesSubplot at 0x1599f4a1c48>"
      ]
     },
     "execution_count": 46,
     "metadata": {},
     "output_type": "execute_result"
    },
    {
     "data": {
      "image/png": "[encoded data removed]",
      "text/plain": [
       "<Figure size 936x360 with 1 Axes>"
      ]
     },
     "metadata": {
      "needs_background": "light"
     },
     "output_type": "display_data"
    }
   ],
   "source": [
    "a=final_df.sort_values(by='Recovered Cases',ascending=False)\n",
    "a=a.head(5)\n",
    "plt.figure(figsize=(13,5))\n",
    "plt.title('Top 5 States with Maximum Recovered Cases')\n",
    "a['Recovered Cases'].plot(kind='bar',color='green')"
   ]
  },
  {
   "cell_type": "markdown",
   "metadata": {},
   "source": [
    "There is a slight change in the order of States having highest Recovery cases as compared to Confirmed Cases. As we saw earlier that Maharashtra had the Highest Confirmed Cases, simultaneously it also has the highest Recovery rate than all the other states"
   ]
  },
  {
   "cell_type": "markdown",
   "metadata": {},
   "source": [
    "## States with maximum Deceased Cases"
   ]
  },
  {
   "cell_type": "code",
   "execution_count": 47,
   "metadata": {},
   "outputs": [
    {
     "data": {
      "text/plain": [
       "<matplotlib.axes._subplots.AxesSubplot at 0x1599f465448>"
      ]
     },
     "execution_count": 47,
     "metadata": {},
     "output_type": "execute_result"
    },
    {
     "data": {
      "image/png": "[encoded data removed]",
      "text/plain": [
       "<Figure size 936x360 with 1 Axes>"
      ]
     },
     "metadata": {
      "needs_background": "light"
     },
     "output_type": "display_data"
    }
   ],
   "source": [
    "a=final_df.sort_values(by='Deceased Cases',ascending=False)\n",
    "a=a.head(5)\n",
    "plt.figure(figsize=(13,5))\n",
    "plt.title('Top 5 States with Maximum Deceased Cases')\n",
    "a['Deceased Cases'].plot(kind='bar',color='grey')"
   ]
  },
  {
   "cell_type": "markdown",
   "metadata": {},
   "source": [
    "In the above chart, we can see that Maharashtra is have the highest number of Deceased cases as compared to the other states in India."
   ]
  },
  {
   "cell_type": "markdown",
   "metadata": {},
   "source": [
    "## States with maximum Active Cases"
   ]
  },
  {
   "cell_type": "code",
   "execution_count": 48,
   "metadata": {},
   "outputs": [
    {
     "data": {
      "text/plain": [
       "<matplotlib.axes._subplots.AxesSubplot at 0x1599f531748>"
      ]
     },
     "execution_count": 48,
     "metadata": {},
     "output_type": "execute_result"
    },
    {
     "data": {
      "image/png": "[encoded data removed]",
      "text/plain": [
       "<Figure size 936x360 with 1 Axes>"
      ]
     },
     "metadata": {
      "needs_background": "light"
     },
     "output_type": "display_data"
    }
   ],
   "source": [
    "a=final_df.sort_values(by='Active Cases',ascending=False)\n",
    "a=a.head(5)\n",
    "plt.figure(figsize=(13,5))\n",
    "plt.title('Top 5 States with Maximum Active Cases')\n",
    "a['Active Cases'].plot(kind='bar',color='blue')"
   ]
  },
  {
   "cell_type": "markdown",
   "metadata": {},
   "source": [
    "So, we saw from the above 4 graphs that Maharashtra is currently on the top as compared with other states from all point of view."
   ]
  },
  {
   "cell_type": "markdown",
   "metadata": {},
   "source": [
    "You can also view the number of cases in the particular state on a specific date."
   ]
  },
  {
   "cell_type": "code",
   "execution_count": 49,
   "metadata": {},
   "outputs": [],
   "source": [
    "def view_date_wise(date,state_name):\n",
    "    state_df = pd.read_csv('https://api.covid19india.org/csv/latest/state_wise_daily.csv')\n",
    "    state_df['Date'] = state_df.Date.apply(lambda x: pd.to_datetime(x).strftime('%d-%m-%Y'))\n",
    "    state_df.rename(\n",
    "        columns={'AN': 'Andaman Nicobar', 'AP': 'Andhra Pradesh', 'AR': 'Arunachal Pradesh', 'AS': 'Assam',\n",
    "                 'BR': 'Bihar', 'CH': 'Chandigarh', 'CT': 'Chattisgarh', 'DD': 'Daman & Diu', 'DL': 'Delhi',\n",
    "                 'GA': 'Goa', 'GJ': 'Gujarat',\n",
    "                 'HR': 'Haryana', 'HP': 'Himachal Pradesh', 'JK': 'Jammu And Kashmir', 'KA': 'Karnataka',\n",
    "                 'KL': 'Kerela',\n",
    "                 'LA': 'Ladakh', 'MP': 'Madhya Pradesh', 'MH': 'Maharashtra', 'MN': 'Manipur', 'ML': 'Meghalaya',\n",
    "                 'MZ': 'Mizoram', 'NL': 'Nagaland', 'OR': 'Orissa', 'PY': 'Puducherry', 'PB': 'Punjab',\n",
    "                 'RJ': 'Rajasthan',\n",
    "                 'SK': 'Sikkim', 'TN': 'Tamil Nadu', 'TG': 'Telegana', 'TR': 'Tripura', 'UP': 'Uttar Pradesh',\n",
    "                 'UT': 'Uttarakhand',\n",
    "                 'WB': 'West Bengal', 'TT': 'India'}, inplace=True)\n",
    "    date_particular=state_df.loc[state_df['Date']==date]\n",
    "    state_particular=date_particular.loc[:,['Status',state_name,'India']]\n",
    "    state_particular.reset_index(inplace=True)\n",
    "    state_particular.drop('index',inplace=True,axis=1)\n",
    "    print(state_particular)"
   ]
  },
  {
   "cell_type": "markdown",
   "metadata": {},
   "source": [
    "You just need to add the Date in dd-mm-yyyy format and the name of the State in view_date_wise() function.\n",
    "                               \n",
    "For example: view_date_wise(date,name of the state)"
   ]
  },
  {
   "cell_type": "code",
   "execution_count": 50,
   "metadata": {},
   "outputs": [
    {
     "name": "stdout",
     "output_type": "stream",
     "text": [
      "      Status  Maharashtra  India\n",
      "0  Confirmed         9211  52479\n",
      "1  Recovered         7478  32886\n",
      "2   Deceased          298    775\n"
     ]
    }
   ],
   "source": [
    "view_date_wise('29-07-2020','Maharashtra')"
   ]
  },
  {
   "cell_type": "markdown",
   "metadata": {},
   "source": [
    "You can see the number of Cases in India and Maharashtra on that particular date."
   ]
  },
  {
   "cell_type": "markdown",
   "metadata": {},
   "source": [
    "# COVID-19 in WORLD"
   ]
  },
  {
   "cell_type": "markdown",
   "metadata": {},
   "source": [
    "The below part of the project comprises of the number of cases in different countries of the world.\n",
    "The Data has been sourced through a csv file whose link is added in the pd.read_csv() below."
   ]
  },
  {
   "cell_type": "code",
   "execution_count": 51,
   "metadata": {},
   "outputs": [],
   "source": [
    "def world_data(col,n):\n",
    "    world_data_df = pd.read_csv(\n",
    "        'https://raw.githubusercontent.com/imdevskp/covid_19_jhu_data_web_scrap_and_cleaning/master/worldometer_data.csv')\n",
    "    world_data_df.rename(columns={'TotalCases':'Confirmed','TotalDeaths':'Deceased','TotalRecovered':'Recovered'},inplace=True)\n",
    "    world_data_df=world_data_df.replace('',np.nan).fillna(0)\n",
    "    figure=px.bar(world_data_df.sort_values(by=col).tail(n),x=col,y='Country/Region',orientation='h',color='Continent',\n",
    "                      text=col,width=900,color_discrete_sequence=px.colors.qualitative.Dark2)\n",
    "\n",
    "    figure.update_layout(title='Top 15 Country with most '+col+' Cases in World',xaxis_title='',yaxis_title=''\n",
    "                         ,yaxis_categoryorder='total ascending')\n",
    "    figure.show(png)"
   ]
  },
  {
   "cell_type": "markdown",
   "metadata": {},
   "source": [
    "## Countries with Most Confirmed Cases in World"
   ]
  },
  {
   "cell_type": "code",
   "execution_count": 52,
   "metadata": {},
   "outputs": [
    {
     "data": {
      "application/vnd.plotly.v1+json": {
       "config": {
        "plotlyServerURL": "https://plot.ly"
       },
       "data": [
        {
         "alignmentgroup": "True",
         "hovertemplate": "Continent=Asia<br>Confirmed=%{text}<br>Country/Region=%{y}<extra></extra>",
         "legendgroup": "Asia",
         "marker": {
          "color": "rgb(27,158,119)"
         },
         "name": "Asia",
         "offsetgroup": "Asia",
         "orientation": "h",
         "showlegend": true,
         "text": [
          249651,
          281863,
          284226,
          320117,
          2025409
         ],
         "textposition": "auto",
         "type": "bar",
         "x": [
          249651,
          281863,
          284226,
          320117,
          2025409
         ],
         "xaxis": "x",
         "y": [
          "Bangladesh",
          "Pakistan",
          "Saudi Arabia",
          "Iran",
          "India"
         ],
         "yaxis": "y"
        },
        {
         "alignmentgroup": "True",
         "hovertemplate": "Continent=Europe<br>Confirmed=%{text}<br>Country/Region=%{y}<extra></extra>",
         "legendgroup": "Europe",
         "marker": {
          "color": "rgb(217,95,2)"
         },
         "name": "Europe",
         "offsetgroup": "Europe",
         "orientation": "h",
         "showlegend": true,
         "text": [
          308134,
          354530,
          871894
         ],
         "textposition": "auto",
         "type": "bar",
         "x": [
          308134,
          354530,
          871894
         ],
         "xaxis": "x",
         "y": [
          "UK",
          "Spain",
          "Russia"
         ],
         "yaxis": "y"
        },
        {
         "alignmentgroup": "True",
         "hovertemplate": "Continent=South America<br>Confirmed=%{text}<br>Country/Region=%{y}<extra></extra>",
         "legendgroup": "South America",
         "marker": {
          "color": "rgb(117,112,179)"
         },
         "name": "South America",
         "offsetgroup": "South America",
         "orientation": "h",
         "showlegend": true,
         "text": [
          357710,
          366671,
          455409,
          2917562
         ],
         "textposition": "auto",
         "type": "bar",
         "x": [
          357710,
          366671,
          455409,
          2917562
         ],
         "xaxis": "x",
         "y": [
          "Colombia",
          "Chile",
          "Peru",
          "Brazil"
         ],
         "yaxis": "y"
        },
        {
         "alignmentgroup": "True",
         "hovertemplate": "Continent=North America<br>Confirmed=%{text}<br>Country/Region=%{y}<extra></extra>",
         "legendgroup": "North America",
         "marker": {
          "color": "rgb(231,41,138)"
         },
         "name": "North America",
         "offsetgroup": "North America",
         "orientation": "h",
         "showlegend": true,
         "text": [
          462690,
          5032179
         ],
         "textposition": "auto",
         "type": "bar",
         "x": [
          462690,
          5032179
         ],
         "xaxis": "x",
         "y": [
          "Mexico",
          "USA"
         ],
         "yaxis": "y"
        },
        {
         "alignmentgroup": "True",
         "hovertemplate": "Continent=Africa<br>Confirmed=%{text}<br>Country/Region=%{y}<extra></extra>",
         "legendgroup": "Africa",
         "marker": {
          "color": "rgb(102,166,30)"
         },
         "name": "Africa",
         "offsetgroup": "Africa",
         "orientation": "h",
         "showlegend": true,
         "text": [
          538184
         ],
         "textposition": "auto",
         "type": "bar",
         "x": [
          538184
         ],
         "xaxis": "x",
         "y": [
          "South Africa"
         ],
         "yaxis": "y"
        }
       ],
       "layout": {
        "barmode": "relative",
        "legend": {
         "title": {
          "text": "Continent"
         },
         "tracegroupgap": 0
        },
        "margin": {
         "t": 60
        },
        "template": {
         "data": {
          "bar": [
           {
            "error_x": {
             "color": "#2a3f5f"
            },
            "error_y": {
             "color": "#2a3f5f"
            },
            "marker": {
             "line": {
              "color": "#E5ECF6",
              "width": 0.5
             }
            },
            "type": "bar"
           }
          ],
          "barpolar": [
           {
            "marker": {
             "line": {
              "color": "#E5ECF6",
              "width": 0.5
             }
            },
            "type": "barpolar"
           }
          ],
          "carpet": [
           {
            "aaxis": {
             "endlinecolor": "#2a3f5f",
             "gridcolor": "white",
             "linecolor": "white",
             "minorgridcolor": "white",
             "startlinecolor": "#2a3f5f"
            },
            "baxis": {
             "endlinecolor": "#2a3f5f",
             "gridcolor": "white",
             "linecolor": "white",
             "minorgridcolor": "white",
             "startlinecolor": "#2a3f5f"
            },
            "type": "carpet"
           }
          ],
          "choropleth": [
           {
            "colorbar": {
             "outlinewidth": 0,
             "ticks": ""
            },
            "type": "choropleth"
           }
          ],
          "contour": [
           {
            "colorbar": {
             "outlinewidth": 0,
             "ticks": ""
            },
            "colorscale": [
             [
              0,
              "#0d0887"
             ],
             [
              0.1111111111111111,
              "#46039f"
             ],
             [
              0.2222222222222222,
              "#7201a8"
             ],
             [
              0.3333333333333333,
              "#9c179e"
             ],
             [
              0.4444444444444444,
              "#bd3786"
             ],
             [
              0.5555555555555556,
              "#d8576b"
             ],
             [
              0.6666666666666666,
              "#ed7953"
             ],
             [
              0.7777777777777778,
              "#fb9f3a"
             ],
             [
              0.8888888888888888,
              "#fdca26"
             ],
             [
              1,
              "#f0f921"
             ]
            ],
            "type": "contour"
           }
          ],
          "contourcarpet": [
           {
            "colorbar": {
             "outlinewidth": 0,
             "ticks": ""
            },
            "type": "contourcarpet"
           }
          ],
          "heatmap": [
           {
            "colorbar": {
             "outlinewidth": 0,
             "ticks": ""
            },
            "colorscale": [
             [
              0,
              "#0d0887"
             ],
             [
              0.1111111111111111,
              "#46039f"
             ],
             [
              0.2222222222222222,
              "#7201a8"
             ],
             [
              0.3333333333333333,
              "#9c179e"
             ],
             [
              0.4444444444444444,
              "#bd3786"
             ],
             [
              0.5555555555555556,
              "#d8576b"
             ],
             [
              0.6666666666666666,
              "#ed7953"
             ],
             [
              0.7777777777777778,
              "#fb9f3a"
             ],
             [
              0.8888888888888888,
              "#fdca26"
             ],
             [
              1,
              "#f0f921"
             ]
            ],
            "type": "heatmap"
           }
          ],
          "heatmapgl": [
           {
            "colorbar": {
             "outlinewidth": 0,
             "ticks": ""
            },
            "colorscale": [
             [
              0,
              "#0d0887"
             ],
             [
              0.1111111111111111,
              "#46039f"
             ],
             [
              0.2222222222222222,
              "#7201a8"
             ],
             [
              0.3333333333333333,
              "#9c179e"
             ],
             [
              0.4444444444444444,
              "#bd3786"
             ],
             [
              0.5555555555555556,
              "#d8576b"
             ],
             [
              0.6666666666666666,
              "#ed7953"
             ],
             [
              0.7777777777777778,
              "#fb9f3a"
             ],
             [
              0.8888888888888888,
              "#fdca26"
             ],
             [
              1,
              "#f0f921"
             ]
            ],
            "type": "heatmapgl"
           }
          ],
          "histogram": [
           {
            "marker": {
             "colorbar": {
              "outlinewidth": 0,
              "ticks": ""
             }
            },
            "type": "histogram"
           }
          ],
          "histogram2d": [
           {
            "colorbar": {
             "outlinewidth": 0,
             "ticks": ""
            },
            "colorscale": [
             [
              0,
              "#0d0887"
             ],
             [
              0.1111111111111111,
              "#46039f"
             ],
             [
              0.2222222222222222,
              "#7201a8"
             ],
             [
              0.3333333333333333,
              "#9c179e"
             ],
             [
              0.4444444444444444,
              "#bd3786"
             ],
             [
              0.5555555555555556,
              "#d8576b"
             ],
             [
              0.6666666666666666,
              "#ed7953"
             ],
             [
              0.7777777777777778,
              "#fb9f3a"
             ],
             [
              0.8888888888888888,
              "#fdca26"
             ],
             [
              1,
              "#f0f921"
             ]
            ],
            "type": "histogram2d"
           }
          ],
          "histogram2dcontour": [
           {
            "colorbar": {
             "outlinewidth": 0,
             "ticks": ""
            },
            "colorscale": [
             [
              0,
              "#0d0887"
             ],
             [
              0.1111111111111111,
              "#46039f"
             ],
             [
              0.2222222222222222,
              "#7201a8"
             ],
             [
              0.3333333333333333,
              "#9c179e"
             ],
             [
              0.4444444444444444,
              "#bd3786"
             ],
             [
              0.5555555555555556,
              "#d8576b"
             ],
             [
              0.6666666666666666,
              "#ed7953"
             ],
             [
              0.7777777777777778,
              "#fb9f3a"
             ],
             [
              0.8888888888888888,
              "#fdca26"
             ],
             [
              1,
              "#f0f921"
             ]
            ],
            "type": "histogram2dcontour"
           }
          ],
          "mesh3d": [
           {
            "colorbar": {
             "outlinewidth": 0,
             "ticks": ""
            },
            "type": "mesh3d"
           }
          ],
          "parcoords": [
           {
            "line": {
             "colorbar": {
              "outlinewidth": 0,
              "ticks": ""
             }
            },
            "type": "parcoords"
           }
          ],
          "pie": [
           {
            "automargin": true,
            "type": "pie"
           }
          ],
          "scatter": [
           {
            "marker": {
             "colorbar": {
              "outlinewidth": 0,
              "ticks": ""
             }
            },
            "type": "scatter"
           }
          ],
          "scatter3d": [
           {
            "line": {
             "colorbar": {
              "outlinewidth": 0,
              "ticks": ""
             }
            },
            "marker": {
             "colorbar": {
              "outlinewidth": 0,
              "ticks": ""
             }
            },
            "type": "scatter3d"
           }
          ],
          "scattercarpet": [
           {
            "marker": {
             "colorbar": {
              "outlinewidth": 0,
              "ticks": ""
             }
            },
            "type": "scattercarpet"
           }
          ],
          "scattergeo": [
           {
            "marker": {
             "colorbar": {
              "outlinewidth": 0,
              "ticks": ""
             }
            },
            "type": "scattergeo"
           }
          ],
          "scattergl": [
           {
            "marker": {
             "colorbar": {
              "outlinewidth": 0,
              "ticks": ""
             }
            },
            "type": "scattergl"
           }
          ],
          "scattermapbox": [
           {
            "marker": {
             "colorbar": {
              "outlinewidth": 0,
              "ticks": ""
             }
            },
            "type": "scattermapbox"
           }
          ],
          "scatterpolar": [
           {
            "marker": {
             "colorbar": {
              "outlinewidth": 0,
              "ticks": ""
             }
            },
            "type": "scatterpolar"
           }
          ],
          "scatterpolargl": [
           {
            "marker": {
             "colorbar": {
              "outlinewidth": 0,
              "ticks": ""
             }
            },
            "type": "scatterpolargl"
           }
          ],
          "scatterternary": [
           {
            "marker": {
             "colorbar": {
              "outlinewidth": 0,
              "ticks": ""
             }
            },
            "type": "scatterternary"
           }
          ],
          "surface": [
           {
            "colorbar": {
             "outlinewidth": 0,
             "ticks": ""
            },
            "colorscale": [
             [
              0,
              "#0d0887"
             ],
             [
              0.1111111111111111,
              "#46039f"
             ],
             [
              0.2222222222222222,
              "#7201a8"
             ],
             [
              0.3333333333333333,
              "#9c179e"
             ],
             [
              0.4444444444444444,
              "#bd3786"
             ],
             [
              0.5555555555555556,
              "#d8576b"
             ],
             [
              0.6666666666666666,
              "#ed7953"
             ],
             [
              0.7777777777777778,
              "#fb9f3a"
             ],
             [
              0.8888888888888888,
              "#fdca26"
             ],
             [
              1,
              "#f0f921"
             ]
            ],
            "type": "surface"
           }
          ],
          "table": [
           {
            "cells": {
             "fill": {
              "color": "#EBF0F8"
             },
             "line": {
              "color": "white"
             }
            },
            "header": {
             "fill": {
              "color": "#C8D4E3"
             },
             "line": {
              "color": "white"
             }
            },
            "type": "table"
           }
          ]
         },
         "layout": {
          "annotationdefaults": {
           "arrowcolor": "#2a3f5f",
           "arrowhead": 0,
           "arrowwidth": 1
          },
          "coloraxis": {
           "colorbar": {
            "outlinewidth": 0,
            "ticks": ""
           }
          },
          "colorscale": {
           "diverging": [
            [
             0,
             "#8e0152"
            ],
            [
             0.1,
             "#c51b7d"
            ],
            [
             0.2,
             "#de77ae"
            ],
            [
             0.3,
             "#f1b6da"
            ],
            [
             0.4,
             "#fde0ef"
            ],
            [
             0.5,
             "#f7f7f7"
            ],
            [
             0.6,
             "#e6f5d0"
            ],
            [
             0.7,
             "#b8e186"
            ],
            [
             0.8,
             "#7fbc41"
            ],
            [
             0.9,
             "#4d9221"
            ],
            [
             1,
             "#276419"
            ]
           ],
           "sequential": [
            [
             0,
             "#0d0887"
            ],
            [
             0.1111111111111111,
             "#46039f"
            ],
            [
             0.2222222222222222,
             "#7201a8"
            ],
            [
             0.3333333333333333,
             "#9c179e"
            ],
            [
             0.4444444444444444,
             "#bd3786"
            ],
            [
             0.5555555555555556,
             "#d8576b"
            ],
            [
             0.6666666666666666,
             "#ed7953"
            ],
            [
             0.7777777777777778,
             "#fb9f3a"
            ],
            [
             0.8888888888888888,
             "#fdca26"
            ],
            [
             1,
             "#f0f921"
            ]
           ],
           "sequentialminus": [
            [
             0,
             "#0d0887"
            ],
            [
             0.1111111111111111,
             "#46039f"
            ],
            [
             0.2222222222222222,
             "#7201a8"
            ],
            [
             0.3333333333333333,
             "#9c179e"
            ],
            [
             0.4444444444444444,
             "#bd3786"
            ],
            [
             0.5555555555555556,
             "#d8576b"
            ],
            [
             0.6666666666666666,
             "#ed7953"
            ],
            [
             0.7777777777777778,
             "#fb9f3a"
            ],
            [
             0.8888888888888888,
             "#fdca26"
            ],
            [
             1,
             "#f0f921"
            ]
           ]
          },
          "colorway": [
           "#636efa",
           "#EF553B",
           "#00cc96",
           "#ab63fa",
           "#FFA15A",
           "#19d3f3",
           "#FF6692",
           "#B6E880",
           "#FF97FF",
           "#FECB52"
          ],
          "font": {
           "color": "#2a3f5f"
          },
          "geo": {
           "bgcolor": "white",
           "lakecolor": "white",
           "landcolor": "#E5ECF6",
           "showlakes": true,
           "showland": true,
           "subunitcolor": "white"
          },
          "hoverlabel": {
           "align": "left"
          },
          "hovermode": "closest",
          "mapbox": {
           "style": "light"
          },
          "paper_bgcolor": "white",
          "plot_bgcolor": "#E5ECF6",
          "polar": {
           "angularaxis": {
            "gridcolor": "white",
            "linecolor": "white",
            "ticks": ""
           },
           "bgcolor": "#E5ECF6",
           "radialaxis": {
            "gridcolor": "white",
            "linecolor": "white",
            "ticks": ""
           }
          },
          "scene": {
           "xaxis": {
            "backgroundcolor": "#E5ECF6",
            "gridcolor": "white",
            "gridwidth": 2,
            "linecolor": "white",
            "showbackground": true,
            "ticks": "",
            "zerolinecolor": "white"
           },
           "yaxis": {
            "backgroundcolor": "#E5ECF6",
            "gridcolor": "white",
            "gridwidth": 2,
            "linecolor": "white",
            "showbackground": true,
            "ticks": "",
            "zerolinecolor": "white"
           },
           "zaxis": {
            "backgroundcolor": "#E5ECF6",
            "gridcolor": "white",
            "gridwidth": 2,
            "linecolor": "white",
            "showbackground": true,
            "ticks": "",
            "zerolinecolor": "white"
           }
          },
          "shapedefaults": {
           "line": {
            "color": "#2a3f5f"
           }
          },
          "ternary": {
           "aaxis": {
            "gridcolor": "white",
            "linecolor": "white",
            "ticks": ""
           },
           "baxis": {
            "gridcolor": "white",
            "linecolor": "white",
            "ticks": ""
           },
           "bgcolor": "#E5ECF6",
           "caxis": {
            "gridcolor": "white",
            "linecolor": "white",
            "ticks": ""
           }
          },
          "title": {
           "x": 0.05
          },
          "xaxis": {
           "automargin": true,
           "gridcolor": "white",
           "linecolor": "white",
           "ticks": "",
           "title": {
            "standoff": 15
           },
           "zerolinecolor": "white",
           "zerolinewidth": 2
          },
          "yaxis": {
           "automargin": true,
           "gridcolor": "white",
           "linecolor": "white",
           "ticks": "",
           "title": {
            "standoff": 15
           },
           "zerolinecolor": "white",
           "zerolinewidth": 2
          }
         }
        },
        "title": {
         "text": "Top 15 Country with most Confirmed Cases in World"
        },
        "width": 900,
        "xaxis": {
         "anchor": "y",
         "domain": [
          0,
          1
         ],
         "title": {
          "text": ""
         }
        },
        "yaxis": {
         "anchor": "x",
         "categoryorder": "total ascending",
         "domain": [
          0,
          1
         ],
         "title": {
          "text": ""
         }
        }
       }
      },
      "text/html": [
       "<div>\n",
       "        \n",
       "        \n",
       "            <div id=\"55d2cd79-ff5d-47c4-a3a3-8dc3aa66f1e5\" class=\"plotly-graph-div\" style=\"height:525px; width:900px;\"></div>\n",
       "            <script type=\"text/javascript\">\n",
       "                require([\"plotly\"], function(Plotly) {\n",
       "                    window.PLOTLYENV=window.PLOTLYENV || {};\n",
       "                    \n",
       "                if (document.getElementById(\"55d2cd79-ff5d-47c4-a3a3-8dc3aa66f1e5\")) {\n",
       "                    Plotly.newPlot(\n",
       "                        '55d2cd79-ff5d-47c4-a3a3-8dc3aa66f1e5',\n",
       "                        [{\"alignmentgroup\": \"True\", \"hovertemplate\": \"Continent=Asia<br>Confirmed=%{text}<br>Country/Region=%{y}<extra></extra>\", \"legendgroup\": \"Asia\", \"marker\": {\"color\": \"rgb(27,158,119)\"}, \"name\": \"Asia\", \"offsetgroup\": \"Asia\", \"orientation\": \"h\", \"showlegend\": true, \"text\": [249651.0, 281863.0, 284226.0, 320117.0, 2025409.0], \"textposition\": \"auto\", \"type\": \"bar\", \"x\": [249651, 281863, 284226, 320117, 2025409], \"xaxis\": \"x\", \"y\": [\"Bangladesh\", \"Pakistan\", \"Saudi Arabia\", \"Iran\", \"India\"], \"yaxis\": \"y\"}, {\"alignmentgroup\": \"True\", \"hovertemplate\": \"Continent=Europe<br>Confirmed=%{text}<br>Country/Region=%{y}<extra></extra>\", \"legendgroup\": \"Europe\", \"marker\": {\"color\": \"rgb(217,95,2)\"}, \"name\": \"Europe\", \"offsetgroup\": \"Europe\", \"orientation\": \"h\", \"showlegend\": true, \"text\": [308134.0, 354530.0, 871894.0], \"textposition\": \"auto\", \"type\": \"bar\", \"x\": [308134, 354530, 871894], \"xaxis\": \"x\", \"y\": [\"UK\", \"Spain\", \"Russia\"], \"yaxis\": \"y\"}, {\"alignmentgroup\": \"True\", \"hovertemplate\": \"Continent=South America<br>Confirmed=%{text}<br>Country/Region=%{y}<extra></extra>\", \"legendgroup\": \"South America\", \"marker\": {\"color\": \"rgb(117,112,179)\"}, \"name\": \"South America\", \"offsetgroup\": \"South America\", \"orientation\": \"h\", \"showlegend\": true, \"text\": [357710.0, 366671.0, 455409.0, 2917562.0], \"textposition\": \"auto\", \"type\": \"bar\", \"x\": [357710, 366671, 455409, 2917562], \"xaxis\": \"x\", \"y\": [\"Colombia\", \"Chile\", \"Peru\", \"Brazil\"], \"yaxis\": \"y\"}, {\"alignmentgroup\": \"True\", \"hovertemplate\": \"Continent=North America<br>Confirmed=%{text}<br>Country/Region=%{y}<extra></extra>\", \"legendgroup\": \"North America\", \"marker\": {\"color\": \"rgb(231,41,138)\"}, \"name\": \"North America\", \"offsetgroup\": \"North America\", \"orientation\": \"h\", \"showlegend\": true, \"text\": [462690.0, 5032179.0], \"textposition\": \"auto\", \"type\": \"bar\", \"x\": [462690, 5032179], \"xaxis\": \"x\", \"y\": [\"Mexico\", \"USA\"], \"yaxis\": \"y\"}, {\"alignmentgroup\": \"True\", \"hovertemplate\": \"Continent=Africa<br>Confirmed=%{text}<br>Country/Region=%{y}<extra></extra>\", \"legendgroup\": \"Africa\", \"marker\": {\"color\": \"rgb(102,166,30)\"}, \"name\": \"Africa\", \"offsetgroup\": \"Africa\", \"orientation\": \"h\", \"showlegend\": true, \"text\": [538184.0], \"textposition\": \"auto\", \"type\": \"bar\", \"x\": [538184], \"xaxis\": \"x\", \"y\": [\"South Africa\"], \"yaxis\": \"y\"}],\n",
       "                        {\"barmode\": \"relative\", \"legend\": {\"title\": {\"text\": \"Continent\"}, \"tracegroupgap\": 0}, \"margin\": {\"t\": 60}, \"template\": {\"data\": {\"bar\": [{\"error_x\": {\"color\": \"#2a3f5f\"}, \"error_y\": {\"color\": \"#2a3f5f\"}, \"marker\": {\"line\": {\"color\": \"#E5ECF6\", \"width\": 0.5}}, \"type\": \"bar\"}], \"barpolar\": [{\"marker\": {\"line\": {\"color\": \"#E5ECF6\", \"width\": 0.5}}, \"type\": \"barpolar\"}], \"carpet\": [{\"aaxis\": {\"endlinecolor\": \"#2a3f5f\", \"gridcolor\": \"white\", \"linecolor\": \"white\", \"minorgridcolor\": \"white\", \"startlinecolor\": \"#2a3f5f\"}, \"baxis\": {\"endlinecolor\": \"#2a3f5f\", \"gridcolor\": \"white\", \"linecolor\": \"white\", \"minorgridcolor\": \"white\", \"startlinecolor\": \"#2a3f5f\"}, \"type\": \"carpet\"}], \"choropleth\": [{\"colorbar\": {\"outlinewidth\": 0, \"ticks\": \"\"}, \"type\": \"choropleth\"}], \"contour\": [{\"colorbar\": {\"outlinewidth\": 0, \"ticks\": \"\"}, \"colorscale\": [[0.0, \"#0d0887\"], [0.1111111111111111, \"#46039f\"], [0.2222222222222222, \"#7201a8\"], [0.3333333333333333, \"#9c179e\"], [0.4444444444444444, \"#bd3786\"], [0.5555555555555556, \"#d8576b\"], [0.6666666666666666, \"#ed7953\"], [0.7777777777777778, \"#fb9f3a\"], [0.8888888888888888, \"#fdca26\"], [1.0, \"#f0f921\"]], \"type\": \"contour\"}], \"contourcarpet\": [{\"colorbar\": {\"outlinewidth\": 0, \"ticks\": \"\"}, \"type\": \"contourcarpet\"}], \"heatmap\": [{\"colorbar\": {\"outlinewidth\": 0, \"ticks\": \"\"}, \"colorscale\": [[0.0, \"#0d0887\"], [0.1111111111111111, \"#46039f\"], [0.2222222222222222, \"#7201a8\"], [0.3333333333333333, \"#9c179e\"], [0.4444444444444444, \"#bd3786\"], [0.5555555555555556, \"#d8576b\"], [0.6666666666666666, \"#ed7953\"], [0.7777777777777778, \"#fb9f3a\"], [0.8888888888888888, \"#fdca26\"], [1.0, \"#f0f921\"]], \"type\": \"heatmap\"}], \"heatmapgl\": [{\"colorbar\": {\"outlinewidth\": 0, \"ticks\": \"\"}, \"colorscale\": [[0.0, \"#0d0887\"], [0.1111111111111111, \"#46039f\"], [0.2222222222222222, \"#7201a8\"], [0.3333333333333333, \"#9c179e\"], [0.4444444444444444, \"#bd3786\"], [0.5555555555555556, \"#d8576b\"], [0.6666666666666666, \"#ed7953\"], [0.7777777777777778, \"#fb9f3a\"], [0.8888888888888888, \"#fdca26\"], [1.0, \"#f0f921\"]], \"type\": \"heatmapgl\"}], \"histogram\": [{\"marker\": {\"colorbar\": {\"outlinewidth\": 0, \"ticks\": \"\"}}, \"type\": \"histogram\"}], \"histogram2d\": [{\"colorbar\": {\"outlinewidth\": 0, \"ticks\": \"\"}, \"colorscale\": [[0.0, \"#0d0887\"], [0.1111111111111111, \"#46039f\"], [0.2222222222222222, \"#7201a8\"], [0.3333333333333333, \"#9c179e\"], [0.4444444444444444, \"#bd3786\"], [0.5555555555555556, \"#d8576b\"], [0.6666666666666666, \"#ed7953\"], [0.7777777777777778, \"#fb9f3a\"], [0.8888888888888888, \"#fdca26\"], [1.0, \"#f0f921\"]], \"type\": \"histogram2d\"}], \"histogram2dcontour\": [{\"colorbar\": {\"outlinewidth\": 0, \"ticks\": \"\"}, \"colorscale\": [[0.0, \"#0d0887\"], [0.1111111111111111, \"#46039f\"], [0.2222222222222222, \"#7201a8\"], [0.3333333333333333, \"#9c179e\"], [0.4444444444444444, \"#bd3786\"], [0.5555555555555556, \"#d8576b\"], [0.6666666666666666, \"#ed7953\"], [0.7777777777777778, \"#fb9f3a\"], [0.8888888888888888, \"#fdca26\"], [1.0, \"#f0f921\"]], \"type\": \"histogram2dcontour\"}], \"mesh3d\": [{\"colorbar\": {\"outlinewidth\": 0, \"ticks\": \"\"}, \"type\": \"mesh3d\"}], \"parcoords\": [{\"line\": {\"colorbar\": {\"outlinewidth\": 0, \"ticks\": \"\"}}, \"type\": \"parcoords\"}], \"pie\": [{\"automargin\": true, \"type\": \"pie\"}], \"scatter\": [{\"marker\": {\"colorbar\": {\"outlinewidth\": 0, \"ticks\": \"\"}}, \"type\": \"scatter\"}], \"scatter3d\": [{\"line\": {\"colorbar\": {\"outlinewidth\": 0, \"ticks\": \"\"}}, \"marker\": {\"colorbar\": {\"outlinewidth\": 0, \"ticks\": \"\"}}, \"type\": \"scatter3d\"}], \"scattercarpet\": [{\"marker\": {\"colorbar\": {\"outlinewidth\": 0, \"ticks\": \"\"}}, \"type\": \"scattercarpet\"}], \"scattergeo\": [{\"marker\": {\"colorbar\": {\"outlinewidth\": 0, \"ticks\": \"\"}}, \"type\": \"scattergeo\"}], \"scattergl\": [{\"marker\": {\"colorbar\": {\"outlinewidth\": 0, \"ticks\": \"\"}}, \"type\": \"scattergl\"}], \"scattermapbox\": [{\"marker\": {\"colorbar\": {\"outlinewidth\": 0, \"ticks\": \"\"}}, \"type\": \"scattermapbox\"}], \"scatterpolar\": [{\"marker\": {\"colorbar\": {\"outlinewidth\": 0, \"ticks\": \"\"}}, \"type\": \"scatterpolar\"}], \"scatterpolargl\": [{\"marker\": {\"colorbar\": {\"outlinewidth\": 0, \"ticks\": \"\"}}, \"type\": \"scatterpolargl\"}], \"scatterternary\": [{\"marker\": {\"colorbar\": {\"outlinewidth\": 0, \"ticks\": \"\"}}, \"type\": \"scatterternary\"}], \"surface\": [{\"colorbar\": {\"outlinewidth\": 0, \"ticks\": \"\"}, \"colorscale\": [[0.0, \"#0d0887\"], [0.1111111111111111, \"#46039f\"], [0.2222222222222222, \"#7201a8\"], [0.3333333333333333, \"#9c179e\"], [0.4444444444444444, \"#bd3786\"], [0.5555555555555556, \"#d8576b\"], [0.6666666666666666, \"#ed7953\"], [0.7777777777777778, \"#fb9f3a\"], [0.8888888888888888, \"#fdca26\"], [1.0, \"#f0f921\"]], \"type\": \"surface\"}], \"table\": [{\"cells\": {\"fill\": {\"color\": \"#EBF0F8\"}, \"line\": {\"color\": \"white\"}}, \"header\": {\"fill\": {\"color\": \"#C8D4E3\"}, \"line\": {\"color\": \"white\"}}, \"type\": \"table\"}]}, \"layout\": {\"annotationdefaults\": {\"arrowcolor\": \"#2a3f5f\", \"arrowhead\": 0, \"arrowwidth\": 1}, \"coloraxis\": {\"colorbar\": {\"outlinewidth\": 0, \"ticks\": \"\"}}, \"colorscale\": {\"diverging\": [[0, \"#8e0152\"], [0.1, \"#c51b7d\"], [0.2, \"#de77ae\"], [0.3, \"#f1b6da\"], [0.4, \"#fde0ef\"], [0.5, \"#f7f7f7\"], [0.6, \"#e6f5d0\"], [0.7, \"#b8e186\"], [0.8, \"#7fbc41\"], [0.9, \"#4d9221\"], [1, \"#276419\"]], \"sequential\": [[0.0, \"#0d0887\"], [0.1111111111111111, \"#46039f\"], [0.2222222222222222, \"#7201a8\"], [0.3333333333333333, \"#9c179e\"], [0.4444444444444444, \"#bd3786\"], [0.5555555555555556, \"#d8576b\"], [0.6666666666666666, \"#ed7953\"], [0.7777777777777778, \"#fb9f3a\"], [0.8888888888888888, \"#fdca26\"], [1.0, \"#f0f921\"]], \"sequentialminus\": [[0.0, \"#0d0887\"], [0.1111111111111111, \"#46039f\"], [0.2222222222222222, \"#7201a8\"], [0.3333333333333333, \"#9c179e\"], [0.4444444444444444, \"#bd3786\"], [0.5555555555555556, \"#d8576b\"], [0.6666666666666666, \"#ed7953\"], [0.7777777777777778, \"#fb9f3a\"], [0.8888888888888888, \"#fdca26\"], [1.0, \"#f0f921\"]]}, \"colorway\": [\"#636efa\", \"#EF553B\", \"#00cc96\", \"#ab63fa\", \"#FFA15A\", \"#19d3f3\", \"#FF6692\", \"#B6E880\", \"#FF97FF\", \"#FECB52\"], \"font\": {\"color\": \"#2a3f5f\"}, \"geo\": {\"bgcolor\": \"white\", \"lakecolor\": \"white\", \"landcolor\": \"#E5ECF6\", \"showlakes\": true, \"showland\": true, \"subunitcolor\": \"white\"}, \"hoverlabel\": {\"align\": \"left\"}, \"hovermode\": \"closest\", \"mapbox\": {\"style\": \"light\"}, \"paper_bgcolor\": \"white\", \"plot_bgcolor\": \"#E5ECF6\", \"polar\": {\"angularaxis\": {\"gridcolor\": \"white\", \"linecolor\": \"white\", \"ticks\": \"\"}, \"bgcolor\": \"#E5ECF6\", \"radialaxis\": {\"gridcolor\": \"white\", \"linecolor\": \"white\", \"ticks\": \"\"}}, \"scene\": {\"xaxis\": {\"backgroundcolor\": \"#E5ECF6\", \"gridcolor\": \"white\", \"gridwidth\": 2, \"linecolor\": \"white\", \"showbackground\": true, \"ticks\": \"\", \"zerolinecolor\": \"white\"}, \"yaxis\": {\"backgroundcolor\": \"#E5ECF6\", \"gridcolor\": \"white\", \"gridwidth\": 2, \"linecolor\": \"white\", \"showbackground\": true, \"ticks\": \"\", \"zerolinecolor\": \"white\"}, \"zaxis\": {\"backgroundcolor\": \"#E5ECF6\", \"gridcolor\": \"white\", \"gridwidth\": 2, \"linecolor\": \"white\", \"showbackground\": true, \"ticks\": \"\", \"zerolinecolor\": \"white\"}}, \"shapedefaults\": {\"line\": {\"color\": \"#2a3f5f\"}}, \"ternary\": {\"aaxis\": {\"gridcolor\": \"white\", \"linecolor\": \"white\", \"ticks\": \"\"}, \"baxis\": {\"gridcolor\": \"white\", \"linecolor\": \"white\", \"ticks\": \"\"}, \"bgcolor\": \"#E5ECF6\", \"caxis\": {\"gridcolor\": \"white\", \"linecolor\": \"white\", \"ticks\": \"\"}}, \"title\": {\"x\": 0.05}, \"xaxis\": {\"automargin\": true, \"gridcolor\": \"white\", \"linecolor\": \"white\", \"ticks\": \"\", \"title\": {\"standoff\": 15}, \"zerolinecolor\": \"white\", \"zerolinewidth\": 2}, \"yaxis\": {\"automargin\": true, \"gridcolor\": \"white\", \"linecolor\": \"white\", \"ticks\": \"\", \"title\": {\"standoff\": 15}, \"zerolinecolor\": \"white\", \"zerolinewidth\": 2}}}, \"title\": {\"text\": \"Top 15 Country with most Confirmed Cases in World\"}, \"width\": 900, \"xaxis\": {\"anchor\": \"y\", \"domain\": [0.0, 1.0], \"title\": {\"text\": \"\"}}, \"yaxis\": {\"anchor\": \"x\", \"categoryorder\": \"total ascending\", \"domain\": [0.0, 1.0], \"title\": {\"text\": \"\"}}},\n",
       "                        {\"responsive\": true}\n",
       "                    ).then(function(){\n",
       "                            \n",
       "var gd = document.getElementById('55d2cd79-ff5d-47c4-a3a3-8dc3aa66f1e5');\n",
       "var x = new MutationObserver(function (mutations, observer) {{\n",
       "        var display = window.getComputedStyle(gd).display;\n",
       "        if (!display || display === 'none') {{\n",
       "            console.log([gd, 'removed!']);\n",
       "            Plotly.purge(gd);\n",
       "            observer.disconnect();\n",
       "        }}\n",
       "}});\n",
       "\n",
       "// Listen for the removal of the full notebook cells\n",
       "var notebookContainer = gd.closest('#notebook-container');\n",
       "if (notebookContainer) {{\n",
       "    x.observe(notebookContainer, {childList: true});\n",
       "}}\n",
       "\n",
       "// Listen for the clearing of the current output cell\n",
       "var outputEl = gd.closest('.output');\n",
       "if (outputEl) {{\n",
       "    x.observe(outputEl, {childList: true});\n",
       "}}\n",
       "\n",
       "                        })\n",
       "                };\n",
       "                });\n",
       "            </script>\n",
       "        </div>"
      ]
     },
     "metadata": {},
     "output_type": "display_data"
    }
   ],
   "source": [
    "world_data('Confirmed',15)"
   ]
  },
  {
   "cell_type": "markdown",
   "metadata": {},
   "source": [
    "## Countries with Most Recovered Cases in World"
   ]
  },
  {
   "cell_type": "code",
   "execution_count": 53,
   "metadata": {},
   "outputs": [
    {
     "data": {
      "application/vnd.plotly.v1+json": {
       "config": {
        "plotlyServerURL": "https://plot.ly"
       },
       "data": [
        {
         "alignmentgroup": "True",
         "hovertemplate": "Continent=South America<br>Recovered=%{text}<br>Country/Region=%{y}<extra></extra>",
         "legendgroup": "South America",
         "marker": {
          "color": "rgb(27,158,119)"
         },
         "name": "South America",
         "offsetgroup": "South America",
         "orientation": "h",
         "showlegend": true,
         "text": [
          192355,
          310337,
          340168,
          2047660
         ],
         "textposition": "auto",
         "type": "bar",
         "x": [
          192355,
          310337,
          340168,
          2047660
         ],
         "xaxis": "x",
         "y": [
          "Colombia",
          "Peru",
          "Chile",
          "Brazil"
         ],
         "yaxis": "y"
        },
        {
         "alignmentgroup": "True",
         "hovertemplate": "Continent=Europe<br>Recovered=%{text}<br>Country/Region=%{y}<extra></extra>",
         "legendgroup": "Europe",
         "marker": {
          "color": "rgb(217,95,2)"
         },
         "name": "Europe",
         "offsetgroup": "Europe",
         "orientation": "h",
         "showlegend": true,
         "text": [
          196200,
          201323,
          676357
         ],
         "textposition": "auto",
         "type": "bar",
         "x": [
          196200,
          201323,
          676357
         ],
         "xaxis": "x",
         "y": [
          "Germany",
          "Italy",
          "Russia"
         ],
         "yaxis": "y"
        },
        {
         "alignmentgroup": "True",
         "hovertemplate": "Continent=Asia<br>Recovered=%{text}<br>Country/Region=%{y}<extra></extra>",
         "legendgroup": "Asia",
         "marker": {
          "color": "rgb(117,112,179)"
         },
         "name": "Asia",
         "offsetgroup": "Asia",
         "orientation": "h",
         "showlegend": true,
         "text": [
          220546,
          247089,
          256058,
          277463,
          1377384
         ],
         "textposition": "auto",
         "type": "bar",
         "x": [
          220546,
          247089,
          256058,
          277463,
          1377384
         ],
         "xaxis": "x",
         "y": [
          "Turkey",
          "Saudi Arabia",
          "Pakistan",
          "Iran",
          "India"
         ],
         "yaxis": "y"
        },
        {
         "alignmentgroup": "True",
         "hovertemplate": "Continent=North America<br>Recovered=%{text}<br>Country/Region=%{y}<extra></extra>",
         "legendgroup": "North America",
         "marker": {
          "color": "rgb(231,41,138)"
         },
         "name": "North America",
         "offsetgroup": "North America",
         "orientation": "h",
         "showlegend": true,
         "text": [
          308848,
          2576668
         ],
         "textposition": "auto",
         "type": "bar",
         "x": [
          308848,
          2576668
         ],
         "xaxis": "x",
         "y": [
          "Mexico",
          "USA"
         ],
         "yaxis": "y"
        },
        {
         "alignmentgroup": "True",
         "hovertemplate": "Continent=Africa<br>Recovered=%{text}<br>Country/Region=%{y}<extra></extra>",
         "legendgroup": "Africa",
         "marker": {
          "color": "rgb(102,166,30)"
         },
         "name": "Africa",
         "offsetgroup": "Africa",
         "orientation": "h",
         "showlegend": true,
         "text": [
          387316
         ],
         "textposition": "auto",
         "type": "bar",
         "x": [
          387316
         ],
         "xaxis": "x",
         "y": [
          "South Africa"
         ],
         "yaxis": "y"
        }
       ],
       "layout": {
        "barmode": "relative",
        "legend": {
         "title": {
          "text": "Continent"
         },
         "tracegroupgap": 0
        },
        "margin": {
         "t": 60
        },
        "template": {
         "data": {
          "bar": [
           {
            "error_x": {
             "color": "#2a3f5f"
            },
            "error_y": {
             "color": "#2a3f5f"
            },
            "marker": {
             "line": {
              "color": "#E5ECF6",
              "width": 0.5
             }
            },
            "type": "bar"
           }
          ],
          "barpolar": [
           {
            "marker": {
             "line": {
              "color": "#E5ECF6",
              "width": 0.5
             }
            },
            "type": "barpolar"
           }
          ],
          "carpet": [
           {
            "aaxis": {
             "endlinecolor": "#2a3f5f",
             "gridcolor": "white",
             "linecolor": "white",
             "minorgridcolor": "white",
             "startlinecolor": "#2a3f5f"
            },
            "baxis": {
             "endlinecolor": "#2a3f5f",
             "gridcolor": "white",
             "linecolor": "white",
             "minorgridcolor": "white",
             "startlinecolor": "#2a3f5f"
            },
            "type": "carpet"
           }
          ],
          "choropleth": [
           {
            "colorbar": {
             "outlinewidth": 0,
             "ticks": ""
            },
            "type": "choropleth"
           }
          ],
          "contour": [
           {
            "colorbar": {
             "outlinewidth": 0,
             "ticks": ""
            },
            "colorscale": [
             [
              0,
              "#0d0887"
             ],
             [
              0.1111111111111111,
              "#46039f"
             ],
             [
              0.2222222222222222,
              "#7201a8"
             ],
             [
              0.3333333333333333,
              "#9c179e"
             ],
             [
              0.4444444444444444,
              "#bd3786"
             ],
             [
              0.5555555555555556,
              "#d8576b"
             ],
             [
              0.6666666666666666,
              "#ed7953"
             ],
             [
              0.7777777777777778,
              "#fb9f3a"
             ],
             [
              0.8888888888888888,
              "#fdca26"
             ],
             [
              1,
              "#f0f921"
             ]
            ],
            "type": "contour"
           }
          ],
          "contourcarpet": [
           {
            "colorbar": {
             "outlinewidth": 0,
             "ticks": ""
            },
            "type": "contourcarpet"
           }
          ],
          "heatmap": [
           {
            "colorbar": {
             "outlinewidth": 0,
             "ticks": ""
            },
            "colorscale": [
             [
              0,
              "#0d0887"
             ],
             [
              0.1111111111111111,
              "#46039f"
             ],
             [
              0.2222222222222222,
              "#7201a8"
             ],
             [
              0.3333333333333333,
              "#9c179e"
             ],
             [
              0.4444444444444444,
              "#bd3786"
             ],
             [
              0.5555555555555556,
              "#d8576b"
             ],
             [
              0.6666666666666666,
              "#ed7953"
             ],
             [
              0.7777777777777778,
              "#fb9f3a"
             ],
             [
              0.8888888888888888,
              "#fdca26"
             ],
             [
              1,
              "#f0f921"
             ]
            ],
            "type": "heatmap"
           }
          ],
          "heatmapgl": [
           {
            "colorbar": {
             "outlinewidth": 0,
             "ticks": ""
            },
            "colorscale": [
             [
              0,
              "#0d0887"
             ],
             [
              0.1111111111111111,
              "#46039f"
             ],
             [
              0.2222222222222222,
              "#7201a8"
             ],
             [
              0.3333333333333333,
              "#9c179e"
             ],
             [
              0.4444444444444444,
              "#bd3786"
             ],
             [
              0.5555555555555556,
              "#d8576b"
             ],
             [
              0.6666666666666666,
              "#ed7953"
             ],
             [
              0.7777777777777778,
              "#fb9f3a"
             ],
             [
              0.8888888888888888,
              "#fdca26"
             ],
             [
              1,
              "#f0f921"
             ]
            ],
            "type": "heatmapgl"
           }
          ],
          "histogram": [
           {
            "marker": {
             "colorbar": {
              "outlinewidth": 0,
              "ticks": ""
             }
            },
            "type": "histogram"
           }
          ],
          "histogram2d": [
           {
            "colorbar": {
             "outlinewidth": 0,
             "ticks": ""
            },
            "colorscale": [
             [
              0,
              "#0d0887"
             ],
             [
              0.1111111111111111,
              "#46039f"
             ],
             [
              0.2222222222222222,
              "#7201a8"
             ],
             [
              0.3333333333333333,
              "#9c179e"
             ],
             [
              0.4444444444444444,
              "#bd3786"
             ],
             [
              0.5555555555555556,
              "#d8576b"
             ],
             [
              0.6666666666666666,
              "#ed7953"
             ],
             [
              0.7777777777777778,
              "#fb9f3a"
             ],
             [
              0.8888888888888888,
              "#fdca26"
             ],
             [
              1,
              "#f0f921"
             ]
            ],
            "type": "histogram2d"
           }
          ],
          "histogram2dcontour": [
           {
            "colorbar": {
             "outlinewidth": 0,
             "ticks": ""
            },
            "colorscale": [
             [
              0,
              "#0d0887"
             ],
             [
              0.1111111111111111,
              "#46039f"
             ],
             [
              0.2222222222222222,
              "#7201a8"
             ],
             [
              0.3333333333333333,
              "#9c179e"
             ],
             [
              0.4444444444444444,
              "#bd3786"
             ],
             [
              0.5555555555555556,
              "#d8576b"
             ],
             [
              0.6666666666666666,
              "#ed7953"
             ],
             [
              0.7777777777777778,
              "#fb9f3a"
             ],
             [
              0.8888888888888888,
              "#fdca26"
             ],
             [
              1,
              "#f0f921"
             ]
            ],
            "type": "histogram2dcontour"
           }
          ],
          "mesh3d": [
           {
            "colorbar": {
             "outlinewidth": 0,
             "ticks": ""
            },
            "type": "mesh3d"
           }
          ],
          "parcoords": [
           {
            "line": {
             "colorbar": {
              "outlinewidth": 0,
              "ticks": ""
             }
            },
            "type": "parcoords"
           }
          ],
          "pie": [
           {
            "automargin": true,
            "type": "pie"
           }
          ],
          "scatter": [
           {
            "marker": {
             "colorbar": {
              "outlinewidth": 0,
              "ticks": ""
             }
            },
            "type": "scatter"
           }
          ],
          "scatter3d": [
           {
            "line": {
             "colorbar": {
              "outlinewidth": 0,
              "ticks": ""
             }
            },
            "marker": {
             "colorbar": {
              "outlinewidth": 0,
              "ticks": ""
             }
            },
            "type": "scatter3d"
           }
          ],
          "scattercarpet": [
           {
            "marker": {
             "colorbar": {
              "outlinewidth": 0,
              "ticks": ""
             }
            },
            "type": "scattercarpet"
           }
          ],
          "scattergeo": [
           {
            "marker": {
             "colorbar": {
              "outlinewidth": 0,
              "ticks": ""
             }
            },
            "type": "scattergeo"
           }
          ],
          "scattergl": [
           {
            "marker": {
             "colorbar": {
              "outlinewidth": 0,
              "ticks": ""
             }
            },
            "type": "scattergl"
           }
          ],
          "scattermapbox": [
           {
            "marker": {
             "colorbar": {
              "outlinewidth": 0,
              "ticks": ""
             }
            },
            "type": "scattermapbox"
           }
          ],
          "scatterpolar": [
           {
            "marker": {
             "colorbar": {
              "outlinewidth": 0,
              "ticks": ""
             }
            },
            "type": "scatterpolar"
           }
          ],
          "scatterpolargl": [
           {
            "marker": {
             "colorbar": {
              "outlinewidth": 0,
              "ticks": ""
             }
            },
            "type": "scatterpolargl"
           }
          ],
          "scatterternary": [
           {
            "marker": {
             "colorbar": {
              "outlinewidth": 0,
              "ticks": ""
             }
            },
            "type": "scatterternary"
           }
          ],
          "surface": [
           {
            "colorbar": {
             "outlinewidth": 0,
             "ticks": ""
            },
            "colorscale": [
             [
              0,
              "#0d0887"
             ],
             [
              0.1111111111111111,
              "#46039f"
             ],
             [
              0.2222222222222222,
              "#7201a8"
             ],
             [
              0.3333333333333333,
              "#9c179e"
             ],
             [
              0.4444444444444444,
              "#bd3786"
             ],
             [
              0.5555555555555556,
              "#d8576b"
             ],
             [
              0.6666666666666666,
              "#ed7953"
             ],
             [
              0.7777777777777778,
              "#fb9f3a"
             ],
             [
              0.8888888888888888,
              "#fdca26"
             ],
             [
              1,
              "#f0f921"
             ]
            ],
            "type": "surface"
           }
          ],
          "table": [
           {
            "cells": {
             "fill": {
              "color": "#EBF0F8"
             },
             "line": {
              "color": "white"
             }
            },
            "header": {
             "fill": {
              "color": "#C8D4E3"
             },
             "line": {
              "color": "white"
             }
            },
            "type": "table"
           }
          ]
         },
         "layout": {
          "annotationdefaults": {
           "arrowcolor": "#2a3f5f",
           "arrowhead": 0,
           "arrowwidth": 1
          },
          "coloraxis": {
           "colorbar": {
            "outlinewidth": 0,
            "ticks": ""
           }
          },
          "colorscale": {
           "diverging": [
            [
             0,
             "#8e0152"
            ],
            [
             0.1,
             "#c51b7d"
            ],
            [
             0.2,
             "#de77ae"
            ],
            [
             0.3,
             "#f1b6da"
            ],
            [
             0.4,
             "#fde0ef"
            ],
            [
             0.5,
             "#f7f7f7"
            ],
            [
             0.6,
             "#e6f5d0"
            ],
            [
             0.7,
             "#b8e186"
            ],
            [
             0.8,
             "#7fbc41"
            ],
            [
             0.9,
             "#4d9221"
            ],
            [
             1,
             "#276419"
            ]
           ],
           "sequential": [
            [
             0,
             "#0d0887"
            ],
            [
             0.1111111111111111,
             "#46039f"
            ],
            [
             0.2222222222222222,
             "#7201a8"
            ],
            [
             0.3333333333333333,
             "#9c179e"
            ],
            [
             0.4444444444444444,
             "#bd3786"
            ],
            [
             0.5555555555555556,
             "#d8576b"
            ],
            [
             0.6666666666666666,
             "#ed7953"
            ],
            [
             0.7777777777777778,
             "#fb9f3a"
            ],
            [
             0.8888888888888888,
             "#fdca26"
            ],
            [
             1,
             "#f0f921"
            ]
           ],
           "sequentialminus": [
            [
             0,
             "#0d0887"
            ],
            [
             0.1111111111111111,
             "#46039f"
            ],
            [
             0.2222222222222222,
             "#7201a8"
            ],
            [
             0.3333333333333333,
             "#9c179e"
            ],
            [
             0.4444444444444444,
             "#bd3786"
            ],
            [
             0.5555555555555556,
             "#d8576b"
            ],
            [
             0.6666666666666666,
             "#ed7953"
            ],
            [
             0.7777777777777778,
             "#fb9f3a"
            ],
            [
             0.8888888888888888,
             "#fdca26"
            ],
            [
             1,
             "#f0f921"
            ]
           ]
          },
          "colorway": [
           "#636efa",
           "#EF553B",
           "#00cc96",
           "#ab63fa",
           "#FFA15A",
           "#19d3f3",
           "#FF6692",
           "#B6E880",
           "#FF97FF",
           "#FECB52"
          ],
          "font": {
           "color": "#2a3f5f"
          },
          "geo": {
           "bgcolor": "white",
           "lakecolor": "white",
           "landcolor": "#E5ECF6",
           "showlakes": true,
           "showland": true,
           "subunitcolor": "white"
          },
          "hoverlabel": {
           "align": "left"
          },
          "hovermode": "closest",
          "mapbox": {
           "style": "light"
          },
          "paper_bgcolor": "white",
          "plot_bgcolor": "#E5ECF6",
          "polar": {
           "angularaxis": {
            "gridcolor": "white",
            "linecolor": "white",
            "ticks": ""
           },
           "bgcolor": "#E5ECF6",
           "radialaxis": {
            "gridcolor": "white",
            "linecolor": "white",
            "ticks": ""
           }
          },
          "scene": {
           "xaxis": {
            "backgroundcolor": "#E5ECF6",
            "gridcolor": "white",
            "gridwidth": 2,
            "linecolor": "white",
            "showbackground": true,
            "ticks": "",
            "zerolinecolor": "white"
           },
           "yaxis": {
            "backgroundcolor": "#E5ECF6",
            "gridcolor": "white",
            "gridwidth": 2,
            "linecolor": "white",
            "showbackground": true,
            "ticks": "",
            "zerolinecolor": "white"
           },
           "zaxis": {
            "backgroundcolor": "#E5ECF6",
            "gridcolor": "white",
            "gridwidth": 2,
            "linecolor": "white",
            "showbackground": true,
            "ticks": "",
            "zerolinecolor": "white"
           }
          },
          "shapedefaults": {
           "line": {
            "color": "#2a3f5f"
           }
          },
          "ternary": {
           "aaxis": {
            "gridcolor": "white",
            "linecolor": "white",
            "ticks": ""
           },
           "baxis": {
            "gridcolor": "white",
            "linecolor": "white",
            "ticks": ""
           },
           "bgcolor": "#E5ECF6",
           "caxis": {
            "gridcolor": "white",
            "linecolor": "white",
            "ticks": ""
           }
          },
          "title": {
           "x": 0.05
          },
          "xaxis": {
           "automargin": true,
           "gridcolor": "white",
           "linecolor": "white",
           "ticks": "",
           "title": {
            "standoff": 15
           },
           "zerolinecolor": "white",
           "zerolinewidth": 2
          },
          "yaxis": {
           "automargin": true,
           "gridcolor": "white",
           "linecolor": "white",
           "ticks": "",
           "title": {
            "standoff": 15
           },
           "zerolinecolor": "white",
           "zerolinewidth": 2
          }
         }
        },
        "title": {
         "text": "Top 15 Country with most Recovered Cases in World"
        },
        "width": 900,
        "xaxis": {
         "anchor": "y",
         "domain": [
          0,
          1
         ],
         "title": {
          "text": ""
         }
        },
        "yaxis": {
         "anchor": "x",
         "categoryorder": "total ascending",
         "domain": [
          0,
          1
         ],
         "title": {
          "text": ""
         }
        }
       }
      },
      "text/html": [
       "<div>\n",
       "        \n",
       "        \n",
       "            <div id=\"6bae4656-cab3-43c6-83c1-45a0b6e71a3a\" class=\"plotly-graph-div\" style=\"height:525px; width:900px;\"></div>\n",
       "            <script type=\"text/javascript\">\n",
       "                require([\"plotly\"], function(Plotly) {\n",
       "                    window.PLOTLYENV=window.PLOTLYENV || {};\n",
       "                    \n",
       "                if (document.getElementById(\"6bae4656-cab3-43c6-83c1-45a0b6e71a3a\")) {\n",
       "                    Plotly.newPlot(\n",
       "                        '6bae4656-cab3-43c6-83c1-45a0b6e71a3a',\n",
       "                        [{\"alignmentgroup\": \"True\", \"hovertemplate\": \"Continent=South America<br>Recovered=%{text}<br>Country/Region=%{y}<extra></extra>\", \"legendgroup\": \"South America\", \"marker\": {\"color\": \"rgb(27,158,119)\"}, \"name\": \"South America\", \"offsetgroup\": \"South America\", \"orientation\": \"h\", \"showlegend\": true, \"text\": [192355.0, 310337.0, 340168.0, 2047660.0], \"textposition\": \"auto\", \"type\": \"bar\", \"x\": [192355.0, 310337.0, 340168.0, 2047660.0], \"xaxis\": \"x\", \"y\": [\"Colombia\", \"Peru\", \"Chile\", \"Brazil\"], \"yaxis\": \"y\"}, {\"alignmentgroup\": \"True\", \"hovertemplate\": \"Continent=Europe<br>Recovered=%{text}<br>Country/Region=%{y}<extra></extra>\", \"legendgroup\": \"Europe\", \"marker\": {\"color\": \"rgb(217,95,2)\"}, \"name\": \"Europe\", \"offsetgroup\": \"Europe\", \"orientation\": \"h\", \"showlegend\": true, \"text\": [196200.0, 201323.0, 676357.0], \"textposition\": \"auto\", \"type\": \"bar\", \"x\": [196200.0, 201323.0, 676357.0], \"xaxis\": \"x\", \"y\": [\"Germany\", \"Italy\", \"Russia\"], \"yaxis\": \"y\"}, {\"alignmentgroup\": \"True\", \"hovertemplate\": \"Continent=Asia<br>Recovered=%{text}<br>Country/Region=%{y}<extra></extra>\", \"legendgroup\": \"Asia\", \"marker\": {\"color\": \"rgb(117,112,179)\"}, \"name\": \"Asia\", \"offsetgroup\": \"Asia\", \"orientation\": \"h\", \"showlegend\": true, \"text\": [220546.0, 247089.0, 256058.0, 277463.0, 1377384.0], \"textposition\": \"auto\", \"type\": \"bar\", \"x\": [220546.0, 247089.0, 256058.0, 277463.0, 1377384.0], \"xaxis\": \"x\", \"y\": [\"Turkey\", \"Saudi Arabia\", \"Pakistan\", \"Iran\", \"India\"], \"yaxis\": \"y\"}, {\"alignmentgroup\": \"True\", \"hovertemplate\": \"Continent=North America<br>Recovered=%{text}<br>Country/Region=%{y}<extra></extra>\", \"legendgroup\": \"North America\", \"marker\": {\"color\": \"rgb(231,41,138)\"}, \"name\": \"North America\", \"offsetgroup\": \"North America\", \"orientation\": \"h\", \"showlegend\": true, \"text\": [308848.0, 2576668.0], \"textposition\": \"auto\", \"type\": \"bar\", \"x\": [308848.0, 2576668.0], \"xaxis\": \"x\", \"y\": [\"Mexico\", \"USA\"], \"yaxis\": \"y\"}, {\"alignmentgroup\": \"True\", \"hovertemplate\": \"Continent=Africa<br>Recovered=%{text}<br>Country/Region=%{y}<extra></extra>\", \"legendgroup\": \"Africa\", \"marker\": {\"color\": \"rgb(102,166,30)\"}, \"name\": \"Africa\", \"offsetgroup\": \"Africa\", \"orientation\": \"h\", \"showlegend\": true, \"text\": [387316.0], \"textposition\": \"auto\", \"type\": \"bar\", \"x\": [387316.0], \"xaxis\": \"x\", \"y\": [\"South Africa\"], \"yaxis\": \"y\"}],\n",
       "                        {\"barmode\": \"relative\", \"legend\": {\"title\": {\"text\": \"Continent\"}, \"tracegroupgap\": 0}, \"margin\": {\"t\": 60}, \"template\": {\"data\": {\"bar\": [{\"error_x\": {\"color\": \"#2a3f5f\"}, \"error_y\": {\"color\": \"#2a3f5f\"}, \"marker\": {\"line\": {\"color\": \"#E5ECF6\", \"width\": 0.5}}, \"type\": \"bar\"}], \"barpolar\": [{\"marker\": {\"line\": {\"color\": \"#E5ECF6\", \"width\": 0.5}}, \"type\": \"barpolar\"}], \"carpet\": [{\"aaxis\": {\"endlinecolor\": \"#2a3f5f\", \"gridcolor\": \"white\", \"linecolor\": \"white\", \"minorgridcolor\": \"white\", \"startlinecolor\": \"#2a3f5f\"}, \"baxis\": {\"endlinecolor\": \"#2a3f5f\", \"gridcolor\": \"white\", \"linecolor\": \"white\", \"minorgridcolor\": \"white\", \"startlinecolor\": \"#2a3f5f\"}, \"type\": \"carpet\"}], \"choropleth\": [{\"colorbar\": {\"outlinewidth\": 0, \"ticks\": \"\"}, \"type\": \"choropleth\"}], \"contour\": [{\"colorbar\": {\"outlinewidth\": 0, \"ticks\": \"\"}, \"colorscale\": [[0.0, \"#0d0887\"], [0.1111111111111111, \"#46039f\"], [0.2222222222222222, \"#7201a8\"], [0.3333333333333333, \"#9c179e\"], [0.4444444444444444, \"#bd3786\"], [0.5555555555555556, \"#d8576b\"], [0.6666666666666666, \"#ed7953\"], [0.7777777777777778, \"#fb9f3a\"], [0.8888888888888888, \"#fdca26\"], [1.0, \"#f0f921\"]], \"type\": \"contour\"}], \"contourcarpet\": [{\"colorbar\": {\"outlinewidth\": 0, \"ticks\": \"\"}, \"type\": \"contourcarpet\"}], \"heatmap\": [{\"colorbar\": {\"outlinewidth\": 0, \"ticks\": \"\"}, \"colorscale\": [[0.0, \"#0d0887\"], [0.1111111111111111, \"#46039f\"], [0.2222222222222222, \"#7201a8\"], [0.3333333333333333, \"#9c179e\"], [0.4444444444444444, \"#bd3786\"], [0.5555555555555556, \"#d8576b\"], [0.6666666666666666, \"#ed7953\"], [0.7777777777777778, \"#fb9f3a\"], [0.8888888888888888, \"#fdca26\"], [1.0, \"#f0f921\"]], \"type\": \"heatmap\"}], \"heatmapgl\": [{\"colorbar\": {\"outlinewidth\": 0, \"ticks\": \"\"}, \"colorscale\": [[0.0, \"#0d0887\"], [0.1111111111111111, \"#46039f\"], [0.2222222222222222, \"#7201a8\"], [0.3333333333333333, \"#9c179e\"], [0.4444444444444444, \"#bd3786\"], [0.5555555555555556, \"#d8576b\"], [0.6666666666666666, \"#ed7953\"], [0.7777777777777778, \"#fb9f3a\"], [0.8888888888888888, \"#fdca26\"], [1.0, \"#f0f921\"]], \"type\": \"heatmapgl\"}], \"histogram\": [{\"marker\": {\"colorbar\": {\"outlinewidth\": 0, \"ticks\": \"\"}}, \"type\": \"histogram\"}], \"histogram2d\": [{\"colorbar\": {\"outlinewidth\": 0, \"ticks\": \"\"}, \"colorscale\": [[0.0, \"#0d0887\"], [0.1111111111111111, \"#46039f\"], [0.2222222222222222, \"#7201a8\"], [0.3333333333333333, \"#9c179e\"], [0.4444444444444444, \"#bd3786\"], [0.5555555555555556, \"#d8576b\"], [0.6666666666666666, \"#ed7953\"], [0.7777777777777778, \"#fb9f3a\"], [0.8888888888888888, \"#fdca26\"], [1.0, \"#f0f921\"]], \"type\": \"histogram2d\"}], \"histogram2dcontour\": [{\"colorbar\": {\"outlinewidth\": 0, \"ticks\": \"\"}, \"colorscale\": [[0.0, \"#0d0887\"], [0.1111111111111111, \"#46039f\"], [0.2222222222222222, \"#7201a8\"], [0.3333333333333333, \"#9c179e\"], [0.4444444444444444, \"#bd3786\"], [0.5555555555555556, \"#d8576b\"], [0.6666666666666666, \"#ed7953\"], [0.7777777777777778, \"#fb9f3a\"], [0.8888888888888888, \"#fdca26\"], [1.0, \"#f0f921\"]], \"type\": \"histogram2dcontour\"}], \"mesh3d\": [{\"colorbar\": {\"outlinewidth\": 0, \"ticks\": \"\"}, \"type\": \"mesh3d\"}], \"parcoords\": [{\"line\": {\"colorbar\": {\"outlinewidth\": 0, \"ticks\": \"\"}}, \"type\": \"parcoords\"}], \"pie\": [{\"automargin\": true, \"type\": \"pie\"}], \"scatter\": [{\"marker\": {\"colorbar\": {\"outlinewidth\": 0, \"ticks\": \"\"}}, \"type\": \"scatter\"}], \"scatter3d\": [{\"line\": {\"colorbar\": {\"outlinewidth\": 0, \"ticks\": \"\"}}, \"marker\": {\"colorbar\": {\"outlinewidth\": 0, \"ticks\": \"\"}}, \"type\": \"scatter3d\"}], \"scattercarpet\": [{\"marker\": {\"colorbar\": {\"outlinewidth\": 0, \"ticks\": \"\"}}, \"type\": \"scattercarpet\"}], \"scattergeo\": [{\"marker\": {\"colorbar\": {\"outlinewidth\": 0, \"ticks\": \"\"}}, \"type\": \"scattergeo\"}], \"scattergl\": [{\"marker\": {\"colorbar\": {\"outlinewidth\": 0, \"ticks\": \"\"}}, \"type\": \"scattergl\"}], \"scattermapbox\": [{\"marker\": {\"colorbar\": {\"outlinewidth\": 0, \"ticks\": \"\"}}, \"type\": \"scattermapbox\"}], \"scatterpolar\": [{\"marker\": {\"colorbar\": {\"outlinewidth\": 0, \"ticks\": \"\"}}, \"type\": \"scatterpolar\"}], \"scatterpolargl\": [{\"marker\": {\"colorbar\": {\"outlinewidth\": 0, \"ticks\": \"\"}}, \"type\": \"scatterpolargl\"}], \"scatterternary\": [{\"marker\": {\"colorbar\": {\"outlinewidth\": 0, \"ticks\": \"\"}}, \"type\": \"scatterternary\"}], \"surface\": [{\"colorbar\": {\"outlinewidth\": 0, \"ticks\": \"\"}, \"colorscale\": [[0.0, \"#0d0887\"], [0.1111111111111111, \"#46039f\"], [0.2222222222222222, \"#7201a8\"], [0.3333333333333333, \"#9c179e\"], [0.4444444444444444, \"#bd3786\"], [0.5555555555555556, \"#d8576b\"], [0.6666666666666666, \"#ed7953\"], [0.7777777777777778, \"#fb9f3a\"], [0.8888888888888888, \"#fdca26\"], [1.0, \"#f0f921\"]], \"type\": \"surface\"}], \"table\": [{\"cells\": {\"fill\": {\"color\": \"#EBF0F8\"}, \"line\": {\"color\": \"white\"}}, \"header\": {\"fill\": {\"color\": \"#C8D4E3\"}, \"line\": {\"color\": \"white\"}}, \"type\": \"table\"}]}, \"layout\": {\"annotationdefaults\": {\"arrowcolor\": \"#2a3f5f\", \"arrowhead\": 0, \"arrowwidth\": 1}, \"coloraxis\": {\"colorbar\": {\"outlinewidth\": 0, \"ticks\": \"\"}}, \"colorscale\": {\"diverging\": [[0, \"#8e0152\"], [0.1, \"#c51b7d\"], [0.2, \"#de77ae\"], [0.3, \"#f1b6da\"], [0.4, \"#fde0ef\"], [0.5, \"#f7f7f7\"], [0.6, \"#e6f5d0\"], [0.7, \"#b8e186\"], [0.8, \"#7fbc41\"], [0.9, \"#4d9221\"], [1, \"#276419\"]], \"sequential\": [[0.0, \"#0d0887\"], [0.1111111111111111, \"#46039f\"], [0.2222222222222222, \"#7201a8\"], [0.3333333333333333, \"#9c179e\"], [0.4444444444444444, \"#bd3786\"], [0.5555555555555556, \"#d8576b\"], [0.6666666666666666, \"#ed7953\"], [0.7777777777777778, \"#fb9f3a\"], [0.8888888888888888, \"#fdca26\"], [1.0, \"#f0f921\"]], \"sequentialminus\": [[0.0, \"#0d0887\"], [0.1111111111111111, \"#46039f\"], [0.2222222222222222, \"#7201a8\"], [0.3333333333333333, \"#9c179e\"], [0.4444444444444444, \"#bd3786\"], [0.5555555555555556, \"#d8576b\"], [0.6666666666666666, \"#ed7953\"], [0.7777777777777778, \"#fb9f3a\"], [0.8888888888888888, \"#fdca26\"], [1.0, \"#f0f921\"]]}, \"colorway\": [\"#636efa\", \"#EF553B\", \"#00cc96\", \"#ab63fa\", \"#FFA15A\", \"#19d3f3\", \"#FF6692\", \"#B6E880\", \"#FF97FF\", \"#FECB52\"], \"font\": {\"color\": \"#2a3f5f\"}, \"geo\": {\"bgcolor\": \"white\", \"lakecolor\": \"white\", \"landcolor\": \"#E5ECF6\", \"showlakes\": true, \"showland\": true, \"subunitcolor\": \"white\"}, \"hoverlabel\": {\"align\": \"left\"}, \"hovermode\": \"closest\", \"mapbox\": {\"style\": \"light\"}, \"paper_bgcolor\": \"white\", \"plot_bgcolor\": \"#E5ECF6\", \"polar\": {\"angularaxis\": {\"gridcolor\": \"white\", \"linecolor\": \"white\", \"ticks\": \"\"}, \"bgcolor\": \"#E5ECF6\", \"radialaxis\": {\"gridcolor\": \"white\", \"linecolor\": \"white\", \"ticks\": \"\"}}, \"scene\": {\"xaxis\": {\"backgroundcolor\": \"#E5ECF6\", \"gridcolor\": \"white\", \"gridwidth\": 2, \"linecolor\": \"white\", \"showbackground\": true, \"ticks\": \"\", \"zerolinecolor\": \"white\"}, \"yaxis\": {\"backgroundcolor\": \"#E5ECF6\", \"gridcolor\": \"white\", \"gridwidth\": 2, \"linecolor\": \"white\", \"showbackground\": true, \"ticks\": \"\", \"zerolinecolor\": \"white\"}, \"zaxis\": {\"backgroundcolor\": \"#E5ECF6\", \"gridcolor\": \"white\", \"gridwidth\": 2, \"linecolor\": \"white\", \"showbackground\": true, \"ticks\": \"\", \"zerolinecolor\": \"white\"}}, \"shapedefaults\": {\"line\": {\"color\": \"#2a3f5f\"}}, \"ternary\": {\"aaxis\": {\"gridcolor\": \"white\", \"linecolor\": \"white\", \"ticks\": \"\"}, \"baxis\": {\"gridcolor\": \"white\", \"linecolor\": \"white\", \"ticks\": \"\"}, \"bgcolor\": \"#E5ECF6\", \"caxis\": {\"gridcolor\": \"white\", \"linecolor\": \"white\", \"ticks\": \"\"}}, \"title\": {\"x\": 0.05}, \"xaxis\": {\"automargin\": true, \"gridcolor\": \"white\", \"linecolor\": \"white\", \"ticks\": \"\", \"title\": {\"standoff\": 15}, \"zerolinecolor\": \"white\", \"zerolinewidth\": 2}, \"yaxis\": {\"automargin\": true, \"gridcolor\": \"white\", \"linecolor\": \"white\", \"ticks\": \"\", \"title\": {\"standoff\": 15}, \"zerolinecolor\": \"white\", \"zerolinewidth\": 2}}}, \"title\": {\"text\": \"Top 15 Country with most Recovered Cases in World\"}, \"width\": 900, \"xaxis\": {\"anchor\": \"y\", \"domain\": [0.0, 1.0], \"title\": {\"text\": \"\"}}, \"yaxis\": {\"anchor\": \"x\", \"categoryorder\": \"total ascending\", \"domain\": [0.0, 1.0], \"title\": {\"text\": \"\"}}},\n",
       "                        {\"responsive\": true}\n",
       "                    ).then(function(){\n",
       "                            \n",
       "var gd = document.getElementById('6bae4656-cab3-43c6-83c1-45a0b6e71a3a');\n",
       "var x = new MutationObserver(function (mutations, observer) {{\n",
       "        var display = window.getComputedStyle(gd).display;\n",
       "        if (!display || display === 'none') {{\n",
       "            console.log([gd, 'removed!']);\n",
       "            Plotly.purge(gd);\n",
       "            observer.disconnect();\n",
       "        }}\n",
       "}});\n",
       "\n",
       "// Listen for the removal of the full notebook cells\n",
       "var notebookContainer = gd.closest('#notebook-container');\n",
       "if (notebookContainer) {{\n",
       "    x.observe(notebookContainer, {childList: true});\n",
       "}}\n",
       "\n",
       "// Listen for the clearing of the current output cell\n",
       "var outputEl = gd.closest('.output');\n",
       "if (outputEl) {{\n",
       "    x.observe(outputEl, {childList: true});\n",
       "}}\n",
       "\n",
       "                        })\n",
       "                };\n",
       "                });\n",
       "            </script>\n",
       "        </div>"
      ]
     },
     "metadata": {},
     "output_type": "display_data"
    }
   ],
   "source": [
    "world_data('Recovered',15)"
   ]
  },
  {
   "cell_type": "markdown",
   "metadata": {
    "scrolled": true
   },
   "source": [
    "## Countries with Most Deceased Cases in World"
   ]
  },
  {
   "cell_type": "code",
   "execution_count": 54,
   "metadata": {},
   "outputs": [
    {
     "data": {
      "application/vnd.plotly.v1+json": {
       "config": {
        "plotlyServerURL": "https://plot.ly"
       },
       "data": [
        {
         "alignmentgroup": "True",
         "hovertemplate": "Continent=Africa<br>Deceased=%{text}<br>Country/Region=%{y}<extra></extra>",
         "legendgroup": "Africa",
         "marker": {
          "color": "rgb(27,158,119)"
         },
         "name": "Africa",
         "offsetgroup": "Africa",
         "orientation": "h",
         "showlegend": true,
         "text": [
          9604
         ],
         "textposition": "auto",
         "type": "bar",
         "x": [
          9604
         ],
         "xaxis": "x",
         "y": [
          "South Africa"
         ],
         "yaxis": "y"
        },
        {
         "alignmentgroup": "True",
         "hovertemplate": "Continent=Europe<br>Deceased=%{text}<br>Country/Region=%{y}<extra></extra>",
         "legendgroup": "Europe",
         "marker": {
          "color": "rgb(217,95,2)"
         },
         "name": "Europe",
         "offsetgroup": "Europe",
         "orientation": "h",
         "showlegend": true,
         "text": [
          9859,
          14606,
          28500,
          30312,
          35187,
          46413
         ],
         "textposition": "auto",
         "type": "bar",
         "x": [
          9859,
          14606,
          28500,
          30312,
          35187,
          46413
         ],
         "xaxis": "x",
         "y": [
          "Belgium",
          "Russia",
          "Spain",
          "France",
          "Italy",
          "UK"
         ],
         "yaxis": "y"
        },
        {
         "alignmentgroup": "True",
         "hovertemplate": "Continent=South America<br>Deceased=%{text}<br>Country/Region=%{y}<extra></extra>",
         "legendgroup": "South America",
         "marker": {
          "color": "rgb(117,112,179)"
         },
         "name": "South America",
         "offsetgroup": "South America",
         "orientation": "h",
         "showlegend": true,
         "text": [
          9889,
          11939,
          20424,
          98644
         ],
         "textposition": "auto",
         "type": "bar",
         "x": [
          9889,
          11939,
          20424,
          98644
         ],
         "xaxis": "x",
         "y": [
          "Chile",
          "Colombia",
          "Peru",
          "Brazil"
         ],
         "yaxis": "y"
        },
        {
         "alignmentgroup": "True",
         "hovertemplate": "Continent=Asia<br>Deceased=%{text}<br>Country/Region=%{y}<extra></extra>",
         "legendgroup": "Asia",
         "marker": {
          "color": "rgb(231,41,138)"
         },
         "name": "Asia",
         "offsetgroup": "Asia",
         "orientation": "h",
         "showlegend": true,
         "text": [
          17976,
          41638
         ],
         "textposition": "auto",
         "type": "bar",
         "x": [
          17976,
          41638
         ],
         "xaxis": "x",
         "y": [
          "Iran",
          "India"
         ],
         "yaxis": "y"
        },
        {
         "alignmentgroup": "True",
         "hovertemplate": "Continent=North America<br>Deceased=%{text}<br>Country/Region=%{y}<extra></extra>",
         "legendgroup": "North America",
         "marker": {
          "color": "rgb(102,166,30)"
         },
         "name": "North America",
         "offsetgroup": "North America",
         "orientation": "h",
         "showlegend": true,
         "text": [
          50517,
          162804
         ],
         "textposition": "auto",
         "type": "bar",
         "x": [
          50517,
          162804
         ],
         "xaxis": "x",
         "y": [
          "Mexico",
          "USA"
         ],
         "yaxis": "y"
        }
       ],
       "layout": {
        "barmode": "relative",
        "legend": {
         "title": {
          "text": "Continent"
         },
         "tracegroupgap": 0
        },
        "margin": {
         "t": 60
        },
        "template": {
         "data": {
          "bar": [
           {
            "error_x": {
             "color": "#2a3f5f"
            },
            "error_y": {
             "color": "#2a3f5f"
            },
            "marker": {
             "line": {
              "color": "#E5ECF6",
              "width": 0.5
             }
            },
            "type": "bar"
           }
          ],
          "barpolar": [
           {
            "marker": {
             "line": {
              "color": "#E5ECF6",
              "width": 0.5
             }
            },
            "type": "barpolar"
           }
          ],
          "carpet": [
           {
            "aaxis": {
             "endlinecolor": "#2a3f5f",
             "gridcolor": "white",
             "linecolor": "white",
             "minorgridcolor": "white",
             "startlinecolor": "#2a3f5f"
            },
            "baxis": {
             "endlinecolor": "#2a3f5f",
             "gridcolor": "white",
             "linecolor": "white",
             "minorgridcolor": "white",
             "startlinecolor": "#2a3f5f"
            },
            "type": "carpet"
           }
          ],
          "choropleth": [
           {
            "colorbar": {
             "outlinewidth": 0,
             "ticks": ""
            },
            "type": "choropleth"
           }
          ],
          "contour": [
           {
            "colorbar": {
             "outlinewidth": 0,
             "ticks": ""
            },
            "colorscale": [
             [
              0,
              "#0d0887"
             ],
             [
              0.1111111111111111,
              "#46039f"
             ],
             [
              0.2222222222222222,
              "#7201a8"
             ],
             [
              0.3333333333333333,
              "#9c179e"
             ],
             [
              0.4444444444444444,
              "#bd3786"
             ],
             [
              0.5555555555555556,
              "#d8576b"
             ],
             [
              0.6666666666666666,
              "#ed7953"
             ],
             [
              0.7777777777777778,
              "#fb9f3a"
             ],
             [
              0.8888888888888888,
              "#fdca26"
             ],
             [
              1,
              "#f0f921"
             ]
            ],
            "type": "contour"
           }
          ],
          "contourcarpet": [
           {
            "colorbar": {
             "outlinewidth": 0,
             "ticks": ""
            },
            "type": "contourcarpet"
           }
          ],
          "heatmap": [
           {
            "colorbar": {
             "outlinewidth": 0,
             "ticks": ""
            },
            "colorscale": [
             [
              0,
              "#0d0887"
             ],
             [
              0.1111111111111111,
              "#46039f"
             ],
             [
              0.2222222222222222,
              "#7201a8"
             ],
             [
              0.3333333333333333,
              "#9c179e"
             ],
             [
              0.4444444444444444,
              "#bd3786"
             ],
             [
              0.5555555555555556,
              "#d8576b"
             ],
             [
              0.6666666666666666,
              "#ed7953"
             ],
             [
              0.7777777777777778,
              "#fb9f3a"
             ],
             [
              0.8888888888888888,
              "#fdca26"
             ],
             [
              1,
              "#f0f921"
             ]
            ],
            "type": "heatmap"
           }
          ],
          "heatmapgl": [
           {
            "colorbar": {
             "outlinewidth": 0,
             "ticks": ""
            },
            "colorscale": [
             [
              0,
              "#0d0887"
             ],
             [
              0.1111111111111111,
              "#46039f"
             ],
             [
              0.2222222222222222,
              "#7201a8"
             ],
             [
              0.3333333333333333,
              "#9c179e"
             ],
             [
              0.4444444444444444,
              "#bd3786"
             ],
             [
              0.5555555555555556,
              "#d8576b"
             ],
             [
              0.6666666666666666,
              "#ed7953"
             ],
             [
              0.7777777777777778,
              "#fb9f3a"
             ],
             [
              0.8888888888888888,
              "#fdca26"
             ],
             [
              1,
              "#f0f921"
             ]
            ],
            "type": "heatmapgl"
           }
          ],
          "histogram": [
           {
            "marker": {
             "colorbar": {
              "outlinewidth": 0,
              "ticks": ""
             }
            },
            "type": "histogram"
           }
          ],
          "histogram2d": [
           {
            "colorbar": {
             "outlinewidth": 0,
             "ticks": ""
            },
            "colorscale": [
             [
              0,
              "#0d0887"
             ],
             [
              0.1111111111111111,
              "#46039f"
             ],
             [
              0.2222222222222222,
              "#7201a8"
             ],
             [
              0.3333333333333333,
              "#9c179e"
             ],
             [
              0.4444444444444444,
              "#bd3786"
             ],
             [
              0.5555555555555556,
              "#d8576b"
             ],
             [
              0.6666666666666666,
              "#ed7953"
             ],
             [
              0.7777777777777778,
              "#fb9f3a"
             ],
             [
              0.8888888888888888,
              "#fdca26"
             ],
             [
              1,
              "#f0f921"
             ]
            ],
            "type": "histogram2d"
           }
          ],
          "histogram2dcontour": [
           {
            "colorbar": {
             "outlinewidth": 0,
             "ticks": ""
            },
            "colorscale": [
             [
              0,
              "#0d0887"
             ],
             [
              0.1111111111111111,
              "#46039f"
             ],
             [
              0.2222222222222222,
              "#7201a8"
             ],
             [
              0.3333333333333333,
              "#9c179e"
             ],
             [
              0.4444444444444444,
              "#bd3786"
             ],
             [
              0.5555555555555556,
              "#d8576b"
             ],
             [
              0.6666666666666666,
              "#ed7953"
             ],
             [
              0.7777777777777778,
              "#fb9f3a"
             ],
             [
              0.8888888888888888,
              "#fdca26"
             ],
             [
              1,
              "#f0f921"
             ]
            ],
            "type": "histogram2dcontour"
           }
          ],
          "mesh3d": [
           {
            "colorbar": {
             "outlinewidth": 0,
             "ticks": ""
            },
            "type": "mesh3d"
           }
          ],
          "parcoords": [
           {
            "line": {
             "colorbar": {
              "outlinewidth": 0,
              "ticks": ""
             }
            },
            "type": "parcoords"
           }
          ],
          "pie": [
           {
            "automargin": true,
            "type": "pie"
           }
          ],
          "scatter": [
           {
            "marker": {
             "colorbar": {
              "outlinewidth": 0,
              "ticks": ""
             }
            },
            "type": "scatter"
           }
          ],
          "scatter3d": [
           {
            "line": {
             "colorbar": {
              "outlinewidth": 0,
              "ticks": ""
             }
            },
            "marker": {
             "colorbar": {
              "outlinewidth": 0,
              "ticks": ""
             }
            },
            "type": "scatter3d"
           }
          ],
          "scattercarpet": [
           {
            "marker": {
             "colorbar": {
              "outlinewidth": 0,
              "ticks": ""
             }
            },
            "type": "scattercarpet"
           }
          ],
          "scattergeo": [
           {
            "marker": {
             "colorbar": {
              "outlinewidth": 0,
              "ticks": ""
             }
            },
            "type": "scattergeo"
           }
          ],
          "scattergl": [
           {
            "marker": {
             "colorbar": {
              "outlinewidth": 0,
              "ticks": ""
             }
            },
            "type": "scattergl"
           }
          ],
          "scattermapbox": [
           {
            "marker": {
             "colorbar": {
              "outlinewidth": 0,
              "ticks": ""
             }
            },
            "type": "scattermapbox"
           }
          ],
          "scatterpolar": [
           {
            "marker": {
             "colorbar": {
              "outlinewidth": 0,
              "ticks": ""
             }
            },
            "type": "scatterpolar"
           }
          ],
          "scatterpolargl": [
           {
            "marker": {
             "colorbar": {
              "outlinewidth": 0,
              "ticks": ""
             }
            },
            "type": "scatterpolargl"
           }
          ],
          "scatterternary": [
           {
            "marker": {
             "colorbar": {
              "outlinewidth": 0,
              "ticks": ""
             }
            },
            "type": "scatterternary"
           }
          ],
          "surface": [
           {
            "colorbar": {
             "outlinewidth": 0,
             "ticks": ""
            },
            "colorscale": [
             [
              0,
              "#0d0887"
             ],
             [
              0.1111111111111111,
              "#46039f"
             ],
             [
              0.2222222222222222,
              "#7201a8"
             ],
             [
              0.3333333333333333,
              "#9c179e"
             ],
             [
              0.4444444444444444,
              "#bd3786"
             ],
             [
              0.5555555555555556,
              "#d8576b"
             ],
             [
              0.6666666666666666,
              "#ed7953"
             ],
             [
              0.7777777777777778,
              "#fb9f3a"
             ],
             [
              0.8888888888888888,
              "#fdca26"
             ],
             [
              1,
              "#f0f921"
             ]
            ],
            "type": "surface"
           }
          ],
          "table": [
           {
            "cells": {
             "fill": {
              "color": "#EBF0F8"
             },
             "line": {
              "color": "white"
             }
            },
            "header": {
             "fill": {
              "color": "#C8D4E3"
             },
             "line": {
              "color": "white"
             }
            },
            "type": "table"
           }
          ]
         },
         "layout": {
          "annotationdefaults": {
           "arrowcolor": "#2a3f5f",
           "arrowhead": 0,
           "arrowwidth": 1
          },
          "coloraxis": {
           "colorbar": {
            "outlinewidth": 0,
            "ticks": ""
           }
          },
          "colorscale": {
           "diverging": [
            [
             0,
             "#8e0152"
            ],
            [
             0.1,
             "#c51b7d"
            ],
            [
             0.2,
             "#de77ae"
            ],
            [
             0.3,
             "#f1b6da"
            ],
            [
             0.4,
             "#fde0ef"
            ],
            [
             0.5,
             "#f7f7f7"
            ],
            [
             0.6,
             "#e6f5d0"
            ],
            [
             0.7,
             "#b8e186"
            ],
            [
             0.8,
             "#7fbc41"
            ],
            [
             0.9,
             "#4d9221"
            ],
            [
             1,
             "#276419"
            ]
           ],
           "sequential": [
            [
             0,
             "#0d0887"
            ],
            [
             0.1111111111111111,
             "#46039f"
            ],
            [
             0.2222222222222222,
             "#7201a8"
            ],
            [
             0.3333333333333333,
             "#9c179e"
            ],
            [
             0.4444444444444444,
             "#bd3786"
            ],
            [
             0.5555555555555556,
             "#d8576b"
            ],
            [
             0.6666666666666666,
             "#ed7953"
            ],
            [
             0.7777777777777778,
             "#fb9f3a"
            ],
            [
             0.8888888888888888,
             "#fdca26"
            ],
            [
             1,
             "#f0f921"
            ]
           ],
           "sequentialminus": [
            [
             0,
             "#0d0887"
            ],
            [
             0.1111111111111111,
             "#46039f"
            ],
            [
             0.2222222222222222,
             "#7201a8"
            ],
            [
             0.3333333333333333,
             "#9c179e"
            ],
            [
             0.4444444444444444,
             "#bd3786"
            ],
            [
             0.5555555555555556,
             "#d8576b"
            ],
            [
             0.6666666666666666,
             "#ed7953"
            ],
            [
             0.7777777777777778,
             "#fb9f3a"
            ],
            [
             0.8888888888888888,
             "#fdca26"
            ],
            [
             1,
             "#f0f921"
            ]
           ]
          },
          "colorway": [
           "#636efa",
           "#EF553B",
           "#00cc96",
           "#ab63fa",
           "#FFA15A",
           "#19d3f3",
           "#FF6692",
           "#B6E880",
           "#FF97FF",
           "#FECB52"
          ],
          "font": {
           "color": "#2a3f5f"
          },
          "geo": {
           "bgcolor": "white",
           "lakecolor": "white",
           "landcolor": "#E5ECF6",
           "showlakes": true,
           "showland": true,
           "subunitcolor": "white"
          },
          "hoverlabel": {
           "align": "left"
          },
          "hovermode": "closest",
          "mapbox": {
           "style": "light"
          },
          "paper_bgcolor": "white",
          "plot_bgcolor": "#E5ECF6",
          "polar": {
           "angularaxis": {
            "gridcolor": "white",
            "linecolor": "white",
            "ticks": ""
           },
           "bgcolor": "#E5ECF6",
           "radialaxis": {
            "gridcolor": "white",
            "linecolor": "white",
            "ticks": ""
           }
          },
          "scene": {
           "xaxis": {
            "backgroundcolor": "#E5ECF6",
            "gridcolor": "white",
            "gridwidth": 2,
            "linecolor": "white",
            "showbackground": true,
            "ticks": "",
            "zerolinecolor": "white"
           },
           "yaxis": {
            "backgroundcolor": "#E5ECF6",
            "gridcolor": "white",
            "gridwidth": 2,
            "linecolor": "white",
            "showbackground": true,
            "ticks": "",
            "zerolinecolor": "white"
           },
           "zaxis": {
            "backgroundcolor": "#E5ECF6",
            "gridcolor": "white",
            "gridwidth": 2,
            "linecolor": "white",
            "showbackground": true,
            "ticks": "",
            "zerolinecolor": "white"
           }
          },
          "shapedefaults": {
           "line": {
            "color": "#2a3f5f"
           }
          },
          "ternary": {
           "aaxis": {
            "gridcolor": "white",
            "linecolor": "white",
            "ticks": ""
           },
           "baxis": {
            "gridcolor": "white",
            "linecolor": "white",
            "ticks": ""
           },
           "bgcolor": "#E5ECF6",
           "caxis": {
            "gridcolor": "white",
            "linecolor": "white",
            "ticks": ""
           }
          },
          "title": {
           "x": 0.05
          },
          "xaxis": {
           "automargin": true,
           "gridcolor": "white",
           "linecolor": "white",
           "ticks": "",
           "title": {
            "standoff": 15
           },
           "zerolinecolor": "white",
           "zerolinewidth": 2
          },
          "yaxis": {
           "automargin": true,
           "gridcolor": "white",
           "linecolor": "white",
           "ticks": "",
           "title": {
            "standoff": 15
           },
           "zerolinecolor": "white",
           "zerolinewidth": 2
          }
         }
        },
        "title": {
         "text": "Top 15 Country with most Deceased Cases in World"
        },
        "width": 900,
        "xaxis": {
         "anchor": "y",
         "domain": [
          0,
          1
         ],
         "title": {
          "text": ""
         }
        },
        "yaxis": {
         "anchor": "x",
         "categoryorder": "total ascending",
         "domain": [
          0,
          1
         ],
         "title": {
          "text": ""
         }
        }
       }
      },
      "text/html": [
       "<div>\n",
       "        \n",
       "        \n",
       "            <div id=\"0d26ad97-8a6a-4e3d-adbe-7357e58aeada\" class=\"plotly-graph-div\" style=\"height:525px; width:900px;\"></div>\n",
       "            <script type=\"text/javascript\">\n",
       "                require([\"plotly\"], function(Plotly) {\n",
       "                    window.PLOTLYENV=window.PLOTLYENV || {};\n",
       "                    \n",
       "                if (document.getElementById(\"0d26ad97-8a6a-4e3d-adbe-7357e58aeada\")) {\n",
       "                    Plotly.newPlot(\n",
       "                        '0d26ad97-8a6a-4e3d-adbe-7357e58aeada',\n",
       "                        [{\"alignmentgroup\": \"True\", \"hovertemplate\": \"Continent=Africa<br>Deceased=%{text}<br>Country/Region=%{y}<extra></extra>\", \"legendgroup\": \"Africa\", \"marker\": {\"color\": \"rgb(27,158,119)\"}, \"name\": \"Africa\", \"offsetgroup\": \"Africa\", \"orientation\": \"h\", \"showlegend\": true, \"text\": [9604.0], \"textposition\": \"auto\", \"type\": \"bar\", \"x\": [9604.0], \"xaxis\": \"x\", \"y\": [\"South Africa\"], \"yaxis\": \"y\"}, {\"alignmentgroup\": \"True\", \"hovertemplate\": \"Continent=Europe<br>Deceased=%{text}<br>Country/Region=%{y}<extra></extra>\", \"legendgroup\": \"Europe\", \"marker\": {\"color\": \"rgb(217,95,2)\"}, \"name\": \"Europe\", \"offsetgroup\": \"Europe\", \"orientation\": \"h\", \"showlegend\": true, \"text\": [9859.0, 14606.0, 28500.0, 30312.0, 35187.0, 46413.0], \"textposition\": \"auto\", \"type\": \"bar\", \"x\": [9859.0, 14606.0, 28500.0, 30312.0, 35187.0, 46413.0], \"xaxis\": \"x\", \"y\": [\"Belgium\", \"Russia\", \"Spain\", \"France\", \"Italy\", \"UK\"], \"yaxis\": \"y\"}, {\"alignmentgroup\": \"True\", \"hovertemplate\": \"Continent=South America<br>Deceased=%{text}<br>Country/Region=%{y}<extra></extra>\", \"legendgroup\": \"South America\", \"marker\": {\"color\": \"rgb(117,112,179)\"}, \"name\": \"South America\", \"offsetgroup\": \"South America\", \"orientation\": \"h\", \"showlegend\": true, \"text\": [9889.0, 11939.0, 20424.0, 98644.0], \"textposition\": \"auto\", \"type\": \"bar\", \"x\": [9889.0, 11939.0, 20424.0, 98644.0], \"xaxis\": \"x\", \"y\": [\"Chile\", \"Colombia\", \"Peru\", \"Brazil\"], \"yaxis\": \"y\"}, {\"alignmentgroup\": \"True\", \"hovertemplate\": \"Continent=Asia<br>Deceased=%{text}<br>Country/Region=%{y}<extra></extra>\", \"legendgroup\": \"Asia\", \"marker\": {\"color\": \"rgb(231,41,138)\"}, \"name\": \"Asia\", \"offsetgroup\": \"Asia\", \"orientation\": \"h\", \"showlegend\": true, \"text\": [17976.0, 41638.0], \"textposition\": \"auto\", \"type\": \"bar\", \"x\": [17976.0, 41638.0], \"xaxis\": \"x\", \"y\": [\"Iran\", \"India\"], \"yaxis\": \"y\"}, {\"alignmentgroup\": \"True\", \"hovertemplate\": \"Continent=North America<br>Deceased=%{text}<br>Country/Region=%{y}<extra></extra>\", \"legendgroup\": \"North America\", \"marker\": {\"color\": \"rgb(102,166,30)\"}, \"name\": \"North America\", \"offsetgroup\": \"North America\", \"orientation\": \"h\", \"showlegend\": true, \"text\": [50517.0, 162804.0], \"textposition\": \"auto\", \"type\": \"bar\", \"x\": [50517.0, 162804.0], \"xaxis\": \"x\", \"y\": [\"Mexico\", \"USA\"], \"yaxis\": \"y\"}],\n",
       "                        {\"barmode\": \"relative\", \"legend\": {\"title\": {\"text\": \"Continent\"}, \"tracegroupgap\": 0}, \"margin\": {\"t\": 60}, \"template\": {\"data\": {\"bar\": [{\"error_x\": {\"color\": \"#2a3f5f\"}, \"error_y\": {\"color\": \"#2a3f5f\"}, \"marker\": {\"line\": {\"color\": \"#E5ECF6\", \"width\": 0.5}}, \"type\": \"bar\"}], \"barpolar\": [{\"marker\": {\"line\": {\"color\": \"#E5ECF6\", \"width\": 0.5}}, \"type\": \"barpolar\"}], \"carpet\": [{\"aaxis\": {\"endlinecolor\": \"#2a3f5f\", \"gridcolor\": \"white\", \"linecolor\": \"white\", \"minorgridcolor\": \"white\", \"startlinecolor\": \"#2a3f5f\"}, \"baxis\": {\"endlinecolor\": \"#2a3f5f\", \"gridcolor\": \"white\", \"linecolor\": \"white\", \"minorgridcolor\": \"white\", \"startlinecolor\": \"#2a3f5f\"}, \"type\": \"carpet\"}], \"choropleth\": [{\"colorbar\": {\"outlinewidth\": 0, \"ticks\": \"\"}, \"type\": \"choropleth\"}], \"contour\": [{\"colorbar\": {\"outlinewidth\": 0, \"ticks\": \"\"}, \"colorscale\": [[0.0, \"#0d0887\"], [0.1111111111111111, \"#46039f\"], [0.2222222222222222, \"#7201a8\"], [0.3333333333333333, \"#9c179e\"], [0.4444444444444444, \"#bd3786\"], [0.5555555555555556, \"#d8576b\"], [0.6666666666666666, \"#ed7953\"], [0.7777777777777778, \"#fb9f3a\"], [0.8888888888888888, \"#fdca26\"], [1.0, \"#f0f921\"]], \"type\": \"contour\"}], \"contourcarpet\": [{\"colorbar\": {\"outlinewidth\": 0, \"ticks\": \"\"}, \"type\": \"contourcarpet\"}], \"heatmap\": [{\"colorbar\": {\"outlinewidth\": 0, \"ticks\": \"\"}, \"colorscale\": [[0.0, \"#0d0887\"], [0.1111111111111111, \"#46039f\"], [0.2222222222222222, \"#7201a8\"], [0.3333333333333333, \"#9c179e\"], [0.4444444444444444, \"#bd3786\"], [0.5555555555555556, \"#d8576b\"], [0.6666666666666666, \"#ed7953\"], [0.7777777777777778, \"#fb9f3a\"], [0.8888888888888888, \"#fdca26\"], [1.0, \"#f0f921\"]], \"type\": \"heatmap\"}], \"heatmapgl\": [{\"colorbar\": {\"outlinewidth\": 0, \"ticks\": \"\"}, \"colorscale\": [[0.0, \"#0d0887\"], [0.1111111111111111, \"#46039f\"], [0.2222222222222222, \"#7201a8\"], [0.3333333333333333, \"#9c179e\"], [0.4444444444444444, \"#bd3786\"], [0.5555555555555556, \"#d8576b\"], [0.6666666666666666, \"#ed7953\"], [0.7777777777777778, \"#fb9f3a\"], [0.8888888888888888, \"#fdca26\"], [1.0, \"#f0f921\"]], \"type\": \"heatmapgl\"}], \"histogram\": [{\"marker\": {\"colorbar\": {\"outlinewidth\": 0, \"ticks\": \"\"}}, \"type\": \"histogram\"}], \"histogram2d\": [{\"colorbar\": {\"outlinewidth\": 0, \"ticks\": \"\"}, \"colorscale\": [[0.0, \"#0d0887\"], [0.1111111111111111, \"#46039f\"], [0.2222222222222222, \"#7201a8\"], [0.3333333333333333, \"#9c179e\"], [0.4444444444444444, \"#bd3786\"], [0.5555555555555556, \"#d8576b\"], [0.6666666666666666, \"#ed7953\"], [0.7777777777777778, \"#fb9f3a\"], [0.8888888888888888, \"#fdca26\"], [1.0, \"#f0f921\"]], \"type\": \"histogram2d\"}], \"histogram2dcontour\": [{\"colorbar\": {\"outlinewidth\": 0, \"ticks\": \"\"}, \"colorscale\": [[0.0, \"#0d0887\"], [0.1111111111111111, \"#46039f\"], [0.2222222222222222, \"#7201a8\"], [0.3333333333333333, \"#9c179e\"], [0.4444444444444444, \"#bd3786\"], [0.5555555555555556, \"#d8576b\"], [0.6666666666666666, \"#ed7953\"], [0.7777777777777778, \"#fb9f3a\"], [0.8888888888888888, \"#fdca26\"], [1.0, \"#f0f921\"]], \"type\": \"histogram2dcontour\"}], \"mesh3d\": [{\"colorbar\": {\"outlinewidth\": 0, \"ticks\": \"\"}, \"type\": \"mesh3d\"}], \"parcoords\": [{\"line\": {\"colorbar\": {\"outlinewidth\": 0, \"ticks\": \"\"}}, \"type\": \"parcoords\"}], \"pie\": [{\"automargin\": true, \"type\": \"pie\"}], \"scatter\": [{\"marker\": {\"colorbar\": {\"outlinewidth\": 0, \"ticks\": \"\"}}, \"type\": \"scatter\"}], \"scatter3d\": [{\"line\": {\"colorbar\": {\"outlinewidth\": 0, \"ticks\": \"\"}}, \"marker\": {\"colorbar\": {\"outlinewidth\": 0, \"ticks\": \"\"}}, \"type\": \"scatter3d\"}], \"scattercarpet\": [{\"marker\": {\"colorbar\": {\"outlinewidth\": 0, \"ticks\": \"\"}}, \"type\": \"scattercarpet\"}], \"scattergeo\": [{\"marker\": {\"colorbar\": {\"outlinewidth\": 0, \"ticks\": \"\"}}, \"type\": \"scattergeo\"}], \"scattergl\": [{\"marker\": {\"colorbar\": {\"outlinewidth\": 0, \"ticks\": \"\"}}, \"type\": \"scattergl\"}], \"scattermapbox\": [{\"marker\": {\"colorbar\": {\"outlinewidth\": 0, \"ticks\": \"\"}}, \"type\": \"scattermapbox\"}], \"scatterpolar\": [{\"marker\": {\"colorbar\": {\"outlinewidth\": 0, \"ticks\": \"\"}}, \"type\": \"scatterpolar\"}], \"scatterpolargl\": [{\"marker\": {\"colorbar\": {\"outlinewidth\": 0, \"ticks\": \"\"}}, \"type\": \"scatterpolargl\"}], \"scatterternary\": [{\"marker\": {\"colorbar\": {\"outlinewidth\": 0, \"ticks\": \"\"}}, \"type\": \"scatterternary\"}], \"surface\": [{\"colorbar\": {\"outlinewidth\": 0, \"ticks\": \"\"}, \"colorscale\": [[0.0, \"#0d0887\"], [0.1111111111111111, \"#46039f\"], [0.2222222222222222, \"#7201a8\"], [0.3333333333333333, \"#9c179e\"], [0.4444444444444444, \"#bd3786\"], [0.5555555555555556, \"#d8576b\"], [0.6666666666666666, \"#ed7953\"], [0.7777777777777778, \"#fb9f3a\"], [0.8888888888888888, \"#fdca26\"], [1.0, \"#f0f921\"]], \"type\": \"surface\"}], \"table\": [{\"cells\": {\"fill\": {\"color\": \"#EBF0F8\"}, \"line\": {\"color\": \"white\"}}, \"header\": {\"fill\": {\"color\": \"#C8D4E3\"}, \"line\": {\"color\": \"white\"}}, \"type\": \"table\"}]}, \"layout\": {\"annotationdefaults\": {\"arrowcolor\": \"#2a3f5f\", \"arrowhead\": 0, \"arrowwidth\": 1}, \"coloraxis\": {\"colorbar\": {\"outlinewidth\": 0, \"ticks\": \"\"}}, \"colorscale\": {\"diverging\": [[0, \"#8e0152\"], [0.1, \"#c51b7d\"], [0.2, \"#de77ae\"], [0.3, \"#f1b6da\"], [0.4, \"#fde0ef\"], [0.5, \"#f7f7f7\"], [0.6, \"#e6f5d0\"], [0.7, \"#b8e186\"], [0.8, \"#7fbc41\"], [0.9, \"#4d9221\"], [1, \"#276419\"]], \"sequential\": [[0.0, \"#0d0887\"], [0.1111111111111111, \"#46039f\"], [0.2222222222222222, \"#7201a8\"], [0.3333333333333333, \"#9c179e\"], [0.4444444444444444, \"#bd3786\"], [0.5555555555555556, \"#d8576b\"], [0.6666666666666666, \"#ed7953\"], [0.7777777777777778, \"#fb9f3a\"], [0.8888888888888888, \"#fdca26\"], [1.0, \"#f0f921\"]], \"sequentialminus\": [[0.0, \"#0d0887\"], [0.1111111111111111, \"#46039f\"], [0.2222222222222222, \"#7201a8\"], [0.3333333333333333, \"#9c179e\"], [0.4444444444444444, \"#bd3786\"], [0.5555555555555556, \"#d8576b\"], [0.6666666666666666, \"#ed7953\"], [0.7777777777777778, \"#fb9f3a\"], [0.8888888888888888, \"#fdca26\"], [1.0, \"#f0f921\"]]}, \"colorway\": [\"#636efa\", \"#EF553B\", \"#00cc96\", \"#ab63fa\", \"#FFA15A\", \"#19d3f3\", \"#FF6692\", \"#B6E880\", \"#FF97FF\", \"#FECB52\"], \"font\": {\"color\": \"#2a3f5f\"}, \"geo\": {\"bgcolor\": \"white\", \"lakecolor\": \"white\", \"landcolor\": \"#E5ECF6\", \"showlakes\": true, \"showland\": true, \"subunitcolor\": \"white\"}, \"hoverlabel\": {\"align\": \"left\"}, \"hovermode\": \"closest\", \"mapbox\": {\"style\": \"light\"}, \"paper_bgcolor\": \"white\", \"plot_bgcolor\": \"#E5ECF6\", \"polar\": {\"angularaxis\": {\"gridcolor\": \"white\", \"linecolor\": \"white\", \"ticks\": \"\"}, \"bgcolor\": \"#E5ECF6\", \"radialaxis\": {\"gridcolor\": \"white\", \"linecolor\": \"white\", \"ticks\": \"\"}}, \"scene\": {\"xaxis\": {\"backgroundcolor\": \"#E5ECF6\", \"gridcolor\": \"white\", \"gridwidth\": 2, \"linecolor\": \"white\", \"showbackground\": true, \"ticks\": \"\", \"zerolinecolor\": \"white\"}, \"yaxis\": {\"backgroundcolor\": \"#E5ECF6\", \"gridcolor\": \"white\", \"gridwidth\": 2, \"linecolor\": \"white\", \"showbackground\": true, \"ticks\": \"\", \"zerolinecolor\": \"white\"}, \"zaxis\": {\"backgroundcolor\": \"#E5ECF6\", \"gridcolor\": \"white\", \"gridwidth\": 2, \"linecolor\": \"white\", \"showbackground\": true, \"ticks\": \"\", \"zerolinecolor\": \"white\"}}, \"shapedefaults\": {\"line\": {\"color\": \"#2a3f5f\"}}, \"ternary\": {\"aaxis\": {\"gridcolor\": \"white\", \"linecolor\": \"white\", \"ticks\": \"\"}, \"baxis\": {\"gridcolor\": \"white\", \"linecolor\": \"white\", \"ticks\": \"\"}, \"bgcolor\": \"#E5ECF6\", \"caxis\": {\"gridcolor\": \"white\", \"linecolor\": \"white\", \"ticks\": \"\"}}, \"title\": {\"x\": 0.05}, \"xaxis\": {\"automargin\": true, \"gridcolor\": \"white\", \"linecolor\": \"white\", \"ticks\": \"\", \"title\": {\"standoff\": 15}, \"zerolinecolor\": \"white\", \"zerolinewidth\": 2}, \"yaxis\": {\"automargin\": true, \"gridcolor\": \"white\", \"linecolor\": \"white\", \"ticks\": \"\", \"title\": {\"standoff\": 15}, \"zerolinecolor\": \"white\", \"zerolinewidth\": 2}}}, \"title\": {\"text\": \"Top 15 Country with most Deceased Cases in World\"}, \"width\": 900, \"xaxis\": {\"anchor\": \"y\", \"domain\": [0.0, 1.0], \"title\": {\"text\": \"\"}}, \"yaxis\": {\"anchor\": \"x\", \"categoryorder\": \"total ascending\", \"domain\": [0.0, 1.0], \"title\": {\"text\": \"\"}}},\n",
       "                        {\"responsive\": true}\n",
       "                    ).then(function(){\n",
       "                            \n",
       "var gd = document.getElementById('0d26ad97-8a6a-4e3d-adbe-7357e58aeada');\n",
       "var x = new MutationObserver(function (mutations, observer) {{\n",
       "        var display = window.getComputedStyle(gd).display;\n",
       "        if (!display || display === 'none') {{\n",
       "            console.log([gd, 'removed!']);\n",
       "            Plotly.purge(gd);\n",
       "            observer.disconnect();\n",
       "        }}\n",
       "}});\n",
       "\n",
       "// Listen for the removal of the full notebook cells\n",
       "var notebookContainer = gd.closest('#notebook-container');\n",
       "if (notebookContainer) {{\n",
       "    x.observe(notebookContainer, {childList: true});\n",
       "}}\n",
       "\n",
       "// Listen for the clearing of the current output cell\n",
       "var outputEl = gd.closest('.output');\n",
       "if (outputEl) {{\n",
       "    x.observe(outputEl, {childList: true});\n",
       "}}\n",
       "\n",
       "                        })\n",
       "                };\n",
       "                });\n",
       "            </script>\n",
       "        </div>"
      ]
     },
     "metadata": {},
     "output_type": "display_data"
    }
   ],
   "source": [
    "world_data('Deceased',15)"
   ]
  }
 ],
 "metadata": {
  "kernelspec": {
   "display_name": "Python 3",
   "language": "python",
   "name": "python3"
  },
  "language_info": {
   "codemirror_mode": {
    "name": "ipython",
    "version": 3
   },
   "file_extension": ".py",
   "mimetype": "text/x-python",
   "name": "python",
   "nbconvert_exporter": "python",
   "pygments_lexer": "ipython3",
   "version": "3.7.6"
  }
 },
 "nbformat": 4,
 "nbformat_minor": 4
}
